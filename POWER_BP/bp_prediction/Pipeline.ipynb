{
 "cells": [
  {
   "attachments": {},
   "cell_type": "markdown",
   "metadata": {},
   "source": [
    "# Imports"
   ]
  },
  {
   "cell_type": "code",
   "execution_count": 211,
   "metadata": {},
   "outputs": [],
   "source": [
    "from predict_bp import *\n",
    "from train.insert_missing import * \n",
    "import math\n",
    "from silence_tensorflow import silence_tensorflow\n",
    "silence_tensorflow()\n",
    "import tensorflow as tf\n",
    "import os\n",
    "from data_prep import data_prep\n",
    "from tensorflow.keras.layers import Dense, Flatten, Concatenate\n",
    "from tensorflow.keras import Input, Model, backend\n",
    "from keras.callbacks import Callback\n",
    "import numpy as np\n",
    "import pandas as pd\n",
    "import sys\n",
    "import matplotlib.pyplot as plt\n",
    "from scipy import signal\n",
    "from sklearn.metrics import accuracy_score\n",
    "import pywt\n",
    "from sklearn.neighbors import KNeighborsClassifier\n",
    "from sklearn.linear_model import LinearRegression\n",
    "from sklearn.ensemble import RandomForestRegressor\n",
    "\n",
    "\n",
    "os.environ[\"CUDA_VISIBLE_DEVICES\"] = \"0,1,2\"\n",
    "os.environ[\"TF_FORCE_GPU_ALLOW_GROWTH\"] = \"true\"\n",
    "os.environ['TF_CPP_MIN_LOG_LEVEL'] = '2'\n"
   ]
  },
  {
   "attachments": {},
   "cell_type": "markdown",
   "metadata": {},
   "source": [
    "# Defenição de parâmetros"
   ]
  },
  {
   "cell_type": "code",
   "execution_count": 212,
   "metadata": {},
   "outputs": [],
   "source": [
    "n = [4, 6, 8, 10]\n",
    "pred_horizons = [1, 3, 5, 6, 7]"
   ]
  },
  {
   "attachments": {},
   "cell_type": "markdown",
   "metadata": {},
   "source": [
    "# Dataset"
   ]
  },
  {
   "cell_type": "code",
   "execution_count": 213,
   "metadata": {},
   "outputs": [],
   "source": [
    "data = pd.read_csv('dataset/myHeartBP.csv', header=None).values"
   ]
  },
  {
   "attachments": {},
   "cell_type": "markdown",
   "metadata": {},
   "source": [
    "## Insert Missing"
   ]
  },
  {
   "cell_type": "code",
   "execution_count": 214,
   "metadata": {},
   "outputs": [
    {
     "data": {
      "text/plain": [
       "(60, 41)"
      ]
     },
     "execution_count": 214,
     "metadata": {},
     "output_type": "execute_result"
    }
   ],
   "source": [
    "n_features = 1\n",
    "method_missing = \"MEAN\"\n",
    "data = insert_missing(data, n, n_features, method_missing)\n",
    "patients = data  # todos os paciente\n",
    "patients.shape"
   ]
  },
  {
   "cell_type": "markdown",
   "metadata": {},
   "source": [
    "## Normalização"
   ]
  },
  {
   "cell_type": "code",
   "execution_count": 215,
   "metadata": {},
   "outputs": [
    {
     "name": "stdout",
     "output_type": "stream",
     "text": [
      "86.0 197.0\n",
      "(60, 41)\n"
     ]
    }
   ],
   "source": [
    "# Valor mínimo e máximo desejado\n",
    "min_value = 80\n",
    "max_value = 140\n",
    "\n",
    "# Calcula o mínimo e máximo do dataset original\n",
    "min_data = np.min(patients)\n",
    "max_data = np.max(patients)\n",
    "\n",
    "print(min_data, max_data)\n",
    "\n",
    "patients_norm = (patients - min_value) / (max_value - min_value)\n",
    "\n",
    "# Imprime o dataset normalizado\n",
    "print(patients_norm.shape)"
   ]
  },
  {
   "cell_type": "code",
   "execution_count": 216,
   "metadata": {},
   "outputs": [
    {
     "name": "stdout",
     "output_type": "stream",
     "text": [
      "[[0.60517241 0.59839744 0.55833333 ... 1.36666667 0.64833333 0.84236111]\n",
      " [0.7        0.43333333 0.55833333 ... 1.3375     0.61666667 0.73333333]\n",
      " [0.55       0.43333333 0.55833333 ... 1.3375     0.7        0.73333333]\n",
      " ...\n",
      " [0.60517241 0.56666667 0.58333333 ... 1.18333333 0.64833333 0.71666667]\n",
      " [0.60517241 0.46666667 0.55833333 ... 1.3375     0.64833333 0.83333333]\n",
      " [0.71666667 0.75       0.41666667 ... 1.38333333 0.64833333 0.81666667]]\n"
     ]
    }
   ],
   "source": [
    "print(patients_norm)"
   ]
  },
  {
   "attachments": {},
   "cell_type": "markdown",
   "metadata": {},
   "source": [
    "## train_test_split"
   ]
  },
  {
   "cell_type": "code",
   "execution_count": 217,
   "metadata": {},
   "outputs": [
    {
     "name": "stdout",
     "output_type": "stream",
     "text": [
      "Tamanho dos dados de treinamento:  (60, 28)\n",
      "Tamanho dos dados de teste:  (60, 13)\n"
     ]
    }
   ],
   "source": [
    "from sklearn.model_selection import train_test_split\n",
    "\n",
    "# Dividindo os dados em conjuntos de treinamento e teste\n",
    "train_data, test_data = train_test_split(patients_norm.T, test_size=0.3, random_state=42)\n",
    "\n",
    "# Transpondo novamente os dados para que as linhas correspondam aos dias da série temporal\n",
    "train_data = train_data.T\n",
    "test_data = test_data.T\n",
    "\n",
    "# Separando os pacientes nos conjuntos de treinamento e teste\n",
    "train_patients = train_data\n",
    "test_patients = test_data\n",
    "\n",
    "# Imprimindo o tamanho dos conjuntos de treinamento e teste\n",
    "print(\"Tamanho dos dados de treinamento: \", train_data.shape)\n",
    "print(\"Tamanho dos dados de teste: \", test_data.shape)\n"
   ]
  },
  {
   "attachments": {},
   "cell_type": "markdown",
   "metadata": {},
   "source": [
    "## Pacientes de risco"
   ]
  },
  {
   "cell_type": "code",
   "execution_count": 218,
   "metadata": {},
   "outputs": [
    {
     "name": "stdout",
     "output_type": "stream",
     "text": [
      "Número de pacientes no conjunto de treinamento: 28\n",
      "Número de pacientes no conjunto de teste: 13\n",
      "\n",
      "Contagem de valores acima de 140 para cada paciente no conjunto de treinamento:\n",
      "Paciente 0 : 0\n",
      "Paciente 1 : 3\n",
      "Paciente 2 : 11\n",
      "Paciente 3 : 1\n",
      "Paciente 4 : 0\n",
      "Paciente 5 : 0\n",
      "Paciente 6 : 0\n",
      "Paciente 7 : 0\n",
      "Paciente 8 : 0\n",
      "Paciente 9 : 0\n",
      "Paciente 10 : 0\n",
      "Paciente 11 : 0\n",
      "Paciente 12 : 48\n",
      "Paciente 13 : 0\n",
      "Paciente 14 : 0\n",
      "Paciente 15 : 59\n",
      "Paciente 16 : 0\n",
      "Paciente 17 : 43\n",
      "Paciente 18 : 0\n",
      "Paciente 19 : 0\n",
      "Paciente 20 : 0\n",
      "Paciente 21 : 0\n",
      "Paciente 22 : 6\n",
      "Paciente 23 : 60\n",
      "Paciente 24 : 0\n",
      "Paciente 25 : 0\n",
      "Paciente 26 : 50\n",
      "Paciente 27 : 60\n",
      "\n",
      "Contagem de valores acima de 140 para cada paciente no conjunto de teste:\n",
      "Paciente 0 : 0\n",
      "Paciente 1 : 0\n",
      "Paciente 2 : 1\n",
      "Paciente 3 : 0\n",
      "Paciente 4 : 0\n",
      "Paciente 5 : 4\n",
      "Paciente 6 : 3\n",
      "Paciente 7 : 0\n",
      "Paciente 8 : 0\n",
      "Paciente 9 : 0\n",
      "Paciente 10 : 2\n",
      "Paciente 11 : 0\n",
      "Paciente 12 : 1\n"
     ]
    }
   ],
   "source": [
    "def count_values_above_threshold(data, threshold):\n",
    "    \"\"\"\n",
    "    Count the number of times each patient has values above the threshold.\n",
    "    \"\"\"\n",
    "    num_patients = data.shape[1]\n",
    "    counts = []\n",
    "\n",
    "    for patient in range(num_patients):\n",
    "        patient_data = data[:, patient]\n",
    "        above_threshold_count = np.sum(patient_data > threshold)\n",
    "        counts.append(above_threshold_count)\n",
    "\n",
    "    return counts\n",
    "\n",
    "# Exemplo de uso\n",
    "threshold = 1\n",
    "\n",
    "# Contagem para o conjunto de treinamento\n",
    "train_counts = count_values_above_threshold(train_patients, threshold)\n",
    "num_train_patients = len(train_counts)\n",
    "\n",
    "# Contagem para o conjunto de teste\n",
    "test_counts = count_values_above_threshold(test_patients, threshold)\n",
    "num_test_patients = len(test_counts)\n",
    "\n",
    "print(\"Número de pacientes no conjunto de treinamento:\", num_train_patients)\n",
    "print(\"Número de pacientes no conjunto de teste:\", num_test_patients)\n",
    "\n",
    "print(\"\\nContagem de valores acima de 140 para cada paciente no conjunto de treinamento:\")\n",
    "for i, count in enumerate(train_counts):\n",
    "    print(\"Paciente\", i, \":\", count)\n",
    "\n",
    "print(\"\\nContagem de valores acima de 140 para cada paciente no conjunto de teste:\")\n",
    "for i, count in enumerate(test_counts):\n",
    "    print(\"Paciente\", i, \":\", count)\n"
   ]
  },
  {
   "attachments": {},
   "cell_type": "markdown",
   "metadata": {},
   "source": [
    "# Filtro"
   ]
  },
  {
   "cell_type": "code",
   "execution_count": 219,
   "metadata": {},
   "outputs": [],
   "source": [
    "from scipy.signal import butter, filtfilt\n",
    "def soft_thresholding(x, threshold):\n",
    "    return np.sign(x) * np.maximum(np.abs(x) - threshold, 0)\n",
    "\n",
    "# Por exemplo, para aplicar o filtro na escala 3:\n",
    "scale_to_filter = 300\n",
    "\n",
    "# Defina a ordem do filtro de Butterworth\n",
    "order = 3\n",
    "\n",
    "# Defina a frequência de amostragem (amostras por unidade de tempo)\n",
    "fs = 1\n",
    "\n",
    "# Defina a frequência de corte do filtro de Butterworth (Hz)\n",
    "fc = 0.35\n",
    "\n",
    "# Defina o tipo de wavelet e o número de escalas desejadas\n",
    "wavelet = 'db4'\n",
    "num_scales = 5\n",
    "\n",
    "threshold = 10"
   ]
  },
  {
   "attachments": {},
   "cell_type": "markdown",
   "metadata": {},
   "source": [
    "## Butterworth"
   ]
  },
  {
   "cell_type": "code",
   "execution_count": 220,
   "metadata": {},
   "outputs": [],
   "source": [
    "def filtragem(data):\n",
    "    # Calcule os coeficientes do filtro de Butterworth\n",
    "    b, a = butter(order, fc, btype='lowpass', analog=False, fs=fs)\n",
    "    # Aplique o filtro de Butterworth na série temporal de níveis de glicose\n",
    "    filtered_hiper = filtfilt(b, a, data)\n",
    "    return filtered_hiper"
   ]
  },
  {
   "attachments": {},
   "cell_type": "markdown",
   "metadata": {},
   "source": [
    "## Derivada"
   ]
  },
  {
   "cell_type": "code",
   "execution_count": 221,
   "metadata": {},
   "outputs": [],
   "source": [
    "def derivada(data):\n",
    "    x = np.arange(data.shape[0])\n",
    "    derivada = np.gradient(data, axis=0)\n",
    "    return derivada\n"
   ]
  },
  {
   "cell_type": "code",
   "execution_count": 222,
   "metadata": {},
   "outputs": [],
   "source": [
    "def calcular_gradiente_manual(data):\n",
    "    gradiente = np.diff(data)\n",
    "    gradiente = np.insert(gradiente, 0, 0)  # Adicionar valor 0 no início do gradiente\n",
    "    return gradiente\n"
   ]
  },
  {
   "attachments": {},
   "cell_type": "markdown",
   "metadata": {},
   "source": [
    "## Wavelets"
   ]
  },
  {
   "cell_type": "code",
   "execution_count": 223,
   "metadata": {},
   "outputs": [
    {
     "data": {
      "image/png": "[encoded data removed]",
      "text/plain": [
       "<Figure size 1000x600 with 4 Axes>"
      ]
     },
     "metadata": {},
     "output_type": "display_data"
    }
   ],
   "source": [
    "import pywt\n",
    "import matplotlib.pyplot as plt\n",
    "\n",
    "def dwt(data, wavelet='db1', level=2):\n",
    "    \"\"\"\n",
    "    Apply Discrete Wavelet Transform (DWT) to the data.\n",
    "    \"\"\"\n",
    "    coeffs = pywt.wavedec(data, wavelet, level=level)\n",
    "    return coeffs\n",
    "\n",
    "def plot_dwt_comparison(original, D1, D2, A2):\n",
    "    \"\"\"\n",
    "    Plot the comparison between the original signal and the decomposed signal.\n",
    "    \"\"\"\n",
    "    plt.figure(figsize=(10, 6))\n",
    "    plt.subplot(6, 1, 1)\n",
    "    plt.plot(original)\n",
    "    plt.title('Original Signal')\n",
    "    plt.subplot(6, 1, 2)\n",
    "    plt.plot(D1)\n",
    "    plt.title('cD1')\n",
    "    plt.tight_layout()\n",
    "    plt.subplot(6, 1, 3)\n",
    "    plt.plot(D2)\n",
    "    plt.title('cD2')\n",
    "    plt.tight_layout()\n",
    "    plt.subplot(6, 1, 4)\n",
    "    plt.plot(A2)\n",
    "    plt.title('cA2')\n",
    "    plt.tight_layout()\n",
    "\n",
    "\n",
    "\n",
    "# Exemplo de uso\n",
    "original_signal = train_patients[:,0]  # Substitua pelo seu sinal de treinamento\n",
    "level = 2 # Nível de decomposição desejado\n",
    "\n",
    "# Aplica a DWT no sinal original\n",
    "coeffs = dwt(original_signal, wavelet='db1', level=level)\n",
    "cA2, cD2, cD1  = coeffs\n",
    "\n",
    "# Reconstrói o sinal decomposto mantendo o mesmo número de elementos\n",
    "reconstructed_signal = pywt.waverec(coeffs, wavelet='db1')\n",
    "\n",
    "# Plota a comparação entre o sinal original e o sinal reconstruído\n",
    "plot_dwt_comparison(original_signal, cD1, cD2, cA2)\n"
   ]
  },
  {
   "attachments": {},
   "cell_type": "markdown",
   "metadata": {},
   "source": [
    "# Modelo 1 - Input de serie e tendencia"
   ]
  },
  {
   "cell_type": "code",
   "execution_count": 224,
   "metadata": {},
   "outputs": [],
   "source": [
    "def train_model(data, input_size, pred_horizon):\n",
    "\n",
    "    # Filtragem\n",
    "    data_filter = filtragem(data)\n",
    "\n",
    "    # Derivada\n",
    "    data_dev = derivada(data)\n",
    "\n",
    "    # PARAMS\n",
    "    activationfcn = 'sigmoid'\n",
    "    activationfcn1 = 'linear'\n",
    "    optimizerfcn = 'adam'\n",
    "    lossfcn = 'mse'\n",
    "    n_features = 1\n",
    "    units = 4\n",
    "    units1 = 1\n",
    "\n",
    "    # input layer\n",
    "    inputs = Input(shape=((input_size*2, n_features)))\n",
    "    inputs = Flatten()(inputs)\n",
    "\n",
    "    # passar o input para a hidden layer - parte nao linear\n",
    "    dense = Dense(units=4, activation='sigmoid')\n",
    "    hidden = Flatten()(dense(inputs))\n",
    "\n",
    "    # obter o 1 output (o da camada de input) e juntar ao 2 output (o primeiro output esta a saltar a hidden layer) - parte linear\n",
    "    jump = Concatenate(axis=1)([inputs, hidden])\n",
    "    outputs = Dense(units=1, activation='linear')(jump)\n",
    "\n",
    "    model = Model(inputs=inputs, outputs=outputs)\n",
    "    model.compile(optimizer=optimizerfcn, loss=lossfcn)\n",
    "\n",
    "    for i in range(0, np.size(data_filter, 1)):\n",
    "\n",
    "        X, y = data_prep(data_filter[:, i], input_size, pred_horizon, True)\n",
    "        X_dev, y_dev = data_prep(calcular_gradiente_manual(data_filter[:, i]), input_size, pred_horizon, True)\n",
    "\n",
    "        X_concat = np.concatenate((X, X_dev), axis=1)\n",
    "\n",
    "        if i == 0:\n",
    "            X_train = X_concat\n",
    "            y_train = y\n",
    "        else:\n",
    "            X_train = np.concatenate((X_train, X_concat), axis=0)\n",
    "            y_train = np.concatenate((y_train, y), axis=0)\n",
    "\n",
    "    print(X_train.shape)\n",
    "    print(y_train.shape)\n",
    "    if X_train.size != 0 and y_train.size != 0:\n",
    "        # reshape de [padroes, n] para [padroes, n, n_features]\n",
    "        #X_train = X_train.reshape((X_train.shape[0], X_train.shape[1], n_features))\n",
    "        \n",
    "        #X_train = X_train.reshape((X_train.shape[0], X_train.shape[1]))\n",
    "        #X_train = np.expand_dims(X_train, axis=-1)\n",
    "\n",
    "        model.fit(X_train, y_train, epochs=300, verbose=0)\n",
    "\n",
    "    # Exibindo o score do modelo treinado\n",
    "    score = model.evaluate(X_train, y_train, verbose=0)\n",
    "    print('Score do modelo:', score)\n",
    "\n",
    "\n",
    "    model_path = 'models/' + str(input_size) + '_' + str(pred_horizon) \n",
    "    model.save(model_path)\n",
    "    print(\"Model --> \", model_path)\n",
    "\n",
    "    backend.clear_session()"
   ]
  },
  {
   "cell_type": "code",
   "execution_count": 225,
   "metadata": {},
   "outputs": [
    {
     "name": "stdout",
     "output_type": "stream",
     "text": [
      "(1568, 8)\n",
      "(1568,)\n"
     ]
    },
    {
     "name": "stderr",
     "output_type": "stream",
     "text": [
      "WARNING:absl:Found untraced functions such as _update_step_xla while saving (showing 1 of 1). These functions will not be directly callable after loading.\n"
     ]
    },
    {
     "name": "stdout",
     "output_type": "stream",
     "text": [
      "Score do modelo: 0.00764184445142746\n",
      "Model -->  models/4_1\n",
      "(1512, 8)\n",
      "(1512,)\n"
     ]
    },
    {
     "name": "stderr",
     "output_type": "stream",
     "text": [
      "WARNING:absl:Found untraced functions such as _update_step_xla while saving (showing 1 of 1). These functions will not be directly callable after loading.\n"
     ]
    },
    {
     "name": "stdout",
     "output_type": "stream",
     "text": [
      "Score do modelo: 0.008527210913598537\n",
      "Model -->  models/4_3\n",
      "(1456, 8)\n",
      "(1456,)\n"
     ]
    },
    {
     "name": "stderr",
     "output_type": "stream",
     "text": [
      "WARNING:absl:Found untraced functions such as _update_step_xla while saving (showing 1 of 1). These functions will not be directly callable after loading.\n"
     ]
    },
    {
     "name": "stdout",
     "output_type": "stream",
     "text": [
      "Score do modelo: 0.008869185112416744\n",
      "Model -->  models/4_5\n",
      "(1428, 8)\n",
      "(1428,)\n"
     ]
    },
    {
     "name": "stderr",
     "output_type": "stream",
     "text": [
      "WARNING:absl:Found untraced functions such as _update_step_xla while saving (showing 1 of 1). These functions will not be directly callable after loading.\n"
     ]
    },
    {
     "name": "stdout",
     "output_type": "stream",
     "text": [
      "Score do modelo: 0.009159711189568043\n",
      "Model -->  models/4_6\n",
      "(1400, 8)\n",
      "(1400,)\n"
     ]
    },
    {
     "name": "stderr",
     "output_type": "stream",
     "text": [
      "WARNING:absl:Found untraced functions such as _update_step_xla while saving (showing 1 of 1). These functions will not be directly callable after loading.\n"
     ]
    },
    {
     "name": "stdout",
     "output_type": "stream",
     "text": [
      "Score do modelo: 0.009560244157910347\n",
      "Model -->  models/4_7\n",
      "(1512, 12)\n",
      "(1512,)\n"
     ]
    },
    {
     "name": "stderr",
     "output_type": "stream",
     "text": [
      "WARNING:absl:Found untraced functions such as _update_step_xla while saving (showing 1 of 1). These functions will not be directly callable after loading.\n"
     ]
    },
    {
     "name": "stdout",
     "output_type": "stream",
     "text": [
      "Score do modelo: 0.007529872935265303\n",
      "Model -->  models/6_1\n",
      "(1456, 12)\n",
      "(1456,)\n"
     ]
    },
    {
     "name": "stderr",
     "output_type": "stream",
     "text": [
      "WARNING:absl:Found untraced functions such as _update_step_xla while saving (showing 1 of 1). These functions will not be directly callable after loading.\n"
     ]
    },
    {
     "name": "stdout",
     "output_type": "stream",
     "text": [
      "Score do modelo: 0.008182032033801079\n",
      "Model -->  models/6_3\n",
      "(1400, 12)\n",
      "(1400,)\n"
     ]
    },
    {
     "name": "stderr",
     "output_type": "stream",
     "text": [
      "WARNING:absl:Found untraced functions such as _update_step_xla while saving (showing 1 of 1). These functions will not be directly callable after loading.\n"
     ]
    },
    {
     "name": "stdout",
     "output_type": "stream",
     "text": [
      "Score do modelo: 0.008634650148451328\n",
      "Model -->  models/6_5\n",
      "(1372, 12)\n",
      "(1372,)\n"
     ]
    },
    {
     "name": "stderr",
     "output_type": "stream",
     "text": [
      "WARNING:absl:Found untraced functions such as _update_step_xla while saving (showing 1 of 1). These functions will not be directly callable after loading.\n"
     ]
    },
    {
     "name": "stdout",
     "output_type": "stream",
     "text": [
      "Score do modelo: 0.009184101596474648\n",
      "Model -->  models/6_6\n",
      "(1344, 12)\n",
      "(1344,)\n"
     ]
    },
    {
     "name": "stderr",
     "output_type": "stream",
     "text": [
      "WARNING:absl:Found untraced functions such as _update_step_xla while saving (showing 1 of 1). These functions will not be directly callable after loading.\n"
     ]
    },
    {
     "name": "stdout",
     "output_type": "stream",
     "text": [
      "Score do modelo: 0.009819780476391315\n",
      "Model -->  models/6_7\n",
      "(1456, 16)\n",
      "(1456,)\n"
     ]
    },
    {
     "name": "stderr",
     "output_type": "stream",
     "text": [
      "WARNING:absl:Found untraced functions such as _update_step_xla while saving (showing 1 of 1). These functions will not be directly callable after loading.\n"
     ]
    },
    {
     "name": "stdout",
     "output_type": "stream",
     "text": [
      "Score do modelo: 0.007544119376689196\n",
      "Model -->  models/8_1\n",
      "(1400, 16)\n",
      "(1400,)\n"
     ]
    },
    {
     "name": "stderr",
     "output_type": "stream",
     "text": [
      "WARNING:absl:Found untraced functions such as _update_step_xla while saving (showing 1 of 1). These functions will not be directly callable after loading.\n"
     ]
    },
    {
     "name": "stdout",
     "output_type": "stream",
     "text": [
      "Score do modelo: 0.008747322484850883\n",
      "Model -->  models/8_3\n",
      "(1344, 16)\n",
      "(1344,)\n"
     ]
    },
    {
     "name": "stderr",
     "output_type": "stream",
     "text": [
      "WARNING:absl:Found untraced functions such as _update_step_xla while saving (showing 1 of 1). These functions will not be directly callable after loading.\n"
     ]
    },
    {
     "name": "stdout",
     "output_type": "stream",
     "text": [
      "Score do modelo: 0.008693458512425423\n",
      "Model -->  models/8_5\n",
      "(1316, 16)\n",
      "(1316,)\n"
     ]
    },
    {
     "name": "stderr",
     "output_type": "stream",
     "text": [
      "WARNING:absl:Found untraced functions such as _update_step_xla while saving (showing 1 of 1). These functions will not be directly callable after loading.\n"
     ]
    },
    {
     "name": "stdout",
     "output_type": "stream",
     "text": [
      "Score do modelo: 0.00912251602858305\n",
      "Model -->  models/8_6\n",
      "(1288, 16)\n",
      "(1288,)\n"
     ]
    },
    {
     "name": "stderr",
     "output_type": "stream",
     "text": [
      "WARNING:absl:Found untraced functions such as _update_step_xla while saving (showing 1 of 1). These functions will not be directly callable after loading.\n"
     ]
    },
    {
     "name": "stdout",
     "output_type": "stream",
     "text": [
      "Score do modelo: 0.009373174980282784\n",
      "Model -->  models/8_7\n",
      "(1400, 20)\n",
      "(1400,)\n"
     ]
    },
    {
     "name": "stderr",
     "output_type": "stream",
     "text": [
      "WARNING:absl:Found untraced functions such as _update_step_xla while saving (showing 1 of 1). These functions will not be directly callable after loading.\n"
     ]
    },
    {
     "name": "stdout",
     "output_type": "stream",
     "text": [
      "Score do modelo: 0.0077416542917490005\n",
      "Model -->  models/10_1\n",
      "(1344, 20)\n",
      "(1344,)\n"
     ]
    },
    {
     "name": "stderr",
     "output_type": "stream",
     "text": [
      "WARNING:absl:Found untraced functions such as _update_step_xla while saving (showing 1 of 1). These functions will not be directly callable after loading.\n"
     ]
    },
    {
     "name": "stdout",
     "output_type": "stream",
     "text": [
      "Score do modelo: 0.008351907134056091\n",
      "Model -->  models/10_3\n",
      "(1288, 20)\n",
      "(1288,)\n"
     ]
    },
    {
     "name": "stderr",
     "output_type": "stream",
     "text": [
      "WARNING:absl:Found untraced functions such as _update_step_xla while saving (showing 1 of 1). These functions will not be directly callable after loading.\n"
     ]
    },
    {
     "name": "stdout",
     "output_type": "stream",
     "text": [
      "Score do modelo: 0.008649214170873165\n",
      "Model -->  models/10_5\n",
      "(1260, 20)\n",
      "(1260,)\n"
     ]
    },
    {
     "name": "stderr",
     "output_type": "stream",
     "text": [
      "WARNING:absl:Found untraced functions such as _update_step_xla while saving (showing 1 of 1). These functions will not be directly callable after loading.\n"
     ]
    },
    {
     "name": "stdout",
     "output_type": "stream",
     "text": [
      "Score do modelo: 0.009019446559250355\n",
      "Model -->  models/10_6\n",
      "(1232, 20)\n",
      "(1232,)\n"
     ]
    },
    {
     "name": "stderr",
     "output_type": "stream",
     "text": [
      "WARNING:absl:Found untraced functions such as _update_step_xla while saving (showing 1 of 1). These functions will not be directly callable after loading.\n"
     ]
    },
    {
     "name": "stdout",
     "output_type": "stream",
     "text": [
      "Score do modelo: 0.009564739651978016\n",
      "Model -->  models/10_7\n"
     ]
    }
   ],
   "source": [
    "with tf.device('/cpu:0'):\n",
    "    for input_size in n:\n",
    "        for pred_horizon in pred_horizons:\n",
    "            train_model(train_patients ,input_size, pred_horizon)"
   ]
  },
  {
   "attachments": {},
   "cell_type": "markdown",
   "metadata": {},
   "source": [
    "## Test"
   ]
  },
  {
   "cell_type": "code",
   "execution_count": 226,
   "metadata": {},
   "outputs": [],
   "source": [
    "from sklearn.metrics import mean_absolute_error, mean_squared_error\n",
    "from tensorflow import keras\n",
    "\n",
    "def evaluate_model(model, X_test, y_test):\n",
    "    \"\"\"\n",
    "    Evaluate the model on test data and return the evaluation metrics.\n",
    "    \"\"\"\n",
    "    y_pred = model.predict(X_test)\n",
    "    mae = mean_absolute_error(y_test, y_pred)\n",
    "    mse = mean_squared_error(y_test, y_pred)\n",
    "    corr = np.corrcoef(y_test.squeeze(), y_pred.squeeze())[0, 1]\n",
    "    return mae, mse, corr\n",
    "\n",
    "from scipy import signal\n",
    "def ccf_values(series1, series2):\n",
    "    p = series1\n",
    "    q = series2\n",
    "    p = (p - np.mean(p)) / (np.std(p) * len(p))\n",
    "    q = (q - np.mean(q)) / (np.std(q))  \n",
    "    c = np.correlate(p, q, 'full')\n",
    "    return c\n",
    "\n",
    "def ccf_plot(path, i, lags, ccf):\n",
    "    fig, ax =plt.subplots(figsize=(9, 6))\n",
    "    ax.plot(lags, ccf)\n",
    "    ax.axvline(x = 0, color = 'black', lw = 1)\n",
    "    ax.axhline(y = 0, color = 'black', lw = 1)\n",
    "    ax.axhline(y = np.max(ccf), color = 'blue', lw = 1, linestyle='--', label = 'highest +/- correlation')\n",
    "    ax.axhline(y = np.min(ccf), color = 'blue', lw = 1, linestyle='--')\n",
    "    ax.set(ylim = [-1, 1])\n",
    "    ax.set_title('Cross Correlation', weight='bold', fontsize = 15)\n",
    "    ax.set_ylabel('Correlation Coefficients', weight='bold', \n",
    "    fontsize = 12)\n",
    "    ax.set_xlabel('Time Lags', weight='bold', fontsize = 12)\n",
    "    plt.legend()\n",
    "    plt.savefig(os.path.join(path, f'paciente_{i}_correlation.png'))\n",
    "    plt.close()\n",
    "\n",
    "def test_model(data, input_size, pred_horizon):\n",
    "    \"\"\"\n",
    "    Test the trained model on a group of test patients and save the evaluation metrics and plots.\n",
    "    \"\"\"\n",
    "    # Load the trained model\n",
    "    model_path = 'models/' + str(input_size) + '_' + str(pred_horizon)\n",
    "    model = keras.models.load_model(model_path)\n",
    "\n",
    "    # Create directories to save the plots and evaluation results\n",
    "    plots_path = 'plots/' + str(input_size) + '_' + str(pred_horizon)\n",
    "    os.makedirs(plots_path, exist_ok=True)\n",
    "    results_path = 'results/' + str(input_size) + '_' + str(pred_horizon)\n",
    "    os.makedirs(results_path, exist_ok=True)\n",
    "\n",
    "    for i in range(0, np.size(data, 1)):\n",
    "        # Filter the data and prepare the test inputs and targets\n",
    "        data_filter = filtragem(data[:, i])\n",
    "        X_test, y_test = data_prep(data_filter, input_size, pred_horizon, True)\n",
    "        X_test_dev, _ = data_prep(calcular_gradiente_manual(data_filter), input_size, pred_horizon, True)\n",
    "\n",
    "        X_test_concat = np.concatenate((X_test, X_test_dev), axis=1)\n",
    "        X_test_concat = X_test_concat.reshape((X_test_concat.shape[0], X_test_concat.shape[1], 1))\n",
    "\n",
    "        # Make predictions\n",
    "        y_pred = model.predict(X_test_concat)\n",
    "\n",
    "        # Plot the data and predictions\n",
    "        plt.plot(data[:, i], label='Original Data')\n",
    "        plt.plot(data_filter, label='Filtered Data')\n",
    "        plt.plot(np.arange(input_size+pred_horizon-1, len(data_filter)), y_test.squeeze(), label='True Values')\n",
    "        plt.plot(np.arange(input_size+pred_horizon-1, len(data_filter)), y_pred.squeeze(), label='Predictions')\n",
    "        plt.legend()\n",
    "        plt.savefig(os.path.join(plots_path, f'paciente_{i}.png'))\n",
    "        plt.close()\n",
    "\n",
    "        # Compute Cross-correlation\n",
    "        # corr_values = signal.correlate(y_pred.squeeze(), y_test.squeeze(), mode='full')\n",
    "        # corr_values = corr_values / np.concatenate((np.arange(1, len(y_pred)+1), np.arange(len(y_pred)-1, 0, -1)))\n",
    "        # #print(corr_values)\n",
    "        # plt.plot(np.arange(-len(y_pred)+1, len(y_pred)), corr_values)\n",
    "        # plt.xlim((-15, 15))\n",
    "        # plt.show()\n",
    "\n",
    "        # # Compute cross-correlation\n",
    "        # x = data_filter[input_size-1:-pred_horizon]\n",
    "        # y = y_pred.squeeze()\n",
    "        # ccf_ielts = ccf_values(x, y)\n",
    "        # lags = signal.correlation_lags(len(x), len(y))\n",
    "        # ccf_plot(plots_path, i, lags, ccf_ielts)\n",
    "        \n",
    "        \n",
    "        # Evaluate the model and save the results\n",
    "        mae, mse, corr = evaluate_model(model, X_test_concat, y_test)\n",
    "        with open(os.path.join(results_path, f'paciente_{i}.txt'), 'w') as f:\n",
    "            f.write(f'MAE: {mae:.4f}\\nMSE: {mse:.4f}\\nCORR: {corr:.4f}')\n",
    "\n",
    "    backend.clear_session()\n"
   ]
  },
  {
   "cell_type": "code",
   "execution_count": 227,
   "metadata": {},
   "outputs": [
    {
     "name": "stdout",
     "output_type": "stream",
     "text": [
      "2/2 [==============================] - 0s 4ms/step\n",
      "2/2 [==============================] - 0s 4ms/step\n",
      "2/2 [==============================] - 0s 4ms/step\n",
      "2/2 [==============================] - 0s 4ms/step\n",
      "2/2 [==============================] - 0s 4ms/step\n",
      "2/2 [==============================] - 0s 4ms/step\n",
      "2/2 [==============================] - 0s 4ms/step\n",
      "2/2 [==============================] - 0s 4ms/step\n",
      "2/2 [==============================] - 0s 4ms/step\n",
      "2/2 [==============================] - 0s 4ms/step\n",
      "2/2 [==============================] - 0s 4ms/step\n",
      "2/2 [==============================] - 0s 4ms/step\n",
      "2/2 [==============================] - 0s 4ms/step\n",
      "2/2 [==============================] - 0s 37ms/step\n"
     ]
    },
    {
     "name": "stderr",
     "output_type": "stream",
     "text": [
      "2023-07-18 22:35:11.903153: I tensorflow/core/grappler/optimizers/custom_graph_optimizer_registry.cc:114] Plugin optimizer for device_type GPU is enabled.\n"
     ]
    },
    {
     "name": "stdout",
     "output_type": "stream",
     "text": [
      "2/2 [==============================] - 0s 5ms/step\n",
      "2/2 [==============================] - 0s 8ms/step\n",
      "2/2 [==============================] - 0s 4ms/step\n",
      "2/2 [==============================] - 0s 4ms/step\n",
      "2/2 [==============================] - 0s 8ms/step\n",
      "2/2 [==============================] - 0s 7ms/step\n",
      "2/2 [==============================] - 0s 4ms/step\n",
      "2/2 [==============================] - 0s 4ms/step\n",
      "2/2 [==============================] - 0s 4ms/step\n",
      "2/2 [==============================] - 0s 4ms/step\n",
      "2/2 [==============================] - 0s 4ms/step\n",
      "2/2 [==============================] - 0s 8ms/step\n",
      "2/2 [==============================] - 0s 4ms/step\n",
      "2/2 [==============================] - 0s 4ms/step\n",
      "2/2 [==============================] - 0s 4ms/step\n",
      "2/2 [==============================] - 0s 4ms/step\n",
      "2/2 [==============================] - 0s 4ms/step\n",
      "2/2 [==============================] - 0s 4ms/step\n",
      "2/2 [==============================] - 0s 4ms/step\n",
      "2/2 [==============================] - 0s 4ms/step\n",
      "2/2 [==============================] - 0s 4ms/step\n",
      "2/2 [==============================] - 0s 4ms/step\n",
      "2/2 [==============================] - 0s 4ms/step\n",
      "2/2 [==============================] - 0s 4ms/step\n",
      "2/2 [==============================] - 0s 4ms/step\n"
     ]
    }
   ],
   "source": [
    "for input_size in n:\n",
    "    for pred_horizon in [1, 3, 5, 6, 7]:\n",
    "        test_model(test_patients ,input_size, pred_horizon)"
   ]
  },
  {
   "attachments": {},
   "cell_type": "markdown",
   "metadata": {},
   "source": [
    "### AVG"
   ]
  },
  {
   "cell_type": "code",
   "execution_count": 124,
   "metadata": {},
   "outputs": [],
   "source": [
    "import os\n",
    "\n",
    "for horizon in pred_horizons:\n",
    "    for input_size in n:\n",
    "        results_dir = f\"results/{input_size}_{horizon}\"\n",
    "\n",
    "        # Criar dicionário para armazenar os resultados\n",
    "        results_dict = {}\n",
    "\n",
    "        # Percorrer todos os arquivos txt na pasta de resultados\n",
    "        for file_name in os.listdir(results_dir):\n",
    "            if file_name.endswith(\".txt\"):\n",
    "                # Obter o nome do paciente a partir do nome do arquivo\n",
    "                patient_name = file_name.split(\"_\")[0]\n",
    "                file_path = os.path.join(results_dir, file_name)\n",
    "                with open(file_path, \"r\") as f:\n",
    "                    # Ler os resultados do arquivo\n",
    "                    results = [float(line.split(\":\")[1].strip()) for line in f.readlines()]\n",
    "                # Adicionar os resultados ao dicionário\n",
    "                if patient_name in results_dict:\n",
    "                    results_dict[patient_name].append(results)\n",
    "                else:\n",
    "                    results_dict[patient_name] = [results]\n",
    "\n",
    "        # Calcular a média dos resultados para cada paciente\n",
    "        for patient_name, results_list in results_dict.items():\n",
    "            # Calcular a média de cada métrica\n",
    "            mae_list = [results[0] for results in results_list]\n",
    "            mae_avg = sum(mae_list) / len(mae_list)\n",
    "            mse_list = [results[1] for results in results_list]\n",
    "            mse_avg = sum(mse_list) / len(mse_list)\n",
    "            corr_list = [results[2] for results in results_list]\n",
    "            corr_avg = sum(corr_list) / len(corr_list)\n",
    "            # Salvar os resultados médios em um novo arquivo txt\n",
    "            output_file_path = f\"results/{input_size}_{horizon}/{patient_name}_avg.txt\"\n",
    "            with open(output_file_path, \"w\") as f:\n",
    "                f.write(f\"MAE: {mae_avg:.4f}\\n\")\n",
    "                f.write(f\"MSE: {mse_avg:.4f}\\n\")\n",
    "                f.write(f\"CORR: {corr_avg:.4f}\\n\")\n"
   ]
  },
  {
   "cell_type": "code",
   "execution_count": 129,
   "metadata": {},
   "outputs": [
    {
     "name": "stdout",
     "output_type": "stream",
     "text": [
      "Model information has been saved to 'model_info.csv'.\n"
     ]
    }
   ],
   "source": [
    "import os\n",
    "import csv\n",
    "\n",
    "def generate_model_info_csv():\n",
    "    result_path = 'results'\n",
    "    output_csv_path = 'model_info.csv'\n",
    "\n",
    "    # Get the list of folders in the results directory\n",
    "    folders = os.listdir(result_path)\n",
    "\n",
    "    # Initialize the data lists\n",
    "    model_info = []\n",
    "\n",
    "    # Iterate over the folders\n",
    "    for folder in folders:\n",
    "        folder_path = os.path.join(result_path, folder)\n",
    "        if os.path.isdir(folder_path):\n",
    "            # Extract input size and prediction horizon from the folder name\n",
    "            input_size, pred_horizon = map(int, folder.split('_'))\n",
    "\n",
    "            # Read the paciente_avg.txt file\n",
    "            file_path = os.path.join(folder_path, 'paciente_avg.txt')\n",
    "            with open(file_path, 'r') as f:\n",
    "                lines = f.readlines()\n",
    "\n",
    "            # Parse the metrics from the file\n",
    "            mae = float(lines[0].split(':')[1].strip())\n",
    "            mse = float(lines[1].split(':')[1].strip())\n",
    "            corr = float(lines[2].split(':')[1].strip())\n",
    "\n",
    "            # Append the data to the list\n",
    "            model_info.append((input_size, pred_horizon, mae, mse, corr))\n",
    "\n",
    "    # Sort the model info list by input_size and pred_horizon\n",
    "    sorted_model_info = sorted(model_info, key=lambda x: (x[0], x[1]))\n",
    "\n",
    "    # Write the data to a CSV file\n",
    "    with open(output_csv_path, 'w', newline='') as f:\n",
    "        writer = csv.writer(f)\n",
    "        writer.writerow(['Input Size', 'Prediction Horizon', 'MAE', 'MSE', 'CORR'])\n",
    "        writer.writerows(sorted_model_info)\n",
    "\n",
    "    print(f\"Model information has been saved to '{output_csv_path}'.\")\n",
    "\n",
    "generate_model_info_csv()\n"
   ]
  },
  {
   "attachments": {},
   "cell_type": "markdown",
   "metadata": {},
   "source": [
    "# Classification"
   ]
  },
  {
   "cell_type": "code",
   "execution_count": 113,
   "metadata": {},
   "outputs": [],
   "source": [
    "import numpy as np\n",
    "import matplotlib.pyplot as plt\n",
    "from tensorflow.keras.models import Sequential\n",
    "from tensorflow.keras.layers import LSTM, Dense\n",
    "from tensorflow.keras.callbacks import EarlyStopping\n",
    "\n",
    "def create_classification_model(input_size):\n",
    "    model = Sequential()\n",
    "    model.add(LSTM(32, input_shape=(input_size, 1)))\n",
    "    model.add(Dense(16, activation='relu'))\n",
    "    model.add(Dense(1, activation='sigmoid'))\n",
    "\n",
    "    model.compile(loss='binary_crossentropy', optimizer='adam', metrics=['accuracy'])\n",
    "\n",
    "    return model\n",
    "\n",
    "def data_prep_class(data, gradiente, input_size, pred_horizon):\n",
    "    X, y = [], []\n",
    "    for i in range(len(data)):\n",
    "        end_ix = i + input_size  # encontrar o final do padrão\n",
    "        output_ix = end_ix + pred_horizon - 1 # output\n",
    "        if output_ix > len(data)-1:\n",
    "            break\n",
    "        if np.isnan(np.sum(data[i:end_ix])) or np.isnan(data[output_ix]):\n",
    "            continue\n",
    "\n",
    "        # input e output do padrão\n",
    "        seq_x, seq_y = data[i:end_ix], data[output_ix]\n",
    "        \n",
    "        # Verificar se o gradiente é positivo e o momento está acima de 140\n",
    "        if gradiente[end_ix-1] > 0 and seq_y > 140:\n",
    "            y.append(1)  # Classificação positiva\n",
    "        else:\n",
    "            y.append(0)  # Classificação negativa\n",
    "        \n",
    "        X.append(seq_x)\n",
    "        \n",
    "    return np.array(X), np.array(y)\n",
    "\n",
    "\n",
    "\n",
    "\n",
    "def train_model_class(data, input_size, pred_horizon):\n",
    "    for i in range(0, np.size(data, 1)):\n",
    "        gradiente = derivada(data[:, i])\n",
    "        X, y = data_prep_class(data[:, i], gradiente, input_size, pred_horizon)\n",
    "\n",
    "        if len(X) < 2:\n",
    "            raise ValueError(\"Training data contains insufficient samples to perform validation split.\")\n",
    "\n",
    "        model = create_classification_model(input_size)\n",
    "\n",
    "        early_stopping = EarlyStopping(monitor='val_loss', patience=5)\n",
    "\n",
    "        history = model.fit(X, y, epochs=50, batch_size=32, validation_split=0.2, callbacks=[early_stopping])\n",
    "\n",
    "        model_path = 'models_class/' + str(input_size) + '_' + str(pred_horizon) \n",
    "        model.save(model_path)\n",
    "        print(\"Model --> \", model_path)\n",
    "\n",
    "        return model, history\n",
    "\n",
    "\n",
    "def test_model_class(model, data, input_size, pred_horizon, threshold=140):\n",
    "    plots_path = 'plots_class/' + str(input_size) + '_' + str(pred_horizon)\n",
    "    os.makedirs(plots_path, exist_ok=True)\n",
    "    \n",
    "    results_path = os.path.join(plots_path, 'accuracy.txt')\n",
    "    with open(results_path, 'w') as file:\n",
    "        for i in range(0, np.size(data, 1)):\n",
    "            gradient = derivada(data[:, i])\n",
    "            X, y = data_prep_class(gradient, data[:, i], input_size, pred_horizon)\n",
    "            y_pred = model.predict(X)\n",
    "            y_pred = np.round(y_pred)\n",
    "\n",
    "            accuracy = accuracy_score(y, y_pred)\n",
    "            file.write(f'Patient {i}: Accuracy = {accuracy}\\n')\n",
    "\n",
    "            plt.figure()\n",
    "            plt.plot(data[:, i], label='Original Series')\n",
    "            plt.axhline(y=threshold, color='r', linestyle='--', label='Threshold')\n",
    "            plt.fill_between(range(len(data[:, i])), 0, 200, where=(data[:, i] > threshold), color='red', alpha=0.3, label='Risk Zone')\n",
    "            plt.legend()\n",
    "            plt.savefig(os.path.join(plots_path, f'paciente_{i}.png'))\n",
    "            plt.close()\n",
    "\n"
   ]
  },
  {
   "cell_type": "code",
   "execution_count": 134,
   "metadata": {},
   "outputs": [
    {
     "name": "stdout",
     "output_type": "stream",
     "text": [
      "Epoch 1/50\n",
      "2/2 [==============================] - 3s 735ms/step - loss: 0.8393 - accuracy: 0.0000e+00 - val_loss: 0.7859 - val_accuracy: 0.0000e+00\n",
      "Epoch 2/50\n",
      "2/2 [==============================] - 0s 29ms/step - loss: 0.7849 - accuracy: 0.0000e+00 - val_loss: 0.7343 - val_accuracy: 0.0000e+00\n",
      "Epoch 3/50\n",
      "2/2 [==============================] - 0s 28ms/step - loss: 0.7337 - accuracy: 0.0000e+00 - val_loss: 0.6866 - val_accuracy: 1.0000\n",
      "Epoch 4/50\n",
      "2/2 [==============================] - 0s 28ms/step - loss: 0.6862 - accuracy: 0.8750 - val_loss: 0.6426 - val_accuracy: 1.0000\n",
      "Epoch 5/50\n",
      "2/2 [==============================] - 0s 27ms/step - loss: 0.6421 - accuracy: 1.0000 - val_loss: 0.5999 - val_accuracy: 1.0000\n",
      "Epoch 6/50\n",
      "2/2 [==============================] - 0s 28ms/step - loss: 0.5962 - accuracy: 1.0000 - val_loss: 0.5535 - val_accuracy: 1.0000\n",
      "Epoch 7/50\n",
      "2/2 [==============================] - 0s 27ms/step - loss: 0.5497 - accuracy: 1.0000 - val_loss: 0.5092 - val_accuracy: 1.0000\n",
      "Epoch 8/50\n",
      "2/2 [==============================] - 0s 29ms/step - loss: 0.5056 - accuracy: 1.0000 - val_loss: 0.4680 - val_accuracy: 1.0000\n",
      "Epoch 9/50\n",
      "2/2 [==============================] - 0s 29ms/step - loss: 0.4649 - accuracy: 1.0000 - val_loss: 0.4309 - val_accuracy: 1.0000\n",
      "Epoch 10/50\n",
      "2/2 [==============================] - 0s 27ms/step - loss: 0.4283 - accuracy: 1.0000 - val_loss: 0.3982 - val_accuracy: 1.0000\n",
      "Epoch 11/50\n",
      "2/2 [==============================] - 0s 28ms/step - loss: 0.3959 - accuracy: 1.0000 - val_loss: 0.3694 - val_accuracy: 1.0000\n",
      "Epoch 12/50\n",
      "2/2 [==============================] - 0s 28ms/step - loss: 0.3674 - accuracy: 1.0000 - val_loss: 0.3437 - val_accuracy: 1.0000\n",
      "Epoch 13/50\n",
      "2/2 [==============================] - 0s 29ms/step - loss: 0.3420 - accuracy: 1.0000 - val_loss: 0.3207 - val_accuracy: 1.0000\n",
      "Epoch 14/50\n",
      "2/2 [==============================] - 0s 28ms/step - loss: 0.3191 - accuracy: 1.0000 - val_loss: 0.2998 - val_accuracy: 1.0000\n",
      "Epoch 15/50\n",
      "2/2 [==============================] - 0s 26ms/step - loss: 0.2985 - accuracy: 1.0000 - val_loss: 0.2811 - val_accuracy: 1.0000\n",
      "Epoch 16/50\n",
      "2/2 [==============================] - 0s 28ms/step - loss: 0.2801 - accuracy: 1.0000 - val_loss: 0.2652 - val_accuracy: 1.0000\n",
      "Epoch 17/50\n",
      "2/2 [==============================] - 0s 27ms/step - loss: 0.2641 - accuracy: 1.0000 - val_loss: 0.2520 - val_accuracy: 1.0000\n",
      "Epoch 18/50\n",
      "2/2 [==============================] - 0s 27ms/step - loss: 0.2510 - accuracy: 1.0000 - val_loss: 0.2403 - val_accuracy: 1.0000\n",
      "Epoch 19/50\n",
      "2/2 [==============================] - 0s 29ms/step - loss: 0.2394 - accuracy: 1.0000 - val_loss: 0.2308 - val_accuracy: 1.0000\n",
      "Epoch 20/50\n",
      "2/2 [==============================] - 0s 29ms/step - loss: 0.2298 - accuracy: 1.0000 - val_loss: 0.2216 - val_accuracy: 1.0000\n",
      "Epoch 21/50\n",
      "2/2 [==============================] - 0s 29ms/step - loss: 0.2205 - accuracy: 1.0000 - val_loss: 0.2128 - val_accuracy: 1.0000\n",
      "Epoch 22/50\n",
      "2/2 [==============================] - 0s 28ms/step - loss: 0.2115 - accuracy: 1.0000 - val_loss: 0.2040 - val_accuracy: 1.0000\n",
      "Epoch 23/50\n",
      "2/2 [==============================] - 0s 29ms/step - loss: 0.2024 - accuracy: 1.0000 - val_loss: 0.1951 - val_accuracy: 1.0000\n",
      "Epoch 24/50\n",
      "2/2 [==============================] - 0s 29ms/step - loss: 0.1932 - accuracy: 1.0000 - val_loss: 0.1859 - val_accuracy: 1.0000\n",
      "Epoch 25/50\n",
      "2/2 [==============================] - 0s 28ms/step - loss: 0.1836 - accuracy: 1.0000 - val_loss: 0.1760 - val_accuracy: 1.0000\n",
      "Epoch 26/50\n",
      "2/2 [==============================] - 0s 29ms/step - loss: 0.1731 - accuracy: 1.0000 - val_loss: 0.1651 - val_accuracy: 1.0000\n",
      "Epoch 27/50\n",
      "2/2 [==============================] - 0s 29ms/step - loss: 0.1615 - accuracy: 1.0000 - val_loss: 0.1527 - val_accuracy: 1.0000\n",
      "Epoch 28/50\n",
      "2/2 [==============================] - 0s 29ms/step - loss: 0.1485 - accuracy: 1.0000 - val_loss: 0.1386 - val_accuracy: 1.0000\n",
      "Epoch 29/50\n",
      "2/2 [==============================] - 0s 29ms/step - loss: 0.1337 - accuracy: 1.0000 - val_loss: 0.1227 - val_accuracy: 1.0000\n",
      "Epoch 30/50\n",
      "2/2 [==============================] - 0s 28ms/step - loss: 0.1176 - accuracy: 1.0000 - val_loss: 0.1058 - val_accuracy: 1.0000\n",
      "Epoch 31/50\n",
      "2/2 [==============================] - 0s 29ms/step - loss: 0.1011 - accuracy: 1.0000 - val_loss: 0.0901 - val_accuracy: 1.0000\n",
      "Epoch 32/50\n",
      "2/2 [==============================] - 0s 28ms/step - loss: 0.0864 - accuracy: 1.0000 - val_loss: 0.0771 - val_accuracy: 1.0000\n",
      "Epoch 33/50\n",
      "2/2 [==============================] - 0s 32ms/step - loss: 0.0745 - accuracy: 1.0000 - val_loss: 0.0671 - val_accuracy: 1.0000\n",
      "Epoch 34/50\n",
      "2/2 [==============================] - 0s 35ms/step - loss: 0.0653 - accuracy: 1.0000 - val_loss: 0.0599 - val_accuracy: 1.0000\n",
      "Epoch 35/50\n",
      "2/2 [==============================] - 0s 36ms/step - loss: 0.0585 - accuracy: 1.0000 - val_loss: 0.0536 - val_accuracy: 1.0000\n",
      "Epoch 36/50\n",
      "2/2 [==============================] - 0s 33ms/step - loss: 0.0525 - accuracy: 1.0000 - val_loss: 0.0483 - val_accuracy: 1.0000\n",
      "Epoch 37/50\n",
      "2/2 [==============================] - 0s 32ms/step - loss: 0.0473 - accuracy: 1.0000 - val_loss: 0.0433 - val_accuracy: 1.0000\n",
      "Epoch 38/50\n",
      "2/2 [==============================] - 0s 32ms/step - loss: 0.0422 - accuracy: 1.0000 - val_loss: 0.0383 - val_accuracy: 1.0000\n",
      "Epoch 39/50\n",
      "2/2 [==============================] - 0s 30ms/step - loss: 0.0370 - accuracy: 1.0000 - val_loss: 0.0333 - val_accuracy: 1.0000\n",
      "Epoch 40/50\n",
      "2/2 [==============================] - 0s 28ms/step - loss: 0.0319 - accuracy: 1.0000 - val_loss: 0.0282 - val_accuracy: 1.0000\n",
      "Epoch 41/50\n",
      "2/2 [==============================] - 0s 29ms/step - loss: 0.0267 - accuracy: 1.0000 - val_loss: 0.0231 - val_accuracy: 1.0000\n",
      "Epoch 42/50\n",
      "2/2 [==============================] - 0s 30ms/step - loss: 0.0217 - accuracy: 1.0000 - val_loss: 0.0185 - val_accuracy: 1.0000\n",
      "Epoch 43/50\n",
      "2/2 [==============================] - 0s 30ms/step - loss: 0.0174 - accuracy: 1.0000 - val_loss: 0.0150 - val_accuracy: 1.0000\n",
      "Epoch 44/50\n",
      "2/2 [==============================] - 0s 28ms/step - loss: 0.0142 - accuracy: 1.0000 - val_loss: 0.0125 - val_accuracy: 1.0000\n",
      "Epoch 45/50\n",
      "2/2 [==============================] - 0s 29ms/step - loss: 0.0120 - accuracy: 1.0000 - val_loss: 0.0106 - val_accuracy: 1.0000\n",
      "Epoch 46/50\n",
      "2/2 [==============================] - 0s 28ms/step - loss: 0.0102 - accuracy: 1.0000 - val_loss: 0.0090 - val_accuracy: 1.0000\n",
      "Epoch 47/50\n",
      "2/2 [==============================] - 0s 27ms/step - loss: 0.0086 - accuracy: 1.0000 - val_loss: 0.0076 - val_accuracy: 1.0000\n",
      "Epoch 48/50\n",
      "2/2 [==============================] - 0s 28ms/step - loss: 0.0073 - accuracy: 1.0000 - val_loss: 0.0065 - val_accuracy: 1.0000\n",
      "Epoch 49/50\n",
      "2/2 [==============================] - 0s 28ms/step - loss: 0.0063 - accuracy: 1.0000 - val_loss: 0.0057 - val_accuracy: 1.0000\n",
      "Epoch 50/50\n",
      "2/2 [==============================] - 0s 27ms/step - loss: 0.0055 - accuracy: 1.0000 - val_loss: 0.0051 - val_accuracy: 1.0000\n"
     ]
    },
    {
     "name": "stderr",
     "output_type": "stream",
     "text": [
      "WARNING:absl:Found untraced functions such as lstm_cell_42_layer_call_fn, lstm_cell_42_layer_call_and_return_conditional_losses while saving (showing 2 of 2). These functions will not be directly callable after loading.\n"
     ]
    },
    {
     "name": "stdout",
     "output_type": "stream",
     "text": [
      "Model -->  models_class/10_1\n",
      "Epoch 1/50\n",
      "2/2 [==============================] - 2s 411ms/step - loss: 1.2810 - accuracy: 0.0000e+00 - val_loss: 1.2130 - val_accuracy: 0.0000e+00\n",
      "Epoch 2/50\n",
      "2/2 [==============================] - 0s 28ms/step - loss: 1.2023 - accuracy: 0.0000e+00 - val_loss: 1.1417 - val_accuracy: 0.0000e+00\n",
      "Epoch 3/50\n",
      "2/2 [==============================] - 0s 29ms/step - loss: 1.1315 - accuracy: 0.0000e+00 - val_loss: 1.0745 - val_accuracy: 0.0000e+00\n",
      "Epoch 4/50\n",
      "2/2 [==============================] - 0s 30ms/step - loss: 1.0646 - accuracy: 0.0000e+00 - val_loss: 1.0102 - val_accuracy: 0.0000e+00\n",
      "Epoch 5/50\n",
      "2/2 [==============================] - 0s 29ms/step - loss: 1.0009 - accuracy: 0.0000e+00 - val_loss: 0.9486 - val_accuracy: 0.0000e+00\n",
      "Epoch 6/50\n",
      "2/2 [==============================] - 0s 28ms/step - loss: 0.9400 - accuracy: 0.0000e+00 - val_loss: 0.8898 - val_accuracy: 0.0000e+00\n",
      "Epoch 7/50\n",
      "2/2 [==============================] - 0s 27ms/step - loss: 0.8821 - accuracy: 0.0000e+00 - val_loss: 0.8376 - val_accuracy: 0.0000e+00\n",
      "Epoch 8/50\n",
      "2/2 [==============================] - 0s 27ms/step - loss: 0.8326 - accuracy: 0.0000e+00 - val_loss: 0.7993 - val_accuracy: 0.0000e+00\n",
      "Epoch 9/50\n",
      "2/2 [==============================] - 0s 27ms/step - loss: 0.7962 - accuracy: 0.0000e+00 - val_loss: 0.7740 - val_accuracy: 0.0000e+00\n",
      "Epoch 10/50\n",
      "2/2 [==============================] - 0s 28ms/step - loss: 0.7709 - accuracy: 0.0000e+00 - val_loss: 0.7482 - val_accuracy: 0.0000e+00\n",
      "Epoch 11/50\n",
      "2/2 [==============================] - 0s 28ms/step - loss: 0.7454 - accuracy: 0.0000e+00 - val_loss: 0.7226 - val_accuracy: 0.0000e+00\n",
      "Epoch 12/50\n",
      "2/2 [==============================] - 0s 27ms/step - loss: 0.7201 - accuracy: 0.0000e+00 - val_loss: 0.6977 - val_accuracy: 0.0000e+00\n",
      "Epoch 13/50\n",
      "2/2 [==============================] - 0s 28ms/step - loss: 0.6954 - accuracy: 0.1579 - val_loss: 0.6736 - val_accuracy: 1.0000\n",
      "Epoch 14/50\n",
      "2/2 [==============================] - 0s 28ms/step - loss: 0.6717 - accuracy: 1.0000 - val_loss: 0.6507 - val_accuracy: 1.0000\n",
      "Epoch 15/50\n",
      "2/2 [==============================] - 0s 27ms/step - loss: 0.6490 - accuracy: 1.0000 - val_loss: 0.6289 - val_accuracy: 1.0000\n",
      "Epoch 16/50\n",
      "2/2 [==============================] - 0s 26ms/step - loss: 0.6276 - accuracy: 1.0000 - val_loss: 0.6085 - val_accuracy: 1.0000\n",
      "Epoch 17/50\n",
      "2/2 [==============================] - 0s 26ms/step - loss: 0.6073 - accuracy: 1.0000 - val_loss: 0.5892 - val_accuracy: 1.0000\n",
      "Epoch 18/50\n",
      "2/2 [==============================] - 0s 28ms/step - loss: 0.5882 - accuracy: 1.0000 - val_loss: 0.5709 - val_accuracy: 1.0000\n",
      "Epoch 19/50\n",
      "2/2 [==============================] - 0s 26ms/step - loss: 0.5701 - accuracy: 1.0000 - val_loss: 0.5563 - val_accuracy: 1.0000\n",
      "Epoch 20/50\n",
      "2/2 [==============================] - 0s 27ms/step - loss: 0.5555 - accuracy: 1.0000 - val_loss: 0.5464 - val_accuracy: 1.0000\n",
      "Epoch 21/50\n",
      "2/2 [==============================] - 0s 27ms/step - loss: 0.5459 - accuracy: 1.0000 - val_loss: 0.5398 - val_accuracy: 1.0000\n",
      "Epoch 22/50\n",
      "2/2 [==============================] - 0s 26ms/step - loss: 0.5391 - accuracy: 1.0000 - val_loss: 0.5323 - val_accuracy: 1.0000\n",
      "Epoch 23/50\n",
      "2/2 [==============================] - 0s 26ms/step - loss: 0.5315 - accuracy: 1.0000 - val_loss: 0.5244 - val_accuracy: 1.0000\n",
      "Epoch 24/50\n",
      "2/2 [==============================] - 0s 26ms/step - loss: 0.5235 - accuracy: 1.0000 - val_loss: 0.5160 - val_accuracy: 1.0000\n",
      "Epoch 25/50\n",
      "2/2 [==============================] - 0s 28ms/step - loss: 0.5153 - accuracy: 1.0000 - val_loss: 0.5098 - val_accuracy: 1.0000\n",
      "Epoch 26/50\n",
      "2/2 [==============================] - 0s 25ms/step - loss: 0.5093 - accuracy: 1.0000 - val_loss: 0.5036 - val_accuracy: 1.0000\n",
      "Epoch 27/50\n",
      "2/2 [==============================] - 0s 26ms/step - loss: 0.5031 - accuracy: 1.0000 - val_loss: 0.4973 - val_accuracy: 1.0000\n",
      "Epoch 28/50\n",
      "2/2 [==============================] - 0s 27ms/step - loss: 0.4967 - accuracy: 1.0000 - val_loss: 0.4908 - val_accuracy: 1.0000\n",
      "Epoch 29/50\n",
      "2/2 [==============================] - 0s 26ms/step - loss: 0.4901 - accuracy: 1.0000 - val_loss: 0.4840 - val_accuracy: 1.0000\n",
      "Epoch 30/50\n",
      "2/2 [==============================] - 0s 26ms/step - loss: 0.4832 - accuracy: 1.0000 - val_loss: 0.4769 - val_accuracy: 1.0000\n",
      "Epoch 31/50\n",
      "2/2 [==============================] - 0s 27ms/step - loss: 0.4759 - accuracy: 1.0000 - val_loss: 0.4692 - val_accuracy: 1.0000\n",
      "Epoch 32/50\n",
      "2/2 [==============================] - 0s 26ms/step - loss: 0.4681 - accuracy: 1.0000 - val_loss: 0.4608 - val_accuracy: 1.0000\n",
      "Epoch 33/50\n",
      "2/2 [==============================] - 0s 26ms/step - loss: 0.4596 - accuracy: 1.0000 - val_loss: 0.4516 - val_accuracy: 1.0000\n",
      "Epoch 34/50\n",
      "2/2 [==============================] - 0s 26ms/step - loss: 0.4501 - accuracy: 1.0000 - val_loss: 0.4411 - val_accuracy: 1.0000\n",
      "Epoch 35/50\n",
      "2/2 [==============================] - 0s 28ms/step - loss: 0.4403 - accuracy: 1.0000 - val_loss: 0.4322 - val_accuracy: 1.0000\n",
      "Epoch 36/50\n",
      "2/2 [==============================] - 0s 26ms/step - loss: 0.4319 - accuracy: 1.0000 - val_loss: 0.4227 - val_accuracy: 1.0000\n",
      "Epoch 37/50\n",
      "2/2 [==============================] - 0s 25ms/step - loss: 0.4209 - accuracy: 1.0000 - val_loss: 0.4126 - val_accuracy: 1.0000\n",
      "Epoch 38/50\n",
      "2/2 [==============================] - 0s 27ms/step - loss: 0.4107 - accuracy: 1.0000 - val_loss: 0.4010 - val_accuracy: 1.0000\n",
      "Epoch 39/50\n",
      "2/2 [==============================] - 0s 27ms/step - loss: 0.3989 - accuracy: 1.0000 - val_loss: 0.3885 - val_accuracy: 1.0000\n",
      "Epoch 40/50\n",
      "2/2 [==============================] - 0s 27ms/step - loss: 0.3861 - accuracy: 1.0000 - val_loss: 0.3747 - val_accuracy: 1.0000\n",
      "Epoch 41/50\n",
      "2/2 [==============================] - 0s 26ms/step - loss: 0.3725 - accuracy: 1.0000 - val_loss: 0.3603 - val_accuracy: 1.0000\n",
      "Epoch 42/50\n",
      "2/2 [==============================] - 0s 26ms/step - loss: 0.3586 - accuracy: 1.0000 - val_loss: 0.3472 - val_accuracy: 1.0000\n",
      "Epoch 43/50\n",
      "2/2 [==============================] - 0s 27ms/step - loss: 0.3460 - accuracy: 1.0000 - val_loss: 0.3355 - val_accuracy: 1.0000\n",
      "Epoch 44/50\n",
      "2/2 [==============================] - 0s 26ms/step - loss: 0.3345 - accuracy: 1.0000 - val_loss: 0.3250 - val_accuracy: 1.0000\n",
      "Epoch 45/50\n",
      "2/2 [==============================] - 0s 26ms/step - loss: 0.3240 - accuracy: 1.0000 - val_loss: 0.3151 - val_accuracy: 1.0000\n",
      "Epoch 46/50\n",
      "2/2 [==============================] - 0s 27ms/step - loss: 0.3141 - accuracy: 1.0000 - val_loss: 0.3054 - val_accuracy: 1.0000\n",
      "Epoch 47/50\n",
      "2/2 [==============================] - 0s 26ms/step - loss: 0.3043 - accuracy: 1.0000 - val_loss: 0.2959 - val_accuracy: 1.0000\n",
      "Epoch 48/50\n",
      "2/2 [==============================] - 0s 26ms/step - loss: 0.2950 - accuracy: 1.0000 - val_loss: 0.2873 - val_accuracy: 1.0000\n",
      "Epoch 49/50\n",
      "2/2 [==============================] - 0s 26ms/step - loss: 0.2865 - accuracy: 1.0000 - val_loss: 0.2795 - val_accuracy: 1.0000\n",
      "Epoch 50/50\n",
      "2/2 [==============================] - 0s 27ms/step - loss: 0.2789 - accuracy: 1.0000 - val_loss: 0.2724 - val_accuracy: 1.0000\n"
     ]
    },
    {
     "name": "stderr",
     "output_type": "stream",
     "text": [
      "WARNING:absl:Found untraced functions such as lstm_cell_43_layer_call_fn, lstm_cell_43_layer_call_and_return_conditional_losses while saving (showing 2 of 2). These functions will not be directly callable after loading.\n"
     ]
    },
    {
     "name": "stdout",
     "output_type": "stream",
     "text": [
      "Model -->  models_class/10_3\n",
      "Epoch 1/50\n",
      "2/2 [==============================] - 3s 440ms/step - loss: 0.5904 - accuracy: 1.0000 - val_loss: 0.5609 - val_accuracy: 1.0000\n",
      "Epoch 2/50\n",
      "2/2 [==============================] - 0s 28ms/step - loss: 0.5599 - accuracy: 1.0000 - val_loss: 0.5348 - val_accuracy: 1.0000\n",
      "Epoch 3/50\n",
      "2/2 [==============================] - 0s 31ms/step - loss: 0.5338 - accuracy: 1.0000 - val_loss: 0.5095 - val_accuracy: 1.0000\n",
      "Epoch 4/50\n",
      "2/2 [==============================] - 0s 29ms/step - loss: 0.5084 - accuracy: 1.0000 - val_loss: 0.4859 - val_accuracy: 1.0000\n",
      "Epoch 5/50\n",
      "2/2 [==============================] - 0s 27ms/step - loss: 0.4848 - accuracy: 1.0000 - val_loss: 0.4643 - val_accuracy: 1.0000\n",
      "Epoch 6/50\n",
      "2/2 [==============================] - 0s 27ms/step - loss: 0.4632 - accuracy: 1.0000 - val_loss: 0.4435 - val_accuracy: 1.0000\n",
      "Epoch 7/50\n",
      "2/2 [==============================] - 0s 27ms/step - loss: 0.4424 - accuracy: 1.0000 - val_loss: 0.4233 - val_accuracy: 1.0000\n",
      "Epoch 8/50\n",
      "2/2 [==============================] - 0s 28ms/step - loss: 0.4221 - accuracy: 1.0000 - val_loss: 0.4035 - val_accuracy: 1.0000\n",
      "Epoch 9/50\n",
      "2/2 [==============================] - 0s 28ms/step - loss: 0.4023 - accuracy: 1.0000 - val_loss: 0.3840 - val_accuracy: 1.0000\n",
      "Epoch 10/50\n",
      "2/2 [==============================] - 0s 28ms/step - loss: 0.3828 - accuracy: 1.0000 - val_loss: 0.3647 - val_accuracy: 1.0000\n",
      "Epoch 11/50\n",
      "2/2 [==============================] - 0s 28ms/step - loss: 0.3638 - accuracy: 1.0000 - val_loss: 0.3517 - val_accuracy: 1.0000\n",
      "Epoch 12/50\n",
      "2/2 [==============================] - 0s 28ms/step - loss: 0.3513 - accuracy: 1.0000 - val_loss: 0.3391 - val_accuracy: 1.0000\n",
      "Epoch 13/50\n",
      "2/2 [==============================] - 0s 28ms/step - loss: 0.3386 - accuracy: 1.0000 - val_loss: 0.3261 - val_accuracy: 1.0000\n",
      "Epoch 14/50\n",
      "2/2 [==============================] - 0s 30ms/step - loss: 0.3256 - accuracy: 1.0000 - val_loss: 0.3134 - val_accuracy: 1.0000\n",
      "Epoch 15/50\n",
      "2/2 [==============================] - 0s 29ms/step - loss: 0.3129 - accuracy: 1.0000 - val_loss: 0.3013 - val_accuracy: 1.0000\n",
      "Epoch 16/50\n",
      "2/2 [==============================] - 0s 29ms/step - loss: 0.3008 - accuracy: 1.0000 - val_loss: 0.2891 - val_accuracy: 1.0000\n",
      "Epoch 17/50\n",
      "2/2 [==============================] - 0s 29ms/step - loss: 0.2886 - accuracy: 1.0000 - val_loss: 0.2771 - val_accuracy: 1.0000\n",
      "Epoch 18/50\n",
      "2/2 [==============================] - 0s 28ms/step - loss: 0.2765 - accuracy: 1.0000 - val_loss: 0.2652 - val_accuracy: 1.0000\n",
      "Epoch 19/50\n",
      "2/2 [==============================] - 0s 28ms/step - loss: 0.2646 - accuracy: 1.0000 - val_loss: 0.2533 - val_accuracy: 1.0000\n",
      "Epoch 20/50\n",
      "2/2 [==============================] - 0s 28ms/step - loss: 0.2527 - accuracy: 1.0000 - val_loss: 0.2414 - val_accuracy: 1.0000\n",
      "Epoch 21/50\n",
      "2/2 [==============================] - 0s 28ms/step - loss: 0.2408 - accuracy: 1.0000 - val_loss: 0.2295 - val_accuracy: 1.0000\n",
      "Epoch 22/50\n",
      "2/2 [==============================] - 0s 28ms/step - loss: 0.2287 - accuracy: 1.0000 - val_loss: 0.2152 - val_accuracy: 1.0000\n",
      "Epoch 23/50\n",
      "2/2 [==============================] - 0s 27ms/step - loss: 0.2142 - accuracy: 1.0000 - val_loss: 0.2002 - val_accuracy: 1.0000\n",
      "Epoch 24/50\n",
      "2/2 [==============================] - 0s 28ms/step - loss: 0.1993 - accuracy: 1.0000 - val_loss: 0.1853 - val_accuracy: 1.0000\n",
      "Epoch 25/50\n",
      "2/2 [==============================] - 0s 28ms/step - loss: 0.1845 - accuracy: 1.0000 - val_loss: 0.1710 - val_accuracy: 1.0000\n",
      "Epoch 26/50\n",
      "2/2 [==============================] - 0s 26ms/step - loss: 0.1702 - accuracy: 1.0000 - val_loss: 0.1573 - val_accuracy: 1.0000\n",
      "Epoch 27/50\n",
      "2/2 [==============================] - 0s 28ms/step - loss: 0.1566 - accuracy: 1.0000 - val_loss: 0.1442 - val_accuracy: 1.0000\n",
      "Epoch 28/50\n",
      "2/2 [==============================] - 0s 28ms/step - loss: 0.1435 - accuracy: 1.0000 - val_loss: 0.1316 - val_accuracy: 1.0000\n",
      "Epoch 29/50\n",
      "2/2 [==============================] - 0s 27ms/step - loss: 0.1309 - accuracy: 1.0000 - val_loss: 0.1192 - val_accuracy: 1.0000\n",
      "Epoch 30/50\n",
      "2/2 [==============================] - 0s 27ms/step - loss: 0.1185 - accuracy: 1.0000 - val_loss: 0.1069 - val_accuracy: 1.0000\n",
      "Epoch 31/50\n",
      "2/2 [==============================] - 0s 28ms/step - loss: 0.1061 - accuracy: 1.0000 - val_loss: 0.0946 - val_accuracy: 1.0000\n",
      "Epoch 32/50\n",
      "2/2 [==============================] - 0s 28ms/step - loss: 0.0938 - accuracy: 1.0000 - val_loss: 0.0825 - val_accuracy: 1.0000\n",
      "Epoch 33/50\n",
      "2/2 [==============================] - 0s 27ms/step - loss: 0.0818 - accuracy: 1.0000 - val_loss: 0.0715 - val_accuracy: 1.0000\n",
      "Epoch 34/50\n",
      "2/2 [==============================] - 0s 27ms/step - loss: 0.0710 - accuracy: 1.0000 - val_loss: 0.0636 - val_accuracy: 1.0000\n",
      "Epoch 35/50\n",
      "2/2 [==============================] - 0s 28ms/step - loss: 0.0632 - accuracy: 1.0000 - val_loss: 0.0572 - val_accuracy: 1.0000\n",
      "Epoch 36/50\n",
      "2/2 [==============================] - 0s 28ms/step - loss: 0.0569 - accuracy: 1.0000 - val_loss: 0.0520 - val_accuracy: 1.0000\n",
      "Epoch 37/50\n",
      "2/2 [==============================] - 0s 29ms/step - loss: 0.0517 - accuracy: 1.0000 - val_loss: 0.0475 - val_accuracy: 1.0000\n",
      "Epoch 38/50\n",
      "2/2 [==============================] - 0s 28ms/step - loss: 0.0472 - accuracy: 1.0000 - val_loss: 0.0436 - val_accuracy: 1.0000\n",
      "Epoch 39/50\n",
      "2/2 [==============================] - 0s 28ms/step - loss: 0.0434 - accuracy: 1.0000 - val_loss: 0.0403 - val_accuracy: 1.0000\n",
      "Epoch 40/50\n",
      "2/2 [==============================] - 0s 29ms/step - loss: 0.0402 - accuracy: 1.0000 - val_loss: 0.0376 - val_accuracy: 1.0000\n",
      "Epoch 41/50\n",
      "2/2 [==============================] - 0s 28ms/step - loss: 0.0376 - accuracy: 1.0000 - val_loss: 0.0353 - val_accuracy: 1.0000\n",
      "Epoch 42/50\n",
      "2/2 [==============================] - 0s 28ms/step - loss: 0.0352 - accuracy: 1.0000 - val_loss: 0.0331 - val_accuracy: 1.0000\n",
      "Epoch 43/50\n",
      "2/2 [==============================] - 0s 28ms/step - loss: 0.0331 - accuracy: 1.0000 - val_loss: 0.0311 - val_accuracy: 1.0000\n",
      "Epoch 44/50\n",
      "2/2 [==============================] - 0s 28ms/step - loss: 0.0311 - accuracy: 1.0000 - val_loss: 0.0292 - val_accuracy: 1.0000\n",
      "Epoch 45/50\n",
      "2/2 [==============================] - 0s 28ms/step - loss: 0.0291 - accuracy: 1.0000 - val_loss: 0.0273 - val_accuracy: 1.0000\n",
      "Epoch 46/50\n",
      "2/2 [==============================] - 0s 28ms/step - loss: 0.0272 - accuracy: 1.0000 - val_loss: 0.0256 - val_accuracy: 1.0000\n",
      "Epoch 47/50\n",
      "2/2 [==============================] - 0s 27ms/step - loss: 0.0255 - accuracy: 1.0000 - val_loss: 0.0240 - val_accuracy: 1.0000\n",
      "Epoch 48/50\n",
      "2/2 [==============================] - 0s 28ms/step - loss: 0.0240 - accuracy: 1.0000 - val_loss: 0.0226 - val_accuracy: 1.0000\n",
      "Epoch 49/50\n",
      "2/2 [==============================] - 0s 30ms/step - loss: 0.0226 - accuracy: 1.0000 - val_loss: 0.0212 - val_accuracy: 1.0000\n",
      "Epoch 50/50\n",
      "2/2 [==============================] - 0s 28ms/step - loss: 0.0212 - accuracy: 1.0000 - val_loss: 0.0198 - val_accuracy: 1.0000\n"
     ]
    },
    {
     "name": "stderr",
     "output_type": "stream",
     "text": [
      "WARNING:absl:Found untraced functions such as lstm_cell_44_layer_call_fn, lstm_cell_44_layer_call_and_return_conditional_losses while saving (showing 2 of 2). These functions will not be directly callable after loading.\n"
     ]
    },
    {
     "name": "stdout",
     "output_type": "stream",
     "text": [
      "Model -->  models_class/10_7\n"
     ]
    }
   ],
   "source": [
    "with tf.device('/cpu:0'):\n",
    "    for input_size in [10]:\n",
    "        for pred_horizon in [1,3,7]:\n",
    "            model, history = train_model_class(train_patients, input_size, pred_horizon)"
   ]
  },
  {
   "cell_type": "code",
   "execution_count": 135,
   "metadata": {},
   "outputs": [
    {
     "name": "stdout",
     "output_type": "stream",
     "text": [
      "2/2 [==============================] - 0s 3ms/step\n",
      "2/2 [==============================] - 0s 2ms/step\n",
      "2/2 [==============================] - 0s 2ms/step\n",
      "2/2 [==============================] - 0s 2ms/step\n",
      "2/2 [==============================] - 0s 4ms/step\n",
      "2/2 [==============================] - 0s 2ms/step\n",
      "2/2 [==============================] - 0s 2ms/step\n",
      "2/2 [==============================] - 0s 2ms/step\n",
      "2/2 [==============================] - 0s 3ms/step\n",
      "2/2 [==============================] - 0s 4ms/step\n",
      "2/2 [==============================] - 0s 3ms/step\n",
      "2/2 [==============================] - 0s 3ms/step\n",
      "2/2 [==============================] - 0s 3ms/step\n",
      "2/2 [==============================] - 0s 3ms/step\n",
      "2/2 [==============================] - 0s 3ms/step\n",
      "2/2 [==============================] - 0s 2ms/step\n",
      "2/2 [==============================] - 0s 3ms/step\n",
      "2/2 [==============================] - 0s 3ms/step\n",
      "2/2 [==============================] - 0s 2ms/step\n",
      "2/2 [==============================] - 0s 2ms/step\n",
      "2/2 [==============================] - 0s 2ms/step\n",
      "2/2 [==============================] - 0s 2ms/step\n",
      "2/2 [==============================] - 0s 2ms/step\n",
      "2/2 [==============================] - 0s 2ms/step\n",
      "2/2 [==============================] - 0s 3ms/step\n",
      "2/2 [==============================] - 0s 2ms/step\n",
      "2/2 [==============================] - 0s 3ms/step\n",
      "2/2 [==============================] - 0s 2ms/step\n",
      "2/2 [==============================] - 0s 2ms/step\n",
      "2/2 [==============================] - 0s 2ms/step\n",
      "2/2 [==============================] - 0s 2ms/step\n",
      "2/2 [==============================] - 0s 2ms/step\n",
      "2/2 [==============================] - 0s 2ms/step\n",
      "2/2 [==============================] - 0s 2ms/step\n",
      "2/2 [==============================] - 0s 2ms/step\n",
      "2/2 [==============================] - 0s 2ms/step\n",
      "2/2 [==============================] - 0s 3ms/step\n",
      "2/2 [==============================] - 0s 3ms/step\n",
      "2/2 [==============================] - 0s 2ms/step\n"
     ]
    }
   ],
   "source": [
    "with tf.device('/cpu:0'):\n",
    "    for input_size in [10]:\n",
    "        for pred_horizon in [1,3,7]:\n",
    "                # Load the trained model\n",
    "            model_path = 'models_class/' + str(input_size) + '_' + str(pred_horizon)\n",
    "            model = keras.models.load_model(model_path)\n",
    "            test_model_class(model, test_patients, input_size, pred_horizon)\n"
   ]
  },
  {
   "attachments": {},
   "cell_type": "markdown",
   "metadata": {},
   "source": [
    "## Sistema de classificação"
   ]
  },
  {
   "cell_type": "code",
   "execution_count": 144,
   "metadata": {},
   "outputs": [],
   "source": [
    "def test_model_classification(data, input_size, pred_horizon):\n",
    "    \"\"\"\n",
    "    Test the trained model on a group of test patients and save the evaluation metrics and plots.\n",
    "    \"\"\"\n",
    "    # Load the trained model\n",
    "    model_path = 'models/' + str(input_size) + '_' + str(pred_horizon)\n",
    "    model = keras.models.load_model(model_path)\n",
    "\n",
    "    # Create directories to save the plots and evaluation results\n",
    "    plots_path = 'plots/' + str(input_size) + '_' + str(pred_horizon)\n",
    "    os.makedirs(plots_path, exist_ok=True)\n",
    "    results_path = 'results/' + str(input_size) + '_' + str(pred_horizon)\n",
    "    os.makedirs(results_path, exist_ok=True)\n",
    "\n",
    "    for i in range(0, np.size(data, 1)):\n",
    "        # Filter the data and prepare the test inputs and targets\n",
    "        data_filter = filtragem(data[:, i])\n",
    "        X_test, y_test = data_prep(data_filter, input_size, pred_horizon, True)\n",
    "        X_test_dev, _ = data_prep(derivada(data_filter), input_size, pred_horizon, True)\n",
    "\n",
    "        X_test_concat = np.concatenate((X_test, X_test_dev), axis=1)\n",
    "        X_test_concat = X_test_concat.reshape((X_test_concat.shape[0], X_test_concat.shape[1], 1))\n",
    "\n",
    "        # Make predictions\n",
    "        y_pred = model.predict(X_test_concat)\n",
    "\n",
    "        # Calculate hypertension values above 135\n",
    "        hypertension_threshold = 135\n",
    "        true_hypertension = (y_test.squeeze() > hypertension_threshold).astype(int)\n",
    "        predicted_hypertension = (y_pred.squeeze() > hypertension_threshold).astype(int)\n",
    "\n",
    "        # Assess risk based on the percentage of values above the threshold\n",
    "        threshold_percentage = 0.1\n",
    "        true_hypertension_percentage = np.mean(predicted_hypertension)\n",
    "        risk_assessment = true_hypertension_percentage > threshold_percentage\n",
    "\n",
    "        # Plot the comparison between predicted and true hypertension\n",
    "        plt.plot(np.arange(input_size+pred_horizon-1, len(data_filter)), y_test, label='True Hypertension')\n",
    "        plt.plot(np.arange(input_size+pred_horizon-1, len(data_filter)), y_pred, label='Predicted Hypertension')\n",
    "        plt.axhline(y=hypertension_threshold, color='r', linestyle='--', label=f'Threshold {hypertension_threshold}')\n",
    "        plt.legend()\n",
    "\n",
    "        # Add risk assessment to the plot\n",
    "        assessment_text = 'At Risk' if risk_assessment else 'Not at Risk'\n",
    "        plt.text(0.05, 0.9, assessment_text, transform=plt.gca().transAxes, fontsize=12)\n",
    "\n",
    "        plt.savefig(os.path.join(plots_path, f'comparison_paciente_{i}.png'))\n",
    "        plt.close()\n"
   ]
  },
  {
   "cell_type": "code",
   "execution_count": 145,
   "metadata": {},
   "outputs": [
    {
     "name": "stdout",
     "output_type": "stream",
     "text": [
      "2/2 [==============================] - 0s 15ms/step\n",
      "2/2 [==============================] - 0s 4ms/step\n",
      "2/2 [==============================] - 0s 4ms/step\n",
      "2/2 [==============================] - 0s 4ms/step\n",
      "2/2 [==============================] - 0s 4ms/step\n",
      "2/2 [==============================] - 0s 4ms/step\n",
      "2/2 [==============================] - 0s 4ms/step\n",
      "2/2 [==============================] - 0s 4ms/step\n",
      "2/2 [==============================] - 0s 4ms/step\n",
      "2/2 [==============================] - 0s 4ms/step\n",
      "2/2 [==============================] - 0s 4ms/step\n",
      "2/2 [==============================] - 0s 3ms/step\n",
      "2/2 [==============================] - 0s 4ms/step\n",
      "2/2 [==============================] - 0s 18ms/step\n",
      "2/2 [==============================] - 0s 4ms/step\n",
      "2/2 [==============================] - 0s 3ms/step\n",
      "2/2 [==============================] - 0s 3ms/step\n",
      "2/2 [==============================] - 0s 4ms/step\n",
      "2/2 [==============================] - 0s 4ms/step\n",
      "2/2 [==============================] - 0s 3ms/step\n",
      "2/2 [==============================] - 0s 4ms/step\n",
      "2/2 [==============================] - 0s 4ms/step\n",
      "2/2 [==============================] - 0s 4ms/step\n",
      "2/2 [==============================] - 0s 3ms/step\n",
      "2/2 [==============================] - 0s 4ms/step\n",
      "2/2 [==============================] - 0s 4ms/step\n",
      "2/2 [==============================] - 0s 14ms/step\n",
      "2/2 [==============================] - 0s 4ms/step\n",
      "2/2 [==============================] - 0s 4ms/step\n",
      "2/2 [==============================] - 0s 3ms/step\n",
      "2/2 [==============================] - 0s 4ms/step\n",
      "2/2 [==============================] - 0s 4ms/step\n",
      "2/2 [==============================] - 0s 4ms/step\n",
      "2/2 [==============================] - 0s 4ms/step\n",
      "2/2 [==============================] - 0s 4ms/step\n",
      "2/2 [==============================] - 0s 4ms/step\n",
      "2/2 [==============================] - 0s 4ms/step\n",
      "2/2 [==============================] - 0s 4ms/step\n",
      "2/2 [==============================] - 0s 3ms/step\n",
      "2/2 [==============================] - 0s 14ms/step\n",
      "2/2 [==============================] - 0s 4ms/step\n",
      "2/2 [==============================] - 0s 4ms/step\n",
      "2/2 [==============================] - 0s 4ms/step\n",
      "2/2 [==============================] - 0s 4ms/step\n",
      "2/2 [==============================] - 0s 3ms/step\n",
      "2/2 [==============================] - 0s 4ms/step\n",
      "2/2 [==============================] - 0s 4ms/step\n",
      "2/2 [==============================] - 0s 3ms/step\n",
      "2/2 [==============================] - 0s 4ms/step\n",
      "2/2 [==============================] - 0s 4ms/step\n",
      "2/2 [==============================] - 0s 4ms/step\n",
      "2/2 [==============================] - 0s 4ms/step\n",
      "2/2 [==============================] - 0s 16ms/step\n",
      "2/2 [==============================] - 0s 4ms/step\n",
      "2/2 [==============================] - 0s 4ms/step\n",
      "2/2 [==============================] - 0s 4ms/step\n",
      "2/2 [==============================] - 0s 4ms/step\n",
      "2/2 [==============================] - 0s 4ms/step\n",
      "2/2 [==============================] - 0s 4ms/step\n",
      "2/2 [==============================] - 0s 4ms/step\n",
      "2/2 [==============================] - 0s 4ms/step\n",
      "2/2 [==============================] - 0s 3ms/step\n",
      "2/2 [==============================] - 0s 4ms/step\n",
      "2/2 [==============================] - 0s 4ms/step\n",
      "2/2 [==============================] - 0s 4ms/step\n",
      "2/2 [==============================] - 0s 18ms/step\n",
      "2/2 [==============================] - 0s 4ms/step\n",
      "2/2 [==============================] - 0s 4ms/step\n",
      "2/2 [==============================] - 0s 4ms/step\n",
      "2/2 [==============================] - 0s 4ms/step\n",
      "2/2 [==============================] - 0s 4ms/step\n",
      "2/2 [==============================] - 0s 4ms/step\n",
      "2/2 [==============================] - 0s 4ms/step\n",
      "2/2 [==============================] - 0s 4ms/step\n",
      "2/2 [==============================] - 0s 4ms/step\n",
      "2/2 [==============================] - 0s 4ms/step\n",
      "2/2 [==============================] - 0s 4ms/step\n",
      "2/2 [==============================] - 0s 4ms/step\n",
      "2/2 [==============================] - 0s 16ms/step\n",
      "2/2 [==============================] - 0s 4ms/step\n",
      "2/2 [==============================] - 0s 4ms/step\n",
      "2/2 [==============================] - 0s 4ms/step\n",
      "2/2 [==============================] - 0s 4ms/step\n",
      "2/2 [==============================] - 0s 4ms/step\n",
      "2/2 [==============================] - 0s 4ms/step\n",
      "2/2 [==============================] - 0s 4ms/step\n",
      "2/2 [==============================] - 0s 4ms/step\n",
      "2/2 [==============================] - 0s 4ms/step\n",
      "2/2 [==============================] - 0s 3ms/step\n",
      "2/2 [==============================] - 0s 9ms/step\n",
      "2/2 [==============================] - 0s 4ms/step\n",
      "2/2 [==============================] - 0s 14ms/step\n",
      "2/2 [==============================] - 0s 4ms/step\n",
      "2/2 [==============================] - 0s 4ms/step\n",
      "2/2 [==============================] - 0s 4ms/step\n",
      "2/2 [==============================] - 0s 4ms/step\n",
      "2/2 [==============================] - 0s 4ms/step\n",
      "2/2 [==============================] - 0s 4ms/step\n",
      "2/2 [==============================] - 0s 4ms/step\n",
      "2/2 [==============================] - 0s 4ms/step\n",
      "2/2 [==============================] - 0s 4ms/step\n",
      "2/2 [==============================] - 0s 4ms/step\n",
      "2/2 [==============================] - 0s 4ms/step\n",
      "2/2 [==============================] - 0s 4ms/step\n",
      "2/2 [==============================] - 0s 14ms/step\n",
      "2/2 [==============================] - 0s 4ms/step\n",
      "2/2 [==============================] - 0s 4ms/step\n",
      "2/2 [==============================] - 0s 4ms/step\n",
      "2/2 [==============================] - 0s 5ms/step\n",
      "2/2 [==============================] - 0s 4ms/step\n",
      "2/2 [==============================] - 0s 4ms/step\n",
      "2/2 [==============================] - 0s 4ms/step\n",
      "2/2 [==============================] - 0s 4ms/step\n",
      "2/2 [==============================] - 0s 3ms/step\n",
      "2/2 [==============================] - 0s 4ms/step\n",
      "2/2 [==============================] - 0s 4ms/step\n",
      "2/2 [==============================] - 0s 4ms/step\n",
      "2/2 [==============================] - 0s 16ms/step\n",
      "2/2 [==============================] - 0s 4ms/step\n",
      "2/2 [==============================] - 0s 4ms/step\n",
      "2/2 [==============================] - 0s 4ms/step\n",
      "2/2 [==============================] - 0s 4ms/step\n",
      "2/2 [==============================] - 0s 4ms/step\n",
      "2/2 [==============================] - 0s 3ms/step\n",
      "2/2 [==============================] - 0s 4ms/step\n",
      "2/2 [==============================] - 0s 4ms/step\n",
      "2/2 [==============================] - 0s 4ms/step\n",
      "2/2 [==============================] - 0s 3ms/step\n",
      "2/2 [==============================] - 0s 4ms/step\n",
      "2/2 [==============================] - 0s 4ms/step\n",
      "2/2 [==============================] - 0s 15ms/step\n",
      "2/2 [==============================] - 0s 4ms/step\n",
      "2/2 [==============================] - 0s 4ms/step\n",
      "2/2 [==============================] - 0s 4ms/step\n",
      "2/2 [==============================] - 0s 4ms/step\n",
      "2/2 [==============================] - 0s 3ms/step\n",
      "2/2 [==============================] - 0s 4ms/step\n",
      "2/2 [==============================] - 0s 4ms/step\n",
      "2/2 [==============================] - 0s 4ms/step\n",
      "2/2 [==============================] - 0s 4ms/step\n",
      "2/2 [==============================] - 0s 4ms/step\n",
      "2/2 [==============================] - 0s 4ms/step\n",
      "2/2 [==============================] - 0s 4ms/step\n",
      "2/2 [==============================] - 0s 14ms/step\n",
      "2/2 [==============================] - 0s 4ms/step\n",
      "2/2 [==============================] - 0s 4ms/step\n",
      "2/2 [==============================] - 0s 4ms/step\n",
      "2/2 [==============================] - 0s 4ms/step\n",
      "2/2 [==============================] - 0s 4ms/step\n",
      "2/2 [==============================] - 0s 4ms/step\n",
      "2/2 [==============================] - 0s 4ms/step\n",
      "2/2 [==============================] - 0s 4ms/step\n",
      "2/2 [==============================] - 0s 4ms/step\n",
      "2/2 [==============================] - 0s 4ms/step\n",
      "2/2 [==============================] - 0s 4ms/step\n",
      "2/2 [==============================] - 0s 4ms/step\n"
     ]
    }
   ],
   "source": [
    "for input_size in n:\n",
    "    for pred_horizon in pred_horizons:\n",
    "        test_model_classification(test_patients, input_size, pred_horizon)"
   ]
  },
  {
   "cell_type": "code",
   "execution_count": 170,
   "metadata": {},
   "outputs": [
    {
     "name": "stdout",
     "output_type": "stream",
     "text": [
      "Average accuracies have been calculated and saved to 'average_accuracies.csv'.\n"
     ]
    }
   ],
   "source": [
    "import os\n",
    "import csv\n",
    "\n",
    "def calculate_average_accuracy():\n",
    "    folders = [folder for folder in os.listdir('plots_class') if os.path.isdir(os.path.join('plots_class', folder))]\n",
    "\n",
    "    results = []\n",
    "    for folder in folders:\n",
    "        folder_path = os.path.join('plots_class', folder)\n",
    "        accuracy_files = [file for file in os.listdir(folder_path) if file.endswith('.txt')]\n",
    "\n",
    "        accuracies = []\n",
    "        for file in accuracy_files:\n",
    "            file_path = os.path.join(folder_path, file)\n",
    "            with open(file_path, 'r') as f:\n",
    "                lines = f.readlines()\n",
    "                for line in lines:\n",
    "                    if line.startswith('Patient 5:'):\n",
    "                        accuracy = float(line.split('=')[1].strip())\n",
    "                        accuracies.append(accuracy)\n",
    "                        break\n",
    "\n",
    "        if len(accuracies) > 0:\n",
    "            average_accuracy = sum(accuracies) / len(accuracies)\n",
    "        else:\n",
    "            average_accuracy = 0\n",
    "\n",
    "        results.append((folder, average_accuracy))\n",
    "\n",
    "    csv_path = 'average_accuracies.csv'\n",
    "    with open(csv_path, 'w', newline='') as csv_file:\n",
    "        writer = csv.writer(csv_file)\n",
    "        writer.writerow(['Model', 'Average Accuracy'])\n",
    "        writer.writerows(results)\n",
    "\n",
    "    print(\"Average accuracies have been calculated and saved to 'average_accuracies.csv'.\")\n",
    "\n",
    "\n",
    "calculate_average_accuracy()"
   ]
  },
  {
   "attachments": {},
   "cell_type": "markdown",
   "metadata": {},
   "source": [
    "## New Classification [5, 6, 7]"
   ]
  },
  {
   "cell_type": "code",
   "execution_count": 24,
   "metadata": {},
   "outputs": [],
   "source": [
    "import numpy as np\n",
    "from sklearn.metrics import f1_score, precision_score, recall_score\n",
    "import tensorflow as tf\n",
    "from tensorflow import keras\n",
    "from tensorflow.keras.layers import Dense\n",
    "import matplotlib.pyplot as plt\n",
    "import csv\n",
    "\n",
    "# Função para criar o modelo de classificação\n",
    "def create_classification_model(input_size):\n",
    "    model = keras.Sequential([\n",
    "        Dense(64, activation='relu', input_shape=(input_size,)),\n",
    "        Dense(64, activation='relu'),\n",
    "        Dense(1, activation='sigmoid')\n",
    "    ])\n",
    "    model.compile(optimizer='adam', loss='binary_crossentropy', metrics=['accuracy'])\n",
    "    return model\n",
    "\n",
    "# Função para preparar os dados de treinamento e teste\n",
    "def data_prep_class(data, input_size, pred_horizons):\n",
    "    X, y = [], []\n",
    "    for patient_data in data:\n",
    "        for i in range(input_size, len(patient_data) - max(pred_horizons) + 1):\n",
    "            subset = patient_data[i - input_size:i + max(pred_horizons)]\n",
    "            if len(subset) != input_size + max(pred_horizons):\n",
    "                continue\n",
    "            seq_x = subset[:input_size]\n",
    "            seq_y = [1 if val > 140 else 0 for val in subset[-np.array(pred_horizons)]]\n",
    "            X.append(seq_x)\n",
    "            y.append(1 if sum(seq_y) >= 2 else 0)\n",
    "    return np.array(X), np.array(y)\n",
    "\n",
    "# Função para treinar o modelo de classificação\n",
    "def train_model_class(data, input_size, pred_horizons):\n",
    "    X, y = data_prep_class(data, input_size, pred_horizons)\n",
    "\n",
    "    model = create_classification_model(input_size)\n",
    "\n",
    "    early_stopping = tf.keras.callbacks.EarlyStopping(monitor='val_loss', patience=5)\n",
    "\n",
    "    history = model.fit(X, y, epochs=50, batch_size=32, validation_split=0.2, callbacks=[early_stopping])\n",
    "\n",
    "    return model, history\n",
    "\n",
    "# Função para avaliar o modelo de classificação e gerar o plot de cada paciente\n",
    "def test_model_class(model, data, input_size, pred_horizons, threshold=140):\n",
    "    plots_path = 'plots_class_3days'\n",
    "    os.makedirs(plots_path, exist_ok=True)\n",
    "\n",
    "    metrics = {'accuracy': [], 'precision': [], 'recall': [], 'f1_score': [], 'patient_risk': []}\n",
    "\n",
    "    for i, patient_data in enumerate(data):\n",
    "        X, y = data_prep_class([patient_data], input_size, pred_horizons)\n",
    "        y_pred = model.predict(X)\n",
    "        y_pred = np.round(y_pred)\n",
    "\n",
    "        plt.figure()\n",
    "        plt.plot(patient_data, label='Original Series')\n",
    "        plt.axhline(y=threshold, color='r', linestyle='--', label='Threshold')\n",
    "        plt.fill_between(range(len(patient_data)), 0, 200, where=(patient_data > threshold), color='red', alpha=0.3, label='Risk Zone')\n",
    "        plt.legend()\n",
    "\n",
    "        patient_risk = 'At Risk' if sum(y_pred.flatten()) >= 2 else 'Not at Risk'\n",
    "        plt.text(0.05, 0.95, f'Patient {i+1}: {patient_risk}', transform=plt.gca().transAxes, va='top', bbox=dict(boxstyle='round', facecolor='white', alpha=0.5))\n",
    "        \n",
    "        plt.savefig(os.path.join(plots_path, f'patient_{i+1}.png'))\n",
    "        plt.close()\n",
    "\n",
    "        accuracy = accuracy_score(y, y_pred)\n",
    "        precision = precision_score(y, y_pred)\n",
    "        recall = recall_score(y, y_pred)\n",
    "        f1 = f1_score(y, y_pred)\n",
    "\n",
    "        metrics['accuracy'].append(accuracy)\n",
    "        metrics['precision'].append(precision)\n",
    "        metrics['recall'].append(recall)\n",
    "        metrics['f1_score'].append(f1)\n",
    "        metrics['patient_risk'].append(patient_risk)\n",
    "\n",
    "    metrics_path = 'classification_metrics.csv'\n",
    "    with open(metrics_path, 'w', newline='') as csv_file:\n",
    "        writer = csv.writer(csv_file)\n",
    "        writer.writerow(['Patient', 'Accuracy', 'Precision', 'Recall', 'F1 Score', 'Patient Risk'])\n",
    "        for i in range(len(data)):\n",
    "            writer.writerow([i+1, metrics['accuracy'][i], metrics['precision'][i], metrics['recall'][i], metrics['f1_score'][i], metrics['patient_risk'][i]])\n",
    "\n",
    "    print(\"Classification metrics have been calculated and saved to 'classification_metrics.csv'.\")\n",
    "\n",
    "\n"
   ]
  },
  {
   "cell_type": "code",
   "execution_count": 28,
   "metadata": {},
   "outputs": [
    {
     "name": "stdout",
     "output_type": "stream",
     "text": [
      "Epoch 1/50\n",
      "27/27 [==============================] - 1s 17ms/step - loss: 0.7868 - accuracy: 0.9132 - val_loss: 0.1760 - val_accuracy: 0.9769\n",
      "Epoch 2/50\n",
      "27/27 [==============================] - 0s 2ms/step - loss: 0.2430 - accuracy: 0.9491 - val_loss: 0.0791 - val_accuracy: 0.9769\n",
      "Epoch 3/50\n",
      "27/27 [==============================] - 0s 2ms/step - loss: 0.2178 - accuracy: 0.9317 - val_loss: 0.1034 - val_accuracy: 0.9769\n",
      "Epoch 4/50\n",
      "27/27 [==============================] - 0s 2ms/step - loss: 0.2283 - accuracy: 0.9340 - val_loss: 0.1579 - val_accuracy: 0.9769\n",
      "Epoch 5/50\n",
      "27/27 [==============================] - 0s 2ms/step - loss: 0.1753 - accuracy: 0.9375 - val_loss: 0.1708 - val_accuracy: 0.9398\n",
      "Epoch 6/50\n",
      "27/27 [==============================] - 0s 3ms/step - loss: 0.1424 - accuracy: 0.9479 - val_loss: 0.0756 - val_accuracy: 0.9769\n",
      "Epoch 7/50\n",
      "27/27 [==============================] - 0s 2ms/step - loss: 0.1756 - accuracy: 0.9375 - val_loss: 0.0704 - val_accuracy: 0.9769\n",
      "Epoch 8/50\n",
      "27/27 [==============================] - 0s 2ms/step - loss: 0.1926 - accuracy: 0.9294 - val_loss: 0.0765 - val_accuracy: 0.9769\n",
      "Epoch 9/50\n",
      "27/27 [==============================] - 0s 2ms/step - loss: 0.1454 - accuracy: 0.9468 - val_loss: 0.0784 - val_accuracy: 0.9769\n",
      "Epoch 10/50\n",
      "27/27 [==============================] - 0s 2ms/step - loss: 0.1487 - accuracy: 0.9479 - val_loss: 0.0899 - val_accuracy: 0.9769\n",
      "Epoch 11/50\n",
      "27/27 [==============================] - 0s 2ms/step - loss: 0.1551 - accuracy: 0.9444 - val_loss: 0.1014 - val_accuracy: 0.9722\n",
      "Epoch 12/50\n",
      "27/27 [==============================] - 0s 2ms/step - loss: 0.1640 - accuracy: 0.9410 - val_loss: 0.1154 - val_accuracy: 0.9769\n",
      "1/1 [==============================] - 0s 73ms/step\n",
      "1/1 [==============================] - 0s 22ms/step\n",
      "1/1 [==============================] - 0s 22ms/step\n"
     ]
    },
    {
     "name": "stderr",
     "output_type": "stream",
     "text": [
      "/Users/rsaraiva/opt/anaconda3/envs/POWER/lib/python3.10/site-packages/sklearn/metrics/_classification.py:1344: UndefinedMetricWarning: Precision is ill-defined and being set to 0.0 due to no predicted samples. Use `zero_division` parameter to control this behavior.\n",
      "  _warn_prf(average, modifier, msg_start, len(result))\n",
      "/Users/rsaraiva/opt/anaconda3/envs/POWER/lib/python3.10/site-packages/sklearn/metrics/_classification.py:1344: UndefinedMetricWarning: Recall is ill-defined and being set to 0.0 due to no true samples. Use `zero_division` parameter to control this behavior.\n",
      "  _warn_prf(average, modifier, msg_start, len(result))\n",
      "/Users/rsaraiva/opt/anaconda3/envs/POWER/lib/python3.10/site-packages/sklearn/metrics/_classification.py:1609: UndefinedMetricWarning: F-score is ill-defined and being set to 0.0 due to no true nor predicted samples. Use `zero_division` parameter to control this behavior.\n",
      "  _warn_prf(average, \"true nor predicted\", \"F-score is\", len(true_sum))\n",
      "/Users/rsaraiva/opt/anaconda3/envs/POWER/lib/python3.10/site-packages/sklearn/metrics/_classification.py:1344: UndefinedMetricWarning: Precision is ill-defined and being set to 0.0 due to no predicted samples. Use `zero_division` parameter to control this behavior.\n",
      "  _warn_prf(average, modifier, msg_start, len(result))\n",
      "/Users/rsaraiva/opt/anaconda3/envs/POWER/lib/python3.10/site-packages/sklearn/metrics/_classification.py:1344: UndefinedMetricWarning: Recall is ill-defined and being set to 0.0 due to no true samples. Use `zero_division` parameter to control this behavior.\n",
      "  _warn_prf(average, modifier, msg_start, len(result))\n",
      "/Users/rsaraiva/opt/anaconda3/envs/POWER/lib/python3.10/site-packages/sklearn/metrics/_classification.py:1609: UndefinedMetricWarning: F-score is ill-defined and being set to 0.0 due to no true nor predicted samples. Use `zero_division` parameter to control this behavior.\n",
      "  _warn_prf(average, \"true nor predicted\", \"F-score is\", len(true_sum))\n"
     ]
    },
    {
     "name": "stdout",
     "output_type": "stream",
     "text": [
      "1/1 [==============================] - 0s 24ms/step\n",
      "1/1 [==============================] - 0s 24ms/step\n"
     ]
    },
    {
     "name": "stderr",
     "output_type": "stream",
     "text": [
      "/Users/rsaraiva/opt/anaconda3/envs/POWER/lib/python3.10/site-packages/sklearn/metrics/_classification.py:1344: UndefinedMetricWarning: Precision is ill-defined and being set to 0.0 due to no predicted samples. Use `zero_division` parameter to control this behavior.\n",
      "  _warn_prf(average, modifier, msg_start, len(result))\n",
      "/Users/rsaraiva/opt/anaconda3/envs/POWER/lib/python3.10/site-packages/sklearn/metrics/_classification.py:1344: UndefinedMetricWarning: Recall is ill-defined and being set to 0.0 due to no true samples. Use `zero_division` parameter to control this behavior.\n",
      "  _warn_prf(average, modifier, msg_start, len(result))\n",
      "/Users/rsaraiva/opt/anaconda3/envs/POWER/lib/python3.10/site-packages/sklearn/metrics/_classification.py:1609: UndefinedMetricWarning: F-score is ill-defined and being set to 0.0 due to no true nor predicted samples. Use `zero_division` parameter to control this behavior.\n",
      "  _warn_prf(average, \"true nor predicted\", \"F-score is\", len(true_sum))\n",
      "/Users/rsaraiva/opt/anaconda3/envs/POWER/lib/python3.10/site-packages/sklearn/metrics/_classification.py:1344: UndefinedMetricWarning: Precision is ill-defined and being set to 0.0 due to no predicted samples. Use `zero_division` parameter to control this behavior.\n",
      "  _warn_prf(average, modifier, msg_start, len(result))\n",
      "/Users/rsaraiva/opt/anaconda3/envs/POWER/lib/python3.10/site-packages/sklearn/metrics/_classification.py:1344: UndefinedMetricWarning: Recall is ill-defined and being set to 0.0 due to no true samples. Use `zero_division` parameter to control this behavior.\n",
      "  _warn_prf(average, modifier, msg_start, len(result))\n",
      "/Users/rsaraiva/opt/anaconda3/envs/POWER/lib/python3.10/site-packages/sklearn/metrics/_classification.py:1609: UndefinedMetricWarning: F-score is ill-defined and being set to 0.0 due to no true nor predicted samples. Use `zero_division` parameter to control this behavior.\n",
      "  _warn_prf(average, \"true nor predicted\", \"F-score is\", len(true_sum))\n"
     ]
    },
    {
     "name": "stdout",
     "output_type": "stream",
     "text": [
      "1/1 [==============================] - 0s 23ms/step\n",
      "1/1 [==============================] - 0s 24ms/step\n"
     ]
    },
    {
     "name": "stderr",
     "output_type": "stream",
     "text": [
      "/Users/rsaraiva/opt/anaconda3/envs/POWER/lib/python3.10/site-packages/sklearn/metrics/_classification.py:1344: UndefinedMetricWarning: Precision is ill-defined and being set to 0.0 due to no predicted samples. Use `zero_division` parameter to control this behavior.\n",
      "  _warn_prf(average, modifier, msg_start, len(result))\n",
      "/Users/rsaraiva/opt/anaconda3/envs/POWER/lib/python3.10/site-packages/sklearn/metrics/_classification.py:1344: UndefinedMetricWarning: Recall is ill-defined and being set to 0.0 due to no true samples. Use `zero_division` parameter to control this behavior.\n",
      "  _warn_prf(average, modifier, msg_start, len(result))\n",
      "/Users/rsaraiva/opt/anaconda3/envs/POWER/lib/python3.10/site-packages/sklearn/metrics/_classification.py:1609: UndefinedMetricWarning: F-score is ill-defined and being set to 0.0 due to no true nor predicted samples. Use `zero_division` parameter to control this behavior.\n",
      "  _warn_prf(average, \"true nor predicted\", \"F-score is\", len(true_sum))\n",
      "/Users/rsaraiva/opt/anaconda3/envs/POWER/lib/python3.10/site-packages/sklearn/metrics/_classification.py:1344: UndefinedMetricWarning: Precision is ill-defined and being set to 0.0 due to no predicted samples. Use `zero_division` parameter to control this behavior.\n",
      "  _warn_prf(average, modifier, msg_start, len(result))\n",
      "/Users/rsaraiva/opt/anaconda3/envs/POWER/lib/python3.10/site-packages/sklearn/metrics/_classification.py:1344: UndefinedMetricWarning: Recall is ill-defined and being set to 0.0 due to no true samples. Use `zero_division` parameter to control this behavior.\n",
      "  _warn_prf(average, modifier, msg_start, len(result))\n",
      "/Users/rsaraiva/opt/anaconda3/envs/POWER/lib/python3.10/site-packages/sklearn/metrics/_classification.py:1609: UndefinedMetricWarning: F-score is ill-defined and being set to 0.0 due to no true nor predicted samples. Use `zero_division` parameter to control this behavior.\n",
      "  _warn_prf(average, \"true nor predicted\", \"F-score is\", len(true_sum))\n"
     ]
    },
    {
     "name": "stdout",
     "output_type": "stream",
     "text": [
      "1/1 [==============================] - 0s 24ms/step\n"
     ]
    },
    {
     "name": "stderr",
     "output_type": "stream",
     "text": [
      "/Users/rsaraiva/opt/anaconda3/envs/POWER/lib/python3.10/site-packages/sklearn/metrics/_classification.py:1344: UndefinedMetricWarning: Precision is ill-defined and being set to 0.0 due to no predicted samples. Use `zero_division` parameter to control this behavior.\n",
      "  _warn_prf(average, modifier, msg_start, len(result))\n",
      "/Users/rsaraiva/opt/anaconda3/envs/POWER/lib/python3.10/site-packages/sklearn/metrics/_classification.py:1344: UndefinedMetricWarning: Recall is ill-defined and being set to 0.0 due to no true samples. Use `zero_division` parameter to control this behavior.\n",
      "  _warn_prf(average, modifier, msg_start, len(result))\n",
      "/Users/rsaraiva/opt/anaconda3/envs/POWER/lib/python3.10/site-packages/sklearn/metrics/_classification.py:1609: UndefinedMetricWarning: F-score is ill-defined and being set to 0.0 due to no true nor predicted samples. Use `zero_division` parameter to control this behavior.\n",
      "  _warn_prf(average, \"true nor predicted\", \"F-score is\", len(true_sum))\n",
      "/Users/rsaraiva/opt/anaconda3/envs/POWER/lib/python3.10/site-packages/sklearn/metrics/_classification.py:1344: UndefinedMetricWarning: Precision is ill-defined and being set to 0.0 due to no predicted samples. Use `zero_division` parameter to control this behavior.\n",
      "  _warn_prf(average, modifier, msg_start, len(result))\n",
      "/Users/rsaraiva/opt/anaconda3/envs/POWER/lib/python3.10/site-packages/sklearn/metrics/_classification.py:1344: UndefinedMetricWarning: Recall is ill-defined and being set to 0.0 due to no true samples. Use `zero_division` parameter to control this behavior.\n",
      "  _warn_prf(average, modifier, msg_start, len(result))\n",
      "/Users/rsaraiva/opt/anaconda3/envs/POWER/lib/python3.10/site-packages/sklearn/metrics/_classification.py:1609: UndefinedMetricWarning: F-score is ill-defined and being set to 0.0 due to no true nor predicted samples. Use `zero_division` parameter to control this behavior.\n",
      "  _warn_prf(average, \"true nor predicted\", \"F-score is\", len(true_sum))\n"
     ]
    },
    {
     "name": "stdout",
     "output_type": "stream",
     "text": [
      "1/1 [==============================] - 0s 29ms/step\n",
      "1/1 [==============================] - 0s 22ms/step\n",
      "1/1 [==============================] - 0s 23ms/step\n"
     ]
    },
    {
     "name": "stderr",
     "output_type": "stream",
     "text": [
      "/Users/rsaraiva/opt/anaconda3/envs/POWER/lib/python3.10/site-packages/sklearn/metrics/_classification.py:1344: UndefinedMetricWarning: Precision is ill-defined and being set to 0.0 due to no predicted samples. Use `zero_division` parameter to control this behavior.\n",
      "  _warn_prf(average, modifier, msg_start, len(result))\n",
      "/Users/rsaraiva/opt/anaconda3/envs/POWER/lib/python3.10/site-packages/sklearn/metrics/_classification.py:1344: UndefinedMetricWarning: Recall is ill-defined and being set to 0.0 due to no true samples. Use `zero_division` parameter to control this behavior.\n",
      "  _warn_prf(average, modifier, msg_start, len(result))\n",
      "/Users/rsaraiva/opt/anaconda3/envs/POWER/lib/python3.10/site-packages/sklearn/metrics/_classification.py:1609: UndefinedMetricWarning: F-score is ill-defined and being set to 0.0 due to no true nor predicted samples. Use `zero_division` parameter to control this behavior.\n",
      "  _warn_prf(average, \"true nor predicted\", \"F-score is\", len(true_sum))\n",
      "/Users/rsaraiva/opt/anaconda3/envs/POWER/lib/python3.10/site-packages/sklearn/metrics/_classification.py:1344: UndefinedMetricWarning: Precision is ill-defined and being set to 0.0 due to no predicted samples. Use `zero_division` parameter to control this behavior.\n",
      "  _warn_prf(average, modifier, msg_start, len(result))\n",
      "/Users/rsaraiva/opt/anaconda3/envs/POWER/lib/python3.10/site-packages/sklearn/metrics/_classification.py:1344: UndefinedMetricWarning: Recall is ill-defined and being set to 0.0 due to no true samples. Use `zero_division` parameter to control this behavior.\n",
      "  _warn_prf(average, modifier, msg_start, len(result))\n",
      "/Users/rsaraiva/opt/anaconda3/envs/POWER/lib/python3.10/site-packages/sklearn/metrics/_classification.py:1609: UndefinedMetricWarning: F-score is ill-defined and being set to 0.0 due to no true nor predicted samples. Use `zero_division` parameter to control this behavior.\n",
      "  _warn_prf(average, \"true nor predicted\", \"F-score is\", len(true_sum))\n"
     ]
    },
    {
     "name": "stdout",
     "output_type": "stream",
     "text": [
      "1/1 [==============================] - 0s 25ms/step\n"
     ]
    },
    {
     "name": "stderr",
     "output_type": "stream",
     "text": [
      "/Users/rsaraiva/opt/anaconda3/envs/POWER/lib/python3.10/site-packages/sklearn/metrics/_classification.py:1344: UndefinedMetricWarning: Precision is ill-defined and being set to 0.0 due to no predicted samples. Use `zero_division` parameter to control this behavior.\n",
      "  _warn_prf(average, modifier, msg_start, len(result))\n",
      "/Users/rsaraiva/opt/anaconda3/envs/POWER/lib/python3.10/site-packages/sklearn/metrics/_classification.py:1344: UndefinedMetricWarning: Recall is ill-defined and being set to 0.0 due to no true samples. Use `zero_division` parameter to control this behavior.\n",
      "  _warn_prf(average, modifier, msg_start, len(result))\n",
      "/Users/rsaraiva/opt/anaconda3/envs/POWER/lib/python3.10/site-packages/sklearn/metrics/_classification.py:1609: UndefinedMetricWarning: F-score is ill-defined and being set to 0.0 due to no true nor predicted samples. Use `zero_division` parameter to control this behavior.\n",
      "  _warn_prf(average, \"true nor predicted\", \"F-score is\", len(true_sum))\n",
      "/Users/rsaraiva/opt/anaconda3/envs/POWER/lib/python3.10/site-packages/sklearn/metrics/_classification.py:1344: UndefinedMetricWarning: Precision is ill-defined and being set to 0.0 due to no predicted samples. Use `zero_division` parameter to control this behavior.\n",
      "  _warn_prf(average, modifier, msg_start, len(result))\n",
      "/Users/rsaraiva/opt/anaconda3/envs/POWER/lib/python3.10/site-packages/sklearn/metrics/_classification.py:1344: UndefinedMetricWarning: Recall is ill-defined and being set to 0.0 due to no true samples. Use `zero_division` parameter to control this behavior.\n",
      "  _warn_prf(average, modifier, msg_start, len(result))\n",
      "/Users/rsaraiva/opt/anaconda3/envs/POWER/lib/python3.10/site-packages/sklearn/metrics/_classification.py:1609: UndefinedMetricWarning: F-score is ill-defined and being set to 0.0 due to no true nor predicted samples. Use `zero_division` parameter to control this behavior.\n",
      "  _warn_prf(average, \"true nor predicted\", \"F-score is\", len(true_sum))\n"
     ]
    },
    {
     "name": "stdout",
     "output_type": "stream",
     "text": [
      "1/1 [==============================] - 0s 26ms/step\n",
      "1/1 [==============================] - 0s 23ms/step\n",
      "1/1 [==============================] - 0s 22ms/step\n"
     ]
    },
    {
     "name": "stderr",
     "output_type": "stream",
     "text": [
      "/Users/rsaraiva/opt/anaconda3/envs/POWER/lib/python3.10/site-packages/sklearn/metrics/_classification.py:1344: UndefinedMetricWarning: Precision is ill-defined and being set to 0.0 due to no predicted samples. Use `zero_division` parameter to control this behavior.\n",
      "  _warn_prf(average, modifier, msg_start, len(result))\n",
      "/Users/rsaraiva/opt/anaconda3/envs/POWER/lib/python3.10/site-packages/sklearn/metrics/_classification.py:1344: UndefinedMetricWarning: Recall is ill-defined and being set to 0.0 due to no true samples. Use `zero_division` parameter to control this behavior.\n",
      "  _warn_prf(average, modifier, msg_start, len(result))\n",
      "/Users/rsaraiva/opt/anaconda3/envs/POWER/lib/python3.10/site-packages/sklearn/metrics/_classification.py:1609: UndefinedMetricWarning: F-score is ill-defined and being set to 0.0 due to no true nor predicted samples. Use `zero_division` parameter to control this behavior.\n",
      "  _warn_prf(average, \"true nor predicted\", \"F-score is\", len(true_sum))\n",
      "/Users/rsaraiva/opt/anaconda3/envs/POWER/lib/python3.10/site-packages/sklearn/metrics/_classification.py:1344: UndefinedMetricWarning: Precision is ill-defined and being set to 0.0 due to no predicted samples. Use `zero_division` parameter to control this behavior.\n",
      "  _warn_prf(average, modifier, msg_start, len(result))\n",
      "/Users/rsaraiva/opt/anaconda3/envs/POWER/lib/python3.10/site-packages/sklearn/metrics/_classification.py:1344: UndefinedMetricWarning: Recall is ill-defined and being set to 0.0 due to no true samples. Use `zero_division` parameter to control this behavior.\n",
      "  _warn_prf(average, modifier, msg_start, len(result))\n",
      "/Users/rsaraiva/opt/anaconda3/envs/POWER/lib/python3.10/site-packages/sklearn/metrics/_classification.py:1609: UndefinedMetricWarning: F-score is ill-defined and being set to 0.0 due to no true nor predicted samples. Use `zero_division` parameter to control this behavior.\n",
      "  _warn_prf(average, \"true nor predicted\", \"F-score is\", len(true_sum))\n"
     ]
    },
    {
     "name": "stdout",
     "output_type": "stream",
     "text": [
      "1/1 [==============================] - 0s 24ms/step\n",
      "1/1 [==============================] - 0s 24ms/step\n"
     ]
    },
    {
     "name": "stderr",
     "output_type": "stream",
     "text": [
      "/Users/rsaraiva/opt/anaconda3/envs/POWER/lib/python3.10/site-packages/sklearn/metrics/_classification.py:1344: UndefinedMetricWarning: Precision is ill-defined and being set to 0.0 due to no predicted samples. Use `zero_division` parameter to control this behavior.\n",
      "  _warn_prf(average, modifier, msg_start, len(result))\n",
      "/Users/rsaraiva/opt/anaconda3/envs/POWER/lib/python3.10/site-packages/sklearn/metrics/_classification.py:1344: UndefinedMetricWarning: Recall is ill-defined and being set to 0.0 due to no true samples. Use `zero_division` parameter to control this behavior.\n",
      "  _warn_prf(average, modifier, msg_start, len(result))\n",
      "/Users/rsaraiva/opt/anaconda3/envs/POWER/lib/python3.10/site-packages/sklearn/metrics/_classification.py:1609: UndefinedMetricWarning: F-score is ill-defined and being set to 0.0 due to no true nor predicted samples. Use `zero_division` parameter to control this behavior.\n",
      "  _warn_prf(average, \"true nor predicted\", \"F-score is\", len(true_sum))\n",
      "/Users/rsaraiva/opt/anaconda3/envs/POWER/lib/python3.10/site-packages/sklearn/metrics/_classification.py:1344: UndefinedMetricWarning: Precision is ill-defined and being set to 0.0 due to no predicted samples. Use `zero_division` parameter to control this behavior.\n",
      "  _warn_prf(average, modifier, msg_start, len(result))\n",
      "/Users/rsaraiva/opt/anaconda3/envs/POWER/lib/python3.10/site-packages/sklearn/metrics/_classification.py:1344: UndefinedMetricWarning: Recall is ill-defined and being set to 0.0 due to no true samples. Use `zero_division` parameter to control this behavior.\n",
      "  _warn_prf(average, modifier, msg_start, len(result))\n",
      "/Users/rsaraiva/opt/anaconda3/envs/POWER/lib/python3.10/site-packages/sklearn/metrics/_classification.py:1609: UndefinedMetricWarning: F-score is ill-defined and being set to 0.0 due to no true nor predicted samples. Use `zero_division` parameter to control this behavior.\n",
      "  _warn_prf(average, \"true nor predicted\", \"F-score is\", len(true_sum))\n"
     ]
    },
    {
     "name": "stdout",
     "output_type": "stream",
     "text": [
      "1/1 [==============================] - 0s 24ms/step\n",
      "1/1 [==============================] - 0s 22ms/step\n"
     ]
    },
    {
     "name": "stderr",
     "output_type": "stream",
     "text": [
      "/Users/rsaraiva/opt/anaconda3/envs/POWER/lib/python3.10/site-packages/sklearn/metrics/_classification.py:1344: UndefinedMetricWarning: Precision is ill-defined and being set to 0.0 due to no predicted samples. Use `zero_division` parameter to control this behavior.\n",
      "  _warn_prf(average, modifier, msg_start, len(result))\n",
      "/Users/rsaraiva/opt/anaconda3/envs/POWER/lib/python3.10/site-packages/sklearn/metrics/_classification.py:1344: UndefinedMetricWarning: Recall is ill-defined and being set to 0.0 due to no true samples. Use `zero_division` parameter to control this behavior.\n",
      "  _warn_prf(average, modifier, msg_start, len(result))\n",
      "/Users/rsaraiva/opt/anaconda3/envs/POWER/lib/python3.10/site-packages/sklearn/metrics/_classification.py:1609: UndefinedMetricWarning: F-score is ill-defined and being set to 0.0 due to no true nor predicted samples. Use `zero_division` parameter to control this behavior.\n",
      "  _warn_prf(average, \"true nor predicted\", \"F-score is\", len(true_sum))\n",
      "/Users/rsaraiva/opt/anaconda3/envs/POWER/lib/python3.10/site-packages/sklearn/metrics/_classification.py:1344: UndefinedMetricWarning: Precision is ill-defined and being set to 0.0 due to no predicted samples. Use `zero_division` parameter to control this behavior.\n",
      "  _warn_prf(average, modifier, msg_start, len(result))\n",
      "/Users/rsaraiva/opt/anaconda3/envs/POWER/lib/python3.10/site-packages/sklearn/metrics/_classification.py:1344: UndefinedMetricWarning: Recall is ill-defined and being set to 0.0 due to no true samples. Use `zero_division` parameter to control this behavior.\n",
      "  _warn_prf(average, modifier, msg_start, len(result))\n",
      "/Users/rsaraiva/opt/anaconda3/envs/POWER/lib/python3.10/site-packages/sklearn/metrics/_classification.py:1609: UndefinedMetricWarning: F-score is ill-defined and being set to 0.0 due to no true nor predicted samples. Use `zero_division` parameter to control this behavior.\n",
      "  _warn_prf(average, \"true nor predicted\", \"F-score is\", len(true_sum))\n"
     ]
    },
    {
     "name": "stdout",
     "output_type": "stream",
     "text": [
      "1/1 [==============================] - 0s 23ms/step\n",
      "1/1 [==============================] - 0s 25ms/step\n"
     ]
    },
    {
     "name": "stderr",
     "output_type": "stream",
     "text": [
      "/Users/rsaraiva/opt/anaconda3/envs/POWER/lib/python3.10/site-packages/sklearn/metrics/_classification.py:1344: UndefinedMetricWarning: Precision is ill-defined and being set to 0.0 due to no predicted samples. Use `zero_division` parameter to control this behavior.\n",
      "  _warn_prf(average, modifier, msg_start, len(result))\n",
      "/Users/rsaraiva/opt/anaconda3/envs/POWER/lib/python3.10/site-packages/sklearn/metrics/_classification.py:1344: UndefinedMetricWarning: Recall is ill-defined and being set to 0.0 due to no true samples. Use `zero_division` parameter to control this behavior.\n",
      "  _warn_prf(average, modifier, msg_start, len(result))\n",
      "/Users/rsaraiva/opt/anaconda3/envs/POWER/lib/python3.10/site-packages/sklearn/metrics/_classification.py:1609: UndefinedMetricWarning: F-score is ill-defined and being set to 0.0 due to no true nor predicted samples. Use `zero_division` parameter to control this behavior.\n",
      "  _warn_prf(average, \"true nor predicted\", \"F-score is\", len(true_sum))\n",
      "/Users/rsaraiva/opt/anaconda3/envs/POWER/lib/python3.10/site-packages/sklearn/metrics/_classification.py:1344: UndefinedMetricWarning: Precision is ill-defined and being set to 0.0 due to no predicted samples. Use `zero_division` parameter to control this behavior.\n",
      "  _warn_prf(average, modifier, msg_start, len(result))\n",
      "/Users/rsaraiva/opt/anaconda3/envs/POWER/lib/python3.10/site-packages/sklearn/metrics/_classification.py:1344: UndefinedMetricWarning: Recall is ill-defined and being set to 0.0 due to no true samples. Use `zero_division` parameter to control this behavior.\n",
      "  _warn_prf(average, modifier, msg_start, len(result))\n",
      "/Users/rsaraiva/opt/anaconda3/envs/POWER/lib/python3.10/site-packages/sklearn/metrics/_classification.py:1609: UndefinedMetricWarning: F-score is ill-defined and being set to 0.0 due to no true nor predicted samples. Use `zero_division` parameter to control this behavior.\n",
      "  _warn_prf(average, \"true nor predicted\", \"F-score is\", len(true_sum))\n"
     ]
    },
    {
     "name": "stdout",
     "output_type": "stream",
     "text": [
      "1/1 [==============================] - 0s 23ms/step\n",
      "1/1 [==============================] - 0s 25ms/step\n"
     ]
    },
    {
     "name": "stderr",
     "output_type": "stream",
     "text": [
      "/Users/rsaraiva/opt/anaconda3/envs/POWER/lib/python3.10/site-packages/sklearn/metrics/_classification.py:1344: UndefinedMetricWarning: Precision is ill-defined and being set to 0.0 due to no predicted samples. Use `zero_division` parameter to control this behavior.\n",
      "  _warn_prf(average, modifier, msg_start, len(result))\n",
      "/Users/rsaraiva/opt/anaconda3/envs/POWER/lib/python3.10/site-packages/sklearn/metrics/_classification.py:1344: UndefinedMetricWarning: Recall is ill-defined and being set to 0.0 due to no true samples. Use `zero_division` parameter to control this behavior.\n",
      "  _warn_prf(average, modifier, msg_start, len(result))\n",
      "/Users/rsaraiva/opt/anaconda3/envs/POWER/lib/python3.10/site-packages/sklearn/metrics/_classification.py:1609: UndefinedMetricWarning: F-score is ill-defined and being set to 0.0 due to no true nor predicted samples. Use `zero_division` parameter to control this behavior.\n",
      "  _warn_prf(average, \"true nor predicted\", \"F-score is\", len(true_sum))\n",
      "/Users/rsaraiva/opt/anaconda3/envs/POWER/lib/python3.10/site-packages/sklearn/metrics/_classification.py:1344: UndefinedMetricWarning: Precision is ill-defined and being set to 0.0 due to no predicted samples. Use `zero_division` parameter to control this behavior.\n",
      "  _warn_prf(average, modifier, msg_start, len(result))\n",
      "/Users/rsaraiva/opt/anaconda3/envs/POWER/lib/python3.10/site-packages/sklearn/metrics/_classification.py:1344: UndefinedMetricWarning: Recall is ill-defined and being set to 0.0 due to no true samples. Use `zero_division` parameter to control this behavior.\n",
      "  _warn_prf(average, modifier, msg_start, len(result))\n",
      "/Users/rsaraiva/opt/anaconda3/envs/POWER/lib/python3.10/site-packages/sklearn/metrics/_classification.py:1609: UndefinedMetricWarning: F-score is ill-defined and being set to 0.0 due to no true nor predicted samples. Use `zero_division` parameter to control this behavior.\n",
      "  _warn_prf(average, \"true nor predicted\", \"F-score is\", len(true_sum))\n"
     ]
    },
    {
     "name": "stdout",
     "output_type": "stream",
     "text": [
      "1/1 [==============================] - 0s 26ms/step\n"
     ]
    },
    {
     "name": "stderr",
     "output_type": "stream",
     "text": [
      "/Users/rsaraiva/opt/anaconda3/envs/POWER/lib/python3.10/site-packages/sklearn/metrics/_classification.py:1344: UndefinedMetricWarning: Precision is ill-defined and being set to 0.0 due to no predicted samples. Use `zero_division` parameter to control this behavior.\n",
      "  _warn_prf(average, modifier, msg_start, len(result))\n",
      "/Users/rsaraiva/opt/anaconda3/envs/POWER/lib/python3.10/site-packages/sklearn/metrics/_classification.py:1344: UndefinedMetricWarning: Recall is ill-defined and being set to 0.0 due to no true samples. Use `zero_division` parameter to control this behavior.\n",
      "  _warn_prf(average, modifier, msg_start, len(result))\n",
      "/Users/rsaraiva/opt/anaconda3/envs/POWER/lib/python3.10/site-packages/sklearn/metrics/_classification.py:1609: UndefinedMetricWarning: F-score is ill-defined and being set to 0.0 due to no true nor predicted samples. Use `zero_division` parameter to control this behavior.\n",
      "  _warn_prf(average, \"true nor predicted\", \"F-score is\", len(true_sum))\n",
      "/Users/rsaraiva/opt/anaconda3/envs/POWER/lib/python3.10/site-packages/sklearn/metrics/_classification.py:1344: UndefinedMetricWarning: Precision is ill-defined and being set to 0.0 due to no predicted samples. Use `zero_division` parameter to control this behavior.\n",
      "  _warn_prf(average, modifier, msg_start, len(result))\n",
      "/Users/rsaraiva/opt/anaconda3/envs/POWER/lib/python3.10/site-packages/sklearn/metrics/_classification.py:1344: UndefinedMetricWarning: Recall is ill-defined and being set to 0.0 due to no true samples. Use `zero_division` parameter to control this behavior.\n",
      "  _warn_prf(average, modifier, msg_start, len(result))\n",
      "/Users/rsaraiva/opt/anaconda3/envs/POWER/lib/python3.10/site-packages/sklearn/metrics/_classification.py:1609: UndefinedMetricWarning: F-score is ill-defined and being set to 0.0 due to no true nor predicted samples. Use `zero_division` parameter to control this behavior.\n",
      "  _warn_prf(average, \"true nor predicted\", \"F-score is\", len(true_sum))\n"
     ]
    },
    {
     "name": "stdout",
     "output_type": "stream",
     "text": [
      "1/1 [==============================] - 0s 24ms/step\n",
      "1/1 [==============================] - 0s 23ms/step\n",
      "1/1 [==============================] - 0s 24ms/step\n"
     ]
    },
    {
     "name": "stderr",
     "output_type": "stream",
     "text": [
      "/Users/rsaraiva/opt/anaconda3/envs/POWER/lib/python3.10/site-packages/sklearn/metrics/_classification.py:1344: UndefinedMetricWarning: Precision is ill-defined and being set to 0.0 due to no predicted samples. Use `zero_division` parameter to control this behavior.\n",
      "  _warn_prf(average, modifier, msg_start, len(result))\n",
      "/Users/rsaraiva/opt/anaconda3/envs/POWER/lib/python3.10/site-packages/sklearn/metrics/_classification.py:1344: UndefinedMetricWarning: Recall is ill-defined and being set to 0.0 due to no true samples. Use `zero_division` parameter to control this behavior.\n",
      "  _warn_prf(average, modifier, msg_start, len(result))\n",
      "/Users/rsaraiva/opt/anaconda3/envs/POWER/lib/python3.10/site-packages/sklearn/metrics/_classification.py:1609: UndefinedMetricWarning: F-score is ill-defined and being set to 0.0 due to no true nor predicted samples. Use `zero_division` parameter to control this behavior.\n",
      "  _warn_prf(average, \"true nor predicted\", \"F-score is\", len(true_sum))\n",
      "/Users/rsaraiva/opt/anaconda3/envs/POWER/lib/python3.10/site-packages/sklearn/metrics/_classification.py:1344: UndefinedMetricWarning: Precision is ill-defined and being set to 0.0 due to no predicted samples. Use `zero_division` parameter to control this behavior.\n",
      "  _warn_prf(average, modifier, msg_start, len(result))\n",
      "/Users/rsaraiva/opt/anaconda3/envs/POWER/lib/python3.10/site-packages/sklearn/metrics/_classification.py:1344: UndefinedMetricWarning: Recall is ill-defined and being set to 0.0 due to no true samples. Use `zero_division` parameter to control this behavior.\n",
      "  _warn_prf(average, modifier, msg_start, len(result))\n",
      "/Users/rsaraiva/opt/anaconda3/envs/POWER/lib/python3.10/site-packages/sklearn/metrics/_classification.py:1609: UndefinedMetricWarning: F-score is ill-defined and being set to 0.0 due to no true nor predicted samples. Use `zero_division` parameter to control this behavior.\n",
      "  _warn_prf(average, \"true nor predicted\", \"F-score is\", len(true_sum))\n"
     ]
    },
    {
     "name": "stdout",
     "output_type": "stream",
     "text": [
      "1/1 [==============================] - 0s 24ms/step\n",
      "1/1 [==============================] - 0s 24ms/step\n"
     ]
    },
    {
     "name": "stderr",
     "output_type": "stream",
     "text": [
      "/Users/rsaraiva/opt/anaconda3/envs/POWER/lib/python3.10/site-packages/sklearn/metrics/_classification.py:1344: UndefinedMetricWarning: Precision is ill-defined and being set to 0.0 due to no predicted samples. Use `zero_division` parameter to control this behavior.\n",
      "  _warn_prf(average, modifier, msg_start, len(result))\n",
      "/Users/rsaraiva/opt/anaconda3/envs/POWER/lib/python3.10/site-packages/sklearn/metrics/_classification.py:1344: UndefinedMetricWarning: Recall is ill-defined and being set to 0.0 due to no true samples. Use `zero_division` parameter to control this behavior.\n",
      "  _warn_prf(average, modifier, msg_start, len(result))\n",
      "/Users/rsaraiva/opt/anaconda3/envs/POWER/lib/python3.10/site-packages/sklearn/metrics/_classification.py:1609: UndefinedMetricWarning: F-score is ill-defined and being set to 0.0 due to no true nor predicted samples. Use `zero_division` parameter to control this behavior.\n",
      "  _warn_prf(average, \"true nor predicted\", \"F-score is\", len(true_sum))\n",
      "/Users/rsaraiva/opt/anaconda3/envs/POWER/lib/python3.10/site-packages/sklearn/metrics/_classification.py:1344: UndefinedMetricWarning: Precision is ill-defined and being set to 0.0 due to no predicted samples. Use `zero_division` parameter to control this behavior.\n",
      "  _warn_prf(average, modifier, msg_start, len(result))\n",
      "/Users/rsaraiva/opt/anaconda3/envs/POWER/lib/python3.10/site-packages/sklearn/metrics/_classification.py:1344: UndefinedMetricWarning: Recall is ill-defined and being set to 0.0 due to no true samples. Use `zero_division` parameter to control this behavior.\n",
      "  _warn_prf(average, modifier, msg_start, len(result))\n",
      "/Users/rsaraiva/opt/anaconda3/envs/POWER/lib/python3.10/site-packages/sklearn/metrics/_classification.py:1609: UndefinedMetricWarning: F-score is ill-defined and being set to 0.0 due to no true nor predicted samples. Use `zero_division` parameter to control this behavior.\n",
      "  _warn_prf(average, \"true nor predicted\", \"F-score is\", len(true_sum))\n"
     ]
    },
    {
     "name": "stdout",
     "output_type": "stream",
     "text": [
      "1/1 [==============================] - 0s 22ms/step\n",
      "1/1 [==============================] - 0s 22ms/step\n"
     ]
    },
    {
     "name": "stderr",
     "output_type": "stream",
     "text": [
      "/Users/rsaraiva/opt/anaconda3/envs/POWER/lib/python3.10/site-packages/sklearn/metrics/_classification.py:1344: UndefinedMetricWarning: Precision is ill-defined and being set to 0.0 due to no predicted samples. Use `zero_division` parameter to control this behavior.\n",
      "  _warn_prf(average, modifier, msg_start, len(result))\n",
      "/Users/rsaraiva/opt/anaconda3/envs/POWER/lib/python3.10/site-packages/sklearn/metrics/_classification.py:1344: UndefinedMetricWarning: Recall is ill-defined and being set to 0.0 due to no true samples. Use `zero_division` parameter to control this behavior.\n",
      "  _warn_prf(average, modifier, msg_start, len(result))\n",
      "/Users/rsaraiva/opt/anaconda3/envs/POWER/lib/python3.10/site-packages/sklearn/metrics/_classification.py:1609: UndefinedMetricWarning: F-score is ill-defined and being set to 0.0 due to no true nor predicted samples. Use `zero_division` parameter to control this behavior.\n",
      "  _warn_prf(average, \"true nor predicted\", \"F-score is\", len(true_sum))\n",
      "/Users/rsaraiva/opt/anaconda3/envs/POWER/lib/python3.10/site-packages/sklearn/metrics/_classification.py:1344: UndefinedMetricWarning: Precision is ill-defined and being set to 0.0 due to no predicted samples. Use `zero_division` parameter to control this behavior.\n",
      "  _warn_prf(average, modifier, msg_start, len(result))\n",
      "/Users/rsaraiva/opt/anaconda3/envs/POWER/lib/python3.10/site-packages/sklearn/metrics/_classification.py:1344: UndefinedMetricWarning: Recall is ill-defined and being set to 0.0 due to no true samples. Use `zero_division` parameter to control this behavior.\n",
      "  _warn_prf(average, modifier, msg_start, len(result))\n",
      "/Users/rsaraiva/opt/anaconda3/envs/POWER/lib/python3.10/site-packages/sklearn/metrics/_classification.py:1609: UndefinedMetricWarning: F-score is ill-defined and being set to 0.0 due to no true nor predicted samples. Use `zero_division` parameter to control this behavior.\n",
      "  _warn_prf(average, \"true nor predicted\", \"F-score is\", len(true_sum))\n"
     ]
    },
    {
     "name": "stdout",
     "output_type": "stream",
     "text": [
      "1/1 [==============================] - 0s 23ms/step\n",
      "1/1 [==============================] - 0s 23ms/step\n"
     ]
    },
    {
     "name": "stderr",
     "output_type": "stream",
     "text": [
      "/Users/rsaraiva/opt/anaconda3/envs/POWER/lib/python3.10/site-packages/sklearn/metrics/_classification.py:1344: UndefinedMetricWarning: Precision is ill-defined and being set to 0.0 due to no predicted samples. Use `zero_division` parameter to control this behavior.\n",
      "  _warn_prf(average, modifier, msg_start, len(result))\n",
      "/Users/rsaraiva/opt/anaconda3/envs/POWER/lib/python3.10/site-packages/sklearn/metrics/_classification.py:1344: UndefinedMetricWarning: Recall is ill-defined and being set to 0.0 due to no true samples. Use `zero_division` parameter to control this behavior.\n",
      "  _warn_prf(average, modifier, msg_start, len(result))\n",
      "/Users/rsaraiva/opt/anaconda3/envs/POWER/lib/python3.10/site-packages/sklearn/metrics/_classification.py:1609: UndefinedMetricWarning: F-score is ill-defined and being set to 0.0 due to no true nor predicted samples. Use `zero_division` parameter to control this behavior.\n",
      "  _warn_prf(average, \"true nor predicted\", \"F-score is\", len(true_sum))\n",
      "/Users/rsaraiva/opt/anaconda3/envs/POWER/lib/python3.10/site-packages/sklearn/metrics/_classification.py:1344: UndefinedMetricWarning: Precision is ill-defined and being set to 0.0 due to no predicted samples. Use `zero_division` parameter to control this behavior.\n",
      "  _warn_prf(average, modifier, msg_start, len(result))\n",
      "/Users/rsaraiva/opt/anaconda3/envs/POWER/lib/python3.10/site-packages/sklearn/metrics/_classification.py:1344: UndefinedMetricWarning: Recall is ill-defined and being set to 0.0 due to no true samples. Use `zero_division` parameter to control this behavior.\n",
      "  _warn_prf(average, modifier, msg_start, len(result))\n",
      "/Users/rsaraiva/opt/anaconda3/envs/POWER/lib/python3.10/site-packages/sklearn/metrics/_classification.py:1609: UndefinedMetricWarning: F-score is ill-defined and being set to 0.0 due to no true nor predicted samples. Use `zero_division` parameter to control this behavior.\n",
      "  _warn_prf(average, \"true nor predicted\", \"F-score is\", len(true_sum))\n"
     ]
    },
    {
     "name": "stdout",
     "output_type": "stream",
     "text": [
      "1/1 [==============================] - 0s 24ms/step\n"
     ]
    },
    {
     "name": "stderr",
     "output_type": "stream",
     "text": [
      "/Users/rsaraiva/opt/anaconda3/envs/POWER/lib/python3.10/site-packages/sklearn/metrics/_classification.py:1344: UndefinedMetricWarning: Precision is ill-defined and being set to 0.0 due to no predicted samples. Use `zero_division` parameter to control this behavior.\n",
      "  _warn_prf(average, modifier, msg_start, len(result))\n",
      "/Users/rsaraiva/opt/anaconda3/envs/POWER/lib/python3.10/site-packages/sklearn/metrics/_classification.py:1344: UndefinedMetricWarning: Recall is ill-defined and being set to 0.0 due to no true samples. Use `zero_division` parameter to control this behavior.\n",
      "  _warn_prf(average, modifier, msg_start, len(result))\n",
      "/Users/rsaraiva/opt/anaconda3/envs/POWER/lib/python3.10/site-packages/sklearn/metrics/_classification.py:1609: UndefinedMetricWarning: F-score is ill-defined and being set to 0.0 due to no true nor predicted samples. Use `zero_division` parameter to control this behavior.\n",
      "  _warn_prf(average, \"true nor predicted\", \"F-score is\", len(true_sum))\n",
      "/Users/rsaraiva/opt/anaconda3/envs/POWER/lib/python3.10/site-packages/sklearn/metrics/_classification.py:1344: UndefinedMetricWarning: Precision is ill-defined and being set to 0.0 due to no predicted samples. Use `zero_division` parameter to control this behavior.\n",
      "  _warn_prf(average, modifier, msg_start, len(result))\n",
      "/Users/rsaraiva/opt/anaconda3/envs/POWER/lib/python3.10/site-packages/sklearn/metrics/_classification.py:1344: UndefinedMetricWarning: Recall is ill-defined and being set to 0.0 due to no true samples. Use `zero_division` parameter to control this behavior.\n",
      "  _warn_prf(average, modifier, msg_start, len(result))\n",
      "/Users/rsaraiva/opt/anaconda3/envs/POWER/lib/python3.10/site-packages/sklearn/metrics/_classification.py:1609: UndefinedMetricWarning: F-score is ill-defined and being set to 0.0 due to no true nor predicted samples. Use `zero_division` parameter to control this behavior.\n",
      "  _warn_prf(average, \"true nor predicted\", \"F-score is\", len(true_sum))\n"
     ]
    },
    {
     "name": "stdout",
     "output_type": "stream",
     "text": [
      "1/1 [==============================] - 0s 24ms/step\n",
      "1/1 [==============================] - 0s 24ms/step\n"
     ]
    },
    {
     "name": "stderr",
     "output_type": "stream",
     "text": [
      "/Users/rsaraiva/opt/anaconda3/envs/POWER/lib/python3.10/site-packages/sklearn/metrics/_classification.py:1344: UndefinedMetricWarning: Precision is ill-defined and being set to 0.0 due to no predicted samples. Use `zero_division` parameter to control this behavior.\n",
      "  _warn_prf(average, modifier, msg_start, len(result))\n",
      "/Users/rsaraiva/opt/anaconda3/envs/POWER/lib/python3.10/site-packages/sklearn/metrics/_classification.py:1344: UndefinedMetricWarning: Recall is ill-defined and being set to 0.0 due to no true samples. Use `zero_division` parameter to control this behavior.\n",
      "  _warn_prf(average, modifier, msg_start, len(result))\n",
      "/Users/rsaraiva/opt/anaconda3/envs/POWER/lib/python3.10/site-packages/sklearn/metrics/_classification.py:1609: UndefinedMetricWarning: F-score is ill-defined and being set to 0.0 due to no true nor predicted samples. Use `zero_division` parameter to control this behavior.\n",
      "  _warn_prf(average, \"true nor predicted\", \"F-score is\", len(true_sum))\n",
      "/Users/rsaraiva/opt/anaconda3/envs/POWER/lib/python3.10/site-packages/sklearn/metrics/_classification.py:1344: UndefinedMetricWarning: Precision is ill-defined and being set to 0.0 due to no predicted samples. Use `zero_division` parameter to control this behavior.\n",
      "  _warn_prf(average, modifier, msg_start, len(result))\n",
      "/Users/rsaraiva/opt/anaconda3/envs/POWER/lib/python3.10/site-packages/sklearn/metrics/_classification.py:1344: UndefinedMetricWarning: Recall is ill-defined and being set to 0.0 due to no true samples. Use `zero_division` parameter to control this behavior.\n",
      "  _warn_prf(average, modifier, msg_start, len(result))\n",
      "/Users/rsaraiva/opt/anaconda3/envs/POWER/lib/python3.10/site-packages/sklearn/metrics/_classification.py:1609: UndefinedMetricWarning: F-score is ill-defined and being set to 0.0 due to no true nor predicted samples. Use `zero_division` parameter to control this behavior.\n",
      "  _warn_prf(average, \"true nor predicted\", \"F-score is\", len(true_sum))\n"
     ]
    },
    {
     "name": "stdout",
     "output_type": "stream",
     "text": [
      "1/1 [==============================] - 0s 25ms/step\n",
      "1/1 [==============================] - 0s 23ms/step\n"
     ]
    },
    {
     "name": "stderr",
     "output_type": "stream",
     "text": [
      "/Users/rsaraiva/opt/anaconda3/envs/POWER/lib/python3.10/site-packages/sklearn/metrics/_classification.py:1344: UndefinedMetricWarning: Precision is ill-defined and being set to 0.0 due to no predicted samples. Use `zero_division` parameter to control this behavior.\n",
      "  _warn_prf(average, modifier, msg_start, len(result))\n",
      "/Users/rsaraiva/opt/anaconda3/envs/POWER/lib/python3.10/site-packages/sklearn/metrics/_classification.py:1344: UndefinedMetricWarning: Recall is ill-defined and being set to 0.0 due to no true samples. Use `zero_division` parameter to control this behavior.\n",
      "  _warn_prf(average, modifier, msg_start, len(result))\n",
      "/Users/rsaraiva/opt/anaconda3/envs/POWER/lib/python3.10/site-packages/sklearn/metrics/_classification.py:1609: UndefinedMetricWarning: F-score is ill-defined and being set to 0.0 due to no true nor predicted samples. Use `zero_division` parameter to control this behavior.\n",
      "  _warn_prf(average, \"true nor predicted\", \"F-score is\", len(true_sum))\n",
      "/Users/rsaraiva/opt/anaconda3/envs/POWER/lib/python3.10/site-packages/sklearn/metrics/_classification.py:1344: UndefinedMetricWarning: Precision is ill-defined and being set to 0.0 due to no predicted samples. Use `zero_division` parameter to control this behavior.\n",
      "  _warn_prf(average, modifier, msg_start, len(result))\n",
      "/Users/rsaraiva/opt/anaconda3/envs/POWER/lib/python3.10/site-packages/sklearn/metrics/_classification.py:1344: UndefinedMetricWarning: Recall is ill-defined and being set to 0.0 due to no true samples. Use `zero_division` parameter to control this behavior.\n",
      "  _warn_prf(average, modifier, msg_start, len(result))\n",
      "/Users/rsaraiva/opt/anaconda3/envs/POWER/lib/python3.10/site-packages/sklearn/metrics/_classification.py:1609: UndefinedMetricWarning: F-score is ill-defined and being set to 0.0 due to no true nor predicted samples. Use `zero_division` parameter to control this behavior.\n",
      "  _warn_prf(average, \"true nor predicted\", \"F-score is\", len(true_sum))\n"
     ]
    },
    {
     "name": "stdout",
     "output_type": "stream",
     "text": [
      "1/1 [==============================] - 0s 25ms/step\n",
      "1/1 [==============================] - 0s 26ms/step\n"
     ]
    },
    {
     "name": "stderr",
     "output_type": "stream",
     "text": [
      "/Users/rsaraiva/opt/anaconda3/envs/POWER/lib/python3.10/site-packages/sklearn/metrics/_classification.py:1344: UndefinedMetricWarning: Precision is ill-defined and being set to 0.0 due to no predicted samples. Use `zero_division` parameter to control this behavior.\n",
      "  _warn_prf(average, modifier, msg_start, len(result))\n",
      "/Users/rsaraiva/opt/anaconda3/envs/POWER/lib/python3.10/site-packages/sklearn/metrics/_classification.py:1344: UndefinedMetricWarning: Recall is ill-defined and being set to 0.0 due to no true samples. Use `zero_division` parameter to control this behavior.\n",
      "  _warn_prf(average, modifier, msg_start, len(result))\n",
      "/Users/rsaraiva/opt/anaconda3/envs/POWER/lib/python3.10/site-packages/sklearn/metrics/_classification.py:1609: UndefinedMetricWarning: F-score is ill-defined and being set to 0.0 due to no true nor predicted samples. Use `zero_division` parameter to control this behavior.\n",
      "  _warn_prf(average, \"true nor predicted\", \"F-score is\", len(true_sum))\n",
      "/Users/rsaraiva/opt/anaconda3/envs/POWER/lib/python3.10/site-packages/sklearn/metrics/_classification.py:1344: UndefinedMetricWarning: Precision is ill-defined and being set to 0.0 due to no predicted samples. Use `zero_division` parameter to control this behavior.\n",
      "  _warn_prf(average, modifier, msg_start, len(result))\n",
      "/Users/rsaraiva/opt/anaconda3/envs/POWER/lib/python3.10/site-packages/sklearn/metrics/_classification.py:1344: UndefinedMetricWarning: Recall is ill-defined and being set to 0.0 due to no true samples. Use `zero_division` parameter to control this behavior.\n",
      "  _warn_prf(average, modifier, msg_start, len(result))\n",
      "/Users/rsaraiva/opt/anaconda3/envs/POWER/lib/python3.10/site-packages/sklearn/metrics/_classification.py:1609: UndefinedMetricWarning: F-score is ill-defined and being set to 0.0 due to no true nor predicted samples. Use `zero_division` parameter to control this behavior.\n",
      "  _warn_prf(average, \"true nor predicted\", \"F-score is\", len(true_sum))\n"
     ]
    },
    {
     "name": "stdout",
     "output_type": "stream",
     "text": [
      "1/1 [==============================] - 0s 24ms/step\n",
      "1/1 [==============================] - 0s 25ms/step\n"
     ]
    },
    {
     "name": "stderr",
     "output_type": "stream",
     "text": [
      "/Users/rsaraiva/opt/anaconda3/envs/POWER/lib/python3.10/site-packages/sklearn/metrics/_classification.py:1344: UndefinedMetricWarning: Precision is ill-defined and being set to 0.0 due to no predicted samples. Use `zero_division` parameter to control this behavior.\n",
      "  _warn_prf(average, modifier, msg_start, len(result))\n",
      "/Users/rsaraiva/opt/anaconda3/envs/POWER/lib/python3.10/site-packages/sklearn/metrics/_classification.py:1344: UndefinedMetricWarning: Recall is ill-defined and being set to 0.0 due to no true samples. Use `zero_division` parameter to control this behavior.\n",
      "  _warn_prf(average, modifier, msg_start, len(result))\n",
      "/Users/rsaraiva/opt/anaconda3/envs/POWER/lib/python3.10/site-packages/sklearn/metrics/_classification.py:1609: UndefinedMetricWarning: F-score is ill-defined and being set to 0.0 due to no true nor predicted samples. Use `zero_division` parameter to control this behavior.\n",
      "  _warn_prf(average, \"true nor predicted\", \"F-score is\", len(true_sum))\n",
      "/Users/rsaraiva/opt/anaconda3/envs/POWER/lib/python3.10/site-packages/sklearn/metrics/_classification.py:1344: UndefinedMetricWarning: Precision is ill-defined and being set to 0.0 due to no predicted samples. Use `zero_division` parameter to control this behavior.\n",
      "  _warn_prf(average, modifier, msg_start, len(result))\n",
      "/Users/rsaraiva/opt/anaconda3/envs/POWER/lib/python3.10/site-packages/sklearn/metrics/_classification.py:1344: UndefinedMetricWarning: Recall is ill-defined and being set to 0.0 due to no true samples. Use `zero_division` parameter to control this behavior.\n",
      "  _warn_prf(average, modifier, msg_start, len(result))\n",
      "/Users/rsaraiva/opt/anaconda3/envs/POWER/lib/python3.10/site-packages/sklearn/metrics/_classification.py:1609: UndefinedMetricWarning: F-score is ill-defined and being set to 0.0 due to no true nor predicted samples. Use `zero_division` parameter to control this behavior.\n",
      "  _warn_prf(average, \"true nor predicted\", \"F-score is\", len(true_sum))\n"
     ]
    },
    {
     "name": "stdout",
     "output_type": "stream",
     "text": [
      "1/1 [==============================] - 0s 24ms/step\n",
      "1/1 [==============================] - 0s 24ms/step\n"
     ]
    },
    {
     "name": "stderr",
     "output_type": "stream",
     "text": [
      "/Users/rsaraiva/opt/anaconda3/envs/POWER/lib/python3.10/site-packages/sklearn/metrics/_classification.py:1344: UndefinedMetricWarning: Precision is ill-defined and being set to 0.0 due to no predicted samples. Use `zero_division` parameter to control this behavior.\n",
      "  _warn_prf(average, modifier, msg_start, len(result))\n",
      "/Users/rsaraiva/opt/anaconda3/envs/POWER/lib/python3.10/site-packages/sklearn/metrics/_classification.py:1344: UndefinedMetricWarning: Recall is ill-defined and being set to 0.0 due to no true samples. Use `zero_division` parameter to control this behavior.\n",
      "  _warn_prf(average, modifier, msg_start, len(result))\n",
      "/Users/rsaraiva/opt/anaconda3/envs/POWER/lib/python3.10/site-packages/sklearn/metrics/_classification.py:1609: UndefinedMetricWarning: F-score is ill-defined and being set to 0.0 due to no true nor predicted samples. Use `zero_division` parameter to control this behavior.\n",
      "  _warn_prf(average, \"true nor predicted\", \"F-score is\", len(true_sum))\n",
      "/Users/rsaraiva/opt/anaconda3/envs/POWER/lib/python3.10/site-packages/sklearn/metrics/_classification.py:1344: UndefinedMetricWarning: Precision is ill-defined and being set to 0.0 due to no predicted samples. Use `zero_division` parameter to control this behavior.\n",
      "  _warn_prf(average, modifier, msg_start, len(result))\n",
      "/Users/rsaraiva/opt/anaconda3/envs/POWER/lib/python3.10/site-packages/sklearn/metrics/_classification.py:1344: UndefinedMetricWarning: Recall is ill-defined and being set to 0.0 due to no true samples. Use `zero_division` parameter to control this behavior.\n",
      "  _warn_prf(average, modifier, msg_start, len(result))\n",
      "/Users/rsaraiva/opt/anaconda3/envs/POWER/lib/python3.10/site-packages/sklearn/metrics/_classification.py:1609: UndefinedMetricWarning: F-score is ill-defined and being set to 0.0 due to no true nor predicted samples. Use `zero_division` parameter to control this behavior.\n",
      "  _warn_prf(average, \"true nor predicted\", \"F-score is\", len(true_sum))\n"
     ]
    },
    {
     "name": "stdout",
     "output_type": "stream",
     "text": [
      "1/1 [==============================] - 0s 25ms/step\n",
      "1/1 [==============================] - 0s 24ms/step\n",
      "1/1 [==============================] - 0s 23ms/step\n"
     ]
    },
    {
     "name": "stderr",
     "output_type": "stream",
     "text": [
      "/Users/rsaraiva/opt/anaconda3/envs/POWER/lib/python3.10/site-packages/sklearn/metrics/_classification.py:1344: UndefinedMetricWarning: Precision is ill-defined and being set to 0.0 due to no predicted samples. Use `zero_division` parameter to control this behavior.\n",
      "  _warn_prf(average, modifier, msg_start, len(result))\n",
      "/Users/rsaraiva/opt/anaconda3/envs/POWER/lib/python3.10/site-packages/sklearn/metrics/_classification.py:1344: UndefinedMetricWarning: Recall is ill-defined and being set to 0.0 due to no true samples. Use `zero_division` parameter to control this behavior.\n",
      "  _warn_prf(average, modifier, msg_start, len(result))\n",
      "/Users/rsaraiva/opt/anaconda3/envs/POWER/lib/python3.10/site-packages/sklearn/metrics/_classification.py:1609: UndefinedMetricWarning: F-score is ill-defined and being set to 0.0 due to no true nor predicted samples. Use `zero_division` parameter to control this behavior.\n",
      "  _warn_prf(average, \"true nor predicted\", \"F-score is\", len(true_sum))\n",
      "/Users/rsaraiva/opt/anaconda3/envs/POWER/lib/python3.10/site-packages/sklearn/metrics/_classification.py:1344: UndefinedMetricWarning: Precision is ill-defined and being set to 0.0 due to no predicted samples. Use `zero_division` parameter to control this behavior.\n",
      "  _warn_prf(average, modifier, msg_start, len(result))\n",
      "/Users/rsaraiva/opt/anaconda3/envs/POWER/lib/python3.10/site-packages/sklearn/metrics/_classification.py:1344: UndefinedMetricWarning: Recall is ill-defined and being set to 0.0 due to no true samples. Use `zero_division` parameter to control this behavior.\n",
      "  _warn_prf(average, modifier, msg_start, len(result))\n",
      "/Users/rsaraiva/opt/anaconda3/envs/POWER/lib/python3.10/site-packages/sklearn/metrics/_classification.py:1609: UndefinedMetricWarning: F-score is ill-defined and being set to 0.0 due to no true nor predicted samples. Use `zero_division` parameter to control this behavior.\n",
      "  _warn_prf(average, \"true nor predicted\", \"F-score is\", len(true_sum))\n"
     ]
    },
    {
     "name": "stdout",
     "output_type": "stream",
     "text": [
      "1/1 [==============================] - 0s 23ms/step\n"
     ]
    },
    {
     "name": "stderr",
     "output_type": "stream",
     "text": [
      "/Users/rsaraiva/opt/anaconda3/envs/POWER/lib/python3.10/site-packages/sklearn/metrics/_classification.py:1344: UndefinedMetricWarning: Precision is ill-defined and being set to 0.0 due to no predicted samples. Use `zero_division` parameter to control this behavior.\n",
      "  _warn_prf(average, modifier, msg_start, len(result))\n",
      "/Users/rsaraiva/opt/anaconda3/envs/POWER/lib/python3.10/site-packages/sklearn/metrics/_classification.py:1344: UndefinedMetricWarning: Recall is ill-defined and being set to 0.0 due to no true samples. Use `zero_division` parameter to control this behavior.\n",
      "  _warn_prf(average, modifier, msg_start, len(result))\n",
      "/Users/rsaraiva/opt/anaconda3/envs/POWER/lib/python3.10/site-packages/sklearn/metrics/_classification.py:1609: UndefinedMetricWarning: F-score is ill-defined and being set to 0.0 due to no true nor predicted samples. Use `zero_division` parameter to control this behavior.\n",
      "  _warn_prf(average, \"true nor predicted\", \"F-score is\", len(true_sum))\n",
      "/Users/rsaraiva/opt/anaconda3/envs/POWER/lib/python3.10/site-packages/sklearn/metrics/_classification.py:1344: UndefinedMetricWarning: Precision is ill-defined and being set to 0.0 due to no predicted samples. Use `zero_division` parameter to control this behavior.\n",
      "  _warn_prf(average, modifier, msg_start, len(result))\n",
      "/Users/rsaraiva/opt/anaconda3/envs/POWER/lib/python3.10/site-packages/sklearn/metrics/_classification.py:1344: UndefinedMetricWarning: Recall is ill-defined and being set to 0.0 due to no true samples. Use `zero_division` parameter to control this behavior.\n",
      "  _warn_prf(average, modifier, msg_start, len(result))\n",
      "/Users/rsaraiva/opt/anaconda3/envs/POWER/lib/python3.10/site-packages/sklearn/metrics/_classification.py:1609: UndefinedMetricWarning: F-score is ill-defined and being set to 0.0 due to no true nor predicted samples. Use `zero_division` parameter to control this behavior.\n",
      "  _warn_prf(average, \"true nor predicted\", \"F-score is\", len(true_sum))\n"
     ]
    },
    {
     "name": "stdout",
     "output_type": "stream",
     "text": [
      "1/1 [==============================] - 0s 24ms/step\n",
      "1/1 [==============================] - 0s 23ms/step\n",
      "1/1 [==============================] - 0s 23ms/step\n"
     ]
    },
    {
     "name": "stderr",
     "output_type": "stream",
     "text": [
      "/Users/rsaraiva/opt/anaconda3/envs/POWER/lib/python3.10/site-packages/sklearn/metrics/_classification.py:1344: UndefinedMetricWarning: Precision is ill-defined and being set to 0.0 due to no predicted samples. Use `zero_division` parameter to control this behavior.\n",
      "  _warn_prf(average, modifier, msg_start, len(result))\n",
      "/Users/rsaraiva/opt/anaconda3/envs/POWER/lib/python3.10/site-packages/sklearn/metrics/_classification.py:1344: UndefinedMetricWarning: Recall is ill-defined and being set to 0.0 due to no true samples. Use `zero_division` parameter to control this behavior.\n",
      "  _warn_prf(average, modifier, msg_start, len(result))\n",
      "/Users/rsaraiva/opt/anaconda3/envs/POWER/lib/python3.10/site-packages/sklearn/metrics/_classification.py:1609: UndefinedMetricWarning: F-score is ill-defined and being set to 0.0 due to no true nor predicted samples. Use `zero_division` parameter to control this behavior.\n",
      "  _warn_prf(average, \"true nor predicted\", \"F-score is\", len(true_sum))\n",
      "/Users/rsaraiva/opt/anaconda3/envs/POWER/lib/python3.10/site-packages/sklearn/metrics/_classification.py:1344: UndefinedMetricWarning: Precision is ill-defined and being set to 0.0 due to no predicted samples. Use `zero_division` parameter to control this behavior.\n",
      "  _warn_prf(average, modifier, msg_start, len(result))\n",
      "/Users/rsaraiva/opt/anaconda3/envs/POWER/lib/python3.10/site-packages/sklearn/metrics/_classification.py:1344: UndefinedMetricWarning: Recall is ill-defined and being set to 0.0 due to no true samples. Use `zero_division` parameter to control this behavior.\n",
      "  _warn_prf(average, modifier, msg_start, len(result))\n",
      "/Users/rsaraiva/opt/anaconda3/envs/POWER/lib/python3.10/site-packages/sklearn/metrics/_classification.py:1609: UndefinedMetricWarning: F-score is ill-defined and being set to 0.0 due to no true nor predicted samples. Use `zero_division` parameter to control this behavior.\n",
      "  _warn_prf(average, \"true nor predicted\", \"F-score is\", len(true_sum))\n"
     ]
    },
    {
     "name": "stdout",
     "output_type": "stream",
     "text": [
      "1/1 [==============================] - 0s 24ms/step\n",
      "1/1 [==============================] - 0s 24ms/step\n"
     ]
    },
    {
     "name": "stderr",
     "output_type": "stream",
     "text": [
      "/Users/rsaraiva/opt/anaconda3/envs/POWER/lib/python3.10/site-packages/sklearn/metrics/_classification.py:1344: UndefinedMetricWarning: Precision is ill-defined and being set to 0.0 due to no predicted samples. Use `zero_division` parameter to control this behavior.\n",
      "  _warn_prf(average, modifier, msg_start, len(result))\n",
      "/Users/rsaraiva/opt/anaconda3/envs/POWER/lib/python3.10/site-packages/sklearn/metrics/_classification.py:1344: UndefinedMetricWarning: Recall is ill-defined and being set to 0.0 due to no true samples. Use `zero_division` parameter to control this behavior.\n",
      "  _warn_prf(average, modifier, msg_start, len(result))\n",
      "/Users/rsaraiva/opt/anaconda3/envs/POWER/lib/python3.10/site-packages/sklearn/metrics/_classification.py:1609: UndefinedMetricWarning: F-score is ill-defined and being set to 0.0 due to no true nor predicted samples. Use `zero_division` parameter to control this behavior.\n",
      "  _warn_prf(average, \"true nor predicted\", \"F-score is\", len(true_sum))\n",
      "/Users/rsaraiva/opt/anaconda3/envs/POWER/lib/python3.10/site-packages/sklearn/metrics/_classification.py:1344: UndefinedMetricWarning: Precision is ill-defined and being set to 0.0 due to no predicted samples. Use `zero_division` parameter to control this behavior.\n",
      "  _warn_prf(average, modifier, msg_start, len(result))\n",
      "/Users/rsaraiva/opt/anaconda3/envs/POWER/lib/python3.10/site-packages/sklearn/metrics/_classification.py:1344: UndefinedMetricWarning: Recall is ill-defined and being set to 0.0 due to no true samples. Use `zero_division` parameter to control this behavior.\n",
      "  _warn_prf(average, modifier, msg_start, len(result))\n",
      "/Users/rsaraiva/opt/anaconda3/envs/POWER/lib/python3.10/site-packages/sklearn/metrics/_classification.py:1609: UndefinedMetricWarning: F-score is ill-defined and being set to 0.0 due to no true nor predicted samples. Use `zero_division` parameter to control this behavior.\n",
      "  _warn_prf(average, \"true nor predicted\", \"F-score is\", len(true_sum))\n"
     ]
    },
    {
     "name": "stdout",
     "output_type": "stream",
     "text": [
      "1/1 [==============================] - 0s 23ms/step\n",
      "1/1 [==============================] - 0s 24ms/step\n"
     ]
    },
    {
     "name": "stderr",
     "output_type": "stream",
     "text": [
      "/Users/rsaraiva/opt/anaconda3/envs/POWER/lib/python3.10/site-packages/sklearn/metrics/_classification.py:1344: UndefinedMetricWarning: Precision is ill-defined and being set to 0.0 due to no predicted samples. Use `zero_division` parameter to control this behavior.\n",
      "  _warn_prf(average, modifier, msg_start, len(result))\n",
      "/Users/rsaraiva/opt/anaconda3/envs/POWER/lib/python3.10/site-packages/sklearn/metrics/_classification.py:1344: UndefinedMetricWarning: Recall is ill-defined and being set to 0.0 due to no true samples. Use `zero_division` parameter to control this behavior.\n",
      "  _warn_prf(average, modifier, msg_start, len(result))\n",
      "/Users/rsaraiva/opt/anaconda3/envs/POWER/lib/python3.10/site-packages/sklearn/metrics/_classification.py:1609: UndefinedMetricWarning: F-score is ill-defined and being set to 0.0 due to no true nor predicted samples. Use `zero_division` parameter to control this behavior.\n",
      "  _warn_prf(average, \"true nor predicted\", \"F-score is\", len(true_sum))\n",
      "/Users/rsaraiva/opt/anaconda3/envs/POWER/lib/python3.10/site-packages/sklearn/metrics/_classification.py:1344: UndefinedMetricWarning: Precision is ill-defined and being set to 0.0 due to no predicted samples. Use `zero_division` parameter to control this behavior.\n",
      "  _warn_prf(average, modifier, msg_start, len(result))\n",
      "/Users/rsaraiva/opt/anaconda3/envs/POWER/lib/python3.10/site-packages/sklearn/metrics/_classification.py:1344: UndefinedMetricWarning: Recall is ill-defined and being set to 0.0 due to no true samples. Use `zero_division` parameter to control this behavior.\n",
      "  _warn_prf(average, modifier, msg_start, len(result))\n",
      "/Users/rsaraiva/opt/anaconda3/envs/POWER/lib/python3.10/site-packages/sklearn/metrics/_classification.py:1609: UndefinedMetricWarning: F-score is ill-defined and being set to 0.0 due to no true nor predicted samples. Use `zero_division` parameter to control this behavior.\n",
      "  _warn_prf(average, \"true nor predicted\", \"F-score is\", len(true_sum))\n"
     ]
    },
    {
     "name": "stdout",
     "output_type": "stream",
     "text": [
      "1/1 [==============================] - 0s 25ms/step\n",
      "1/1 [==============================] - 0s 24ms/step\n"
     ]
    },
    {
     "name": "stderr",
     "output_type": "stream",
     "text": [
      "/Users/rsaraiva/opt/anaconda3/envs/POWER/lib/python3.10/site-packages/sklearn/metrics/_classification.py:1344: UndefinedMetricWarning: Precision is ill-defined and being set to 0.0 due to no predicted samples. Use `zero_division` parameter to control this behavior.\n",
      "  _warn_prf(average, modifier, msg_start, len(result))\n",
      "/Users/rsaraiva/opt/anaconda3/envs/POWER/lib/python3.10/site-packages/sklearn/metrics/_classification.py:1344: UndefinedMetricWarning: Recall is ill-defined and being set to 0.0 due to no true samples. Use `zero_division` parameter to control this behavior.\n",
      "  _warn_prf(average, modifier, msg_start, len(result))\n",
      "/Users/rsaraiva/opt/anaconda3/envs/POWER/lib/python3.10/site-packages/sklearn/metrics/_classification.py:1609: UndefinedMetricWarning: F-score is ill-defined and being set to 0.0 due to no true nor predicted samples. Use `zero_division` parameter to control this behavior.\n",
      "  _warn_prf(average, \"true nor predicted\", \"F-score is\", len(true_sum))\n",
      "/Users/rsaraiva/opt/anaconda3/envs/POWER/lib/python3.10/site-packages/sklearn/metrics/_classification.py:1344: UndefinedMetricWarning: Precision is ill-defined and being set to 0.0 due to no predicted samples. Use `zero_division` parameter to control this behavior.\n",
      "  _warn_prf(average, modifier, msg_start, len(result))\n",
      "/Users/rsaraiva/opt/anaconda3/envs/POWER/lib/python3.10/site-packages/sklearn/metrics/_classification.py:1344: UndefinedMetricWarning: Recall is ill-defined and being set to 0.0 due to no true samples. Use `zero_division` parameter to control this behavior.\n",
      "  _warn_prf(average, modifier, msg_start, len(result))\n",
      "/Users/rsaraiva/opt/anaconda3/envs/POWER/lib/python3.10/site-packages/sklearn/metrics/_classification.py:1609: UndefinedMetricWarning: F-score is ill-defined and being set to 0.0 due to no true nor predicted samples. Use `zero_division` parameter to control this behavior.\n",
      "  _warn_prf(average, \"true nor predicted\", \"F-score is\", len(true_sum))\n"
     ]
    },
    {
     "name": "stdout",
     "output_type": "stream",
     "text": [
      "1/1 [==============================] - 0s 24ms/step\n"
     ]
    },
    {
     "name": "stderr",
     "output_type": "stream",
     "text": [
      "/Users/rsaraiva/opt/anaconda3/envs/POWER/lib/python3.10/site-packages/sklearn/metrics/_classification.py:1344: UndefinedMetricWarning: Precision is ill-defined and being set to 0.0 due to no predicted samples. Use `zero_division` parameter to control this behavior.\n",
      "  _warn_prf(average, modifier, msg_start, len(result))\n",
      "/Users/rsaraiva/opt/anaconda3/envs/POWER/lib/python3.10/site-packages/sklearn/metrics/_classification.py:1344: UndefinedMetricWarning: Recall is ill-defined and being set to 0.0 due to no true samples. Use `zero_division` parameter to control this behavior.\n",
      "  _warn_prf(average, modifier, msg_start, len(result))\n",
      "/Users/rsaraiva/opt/anaconda3/envs/POWER/lib/python3.10/site-packages/sklearn/metrics/_classification.py:1609: UndefinedMetricWarning: F-score is ill-defined and being set to 0.0 due to no true nor predicted samples. Use `zero_division` parameter to control this behavior.\n",
      "  _warn_prf(average, \"true nor predicted\", \"F-score is\", len(true_sum))\n",
      "/Users/rsaraiva/opt/anaconda3/envs/POWER/lib/python3.10/site-packages/sklearn/metrics/_classification.py:1344: UndefinedMetricWarning: Precision is ill-defined and being set to 0.0 due to no predicted samples. Use `zero_division` parameter to control this behavior.\n",
      "  _warn_prf(average, modifier, msg_start, len(result))\n",
      "/Users/rsaraiva/opt/anaconda3/envs/POWER/lib/python3.10/site-packages/sklearn/metrics/_classification.py:1344: UndefinedMetricWarning: Recall is ill-defined and being set to 0.0 due to no true samples. Use `zero_division` parameter to control this behavior.\n",
      "  _warn_prf(average, modifier, msg_start, len(result))\n",
      "/Users/rsaraiva/opt/anaconda3/envs/POWER/lib/python3.10/site-packages/sklearn/metrics/_classification.py:1609: UndefinedMetricWarning: F-score is ill-defined and being set to 0.0 due to no true nor predicted samples. Use `zero_division` parameter to control this behavior.\n",
      "  _warn_prf(average, \"true nor predicted\", \"F-score is\", len(true_sum))\n"
     ]
    },
    {
     "name": "stdout",
     "output_type": "stream",
     "text": [
      "1/1 [==============================] - 0s 23ms/step\n",
      "1/1 [==============================] - 0s 24ms/step\n",
      "Classification metrics have been calculated and saved to 'classification_metrics.csv'.\n"
     ]
    },
    {
     "name": "stderr",
     "output_type": "stream",
     "text": [
      "/Users/rsaraiva/opt/anaconda3/envs/POWER/lib/python3.10/site-packages/sklearn/metrics/_classification.py:1344: UndefinedMetricWarning: Precision is ill-defined and being set to 0.0 due to no predicted samples. Use `zero_division` parameter to control this behavior.\n",
      "  _warn_prf(average, modifier, msg_start, len(result))\n",
      "/Users/rsaraiva/opt/anaconda3/envs/POWER/lib/python3.10/site-packages/sklearn/metrics/_classification.py:1344: UndefinedMetricWarning: Recall is ill-defined and being set to 0.0 due to no true samples. Use `zero_division` parameter to control this behavior.\n",
      "  _warn_prf(average, modifier, msg_start, len(result))\n",
      "/Users/rsaraiva/opt/anaconda3/envs/POWER/lib/python3.10/site-packages/sklearn/metrics/_classification.py:1609: UndefinedMetricWarning: F-score is ill-defined and being set to 0.0 due to no true nor predicted samples. Use `zero_division` parameter to control this behavior.\n",
      "  _warn_prf(average, \"true nor predicted\", \"F-score is\", len(true_sum))\n",
      "/Users/rsaraiva/opt/anaconda3/envs/POWER/lib/python3.10/site-packages/sklearn/metrics/_classification.py:1344: UndefinedMetricWarning: Precision is ill-defined and being set to 0.0 due to no predicted samples. Use `zero_division` parameter to control this behavior.\n",
      "  _warn_prf(average, modifier, msg_start, len(result))\n",
      "/Users/rsaraiva/opt/anaconda3/envs/POWER/lib/python3.10/site-packages/sklearn/metrics/_classification.py:1344: UndefinedMetricWarning: Recall is ill-defined and being set to 0.0 due to no true samples. Use `zero_division` parameter to control this behavior.\n",
      "  _warn_prf(average, modifier, msg_start, len(result))\n",
      "/Users/rsaraiva/opt/anaconda3/envs/POWER/lib/python3.10/site-packages/sklearn/metrics/_classification.py:1609: UndefinedMetricWarning: F-score is ill-defined and being set to 0.0 due to no true nor predicted samples. Use `zero_division` parameter to control this behavior.\n",
      "  _warn_prf(average, \"true nor predicted\", \"F-score is\", len(true_sum))\n"
     ]
    }
   ],
   "source": [
    "# Exemplo de uso:\n",
    "input_size = 4\n",
    "pred_horizons = [5, 6, 7]\n",
    "\n",
    "# Treinamento do modelo\n",
    "with tf.device('/cpu:0'):\n",
    "    model, history = train_model_class(train_patients, input_size, pred_horizons)\n",
    "\n",
    "# Teste do modelo e métricas de avaliação\n",
    "test_model_class(model, test_patients, input_size, pred_horizons)"
   ]
  },
  {
   "attachments": {},
   "cell_type": "markdown",
   "metadata": {},
   "source": [
    "# Modelo 2 - Unicamente serie"
   ]
  },
  {
   "cell_type": "code",
   "execution_count": 16,
   "metadata": {},
   "outputs": [],
   "source": [
    "def train_model_simple(data, input_size, pred_horizon):\n",
    "    # Filtragem\n",
    "    data_filter = filtragem(data)\n",
    "\n",
    "    # PARAMS\n",
    "    activationfcn = 'sigmoid'\n",
    "    activationfcn1 = 'linear'\n",
    "    optimizerfcn = 'adam'\n",
    "    lossfcn = 'mse'\n",
    "    n_features = 1\n",
    "    units = 4\n",
    "    units1 = 1\n",
    "\n",
    "    # input layer\n",
    "    inputs = Input(shape=((input_size, n_features)))\n",
    "    inputs = Flatten()(inputs)\n",
    "\n",
    "    # passar o input para a hidden layer - parte nao linear\n",
    "    dense = Dense(units=4, activation='sigmoid')\n",
    "    hidden = Flatten()(dense(inputs))\n",
    "\n",
    "    # obter o 1 output (o da camada de input) e juntar ao 2 output (o primeiro output esta a saltar a hidden layer) - parte linear\n",
    "    jump = Concatenate(axis=1)([inputs, hidden])\n",
    "    outputs = Dense(units=1, activation='linear')(jump)\n",
    "\n",
    "    model = Model(inputs=inputs, outputs=outputs)\n",
    "    model.compile(optimizer=optimizerfcn, loss=lossfcn)\n",
    "\n",
    "    for i in range(0, np.size(data_filter, 1)):\n",
    "\n",
    "        X, y = data_prep(data_filter[:, i], input_size, pred_horizon, True)\n",
    "\n",
    "    print(X.shape)\n",
    "    print(y.shape)\n",
    "    if X.size != 0 and y.size != 0:\n",
    "        # reshape de [padroes, n] para [padroes, n, n_features]\n",
    "        #X_train = X_train.reshape((X_train.shape[0], X_train.shape[1], n_features))\n",
    "        \n",
    "        #X_train = X_train.reshape((X_train.shape[0], X_train.shape[1]))\n",
    "        #X_train = np.expand_dims(X_train, axis=-1)\n",
    "\n",
    "        model.fit(X, y, epochs=300, verbose=0)\n",
    "\n",
    "    # Exibindo o score do modelo treinado\n",
    "    score = model.evaluate(X, y, verbose=0)\n",
    "    print('Score do modelo:', score)\n",
    "\n",
    "\n",
    "    model_path = 'models_simple/' + str(input_size) + '_' + str(pred_horizon) \n",
    "    model.save(model_path)\n",
    "    print(\"Model --> \", model_path)\n",
    "\n",
    "    backend.clear_session()"
   ]
  },
  {
   "cell_type": "code",
   "execution_count": 17,
   "metadata": {},
   "outputs": [
    {
     "name": "stdout",
     "output_type": "stream",
     "text": [
      "(56, 4)\n",
      "(56,)\n",
      "Score do modelo: 316.90875244140625\n",
      "Model -->  models_simple/4_1\n",
      "(54, 4)\n",
      "(54,)\n",
      "Score do modelo: 6972.21044921875\n",
      "Model -->  models_simple/4_3\n",
      "(52, 4)\n",
      "(52,)\n",
      "Score do modelo: 27.31956672668457\n",
      "Model -->  models_simple/4_5\n",
      "(51, 4)\n",
      "(51,)\n",
      "Score do modelo: 54.84141540527344\n",
      "Model -->  models_simple/4_6\n",
      "(50, 4)\n",
      "(50,)\n",
      "Score do modelo: 3317.62255859375\n",
      "Model -->  models_simple/4_7\n",
      "(54, 6)\n",
      "(54,)\n",
      "Score do modelo: 25.790664672851562\n",
      "Model -->  models_simple/6_1\n",
      "(52, 6)\n",
      "(52,)\n",
      "Score do modelo: 10257.07421875\n",
      "Model -->  models_simple/6_3\n",
      "(50, 6)\n",
      "(50,)\n",
      "Score do modelo: 50.442901611328125\n",
      "Model -->  models_simple/6_5\n",
      "(49, 6)\n",
      "(49,)\n",
      "Score do modelo: 45.509193420410156\n",
      "Model -->  models_simple/6_6\n",
      "(48, 6)\n",
      "(48,)\n",
      "Score do modelo: 49.543399810791016\n",
      "Model -->  models_simple/6_7\n",
      "(52, 8)\n",
      "(52,)\n",
      "Score do modelo: 60.554283142089844\n",
      "Model -->  models_simple/8_1\n",
      "(50, 8)\n",
      "(50,)\n",
      "Score do modelo: 52.794189453125\n",
      "Model -->  models_simple/8_3\n",
      "(48, 8)\n",
      "(48,)\n",
      "Score do modelo: 70.16014099121094\n",
      "Model -->  models_simple/8_5\n",
      "(47, 8)\n",
      "(47,)\n",
      "Score do modelo: 34.719200134277344\n",
      "Model -->  models_simple/8_6\n",
      "(46, 8)\n",
      "(46,)\n",
      "Score do modelo: 36.728607177734375\n",
      "Model -->  models_simple/8_7\n",
      "(50, 10)\n",
      "(50,)\n",
      "Score do modelo: 44.00333023071289\n",
      "Model -->  models_simple/10_1\n",
      "(48, 10)\n",
      "(48,)\n",
      "Score do modelo: 56.60103225708008\n",
      "Model -->  models_simple/10_3\n",
      "(46, 10)\n",
      "(46,)\n",
      "Score do modelo: 43.818355560302734\n",
      "Model -->  models_simple/10_5\n",
      "(45, 10)\n",
      "(45,)\n",
      "Score do modelo: 49.00197982788086\n",
      "Model -->  models_simple/10_6\n",
      "(44, 10)\n",
      "(44,)\n",
      "Score do modelo: 41.92658233642578\n",
      "Model -->  models_simple/10_7\n"
     ]
    }
   ],
   "source": [
    "with tf.device('/cpu:0'):\n",
    "    for input_size in n:\n",
    "        for pred_horizon in pred_horizons:\n",
    "            train_model_simple(train_patients ,input_size, pred_horizon)"
   ]
  },
  {
   "attachments": {},
   "cell_type": "markdown",
   "metadata": {},
   "source": [
    "## Test"
   ]
  },
  {
   "cell_type": "code",
   "execution_count": 18,
   "metadata": {},
   "outputs": [],
   "source": [
    "from sklearn.metrics import mean_absolute_error, mean_squared_error\n",
    "from tensorflow import keras\n",
    "\n",
    "def evaluate_model(model, X_test, y_test):\n",
    "    \"\"\"\n",
    "    Evaluate the model on test data and return the evaluation metrics.\n",
    "    \"\"\"\n",
    "    y_pred = model.predict(X_test)\n",
    "    mae = mean_absolute_error(y_test, y_pred)\n",
    "    mse = mean_squared_error(y_test, y_pred)\n",
    "    corr = np.corrcoef(y_test.squeeze(), y_pred.squeeze())[0, 1]\n",
    "    return mae, mse, corr\n",
    "\n",
    "from scipy import signal\n",
    "def ccf_values(series1, series2):\n",
    "    p = series1\n",
    "    q = series2\n",
    "    p = (p - np.mean(p)) / (np.std(p) * len(p))\n",
    "    q = (q - np.mean(q)) / (np.std(q))  \n",
    "    c = np.correlate(p, q, 'full')\n",
    "    return c\n",
    "\n",
    "def ccf_plot(path, i, lags, ccf):\n",
    "    fig, ax =plt.subplots(figsize=(9, 6))\n",
    "    ax.plot(lags, ccf)\n",
    "    ax.axvline(x = 0, color = 'black', lw = 1)\n",
    "    ax.axhline(y = 0, color = 'black', lw = 1)\n",
    "    ax.axhline(y = np.max(ccf), color = 'blue', lw = 1, linestyle='--', label = 'highest +/- correlation')\n",
    "    ax.axhline(y = np.min(ccf), color = 'blue', lw = 1, linestyle='--')\n",
    "    ax.set(ylim = [-1, 1])\n",
    "    ax.set_title('Cross Correlation', weight='bold', fontsize = 15)\n",
    "    ax.set_ylabel('Correlation Coefficients', weight='bold', \n",
    "    fontsize = 12)\n",
    "    ax.set_xlabel('Time Lags', weight='bold', fontsize = 12)\n",
    "    plt.legend()\n",
    "    plt.savefig(os.path.join(path, f'paciente_{i}_correlation.png'))\n",
    "    plt.close()\n",
    "\n",
    "def test_model_simple(data, input_size, pred_horizon):\n",
    "    \"\"\"\n",
    "    Test the trained model on a group of test patients and save the evaluation metrics and plots.\n",
    "    \"\"\"\n",
    "    # Load the trained model\n",
    "    model_path = 'models_simple/' + str(input_size) + '_' + str(pred_horizon)\n",
    "    model = keras.models.load_model(model_path)\n",
    "\n",
    "    # Create directories to save the plots and evaluation results\n",
    "    plots_path = 'plots_simple/' + str(input_size) + '_' + str(pred_horizon)\n",
    "    os.makedirs(plots_path, exist_ok=True)\n",
    "    results_path = 'results_simple/' + str(input_size) + '_' + str(pred_horizon)\n",
    "    os.makedirs(results_path, exist_ok=True)\n",
    "\n",
    "    for i in range(0, np.size(data, 1)):\n",
    "        # Filter the data and prepare the test inputs and targets\n",
    "        data_filter = filtragem(data[:, i])\n",
    "        X_test, y_test = data_prep(data_filter, input_size, pred_horizon, True)\n",
    "\n",
    "        # Make predictions\n",
    "        y_pred = model.predict(X_test)\n",
    "\n",
    "        # Plot the data and predictions\n",
    "        plt.plot(data[:, i], label='Original Data')\n",
    "        plt.plot(data_filter, label='Filtered Data')\n",
    "        plt.plot(np.arange(input_size+pred_horizon-1, len(data_filter)), y_test.squeeze(), label='True Values')\n",
    "        plt.plot(np.arange(input_size+pred_horizon-1, len(data_filter)), y_pred.squeeze(), label='Predictions')\n",
    "        plt.legend()\n",
    "        plt.savefig(os.path.join(plots_path, f'paciente_{i}.png'))\n",
    "        plt.close()\n",
    "\n",
    "        # Compute Cross-correlation\n",
    "        # corr_values = signal.correlate(y_pred.squeeze(), y_test.squeeze(), mode='full')\n",
    "        # corr_values = corr_values / np.concatenate((np.arange(1, len(y_pred)+1), np.arange(len(y_pred)-1, 0, -1)))\n",
    "        # #print(corr_values)\n",
    "        # plt.plot(np.arange(-len(y_pred)+1, len(y_pred)), corr_values)\n",
    "        # plt.xlim((-15, 15))\n",
    "        # plt.show()\n",
    "\n",
    "        # # Compute cross-correlation\n",
    "        # x = data_filter[input_size-1:-pred_horizon]\n",
    "        # y = y_pred.squeeze()\n",
    "        # ccf_ielts = ccf_values(x, y)\n",
    "        # lags = signal.correlation_lags(len(x), len(y))\n",
    "        # ccf_plot(plots_path, i, lags, ccf_ielts)\n",
    "        \n",
    "        \n",
    "        # Evaluate the model and save the results\n",
    "        mae, mse, corr = evaluate_model(model, X_test, y_test)\n",
    "        with open(os.path.join(results_path, f'paciente_{i}.txt'), 'w') as f:\n",
    "            f.write(f'MAE: {mae:.4f}\\nMSE: {mse:.4f}\\nCORR: {corr:.4f}')\n",
    "\n",
    "    backend.clear_session()\n"
   ]
  },
  {
   "cell_type": "code",
   "execution_count": 19,
   "metadata": {},
   "outputs": [
    {
     "name": "stdout",
     "output_type": "stream",
     "text": [
      "2/2 [==============================] - 0s 27ms/step\n",
      "2/2 [==============================] - 0s 6ms/step\n",
      "2/2 [==============================] - 0s 4ms/step\n",
      "2/2 [==============================] - 0s 5ms/step\n",
      "2/2 [==============================] - 0s 5ms/step\n",
      "2/2 [==============================] - 0s 7ms/step\n",
      "2/2 [==============================] - 0s 5ms/step\n",
      "2/2 [==============================] - 0s 5ms/step\n",
      "2/2 [==============================] - 0s 5ms/step\n",
      "2/2 [==============================] - 0s 5ms/step\n",
      "2/2 [==============================] - 0s 4ms/step\n",
      "2/2 [==============================] - 0s 4ms/step\n",
      "2/2 [==============================] - 0s 4ms/step\n",
      "2/2 [==============================] - 0s 4ms/step\n",
      "2/2 [==============================] - 0s 4ms/step\n",
      "2/2 [==============================] - 0s 4ms/step\n",
      "2/2 [==============================] - 0s 4ms/step\n",
      "2/2 [==============================] - 0s 5ms/step\n",
      "2/2 [==============================] - 0s 5ms/step\n",
      "2/2 [==============================] - 0s 6ms/step\n",
      "2/2 [==============================] - 0s 6ms/step\n",
      "2/2 [==============================] - 0s 4ms/step\n",
      "2/2 [==============================] - 0s 4ms/step\n",
      "2/2 [==============================] - 0s 4ms/step\n",
      "2/2 [==============================] - 0s 4ms/step\n",
      "2/2 [==============================] - 0s 4ms/step\n",
      "2/2 [==============================] - 0s 26ms/step\n",
      "2/2 [==============================] - 0s 4ms/step\n",
      "2/2 [==============================] - 0s 4ms/step\n",
      "2/2 [==============================] - 0s 5ms/step\n",
      "2/2 [==============================] - 0s 4ms/step\n",
      "2/2 [==============================] - 0s 4ms/step\n",
      "2/2 [==============================] - 0s 4ms/step\n",
      "2/2 [==============================] - 0s 4ms/step\n",
      "2/2 [==============================] - 0s 4ms/step\n",
      "2/2 [==============================] - 0s 5ms/step\n",
      "2/2 [==============================] - 0s 5ms/step\n",
      "2/2 [==============================] - 0s 5ms/step\n",
      "2/2 [==============================] - 0s 4ms/step\n",
      "2/2 [==============================] - 0s 4ms/step\n",
      "2/2 [==============================] - 0s 4ms/step\n",
      "2/2 [==============================] - 0s 6ms/step\n",
      "2/2 [==============================] - 0s 4ms/step\n",
      "2/2 [==============================] - 0s 8ms/step\n",
      "2/2 [==============================] - 0s 5ms/step\n",
      "2/2 [==============================] - 0s 5ms/step\n",
      "2/2 [==============================] - 0s 5ms/step\n",
      "2/2 [==============================] - 0s 4ms/step\n",
      "2/2 [==============================] - 0s 4ms/step\n",
      "2/2 [==============================] - 0s 6ms/step\n",
      "2/2 [==============================] - 0s 4ms/step\n",
      "2/2 [==============================] - 0s 4ms/step\n",
      "2/2 [==============================] - 0s 33ms/step\n",
      "2/2 [==============================] - 0s 4ms/step\n",
      "2/2 [==============================] - 0s 4ms/step\n",
      "2/2 [==============================] - 0s 4ms/step\n",
      "2/2 [==============================] - 0s 4ms/step\n",
      "2/2 [==============================] - 0s 8ms/step\n",
      "2/2 [==============================] - 0s 5ms/step\n",
      "2/2 [==============================] - 0s 8ms/step\n",
      "2/2 [==============================] - 0s 4ms/step\n",
      "2/2 [==============================] - 0s 4ms/step\n",
      "2/2 [==============================] - 0s 4ms/step\n",
      "2/2 [==============================] - 0s 5ms/step\n",
      "2/2 [==============================] - 0s 9ms/step\n",
      "2/2 [==============================] - 0s 8ms/step\n",
      "2/2 [==============================] - 0s 4ms/step\n",
      "2/2 [==============================] - 0s 5ms/step\n",
      "2/2 [==============================] - 0s 5ms/step\n",
      "2/2 [==============================] - 0s 4ms/step\n",
      "2/2 [==============================] - 0s 5ms/step\n",
      "2/2 [==============================] - 0s 6ms/step\n",
      "2/2 [==============================] - 0s 4ms/step\n",
      "2/2 [==============================] - 0s 4ms/step\n",
      "2/2 [==============================] - 0s 4ms/step\n",
      "2/2 [==============================] - 0s 4ms/step\n",
      "2/2 [==============================] - 0s 4ms/step\n",
      "2/2 [==============================] - 0s 5ms/step\n",
      "2/2 [==============================] - 0s 26ms/step\n",
      "2/2 [==============================] - 0s 4ms/step\n",
      "2/2 [==============================] - 0s 4ms/step\n",
      "2/2 [==============================] - 0s 4ms/step\n",
      "2/2 [==============================] - 0s 4ms/step\n",
      "2/2 [==============================] - 0s 4ms/step\n",
      "2/2 [==============================] - 0s 4ms/step\n",
      "2/2 [==============================] - 0s 9ms/step\n",
      "2/2 [==============================] - 0s 5ms/step\n",
      "2/2 [==============================] - 0s 5ms/step\n",
      "2/2 [==============================] - 0s 10ms/step\n",
      "2/2 [==============================] - 0s 4ms/step\n",
      "2/2 [==============================] - 0s 4ms/step\n",
      "2/2 [==============================] - 0s 4ms/step\n",
      "2/2 [==============================] - 0s 4ms/step\n",
      "2/2 [==============================] - 0s 6ms/step\n",
      "2/2 [==============================] - 0s 4ms/step\n",
      "2/2 [==============================] - 0s 4ms/step\n",
      "2/2 [==============================] - 0s 5ms/step\n",
      "2/2 [==============================] - 0s 4ms/step\n",
      "2/2 [==============================] - 0s 3ms/step\n",
      "2/2 [==============================] - 0s 8ms/step\n",
      "2/2 [==============================] - 0s 5ms/step\n",
      "2/2 [==============================] - 0s 12ms/step\n",
      "2/2 [==============================] - 0s 4ms/step\n",
      "2/2 [==============================] - 0s 4ms/step\n",
      "2/2 [==============================] - 0s 29ms/step\n",
      "2/2 [==============================] - 0s 4ms/step\n",
      "2/2 [==============================] - 0s 4ms/step\n",
      "2/2 [==============================] - 0s 4ms/step\n",
      "2/2 [==============================] - 0s 4ms/step\n",
      "2/2 [==============================] - 0s 7ms/step\n",
      "2/2 [==============================] - 0s 4ms/step\n",
      "2/2 [==============================] - 0s 5ms/step\n",
      "2/2 [==============================] - 0s 4ms/step\n",
      "2/2 [==============================] - 0s 4ms/step\n",
      "2/2 [==============================] - 0s 4ms/step\n",
      "2/2 [==============================] - 0s 6ms/step\n",
      "2/2 [==============================] - 0s 5ms/step\n",
      "2/2 [==============================] - 0s 4ms/step\n",
      "2/2 [==============================] - 0s 4ms/step\n",
      "2/2 [==============================] - 0s 5ms/step\n",
      "2/2 [==============================] - 0s 4ms/step\n",
      "2/2 [==============================] - 0s 4ms/step\n",
      "2/2 [==============================] - 0s 4ms/step\n",
      "2/2 [==============================] - 0s 4ms/step\n",
      "2/2 [==============================] - 0s 4ms/step\n",
      "2/2 [==============================] - 0s 6ms/step\n",
      "2/2 [==============================] - 0s 3ms/step\n",
      "2/2 [==============================] - 0s 4ms/step\n",
      "2/2 [==============================] - 0s 4ms/step\n",
      "2/2 [==============================] - 0s 3ms/step\n",
      "2/2 [==============================] - 0s 23ms/step\n",
      "2/2 [==============================] - 0s 4ms/step\n",
      "2/2 [==============================] - 0s 4ms/step\n",
      "2/2 [==============================] - 0s 4ms/step\n",
      "2/2 [==============================] - 0s 4ms/step\n",
      "2/2 [==============================] - 0s 4ms/step\n",
      "2/2 [==============================] - 0s 5ms/step\n",
      "2/2 [==============================] - 0s 4ms/step\n",
      "2/2 [==============================] - 0s 4ms/step\n",
      "2/2 [==============================] - 0s 4ms/step\n",
      "2/2 [==============================] - 0s 5ms/step\n",
      "2/2 [==============================] - 0s 4ms/step\n",
      "2/2 [==============================] - 0s 4ms/step\n",
      "2/2 [==============================] - 0s 4ms/step\n",
      "2/2 [==============================] - 0s 5ms/step\n",
      "2/2 [==============================] - 0s 4ms/step\n",
      "2/2 [==============================] - 0s 3ms/step\n",
      "2/2 [==============================] - 0s 5ms/step\n",
      "2/2 [==============================] - 0s 5ms/step\n",
      "2/2 [==============================] - 0s 5ms/step\n",
      "2/2 [==============================] - 0s 5ms/step\n",
      "2/2 [==============================] - 0s 5ms/step\n",
      "2/2 [==============================] - 0s 5ms/step\n",
      "2/2 [==============================] - 0s 6ms/step\n",
      "2/2 [==============================] - 0s 5ms/step\n",
      "2/2 [==============================] - 0s 4ms/step\n",
      "2/2 [==============================] - 0s 26ms/step\n",
      "2/2 [==============================] - 0s 4ms/step\n",
      "2/2 [==============================] - 0s 4ms/step\n",
      "2/2 [==============================] - 0s 6ms/step\n",
      "2/2 [==============================] - 0s 5ms/step\n",
      "2/2 [==============================] - 0s 4ms/step\n",
      "2/2 [==============================] - 0s 4ms/step\n",
      "2/2 [==============================] - 0s 4ms/step\n",
      "2/2 [==============================] - 0s 4ms/step\n",
      "2/2 [==============================] - 0s 4ms/step\n",
      "2/2 [==============================] - 0s 4ms/step\n",
      "2/2 [==============================] - 0s 4ms/step\n",
      "2/2 [==============================] - 0s 4ms/step\n",
      "2/2 [==============================] - 0s 5ms/step\n",
      "2/2 [==============================] - 0s 5ms/step\n",
      "2/2 [==============================] - 0s 5ms/step\n",
      "2/2 [==============================] - 0s 5ms/step\n",
      "2/2 [==============================] - 0s 4ms/step\n",
      "2/2 [==============================] - 0s 4ms/step\n",
      "2/2 [==============================] - 0s 4ms/step\n",
      "2/2 [==============================] - 0s 3ms/step\n",
      "2/2 [==============================] - 0s 4ms/step\n",
      "2/2 [==============================] - 0s 4ms/step\n",
      "2/2 [==============================] - 0s 4ms/step\n",
      "2/2 [==============================] - 0s 4ms/step\n",
      "2/2 [==============================] - 0s 4ms/step\n",
      "2/2 [==============================] - 0s 36ms/step\n",
      "2/2 [==============================] - 0s 4ms/step\n",
      "2/2 [==============================] - 0s 6ms/step\n",
      "2/2 [==============================] - 0s 4ms/step\n",
      "2/2 [==============================] - 0s 4ms/step\n",
      "2/2 [==============================] - 0s 6ms/step\n",
      "2/2 [==============================] - 0s 6ms/step\n",
      "2/2 [==============================] - 0s 4ms/step\n",
      "2/2 [==============================] - 0s 4ms/step\n",
      "2/2 [==============================] - 0s 4ms/step\n",
      "2/2 [==============================] - 0s 5ms/step\n",
      "2/2 [==============================] - 0s 4ms/step\n",
      "2/2 [==============================] - 0s 6ms/step\n",
      "2/2 [==============================] - 0s 4ms/step\n",
      "2/2 [==============================] - 0s 4ms/step\n",
      "2/2 [==============================] - 0s 3ms/step\n",
      "2/2 [==============================] - 0s 4ms/step\n",
      "2/2 [==============================] - 0s 5ms/step\n",
      "2/2 [==============================] - 0s 5ms/step\n",
      "2/2 [==============================] - 0s 6ms/step\n",
      "2/2 [==============================] - 0s 3ms/step\n",
      "2/2 [==============================] - 0s 4ms/step\n",
      "2/2 [==============================] - 0s 5ms/step\n",
      "2/2 [==============================] - 0s 4ms/step\n",
      "2/2 [==============================] - 0s 4ms/step\n",
      "2/2 [==============================] - 0s 4ms/step\n",
      "2/2 [==============================] - 0s 23ms/step\n",
      "2/2 [==============================] - 0s 4ms/step\n",
      "2/2 [==============================] - 0s 4ms/step\n",
      "2/2 [==============================] - 0s 4ms/step\n",
      "2/2 [==============================] - 0s 4ms/step\n",
      "2/2 [==============================] - 0s 5ms/step\n",
      "2/2 [==============================] - 0s 3ms/step\n",
      "2/2 [==============================] - 0s 4ms/step\n",
      "2/2 [==============================] - 0s 3ms/step\n",
      "2/2 [==============================] - 0s 4ms/step\n",
      "2/2 [==============================] - 0s 4ms/step\n",
      "2/2 [==============================] - 0s 4ms/step\n",
      "2/2 [==============================] - 0s 4ms/step\n",
      "2/2 [==============================] - 0s 3ms/step\n",
      "2/2 [==============================] - 0s 3ms/step\n",
      "2/2 [==============================] - 0s 4ms/step\n",
      "2/2 [==============================] - 0s 4ms/step\n",
      "2/2 [==============================] - 0s 4ms/step\n",
      "2/2 [==============================] - 0s 3ms/step\n",
      "2/2 [==============================] - 0s 4ms/step\n",
      "2/2 [==============================] - 0s 4ms/step\n",
      "2/2 [==============================] - 0s 5ms/step\n",
      "2/2 [==============================] - 0s 4ms/step\n",
      "2/2 [==============================] - 0s 4ms/step\n",
      "2/2 [==============================] - 0s 4ms/step\n",
      "2/2 [==============================] - 0s 3ms/step\n",
      "2/2 [==============================] - 0s 24ms/step\n",
      "2/2 [==============================] - 0s 4ms/step\n",
      "2/2 [==============================] - 0s 4ms/step\n",
      "2/2 [==============================] - 0s 4ms/step\n",
      "2/2 [==============================] - 0s 4ms/step\n",
      "2/2 [==============================] - 0s 4ms/step\n",
      "2/2 [==============================] - 0s 4ms/step\n",
      "2/2 [==============================] - 0s 5ms/step\n",
      "2/2 [==============================] - 0s 5ms/step\n",
      "2/2 [==============================] - 0s 4ms/step\n",
      "2/2 [==============================] - 0s 4ms/step\n",
      "2/2 [==============================] - 0s 4ms/step\n",
      "2/2 [==============================] - 0s 4ms/step\n",
      "2/2 [==============================] - 0s 4ms/step\n",
      "2/2 [==============================] - 0s 4ms/step\n",
      "2/2 [==============================] - 0s 4ms/step\n",
      "2/2 [==============================] - 0s 4ms/step\n",
      "2/2 [==============================] - 0s 4ms/step\n",
      "2/2 [==============================] - 0s 4ms/step\n",
      "2/2 [==============================] - 0s 4ms/step\n",
      "2/2 [==============================] - 0s 4ms/step\n",
      "2/2 [==============================] - 0s 4ms/step\n",
      "2/2 [==============================] - 0s 4ms/step\n",
      "2/2 [==============================] - 0s 4ms/step\n",
      "2/2 [==============================] - 0s 6ms/step\n",
      "2/2 [==============================] - 0s 4ms/step\n",
      "2/2 [==============================] - 0s 22ms/step\n",
      "2/2 [==============================] - 0s 4ms/step\n",
      "2/2 [==============================] - 0s 4ms/step\n",
      "2/2 [==============================] - 0s 4ms/step\n",
      "2/2 [==============================] - 0s 4ms/step\n",
      "2/2 [==============================] - 0s 4ms/step\n",
      "2/2 [==============================] - 0s 4ms/step\n",
      "2/2 [==============================] - 0s 4ms/step\n",
      "2/2 [==============================] - 0s 3ms/step\n",
      "2/2 [==============================] - 0s 4ms/step\n",
      "2/2 [==============================] - 0s 4ms/step\n",
      "2/2 [==============================] - 0s 4ms/step\n",
      "2/2 [==============================] - 0s 6ms/step\n",
      "2/2 [==============================] - 0s 4ms/step\n",
      "2/2 [==============================] - 0s 4ms/step\n",
      "2/2 [==============================] - 0s 4ms/step\n",
      "2/2 [==============================] - 0s 4ms/step\n",
      "2/2 [==============================] - 0s 4ms/step\n",
      "2/2 [==============================] - 0s 4ms/step\n",
      "2/2 [==============================] - 0s 4ms/step\n",
      "2/2 [==============================] - 0s 3ms/step\n",
      "2/2 [==============================] - 0s 4ms/step\n",
      "2/2 [==============================] - 0s 4ms/step\n",
      "2/2 [==============================] - 0s 4ms/step\n",
      "2/2 [==============================] - 0s 4ms/step\n",
      "2/2 [==============================] - 0s 4ms/step\n",
      "2/2 [==============================] - 0s 23ms/step\n",
      "2/2 [==============================] - 0s 4ms/step\n",
      "2/2 [==============================] - 0s 4ms/step\n",
      "2/2 [==============================] - 0s 4ms/step\n",
      "2/2 [==============================] - 0s 4ms/step\n",
      "2/2 [==============================] - 0s 4ms/step\n",
      "2/2 [==============================] - 0s 4ms/step\n",
      "2/2 [==============================] - 0s 4ms/step\n",
      "2/2 [==============================] - 0s 4ms/step\n",
      "2/2 [==============================] - 0s 4ms/step\n",
      "2/2 [==============================] - 0s 4ms/step\n",
      "2/2 [==============================] - 0s 4ms/step\n",
      "2/2 [==============================] - 0s 4ms/step\n",
      "2/2 [==============================] - 0s 6ms/step\n",
      "2/2 [==============================] - 0s 5ms/step\n",
      "2/2 [==============================] - 0s 4ms/step\n",
      "2/2 [==============================] - 0s 5ms/step\n",
      "2/2 [==============================] - 0s 4ms/step\n",
      "2/2 [==============================] - 0s 4ms/step\n",
      "2/2 [==============================] - 0s 4ms/step\n",
      "2/2 [==============================] - 0s 4ms/step\n",
      "2/2 [==============================] - 0s 5ms/step\n",
      "2/2 [==============================] - 0s 4ms/step\n",
      "2/2 [==============================] - 0s 4ms/step\n",
      "2/2 [==============================] - 0s 4ms/step\n",
      "2/2 [==============================] - 0s 4ms/step\n",
      "2/2 [==============================] - 0s 32ms/step\n",
      "2/2 [==============================] - 0s 5ms/step\n",
      "2/2 [==============================] - 0s 4ms/step\n",
      "2/2 [==============================] - 0s 4ms/step\n",
      "2/2 [==============================] - 0s 5ms/step\n",
      "2/2 [==============================] - 0s 5ms/step\n",
      "2/2 [==============================] - 0s 6ms/step\n",
      "2/2 [==============================] - 0s 4ms/step\n",
      "2/2 [==============================] - 0s 5ms/step\n",
      "2/2 [==============================] - 0s 4ms/step\n",
      "2/2 [==============================] - 0s 4ms/step\n",
      "2/2 [==============================] - 0s 4ms/step\n",
      "2/2 [==============================] - 0s 4ms/step\n",
      "2/2 [==============================] - 0s 3ms/step\n",
      "2/2 [==============================] - 0s 4ms/step\n",
      "2/2 [==============================] - 0s 4ms/step\n",
      "2/2 [==============================] - 0s 4ms/step\n",
      "2/2 [==============================] - 0s 4ms/step\n",
      "2/2 [==============================] - 0s 4ms/step\n",
      "2/2 [==============================] - 0s 4ms/step\n",
      "2/2 [==============================] - 0s 4ms/step\n",
      "2/2 [==============================] - 0s 5ms/step\n",
      "2/2 [==============================] - 0s 3ms/step\n",
      "2/2 [==============================] - 0s 4ms/step\n",
      "2/2 [==============================] - 0s 5ms/step\n",
      "2/2 [==============================] - 0s 4ms/step\n",
      "2/2 [==============================] - 0s 25ms/step\n",
      "2/2 [==============================] - 0s 4ms/step\n",
      "2/2 [==============================] - 0s 5ms/step\n",
      "2/2 [==============================] - 0s 4ms/step\n",
      "2/2 [==============================] - 0s 5ms/step\n",
      "2/2 [==============================] - 0s 4ms/step\n",
      "2/2 [==============================] - 0s 4ms/step\n",
      "2/2 [==============================] - 0s 4ms/step\n",
      "2/2 [==============================] - 0s 4ms/step\n",
      "2/2 [==============================] - 0s 4ms/step\n",
      "2/2 [==============================] - 0s 4ms/step\n",
      "2/2 [==============================] - 0s 4ms/step\n",
      "2/2 [==============================] - 0s 4ms/step\n",
      "2/2 [==============================] - 0s 7ms/step\n",
      "2/2 [==============================] - 0s 4ms/step\n",
      "2/2 [==============================] - 0s 4ms/step\n",
      "2/2 [==============================] - 0s 4ms/step\n",
      "2/2 [==============================] - 0s 5ms/step\n",
      "2/2 [==============================] - 0s 4ms/step\n",
      "2/2 [==============================] - 0s 4ms/step\n",
      "2/2 [==============================] - 0s 5ms/step\n",
      "2/2 [==============================] - 0s 5ms/step\n",
      "2/2 [==============================] - 0s 5ms/step\n",
      "2/2 [==============================] - 0s 4ms/step\n",
      "2/2 [==============================] - 0s 5ms/step\n",
      "2/2 [==============================] - 0s 4ms/step\n",
      "2/2 [==============================] - 0s 26ms/step\n",
      "2/2 [==============================] - 0s 5ms/step\n",
      "2/2 [==============================] - 0s 4ms/step\n",
      "2/2 [==============================] - 0s 4ms/step\n",
      "2/2 [==============================] - 0s 5ms/step\n",
      "2/2 [==============================] - 0s 4ms/step\n",
      "2/2 [==============================] - 0s 4ms/step\n",
      "2/2 [==============================] - 0s 5ms/step\n",
      "2/2 [==============================] - 0s 4ms/step\n",
      "2/2 [==============================] - 0s 4ms/step\n",
      "2/2 [==============================] - 0s 5ms/step\n",
      "2/2 [==============================] - 0s 4ms/step\n",
      "2/2 [==============================] - 0s 4ms/step\n",
      "2/2 [==============================] - 0s 4ms/step\n",
      "2/2 [==============================] - 0s 4ms/step\n",
      "2/2 [==============================] - 0s 4ms/step\n",
      "2/2 [==============================] - 0s 5ms/step\n",
      "2/2 [==============================] - 0s 4ms/step\n",
      "2/2 [==============================] - 0s 3ms/step\n",
      "2/2 [==============================] - 0s 4ms/step\n",
      "2/2 [==============================] - 0s 5ms/step\n",
      "2/2 [==============================] - 0s 4ms/step\n",
      "2/2 [==============================] - 0s 4ms/step\n",
      "2/2 [==============================] - 0s 4ms/step\n",
      "2/2 [==============================] - 0s 4ms/step\n",
      "2/2 [==============================] - 0s 4ms/step\n",
      "2/2 [==============================] - 0s 26ms/step\n",
      "2/2 [==============================] - 0s 4ms/step\n",
      "2/2 [==============================] - 0s 4ms/step\n",
      "2/2 [==============================] - 0s 4ms/step\n",
      "2/2 [==============================] - 0s 5ms/step\n",
      "2/2 [==============================] - 0s 4ms/step\n",
      "2/2 [==============================] - 0s 5ms/step\n",
      "2/2 [==============================] - 0s 5ms/step\n",
      "2/2 [==============================] - 0s 4ms/step\n",
      "2/2 [==============================] - 0s 4ms/step\n",
      "2/2 [==============================] - 0s 4ms/step\n",
      "2/2 [==============================] - 0s 4ms/step\n",
      "2/2 [==============================] - 0s 5ms/step\n",
      "2/2 [==============================] - 0s 4ms/step\n",
      "2/2 [==============================] - 0s 4ms/step\n",
      "2/2 [==============================] - 0s 5ms/step\n",
      "2/2 [==============================] - 0s 5ms/step\n",
      "2/2 [==============================] - 0s 4ms/step\n",
      "2/2 [==============================] - 0s 4ms/step\n",
      "2/2 [==============================] - 0s 4ms/step\n",
      "2/2 [==============================] - 0s 5ms/step\n",
      "2/2 [==============================] - 0s 4ms/step\n",
      "2/2 [==============================] - 0s 4ms/step\n",
      "2/2 [==============================] - 0s 4ms/step\n",
      "2/2 [==============================] - 0s 4ms/step\n",
      "2/2 [==============================] - 0s 4ms/step\n",
      "2/2 [==============================] - 0s 23ms/step\n",
      "2/2 [==============================] - 0s 4ms/step\n",
      "2/2 [==============================] - 0s 4ms/step\n",
      "2/2 [==============================] - 0s 4ms/step\n",
      "2/2 [==============================] - 0s 4ms/step\n",
      "2/2 [==============================] - 0s 4ms/step\n",
      "2/2 [==============================] - 0s 4ms/step\n",
      "2/2 [==============================] - 0s 4ms/step\n",
      "2/2 [==============================] - 0s 4ms/step\n",
      "2/2 [==============================] - 0s 4ms/step\n",
      "2/2 [==============================] - 0s 4ms/step\n",
      "2/2 [==============================] - 0s 5ms/step\n",
      "2/2 [==============================] - 0s 5ms/step\n",
      "2/2 [==============================] - 0s 5ms/step\n",
      "2/2 [==============================] - 0s 4ms/step\n",
      "2/2 [==============================] - 0s 4ms/step\n",
      "2/2 [==============================] - 0s 4ms/step\n",
      "2/2 [==============================] - 0s 4ms/step\n",
      "2/2 [==============================] - 0s 4ms/step\n",
      "2/2 [==============================] - 0s 4ms/step\n",
      "2/2 [==============================] - 0s 4ms/step\n",
      "2/2 [==============================] - 0s 4ms/step\n",
      "2/2 [==============================] - 0s 4ms/step\n",
      "2/2 [==============================] - 0s 4ms/step\n",
      "2/2 [==============================] - 0s 4ms/step\n",
      "2/2 [==============================] - 0s 4ms/step\n",
      "2/2 [==============================] - 0s 24ms/step\n",
      "2/2 [==============================] - 0s 4ms/step\n",
      "2/2 [==============================] - 0s 5ms/step\n",
      "2/2 [==============================] - 0s 4ms/step\n",
      "2/2 [==============================] - 0s 4ms/step\n",
      "2/2 [==============================] - 0s 4ms/step\n",
      "2/2 [==============================] - 0s 4ms/step\n",
      "2/2 [==============================] - 0s 4ms/step\n",
      "2/2 [==============================] - 0s 4ms/step\n",
      "2/2 [==============================] - 0s 5ms/step\n",
      "2/2 [==============================] - 0s 4ms/step\n",
      "2/2 [==============================] - 0s 4ms/step\n",
      "2/2 [==============================] - 0s 4ms/step\n",
      "2/2 [==============================] - 0s 4ms/step\n",
      "2/2 [==============================] - 0s 6ms/step\n",
      "2/2 [==============================] - 0s 4ms/step\n",
      "2/2 [==============================] - 0s 4ms/step\n",
      "2/2 [==============================] - 0s 4ms/step\n",
      "2/2 [==============================] - 0s 4ms/step\n",
      "2/2 [==============================] - 0s 4ms/step\n",
      "2/2 [==============================] - 0s 4ms/step\n",
      "2/2 [==============================] - 0s 4ms/step\n",
      "2/2 [==============================] - 0s 4ms/step\n",
      "2/2 [==============================] - 0s 4ms/step\n",
      "2/2 [==============================] - 0s 4ms/step\n",
      "2/2 [==============================] - 0s 4ms/step\n",
      "2/2 [==============================] - 0s 25ms/step\n",
      "2/2 [==============================] - 0s 4ms/step\n",
      "2/2 [==============================] - 0s 4ms/step\n",
      "2/2 [==============================] - 0s 4ms/step\n",
      "2/2 [==============================] - 0s 4ms/step\n",
      "2/2 [==============================] - 0s 4ms/step\n",
      "2/2 [==============================] - 0s 4ms/step\n",
      "2/2 [==============================] - 0s 4ms/step\n",
      "2/2 [==============================] - 0s 6ms/step\n",
      "2/2 [==============================] - 0s 4ms/step\n",
      "2/2 [==============================] - 0s 4ms/step\n",
      "2/2 [==============================] - 0s 4ms/step\n",
      "2/2 [==============================] - 0s 4ms/step\n",
      "2/2 [==============================] - 0s 3ms/step\n",
      "2/2 [==============================] - 0s 3ms/step\n",
      "2/2 [==============================] - 0s 4ms/step\n",
      "2/2 [==============================] - 0s 4ms/step\n",
      "2/2 [==============================] - 0s 5ms/step\n",
      "2/2 [==============================] - 0s 4ms/step\n",
      "2/2 [==============================] - 0s 5ms/step\n",
      "2/2 [==============================] - 0s 4ms/step\n",
      "2/2 [==============================] - 0s 4ms/step\n",
      "2/2 [==============================] - 0s 4ms/step\n",
      "2/2 [==============================] - 0s 4ms/step\n",
      "2/2 [==============================] - 0s 4ms/step\n",
      "2/2 [==============================] - 0s 4ms/step\n",
      "2/2 [==============================] - 0s 24ms/step\n",
      "2/2 [==============================] - 0s 4ms/step\n",
      "2/2 [==============================] - 0s 4ms/step\n",
      "2/2 [==============================] - 0s 4ms/step\n",
      "2/2 [==============================] - 0s 5ms/step\n",
      "2/2 [==============================] - 0s 4ms/step\n",
      "2/2 [==============================] - 0s 4ms/step\n",
      "2/2 [==============================] - 0s 4ms/step\n",
      "2/2 [==============================] - 0s 3ms/step\n",
      "2/2 [==============================] - 0s 3ms/step\n",
      "2/2 [==============================] - 0s 5ms/step\n",
      "2/2 [==============================] - 0s 4ms/step\n",
      "2/2 [==============================] - 0s 4ms/step\n",
      "2/2 [==============================] - 0s 4ms/step\n",
      "2/2 [==============================] - 0s 4ms/step\n",
      "2/2 [==============================] - 0s 4ms/step\n",
      "2/2 [==============================] - 0s 5ms/step\n",
      "2/2 [==============================] - 0s 4ms/step\n",
      "2/2 [==============================] - 0s 4ms/step\n",
      "2/2 [==============================] - 0s 4ms/step\n",
      "2/2 [==============================] - 0s 5ms/step\n",
      "2/2 [==============================] - 0s 4ms/step\n",
      "2/2 [==============================] - 0s 5ms/step\n",
      "2/2 [==============================] - 0s 4ms/step\n",
      "2/2 [==============================] - 0s 6ms/step\n",
      "2/2 [==============================] - 0s 4ms/step\n"
     ]
    }
   ],
   "source": [
    "for input_size in n:\n",
    "    for pred_horizon in [1, 3, 5, 6, 7]:\n",
    "        test_model_simple(test_patients ,input_size, pred_horizon)"
   ]
  },
  {
   "attachments": {},
   "cell_type": "markdown",
   "metadata": {},
   "source": [
    "### AVG"
   ]
  },
  {
   "cell_type": "code",
   "execution_count": 20,
   "metadata": {},
   "outputs": [],
   "source": [
    "import os\n",
    "\n",
    "for horizon in pred_horizons:\n",
    "    for input_size in n:\n",
    "        results_dir = f\"results_simple/{input_size}_{horizon}\"\n",
    "\n",
    "        # Criar dicionário para armazenar os resultados\n",
    "        results_dict = {}\n",
    "\n",
    "        # Percorrer todos os arquivos txt na pasta de resultados\n",
    "        for file_name in os.listdir(results_dir):\n",
    "            if file_name.endswith(\".txt\"):\n",
    "                # Obter o nome do paciente a partir do nome do arquivo\n",
    "                patient_name = file_name.split(\"_\")[0]\n",
    "                file_path = os.path.join(results_dir, file_name)\n",
    "                with open(file_path, \"r\") as f:\n",
    "                    # Ler os resultados do arquivo\n",
    "                    results = [float(line.split(\":\")[1].strip()) for line in f.readlines()]\n",
    "                # Adicionar os resultados ao dicionário\n",
    "                if patient_name in results_dict:\n",
    "                    results_dict[patient_name].append(results)\n",
    "                else:\n",
    "                    results_dict[patient_name] = [results]\n",
    "\n",
    "        # Calcular a média dos resultados para cada paciente\n",
    "        for patient_name, results_list in results_dict.items():\n",
    "            # Calcular a média de cada métrica\n",
    "            mae_list = [results[0] for results in results_list]\n",
    "            mae_avg = sum(mae_list) / len(mae_list)\n",
    "            mse_list = [results[1] for results in results_list]\n",
    "            mse_avg = sum(mse_list) / len(mse_list)\n",
    "            corr_list = [results[2] for results in results_list]\n",
    "            corr_avg = sum(corr_list) / len(corr_list)\n",
    "            # Salvar os resultados médios em um novo arquivo txt\n",
    "            output_file_path = f\"results_simple/{input_size}_{horizon}/{patient_name}_avg.txt\"\n",
    "            with open(output_file_path, \"w\") as f:\n",
    "                f.write(f\"MAE: {mae_avg:.4f}\\n\")\n",
    "                f.write(f\"MSE: {mse_avg:.4f}\\n\")\n",
    "                f.write(f\"CORR: {corr_avg:.4f}\\n\")\n"
   ]
  },
  {
   "cell_type": "code",
   "execution_count": 21,
   "metadata": {},
   "outputs": [
    {
     "name": "stdout",
     "output_type": "stream",
     "text": [
      "Model information has been saved to 'model_info_simple.csv'.\n"
     ]
    }
   ],
   "source": [
    "import os\n",
    "import csv\n",
    "\n",
    "def generate_model_info_csv():\n",
    "    result_path = 'results_simple'\n",
    "    output_csv_path = 'model_info_simple.csv'\n",
    "\n",
    "    # Get the list of folders in the results directory\n",
    "    folders = os.listdir(result_path)\n",
    "\n",
    "    # Initialize the data lists\n",
    "    model_info = []\n",
    "\n",
    "    # Iterate over the folders\n",
    "    for folder in folders:\n",
    "        folder_path = os.path.join(result_path, folder)\n",
    "        if os.path.isdir(folder_path):\n",
    "            # Extract input size and prediction horizon from the folder name\n",
    "            input_size, pred_horizon = map(int, folder.split('_'))\n",
    "\n",
    "            # Read the paciente_avg.txt file\n",
    "            file_path = os.path.join(folder_path, 'paciente_avg.txt')\n",
    "            with open(file_path, 'r') as f:\n",
    "                lines = f.readlines()\n",
    "\n",
    "            # Parse the metrics from the file\n",
    "            mae = float(lines[0].split(':')[1].strip())\n",
    "            mse = float(lines[1].split(':')[1].strip())\n",
    "            corr = float(lines[2].split(':')[1].strip())\n",
    "\n",
    "            # Append the data to the list\n",
    "            model_info.append((input_size, pred_horizon, mae, mse, corr))\n",
    "\n",
    "    # Sort the model info list by input_size and pred_horizon\n",
    "    sorted_model_info = sorted(model_info, key=lambda x: (x[0], x[1]))\n",
    "\n",
    "    # Write the data to a CSV file\n",
    "    with open(output_csv_path, 'w', newline='') as f:\n",
    "        writer = csv.writer(f)\n",
    "        writer.writerow(['Input Size', 'Prediction Horizon', 'MAE', 'MSE', 'CORR'])\n",
    "        writer.writerows(sorted_model_info)\n",
    "\n",
    "    print(f\"Model information has been saved to '{output_csv_path}'.\")\n",
    "\n",
    "generate_model_info_csv()"
   ]
  },
  {
   "attachments": {},
   "cell_type": "markdown",
   "metadata": {},
   "source": [
    "# Modelo 3 - Gradiente do input"
   ]
  },
  {
   "cell_type": "code",
   "execution_count": 294,
   "metadata": {},
   "outputs": [],
   "source": [
    "def train_model_gradin(data, input_size, pred_horizon):\n",
    "\n",
    "    # Filtragem\n",
    "    data_filter = filtragem(data)\n",
    "\n",
    "    # PARAMS\n",
    "    activationfcn = 'sigmoid'\n",
    "    activationfcn1 = 'linear'\n",
    "    optimizerfcn = 'adam'\n",
    "    lossfcn = 'mse'\n",
    "    n_features = 1\n",
    "    units = 4\n",
    "    units1 = 1\n",
    "\n",
    "    # input layer\n",
    "    inputs = Input(shape=((input_size*2, n_features)))\n",
    "    inputs = Flatten()(inputs)\n",
    "\n",
    "    # passar o input para a hidden layer - parte nao linear\n",
    "    dense = Dense(units=4, activation='sigmoid')\n",
    "    hidden = Flatten()(dense(inputs))\n",
    "\n",
    "    # obter o 1 output (o da camada de input) e juntar ao 2 output (o primeiro output esta a saltar a hidden layer) - parte linear\n",
    "    jump = Concatenate(axis=1)([inputs, hidden])\n",
    "    outputs = Dense(units=1, activation='linear')(jump)\n",
    "\n",
    "    model = Model(inputs=inputs, outputs=outputs)\n",
    "    model.compile(optimizer=optimizerfcn, loss=lossfcn)\n",
    "\n",
    "    for i in range(0, np.size(data_filter, 1)):\n",
    "\n",
    "        X, y = data_prep(data_filter[:, i], input_size, pred_horizon, True)\n",
    "        X_dev = derivada(X)  # Calcular a derivada do X\n",
    "        X_concat = np.concatenate((X, X_dev), axis=1)\n",
    "\n",
    "        if i == 0:\n",
    "            X_train = X_concat\n",
    "            y_train = y\n",
    "        else:\n",
    "            X_train = np.concatenate((X_train, X_concat), axis=0)\n",
    "            y_train = np.concatenate((y_train, y), axis=0)\n",
    "\n",
    "    if X_train.size != 0 and y_train.size != 0:\n",
    "        # reshape de [padroes, n] para [padroes, n, n_features]\n",
    "        #X_train = X_train.reshape((X_train.shape[0], X_train.shape[1], n_features))\n",
    "        \n",
    "        #X_train = X_train.reshape((X_train.shape[0], X_train.shape[1]))\n",
    "        #X_train = np.expand_dims(X_train, axis=-1)\n",
    "\n",
    "        model.fit(X_train, y_train, epochs=300, verbose=0)\n",
    "\n",
    "    # Exibindo o score do modelo treinado\n",
    "    score = model.evaluate(X_train, y_train, verbose=0)\n",
    "    print('Score do modelo:', score)\n",
    "\n",
    "\n",
    "    model_path = 'models_gradin/' + str(input_size) + '_' + str(pred_horizon) \n",
    "    model.save(model_path)\n",
    "    print(\"Model --> \", model_path)\n",
    "\n",
    "    backend.clear_session()"
   ]
  },
  {
   "cell_type": "code",
   "execution_count": 295,
   "metadata": {},
   "outputs": [
    {
     "name": "stderr",
     "output_type": "stream",
     "text": [
      "WARNING:absl:Found untraced functions such as _update_step_xla while saving (showing 1 of 1). These functions will not be directly callable after loading.\n"
     ]
    },
    {
     "name": "stdout",
     "output_type": "stream",
     "text": [
      "Score do modelo: 0.00020672411483246833\n",
      "Model -->  models_gradin/4_1\n"
     ]
    },
    {
     "name": "stderr",
     "output_type": "stream",
     "text": [
      "WARNING:absl:Found untraced functions such as _update_step_xla while saving (showing 1 of 1). These functions will not be directly callable after loading.\n"
     ]
    },
    {
     "name": "stdout",
     "output_type": "stream",
     "text": [
      "Score do modelo: 0.008475759997963905\n",
      "Model -->  models_gradin/4_3\n"
     ]
    },
    {
     "name": "stderr",
     "output_type": "stream",
     "text": [
      "WARNING:absl:Found untraced functions such as _update_step_xla while saving (showing 1 of 1). These functions will not be directly callable after loading.\n"
     ]
    },
    {
     "name": "stdout",
     "output_type": "stream",
     "text": [
      "Score do modelo: 0.008586066775023937\n",
      "Model -->  models_gradin/4_5\n"
     ]
    },
    {
     "name": "stderr",
     "output_type": "stream",
     "text": [
      "WARNING:absl:Found untraced functions such as _update_step_xla while saving (showing 1 of 1). These functions will not be directly callable after loading.\n"
     ]
    },
    {
     "name": "stdout",
     "output_type": "stream",
     "text": [
      "Score do modelo: 0.009001507423818111\n",
      "Model -->  models_gradin/4_6\n"
     ]
    },
    {
     "name": "stderr",
     "output_type": "stream",
     "text": [
      "WARNING:absl:Found untraced functions such as _update_step_xla while saving (showing 1 of 1). These functions will not be directly callable after loading.\n"
     ]
    },
    {
     "name": "stdout",
     "output_type": "stream",
     "text": [
      "Score do modelo: 0.009278607554733753\n",
      "Model -->  models_gradin/4_7\n"
     ]
    },
    {
     "name": "stderr",
     "output_type": "stream",
     "text": [
      "WARNING:absl:Found untraced functions such as _update_step_xla while saving (showing 1 of 1). These functions will not be directly callable after loading.\n"
     ]
    },
    {
     "name": "stdout",
     "output_type": "stream",
     "text": [
      "Score do modelo: 0.00021652065333910286\n",
      "Model -->  models_gradin/6_1\n"
     ]
    },
    {
     "name": "stderr",
     "output_type": "stream",
     "text": [
      "WARNING:absl:Found untraced functions such as _update_step_xla while saving (showing 1 of 1). These functions will not be directly callable after loading.\n"
     ]
    },
    {
     "name": "stdout",
     "output_type": "stream",
     "text": [
      "Score do modelo: 0.007969805039465427\n",
      "Model -->  models_gradin/6_3\n"
     ]
    },
    {
     "name": "stderr",
     "output_type": "stream",
     "text": [
      "WARNING:absl:Found untraced functions such as _update_step_xla while saving (showing 1 of 1). These functions will not be directly callable after loading.\n"
     ]
    },
    {
     "name": "stdout",
     "output_type": "stream",
     "text": [
      "Score do modelo: 0.008632897399365902\n",
      "Model -->  models_gradin/6_5\n"
     ]
    },
    {
     "name": "stderr",
     "output_type": "stream",
     "text": [
      "WARNING:absl:Found untraced functions such as _update_step_xla while saving (showing 1 of 1). These functions will not be directly callable after loading.\n"
     ]
    },
    {
     "name": "stdout",
     "output_type": "stream",
     "text": [
      "Score do modelo: 0.008756929077208042\n",
      "Model -->  models_gradin/6_6\n",
      "Score do modelo: 0.009294625371694565\n"
     ]
    },
    {
     "name": "stderr",
     "output_type": "stream",
     "text": [
      "WARNING:absl:Found untraced functions such as _update_step_xla while saving (showing 1 of 1). These functions will not be directly callable after loading.\n"
     ]
    },
    {
     "name": "stdout",
     "output_type": "stream",
     "text": [
      "Model -->  models_gradin/6_7\n"
     ]
    },
    {
     "name": "stderr",
     "output_type": "stream",
     "text": [
      "WARNING:absl:Found untraced functions such as _update_step_xla while saving (showing 1 of 1). These functions will not be directly callable after loading.\n"
     ]
    },
    {
     "name": "stdout",
     "output_type": "stream",
     "text": [
      "Score do modelo: 0.0003930928651243448\n",
      "Model -->  models_gradin/8_1\n"
     ]
    },
    {
     "name": "stderr",
     "output_type": "stream",
     "text": [
      "WARNING:absl:Found untraced functions such as _update_step_xla while saving (showing 1 of 1). These functions will not be directly callable after loading.\n"
     ]
    },
    {
     "name": "stdout",
     "output_type": "stream",
     "text": [
      "Score do modelo: 0.00822452362626791\n",
      "Model -->  models_gradin/8_3\n"
     ]
    },
    {
     "name": "stderr",
     "output_type": "stream",
     "text": [
      "WARNING:absl:Found untraced functions such as _update_step_xla while saving (showing 1 of 1). These functions will not be directly callable after loading.\n"
     ]
    },
    {
     "name": "stdout",
     "output_type": "stream",
     "text": [
      "Score do modelo: 0.00872668158262968\n",
      "Model -->  models_gradin/8_5\n"
     ]
    },
    {
     "name": "stderr",
     "output_type": "stream",
     "text": [
      "WARNING:absl:Found untraced functions such as _update_step_xla while saving (showing 1 of 1). These functions will not be directly callable after loading.\n"
     ]
    },
    {
     "name": "stdout",
     "output_type": "stream",
     "text": [
      "Score do modelo: 0.008616635575890541\n",
      "Model -->  models_gradin/8_6\n"
     ]
    },
    {
     "name": "stderr",
     "output_type": "stream",
     "text": [
      "WARNING:absl:Found untraced functions such as _update_step_xla while saving (showing 1 of 1). These functions will not be directly callable after loading.\n"
     ]
    },
    {
     "name": "stdout",
     "output_type": "stream",
     "text": [
      "Score do modelo: 0.00960622914135456\n",
      "Model -->  models_gradin/8_7\n"
     ]
    },
    {
     "name": "stderr",
     "output_type": "stream",
     "text": [
      "WARNING:absl:Found untraced functions such as _update_step_xla while saving (showing 1 of 1). These functions will not be directly callable after loading.\n"
     ]
    },
    {
     "name": "stdout",
     "output_type": "stream",
     "text": [
      "Score do modelo: 0.0003121485351584852\n",
      "Model -->  models_gradin/10_1\n"
     ]
    },
    {
     "name": "stderr",
     "output_type": "stream",
     "text": [
      "WARNING:absl:Found untraced functions such as _update_step_xla while saving (showing 1 of 1). These functions will not be directly callable after loading.\n"
     ]
    },
    {
     "name": "stdout",
     "output_type": "stream",
     "text": [
      "Score do modelo: 0.008240894414484501\n",
      "Model -->  models_gradin/10_3\n"
     ]
    },
    {
     "name": "stderr",
     "output_type": "stream",
     "text": [
      "WARNING:absl:Found untraced functions such as _update_step_xla while saving (showing 1 of 1). These functions will not be directly callable after loading.\n"
     ]
    },
    {
     "name": "stdout",
     "output_type": "stream",
     "text": [
      "Score do modelo: 0.008959331549704075\n",
      "Model -->  models_gradin/10_5\n"
     ]
    },
    {
     "name": "stderr",
     "output_type": "stream",
     "text": [
      "WARNING:absl:Found untraced functions such as _update_step_xla while saving (showing 1 of 1). These functions will not be directly callable after loading.\n"
     ]
    },
    {
     "name": "stdout",
     "output_type": "stream",
     "text": [
      "Score do modelo: 0.008883490227162838\n",
      "Model -->  models_gradin/10_6\n"
     ]
    },
    {
     "name": "stderr",
     "output_type": "stream",
     "text": [
      "WARNING:absl:Found untraced functions such as _update_step_xla while saving (showing 1 of 1). These functions will not be directly callable after loading.\n"
     ]
    },
    {
     "name": "stdout",
     "output_type": "stream",
     "text": [
      "Score do modelo: 0.009336428716778755\n",
      "Model -->  models_gradin/10_7\n"
     ]
    }
   ],
   "source": [
    "with tf.device('/cpu:0'):\n",
    "    for input_size in n:\n",
    "        for pred_horizon in pred_horizons:\n",
    "            train_model_gradin(train_patients ,input_size, pred_horizon)"
   ]
  },
  {
   "attachments": {},
   "cell_type": "markdown",
   "metadata": {},
   "source": [
    "## Test"
   ]
  },
  {
   "cell_type": "code",
   "execution_count": 296,
   "metadata": {},
   "outputs": [],
   "source": [
    "from sklearn.metrics import mean_absolute_error, mean_squared_error\n",
    "from tensorflow import keras\n",
    "\n",
    "def evaluate_model(model, X_test, y_test):\n",
    "    \"\"\"\n",
    "    Evaluate the model on test data and return the evaluation metrics.\n",
    "    \"\"\"\n",
    "    y_pred = model.predict(X_test)\n",
    "    mae = mean_absolute_error(y_test, y_pred)\n",
    "    mse = mean_squared_error(y_test, y_pred)\n",
    "    corr = np.corrcoef(y_test.squeeze(), y_pred.squeeze())[0, 1]\n",
    "    return mae, mse, corr\n",
    "\n",
    "from scipy import signal\n",
    "def ccf_values(series1, series2):\n",
    "    p = series1\n",
    "    q = series2\n",
    "    p = (p - np.mean(p)) / (np.std(p) * len(p))\n",
    "    q = (q - np.mean(q)) / (np.std(q))  \n",
    "    c = np.correlate(p, q, 'full')\n",
    "    return c\n",
    "\n",
    "def ccf_plot(path, i, lags, ccf):\n",
    "    fig, ax =plt.subplots(figsize=(9, 6))\n",
    "    ax.plot(lags, ccf)\n",
    "    ax.axvline(x = 0, color = 'black', lw = 1)\n",
    "    ax.axhline(y = 0, color = 'black', lw = 1)\n",
    "    ax.axhline(y = np.max(ccf), color = 'blue', lw = 1, linestyle='--', label = 'highest +/- correlation')\n",
    "    ax.axhline(y = np.min(ccf), color = 'blue', lw = 1, linestyle='--')\n",
    "    ax.set(ylim = [-1, 1])\n",
    "    ax.set_title('Cross Correlation', weight='bold', fontsize = 15)\n",
    "    ax.set_ylabel('Correlation Coefficients', weight='bold', \n",
    "    fontsize = 12)\n",
    "    ax.set_xlabel('Time Lags', weight='bold', fontsize = 12)\n",
    "    plt.legend()\n",
    "    plt.savefig(os.path.join(path, f'paciente_{i}_correlation.png'))\n",
    "    plt.close()\n",
    "\n",
    "def test_model_gradin(data, input_size, pred_horizon):\n",
    "    \"\"\"\n",
    "    Test the trained model on a group of test patients and save the evaluation metrics and plots.\n",
    "    \"\"\"\n",
    "    # Load the trained model\n",
    "    model_path = 'models_gradin/' + str(input_size) + '_' + str(pred_horizon)\n",
    "    model = keras.models.load_model(model_path)\n",
    "\n",
    "    # Create directories to save the plots and evaluation results\n",
    "    plots_path = 'plots_gradin/' + str(input_size) + '_' + str(pred_horizon)\n",
    "    os.makedirs(plots_path, exist_ok=True)\n",
    "    results_path = 'results_gradin/' + str(input_size) + '_' + str(pred_horizon)\n",
    "    os.makedirs(results_path, exist_ok=True)\n",
    "\n",
    "    for i in range(0, np.size(data, 1)):\n",
    "        # Filter the data and prepare the test inputs and targets\n",
    "        data_filter = filtragem(data[:, i])\n",
    "        X_test, y_test = data_prep(data_filter, input_size, pred_horizon, True)\n",
    "        X_test_dev = derivada(X_test)\n",
    "\n",
    "        X_test_concat = np.concatenate((X_test, X_test_dev), axis=1)\n",
    "        X_test_concat = X_test_concat.reshape((X_test_concat.shape[0], X_test_concat.shape[1], 1))\n",
    "\n",
    "        # Make predictions\n",
    "        y_pred = model.predict(X_test_concat)\n",
    "\n",
    "        # Plot the data and predictions\n",
    "        plt.plot(data[:, i], label='Original Data')\n",
    "        plt.plot(data_filter, label='Filtered Data')\n",
    "        plt.plot(np.arange(input_size+pred_horizon-1, len(data_filter)), y_test.squeeze(), label='True Values')\n",
    "        plt.plot(np.arange(input_size+pred_horizon-1, len(data_filter)), y_pred.squeeze(), label='Predictions')\n",
    "        plt.legend()\n",
    "        plt.savefig(os.path.join(plots_path, f'paciente_{i}.png'))\n",
    "        plt.close()\n",
    "\n",
    "        # Compute Cross-correlation\n",
    "        # corr_values = signal.correlate(y_pred.squeeze(), y_test.squeeze(), mode='full')\n",
    "        # corr_values = corr_values / np.concatenate((np.arange(1, len(y_pred)+1), np.arange(len(y_pred)-1, 0, -1)))\n",
    "        # #print(corr_values)\n",
    "        # plt.plot(np.arange(-len(y_pred)+1, len(y_pred)), corr_values)\n",
    "        # plt.xlim((-15, 15))\n",
    "        # plt.show()\n",
    "\n",
    "        # # Compute cross-correlation\n",
    "        # x = data_filter[input_size-1:-pred_horizon]\n",
    "        # y = y_pred.squeeze()\n",
    "        # ccf_ielts = ccf_values(x, y)\n",
    "        # lags = signal.correlation_lags(len(x), len(y))\n",
    "        # ccf_plot(plots_path, i, lags, ccf_ielts)\n",
    "        \n",
    "        \n",
    "        # Evaluate the model and save the results\n",
    "        mae, mse, corr = evaluate_model(model, X_test_concat, y_test)\n",
    "        with open(os.path.join(results_path, f'paciente_{i}.txt'), 'w') as f:\n",
    "            f.write(f'MAE: {mae:.4f}\\nMSE: {mse:.4f}\\nCORR: {corr:.4f}')\n",
    "\n",
    "    backend.clear_session()\n"
   ]
  },
  {
   "cell_type": "code",
   "execution_count": 297,
   "metadata": {},
   "outputs": [
    {
     "name": "stdout",
     "output_type": "stream",
     "text": [
      "1/2 [==============>...............] - ETA: 0s"
     ]
    },
    {
     "name": "stderr",
     "output_type": "stream",
     "text": [
      "2023-07-19 00:08:49.312557: I tensorflow/core/grappler/optimizers/custom_graph_optimizer_registry.cc:114] Plugin optimizer for device_type GPU is enabled.\n"
     ]
    },
    {
     "name": "stdout",
     "output_type": "stream",
     "text": [
      "2/2 [==============================] - 0s 122ms/step\n",
      "2/2 [==============================] - 0s 6ms/step\n",
      "2/2 [==============================] - 0s 13ms/step\n",
      "2/2 [==============================] - 0s 4ms/step\n",
      "2/2 [==============================] - 0s 5ms/step\n",
      "2/2 [==============================] - 0s 18ms/step\n",
      "2/2 [==============================] - 0s 4ms/step\n",
      "2/2 [==============================] - 0s 4ms/step\n",
      "2/2 [==============================] - 0s 4ms/step\n",
      "2/2 [==============================] - 0s 11ms/step\n",
      "2/2 [==============================] - 0s 7ms/step\n",
      "2/2 [==============================] - 0s 6ms/step\n",
      "2/2 [==============================] - 0s 6ms/step\n",
      "2/2 [==============================] - 0s 9ms/step\n",
      "2/2 [==============================] - 0s 6ms/step\n",
      "2/2 [==============================] - 0s 4ms/step\n",
      "2/2 [==============================] - 0s 5ms/step\n",
      "2/2 [==============================] - 0s 4ms/step\n",
      "2/2 [==============================] - 0s 4ms/step\n",
      "2/2 [==============================] - 0s 11ms/step\n",
      "2/2 [==============================] - 0s 4ms/step\n",
      "2/2 [==============================] - 0s 6ms/step\n",
      "2/2 [==============================] - 0s 5ms/step\n",
      "2/2 [==============================] - 0s 5ms/step\n",
      "2/2 [==============================] - 0s 4ms/step\n",
      "2/2 [==============================] - 0s 6ms/step\n",
      "2/2 [==============================] - 0s 40ms/step\n"
     ]
    },
    {
     "name": "stderr",
     "output_type": "stream",
     "text": [
      "2023-07-19 00:08:52.816145: I tensorflow/core/grappler/optimizers/custom_graph_optimizer_registry.cc:114] Plugin optimizer for device_type GPU is enabled.\n"
     ]
    },
    {
     "name": "stdout",
     "output_type": "stream",
     "text": [
      "2/2 [==============================] - 0s 4ms/step\n",
      "2/2 [==============================] - 0s 16ms/step\n",
      "2/2 [==============================] - 0s 4ms/step\n",
      "2/2 [==============================] - 0s 4ms/step\n",
      "2/2 [==============================] - 0s 10ms/step\n",
      "2/2 [==============================] - 0s 4ms/step\n",
      "2/2 [==============================] - 0s 6ms/step\n",
      "2/2 [==============================] - 0s 12ms/step\n",
      "2/2 [==============================] - 0s 4ms/step\n",
      "2/2 [==============================] - 0s 4ms/step\n",
      "2/2 [==============================] - 0s 4ms/step\n",
      "2/2 [==============================] - 0s 4ms/step\n",
      "2/2 [==============================] - 0s 6ms/step\n",
      "2/2 [==============================] - 0s 13ms/step\n",
      "2/2 [==============================] - 0s 6ms/step\n",
      "2/2 [==============================] - 0s 6ms/step\n",
      "2/2 [==============================] - 0s 4ms/step\n",
      "2/2 [==============================] - 0s 6ms/step\n",
      "2/2 [==============================] - 0s 5ms/step\n",
      "2/2 [==============================] - 0s 4ms/step\n",
      "2/2 [==============================] - 0s 4ms/step\n",
      "2/2 [==============================] - 0s 4ms/step\n",
      "2/2 [==============================] - 0s 4ms/step\n",
      "2/2 [==============================] - 0s 4ms/step\n",
      "2/2 [==============================] - 0s 3ms/step\n",
      "2/2 [==============================] - 0s 46ms/step\n"
     ]
    },
    {
     "name": "stderr",
     "output_type": "stream",
     "text": [
      "2023-07-19 00:08:56.348784: I tensorflow/core/grappler/optimizers/custom_graph_optimizer_registry.cc:114] Plugin optimizer for device_type GPU is enabled.\n"
     ]
    },
    {
     "name": "stdout",
     "output_type": "stream",
     "text": [
      "2/2 [==============================] - 0s 12ms/step\n",
      "2/2 [==============================] - 0s 9ms/step\n",
      "2/2 [==============================] - 0s 5ms/step\n",
      "2/2 [==============================] - 0s 13ms/step\n",
      "2/2 [==============================] - 0s 4ms/step\n",
      "2/2 [==============================] - 0s 4ms/step\n",
      "2/2 [==============================] - 0s 5ms/step\n",
      "2/2 [==============================] - 0s 4ms/step\n",
      "2/2 [==============================] - 0s 4ms/step\n",
      "2/2 [==============================] - 0s 12ms/step\n",
      "2/2 [==============================] - 0s 4ms/step\n",
      "2/2 [==============================] - 0s 4ms/step\n",
      "2/2 [==============================] - 0s 4ms/step\n",
      "2/2 [==============================] - 0s 4ms/step\n",
      "2/2 [==============================] - 0s 4ms/step\n",
      "2/2 [==============================] - 0s 4ms/step\n",
      "2/2 [==============================] - 0s 3ms/step\n",
      "2/2 [==============================] - 0s 4ms/step\n",
      "2/2 [==============================] - 0s 5ms/step\n",
      "2/2 [==============================] - 0s 4ms/step\n",
      "2/2 [==============================] - 0s 4ms/step\n",
      "2/2 [==============================] - 0s 4ms/step\n",
      "2/2 [==============================] - 0s 5ms/step\n",
      "2/2 [==============================] - 0s 4ms/step\n",
      "2/2 [==============================] - 0s 4ms/step\n",
      "2/2 [==============================] - 0s 42ms/step\n"
     ]
    },
    {
     "name": "stderr",
     "output_type": "stream",
     "text": [
      "2023-07-19 00:08:59.367819: I tensorflow/core/grappler/optimizers/custom_graph_optimizer_registry.cc:114] Plugin optimizer for device_type GPU is enabled.\n"
     ]
    },
    {
     "name": "stdout",
     "output_type": "stream",
     "text": [
      "2/2 [==============================] - 0s 12ms/step\n",
      "2/2 [==============================] - 0s 4ms/step\n",
      "2/2 [==============================] - 0s 13ms/step\n",
      "2/2 [==============================] - 0s 12ms/step\n",
      "2/2 [==============================] - 0s 5ms/step\n",
      "2/2 [==============================] - 0s 5ms/step\n",
      "2/2 [==============================] - 0s 4ms/step\n",
      "2/2 [==============================] - 0s 4ms/step\n",
      "2/2 [==============================] - 0s 4ms/step\n",
      "2/2 [==============================] - 0s 4ms/step\n",
      "2/2 [==============================] - 0s 4ms/step\n",
      "2/2 [==============================] - 0s 4ms/step\n",
      "2/2 [==============================] - 0s 10ms/step\n",
      "2/2 [==============================] - 0s 4ms/step\n",
      "2/2 [==============================] - 0s 4ms/step\n",
      "2/2 [==============================] - 0s 4ms/step\n",
      "2/2 [==============================] - 0s 4ms/step\n",
      "2/2 [==============================] - 0s 4ms/step\n",
      "2/2 [==============================] - 0s 5ms/step\n",
      "2/2 [==============================] - 0s 4ms/step\n",
      "2/2 [==============================] - 0s 4ms/step\n",
      "2/2 [==============================] - 0s 4ms/step\n",
      "2/2 [==============================] - 0s 4ms/step\n",
      "2/2 [==============================] - 0s 4ms/step\n",
      "2/2 [==============================] - 0s 4ms/step\n",
      "2/2 [==============================] - 0s 37ms/step\n"
     ]
    },
    {
     "name": "stderr",
     "output_type": "stream",
     "text": [
      "2023-07-19 00:09:02.341200: I tensorflow/core/grappler/optimizers/custom_graph_optimizer_registry.cc:114] Plugin optimizer for device_type GPU is enabled.\n"
     ]
    },
    {
     "name": "stdout",
     "output_type": "stream",
     "text": [
      "2/2 [==============================] - 0s 12ms/step\n",
      "2/2 [==============================] - 0s 13ms/step\n",
      "2/2 [==============================] - 0s 4ms/step\n",
      "2/2 [==============================] - 0s 4ms/step\n",
      "2/2 [==============================] - 0s 10ms/step\n",
      "2/2 [==============================] - 0s 5ms/step\n",
      "2/2 [==============================] - 0s 4ms/step\n",
      "2/2 [==============================] - 0s 4ms/step\n",
      "2/2 [==============================] - 0s 4ms/step\n",
      "2/2 [==============================] - 0s 5ms/step\n",
      "2/2 [==============================] - 0s 4ms/step\n",
      "2/2 [==============================] - 0s 13ms/step\n",
      "2/2 [==============================] - 0s 5ms/step\n",
      "2/2 [==============================] - 0s 4ms/step\n",
      "2/2 [==============================] - 0s 4ms/step\n",
      "2/2 [==============================] - 0s 4ms/step\n",
      "2/2 [==============================] - 0s 4ms/step\n",
      "2/2 [==============================] - 0s 4ms/step\n",
      "2/2 [==============================] - 0s 5ms/step\n",
      "2/2 [==============================] - 0s 4ms/step\n",
      "2/2 [==============================] - 0s 4ms/step\n",
      "2/2 [==============================] - 0s 5ms/step\n",
      "2/2 [==============================] - 0s 4ms/step\n",
      "2/2 [==============================] - 0s 4ms/step\n",
      "2/2 [==============================] - 0s 4ms/step\n",
      "2/2 [==============================] - 0s 34ms/step\n"
     ]
    },
    {
     "name": "stderr",
     "output_type": "stream",
     "text": [
      "2023-07-19 00:09:05.304237: I tensorflow/core/grappler/optimizers/custom_graph_optimizer_registry.cc:114] Plugin optimizer for device_type GPU is enabled.\n"
     ]
    },
    {
     "name": "stdout",
     "output_type": "stream",
     "text": [
      "2/2 [==============================] - 0s 13ms/step\n",
      "2/2 [==============================] - 0s 5ms/step\n",
      "2/2 [==============================] - 0s 15ms/step\n",
      "2/2 [==============================] - 0s 15ms/step\n",
      "2/2 [==============================] - 0s 5ms/step\n",
      "2/2 [==============================] - 0s 5ms/step\n",
      "2/2 [==============================] - 0s 4ms/step\n",
      "2/2 [==============================] - 0s 6ms/step\n",
      "2/2 [==============================] - 0s 5ms/step\n",
      "2/2 [==============================] - 0s 5ms/step\n",
      "2/2 [==============================] - 0s 12ms/step\n",
      "2/2 [==============================] - 0s 6ms/step\n",
      "2/2 [==============================] - 0s 6ms/step\n",
      "2/2 [==============================] - 0s 6ms/step\n",
      "2/2 [==============================] - 0s 4ms/step\n",
      "2/2 [==============================] - 0s 6ms/step\n",
      "2/2 [==============================] - 0s 5ms/step\n",
      "2/2 [==============================] - 0s 5ms/step\n",
      "2/2 [==============================] - 0s 5ms/step\n",
      "2/2 [==============================] - 0s 6ms/step\n",
      "2/2 [==============================] - 0s 5ms/step\n",
      "2/2 [==============================] - 0s 4ms/step\n",
      "2/2 [==============================] - 0s 4ms/step\n",
      "2/2 [==============================] - 0s 4ms/step\n",
      "2/2 [==============================] - 0s 4ms/step\n",
      "2/2 [==============================] - 0s 37ms/step\n"
     ]
    },
    {
     "name": "stderr",
     "output_type": "stream",
     "text": [
      "2023-07-19 00:09:08.430539: I tensorflow/core/grappler/optimizers/custom_graph_optimizer_registry.cc:114] Plugin optimizer for device_type GPU is enabled.\n"
     ]
    },
    {
     "name": "stdout",
     "output_type": "stream",
     "text": [
      "2/2 [==============================] - 0s 13ms/step\n",
      "2/2 [==============================] - 0s 14ms/step\n",
      "2/2 [==============================] - 0s 4ms/step\n",
      "2/2 [==============================] - 0s 4ms/step\n",
      "2/2 [==============================] - 0s 4ms/step\n",
      "2/2 [==============================] - 0s 5ms/step\n",
      "2/2 [==============================] - 0s 5ms/step\n",
      "2/2 [==============================] - 0s 14ms/step\n",
      "2/2 [==============================] - 0s 5ms/step\n",
      "2/2 [==============================] - 0s 5ms/step\n",
      "2/2 [==============================] - 0s 5ms/step\n",
      "2/2 [==============================] - 0s 4ms/step\n",
      "2/2 [==============================] - 0s 5ms/step\n",
      "2/2 [==============================] - 0s 5ms/step\n",
      "2/2 [==============================] - 0s 4ms/step\n",
      "2/2 [==============================] - 0s 12ms/step\n",
      "2/2 [==============================] - 0s 4ms/step\n",
      "2/2 [==============================] - 0s 6ms/step\n",
      "2/2 [==============================] - 0s 5ms/step\n",
      "2/2 [==============================] - 0s 5ms/step\n",
      "2/2 [==============================] - 0s 5ms/step\n",
      "2/2 [==============================] - 0s 4ms/step\n",
      "2/2 [==============================] - 0s 4ms/step\n",
      "2/2 [==============================] - 0s 4ms/step\n",
      "2/2 [==============================] - 0s 4ms/step\n",
      "2/2 [==============================] - 0s 43ms/step\n"
     ]
    },
    {
     "name": "stderr",
     "output_type": "stream",
     "text": [
      "2023-07-19 00:09:11.976247: I tensorflow/core/grappler/optimizers/custom_graph_optimizer_registry.cc:114] Plugin optimizer for device_type GPU is enabled.\n"
     ]
    },
    {
     "name": "stdout",
     "output_type": "stream",
     "text": [
      "2/2 [==============================] - 0s 13ms/step\n",
      "2/2 [==============================] - 0s 17ms/step\n",
      "2/2 [==============================] - 0s 13ms/step\n",
      "2/2 [==============================] - 0s 4ms/step\n",
      "2/2 [==============================] - 0s 5ms/step\n",
      "2/2 [==============================] - 0s 4ms/step\n",
      "2/2 [==============================] - 0s 13ms/step\n",
      "2/2 [==============================] - 0s 4ms/step\n",
      "2/2 [==============================] - 0s 4ms/step\n",
      "2/2 [==============================] - 0s 4ms/step\n",
      "2/2 [==============================] - 0s 4ms/step\n",
      "2/2 [==============================] - 0s 4ms/step\n",
      "2/2 [==============================] - 0s 4ms/step\n",
      "2/2 [==============================] - 0s 4ms/step\n",
      "2/2 [==============================] - 0s 4ms/step\n",
      "2/2 [==============================] - 0s 4ms/step\n",
      "2/2 [==============================] - 0s 4ms/step\n",
      "2/2 [==============================] - 0s 4ms/step\n",
      "2/2 [==============================] - 0s 4ms/step\n",
      "2/2 [==============================] - 0s 4ms/step\n",
      "2/2 [==============================] - 0s 3ms/step\n",
      "2/2 [==============================] - 0s 4ms/step\n",
      "2/2 [==============================] - 0s 4ms/step\n",
      "2/2 [==============================] - 0s 4ms/step\n",
      "2/2 [==============================] - 0s 4ms/step\n",
      "2/2 [==============================] - 0s 42ms/step\n"
     ]
    },
    {
     "name": "stderr",
     "output_type": "stream",
     "text": [
      "2023-07-19 00:09:14.926535: I tensorflow/core/grappler/optimizers/custom_graph_optimizer_registry.cc:114] Plugin optimizer for device_type GPU is enabled.\n"
     ]
    },
    {
     "name": "stdout",
     "output_type": "stream",
     "text": [
      "2/2 [==============================] - 0s 12ms/step\n",
      "2/2 [==============================] - 0s 4ms/step\n",
      "2/2 [==============================] - 0s 4ms/step\n",
      "2/2 [==============================] - 0s 5ms/step\n",
      "2/2 [==============================] - 0s 5ms/step\n",
      "2/2 [==============================] - 0s 12ms/step\n",
      "2/2 [==============================] - 0s 14ms/step\n",
      "2/2 [==============================] - 0s 4ms/step\n",
      "2/2 [==============================] - 0s 4ms/step\n",
      "2/2 [==============================] - 0s 5ms/step\n",
      "2/2 [==============================] - 0s 4ms/step\n",
      "2/2 [==============================] - 0s 4ms/step\n",
      "2/2 [==============================] - 0s 5ms/step\n",
      "2/2 [==============================] - 0s 4ms/step\n",
      "2/2 [==============================] - 0s 4ms/step\n",
      "2/2 [==============================] - 0s 5ms/step\n",
      "2/2 [==============================] - 0s 4ms/step\n",
      "2/2 [==============================] - 0s 4ms/step\n",
      "2/2 [==============================] - 0s 4ms/step\n",
      "2/2 [==============================] - 0s 4ms/step\n",
      "2/2 [==============================] - 0s 11ms/step\n",
      "2/2 [==============================] - 0s 4ms/step\n",
      "2/2 [==============================] - 0s 5ms/step\n",
      "2/2 [==============================] - 0s 5ms/step\n",
      "2/2 [==============================] - 0s 4ms/step\n",
      "2/2 [==============================] - 0s 47ms/step\n"
     ]
    },
    {
     "name": "stderr",
     "output_type": "stream",
     "text": [
      "2023-07-19 00:09:17.980475: I tensorflow/core/grappler/optimizers/custom_graph_optimizer_registry.cc:114] Plugin optimizer for device_type GPU is enabled.\n"
     ]
    },
    {
     "name": "stdout",
     "output_type": "stream",
     "text": [
      "2/2 [==============================] - 0s 12ms/step\n",
      "2/2 [==============================] - 0s 13ms/step\n",
      "2/2 [==============================] - 0s 12ms/step\n",
      "2/2 [==============================] - 0s 5ms/step\n",
      "2/2 [==============================] - 0s 5ms/step\n",
      "2/2 [==============================] - 0s 4ms/step\n",
      "2/2 [==============================] - 0s 5ms/step\n",
      "2/2 [==============================] - 0s 4ms/step\n",
      "2/2 [==============================] - 0s 5ms/step\n",
      "2/2 [==============================] - 0s 5ms/step\n",
      "2/2 [==============================] - 0s 4ms/step\n",
      "2/2 [==============================] - 0s 12ms/step\n",
      "2/2 [==============================] - 0s 5ms/step\n",
      "2/2 [==============================] - 0s 5ms/step\n",
      "2/2 [==============================] - 0s 4ms/step\n",
      "2/2 [==============================] - 0s 4ms/step\n",
      "2/2 [==============================] - 0s 4ms/step\n",
      "2/2 [==============================] - 0s 4ms/step\n",
      "2/2 [==============================] - 0s 4ms/step\n",
      "2/2 [==============================] - 0s 4ms/step\n",
      "2/2 [==============================] - 0s 4ms/step\n",
      "2/2 [==============================] - 0s 4ms/step\n",
      "2/2 [==============================] - 0s 4ms/step\n",
      "2/2 [==============================] - 0s 4ms/step\n",
      "2/2 [==============================] - 0s 4ms/step\n",
      "2/2 [==============================] - 0s 38ms/step\n"
     ]
    },
    {
     "name": "stderr",
     "output_type": "stream",
     "text": [
      "2023-07-19 00:09:21.031168: I tensorflow/core/grappler/optimizers/custom_graph_optimizer_registry.cc:114] Plugin optimizer for device_type GPU is enabled.\n"
     ]
    },
    {
     "name": "stdout",
     "output_type": "stream",
     "text": [
      "2/2 [==============================] - 0s 12ms/step\n",
      "2/2 [==============================] - 0s 4ms/step\n",
      "2/2 [==============================] - 0s 5ms/step\n",
      "2/2 [==============================] - 0s 4ms/step\n",
      "2/2 [==============================] - 0s 4ms/step\n",
      "2/2 [==============================] - 0s 4ms/step\n",
      "2/2 [==============================] - 0s 13ms/step\n",
      "2/2 [==============================] - 0s 4ms/step\n",
      "2/2 [==============================] - 0s 14ms/step\n",
      "2/2 [==============================] - 0s 5ms/step\n",
      "2/2 [==============================] - 0s 4ms/step\n",
      "2/2 [==============================] - 0s 5ms/step\n",
      "2/2 [==============================] - 0s 5ms/step\n",
      "2/2 [==============================] - 0s 4ms/step\n",
      "2/2 [==============================] - 0s 4ms/step\n",
      "2/2 [==============================] - 0s 11ms/step\n",
      "2/2 [==============================] - 0s 5ms/step\n",
      "2/2 [==============================] - 0s 5ms/step\n",
      "2/2 [==============================] - 0s 4ms/step\n",
      "2/2 [==============================] - 0s 5ms/step\n",
      "2/2 [==============================] - 0s 4ms/step\n",
      "2/2 [==============================] - 0s 4ms/step\n",
      "2/2 [==============================] - 0s 4ms/step\n",
      "2/2 [==============================] - 0s 6ms/step\n",
      "2/2 [==============================] - 0s 5ms/step\n",
      "2/2 [==============================] - 0s 35ms/step\n"
     ]
    },
    {
     "name": "stderr",
     "output_type": "stream",
     "text": [
      "2023-07-19 00:09:24.108169: I tensorflow/core/grappler/optimizers/custom_graph_optimizer_registry.cc:114] Plugin optimizer for device_type GPU is enabled.\n"
     ]
    },
    {
     "name": "stdout",
     "output_type": "stream",
     "text": [
      "2/2 [==============================] - 0s 4ms/step\n",
      "2/2 [==============================] - 0s 11ms/step\n",
      "2/2 [==============================] - 0s 5ms/step\n",
      "2/2 [==============================] - 0s 4ms/step\n",
      "2/2 [==============================] - 0s 15ms/step\n",
      "2/2 [==============================] - 0s 17ms/step\n",
      "2/2 [==============================] - 0s 11ms/step\n",
      "2/2 [==============================] - 0s 5ms/step\n",
      "2/2 [==============================] - 0s 5ms/step\n",
      "2/2 [==============================] - 0s 3ms/step\n",
      "2/2 [==============================] - 0s 4ms/step\n",
      "2/2 [==============================] - 0s 5ms/step\n",
      "2/2 [==============================] - 0s 4ms/step\n",
      "2/2 [==============================] - 0s 4ms/step\n",
      "2/2 [==============================] - 0s 4ms/step\n",
      "2/2 [==============================] - 0s 6ms/step\n",
      "2/2 [==============================] - 0s 5ms/step\n",
      "2/2 [==============================] - 0s 5ms/step\n",
      "2/2 [==============================] - 0s 5ms/step\n",
      "2/2 [==============================] - 0s 4ms/step\n",
      "2/2 [==============================] - 0s 5ms/step\n",
      "2/2 [==============================] - 0s 4ms/step\n",
      "2/2 [==============================] - 0s 4ms/step\n",
      "2/2 [==============================] - 0s 5ms/step\n",
      "2/2 [==============================] - 0s 5ms/step\n",
      "2/2 [==============================] - 0s 40ms/step\n"
     ]
    },
    {
     "name": "stderr",
     "output_type": "stream",
     "text": [
      "2023-07-19 00:09:27.602015: I tensorflow/core/grappler/optimizers/custom_graph_optimizer_registry.cc:114] Plugin optimizer for device_type GPU is enabled.\n"
     ]
    },
    {
     "name": "stdout",
     "output_type": "stream",
     "text": [
      "2/2 [==============================] - 0s 5ms/step\n",
      "2/2 [==============================] - 0s 15ms/step\n",
      "2/2 [==============================] - 0s 12ms/step\n",
      "2/2 [==============================] - 0s 5ms/step\n",
      "2/2 [==============================] - 0s 5ms/step\n",
      "2/2 [==============================] - 0s 11ms/step\n",
      "2/2 [==============================] - 0s 5ms/step\n",
      "2/2 [==============================] - 0s 15ms/step\n",
      "2/2 [==============================] - 0s 6ms/step\n",
      "2/2 [==============================] - 0s 5ms/step\n",
      "2/2 [==============================] - 0s 4ms/step\n",
      "2/2 [==============================] - 0s 5ms/step\n",
      "2/2 [==============================] - 0s 5ms/step\n",
      "2/2 [==============================] - 0s 5ms/step\n",
      "2/2 [==============================] - 0s 5ms/step\n",
      "2/2 [==============================] - 0s 6ms/step\n",
      "2/2 [==============================] - 0s 6ms/step\n",
      "2/2 [==============================] - 0s 6ms/step\n",
      "2/2 [==============================] - 0s 5ms/step\n",
      "2/2 [==============================] - 0s 7ms/step\n",
      "2/2 [==============================] - 0s 4ms/step\n",
      "2/2 [==============================] - 0s 4ms/step\n",
      "2/2 [==============================] - 0s 5ms/step\n",
      "2/2 [==============================] - 0s 4ms/step\n",
      "2/2 [==============================] - 0s 5ms/step\n",
      "2/2 [==============================] - 0s 34ms/step\n"
     ]
    },
    {
     "name": "stderr",
     "output_type": "stream",
     "text": [
      "2023-07-19 00:09:30.727002: I tensorflow/core/grappler/optimizers/custom_graph_optimizer_registry.cc:114] Plugin optimizer for device_type GPU is enabled.\n"
     ]
    },
    {
     "name": "stdout",
     "output_type": "stream",
     "text": [
      "2/2 [==============================] - 0s 5ms/step\n",
      "2/2 [==============================] - 0s 11ms/step\n",
      "2/2 [==============================] - 0s 15ms/step\n",
      "2/2 [==============================] - 0s 5ms/step\n",
      "2/2 [==============================] - 0s 4ms/step\n",
      "2/2 [==============================] - 0s 4ms/step\n",
      "2/2 [==============================] - 0s 12ms/step\n",
      "2/2 [==============================] - 0s 5ms/step\n",
      "2/2 [==============================] - 0s 5ms/step\n",
      "2/2 [==============================] - 0s 14ms/step\n",
      "2/2 [==============================] - 0s 5ms/step\n",
      "2/2 [==============================] - 0s 4ms/step\n",
      "2/2 [==============================] - 0s 4ms/step\n",
      "2/2 [==============================] - 0s 5ms/step\n",
      "2/2 [==============================] - 0s 6ms/step\n",
      "2/2 [==============================] - 0s 5ms/step\n",
      "2/2 [==============================] - 0s 5ms/step\n",
      "2/2 [==============================] - 0s 4ms/step\n",
      "2/2 [==============================] - 0s 5ms/step\n",
      "2/2 [==============================] - 0s 4ms/step\n",
      "2/2 [==============================] - 0s 5ms/step\n",
      "2/2 [==============================] - 0s 5ms/step\n",
      "2/2 [==============================] - 0s 5ms/step\n",
      "2/2 [==============================] - 0s 4ms/step\n",
      "2/2 [==============================] - 0s 4ms/step\n",
      "2/2 [==============================] - 0s 46ms/step\n"
     ]
    },
    {
     "name": "stderr",
     "output_type": "stream",
     "text": [
      "2023-07-19 00:09:33.829655: I tensorflow/core/grappler/optimizers/custom_graph_optimizer_registry.cc:114] Plugin optimizer for device_type GPU is enabled.\n"
     ]
    },
    {
     "name": "stdout",
     "output_type": "stream",
     "text": [
      "2/2 [==============================] - 0s 11ms/step\n",
      "2/2 [==============================] - 0s 5ms/step\n",
      "2/2 [==============================] - 0s 5ms/step\n",
      "2/2 [==============================] - 0s 5ms/step\n",
      "2/2 [==============================] - 0s 13ms/step\n",
      "2/2 [==============================] - 0s 5ms/step\n",
      "2/2 [==============================] - 0s 5ms/step\n",
      "2/2 [==============================] - 0s 14ms/step\n",
      "2/2 [==============================] - 0s 6ms/step\n",
      "2/2 [==============================] - 0s 6ms/step\n",
      "2/2 [==============================] - 0s 6ms/step\n",
      "2/2 [==============================] - 0s 5ms/step\n",
      "2/2 [==============================] - 0s 15ms/step\n",
      "2/2 [==============================] - 0s 5ms/step\n",
      "2/2 [==============================] - 0s 4ms/step\n",
      "2/2 [==============================] - 0s 4ms/step\n",
      "2/2 [==============================] - 0s 4ms/step\n",
      "2/2 [==============================] - 0s 4ms/step\n",
      "2/2 [==============================] - 0s 5ms/step\n",
      "2/2 [==============================] - 0s 4ms/step\n",
      "2/2 [==============================] - 0s 4ms/step\n",
      "2/2 [==============================] - 0s 4ms/step\n",
      "2/2 [==============================] - 0s 4ms/step\n",
      "2/2 [==============================] - 0s 4ms/step\n",
      "2/2 [==============================] - 0s 4ms/step\n",
      "2/2 [==============================] - 0s 39ms/step\n"
     ]
    },
    {
     "name": "stderr",
     "output_type": "stream",
     "text": [
      "2023-07-19 00:09:36.841678: I tensorflow/core/grappler/optimizers/custom_graph_optimizer_registry.cc:114] Plugin optimizer for device_type GPU is enabled.\n"
     ]
    },
    {
     "name": "stdout",
     "output_type": "stream",
     "text": [
      "2/2 [==============================] - 0s 14ms/step\n",
      "2/2 [==============================] - 0s 12ms/step\n",
      "2/2 [==============================] - 0s 4ms/step\n",
      "2/2 [==============================] - 0s 13ms/step\n",
      "2/2 [==============================] - 0s 5ms/step\n",
      "2/2 [==============================] - 0s 4ms/step\n",
      "2/2 [==============================] - 0s 4ms/step\n",
      "2/2 [==============================] - 0s 4ms/step\n",
      "2/2 [==============================] - 0s 5ms/step\n",
      "2/2 [==============================] - 0s 5ms/step\n",
      "2/2 [==============================] - 0s 4ms/step\n",
      "2/2 [==============================] - 0s 6ms/step\n",
      "2/2 [==============================] - 0s 4ms/step\n",
      "2/2 [==============================] - 0s 5ms/step\n",
      "2/2 [==============================] - 0s 5ms/step\n",
      "2/2 [==============================] - 0s 4ms/step\n",
      "2/2 [==============================] - 0s 6ms/step\n",
      "2/2 [==============================] - 0s 5ms/step\n",
      "2/2 [==============================] - 0s 5ms/step\n",
      "2/2 [==============================] - 0s 5ms/step\n",
      "2/2 [==============================] - 0s 5ms/step\n",
      "2/2 [==============================] - 0s 5ms/step\n",
      "2/2 [==============================] - 0s 4ms/step\n",
      "2/2 [==============================] - 0s 4ms/step\n",
      "2/2 [==============================] - 0s 5ms/step\n",
      "2/2 [==============================] - 0s 40ms/step\n"
     ]
    },
    {
     "name": "stderr",
     "output_type": "stream",
     "text": [
      "2023-07-19 00:09:39.947282: I tensorflow/core/grappler/optimizers/custom_graph_optimizer_registry.cc:114] Plugin optimizer for device_type GPU is enabled.\n"
     ]
    },
    {
     "name": "stdout",
     "output_type": "stream",
     "text": [
      "2/2 [==============================] - 0s 12ms/step\n",
      "2/2 [==============================] - 0s 5ms/step\n",
      "2/2 [==============================] - 0s 5ms/step\n",
      "2/2 [==============================] - 0s 4ms/step\n",
      "2/2 [==============================] - 0s 13ms/step\n",
      "2/2 [==============================] - 0s 4ms/step\n",
      "2/2 [==============================] - 0s 12ms/step\n",
      "2/2 [==============================] - 0s 4ms/step\n",
      "2/2 [==============================] - 0s 5ms/step\n",
      "2/2 [==============================] - 0s 6ms/step\n",
      "2/2 [==============================] - 0s 17ms/step\n",
      "2/2 [==============================] - 0s 5ms/step\n",
      "2/2 [==============================] - 0s 4ms/step\n",
      "2/2 [==============================] - 0s 4ms/step\n",
      "2/2 [==============================] - 0s 4ms/step\n",
      "2/2 [==============================] - 0s 5ms/step\n",
      "2/2 [==============================] - 0s 5ms/step\n",
      "2/2 [==============================] - 0s 4ms/step\n",
      "2/2 [==============================] - 0s 4ms/step\n",
      "2/2 [==============================] - 0s 4ms/step\n",
      "2/2 [==============================] - 0s 5ms/step\n",
      "2/2 [==============================] - 0s 5ms/step\n",
      "2/2 [==============================] - 0s 4ms/step\n",
      "2/2 [==============================] - 0s 4ms/step\n",
      "2/2 [==============================] - 0s 5ms/step\n",
      "2/2 [==============================] - 0s 38ms/step\n"
     ]
    },
    {
     "name": "stderr",
     "output_type": "stream",
     "text": [
      "2023-07-19 00:09:42.981345: I tensorflow/core/grappler/optimizers/custom_graph_optimizer_registry.cc:114] Plugin optimizer for device_type GPU is enabled.\n"
     ]
    },
    {
     "name": "stdout",
     "output_type": "stream",
     "text": [
      "2/2 [==============================] - 0s 11ms/step\n",
      "2/2 [==============================] - 0s 4ms/step\n",
      "2/2 [==============================] - 0s 13ms/step\n",
      "2/2 [==============================] - 0s 4ms/step\n",
      "2/2 [==============================] - 0s 10ms/step\n",
      "2/2 [==============================] - 0s 4ms/step\n",
      "2/2 [==============================] - 0s 5ms/step\n",
      "2/2 [==============================] - 0s 4ms/step\n",
      "2/2 [==============================] - 0s 4ms/step\n",
      "2/2 [==============================] - 0s 13ms/step\n",
      "2/2 [==============================] - 0s 4ms/step\n",
      "2/2 [==============================] - 0s 5ms/step\n",
      "2/2 [==============================] - 0s 4ms/step\n",
      "2/2 [==============================] - 0s 4ms/step\n",
      "2/2 [==============================] - 0s 4ms/step\n",
      "2/2 [==============================] - 0s 4ms/step\n",
      "2/2 [==============================] - 0s 5ms/step\n",
      "2/2 [==============================] - 0s 5ms/step\n",
      "2/2 [==============================] - 0s 5ms/step\n",
      "2/2 [==============================] - 0s 4ms/step\n",
      "2/2 [==============================] - 0s 5ms/step\n",
      "2/2 [==============================] - 0s 4ms/step\n",
      "2/2 [==============================] - 0s 4ms/step\n",
      "2/2 [==============================] - 0s 4ms/step\n",
      "2/2 [==============================] - 0s 4ms/step\n",
      "2/2 [==============================] - 0s 44ms/step\n"
     ]
    },
    {
     "name": "stderr",
     "output_type": "stream",
     "text": [
      "2023-07-19 00:09:45.893381: I tensorflow/core/grappler/optimizers/custom_graph_optimizer_registry.cc:114] Plugin optimizer for device_type GPU is enabled.\n"
     ]
    },
    {
     "name": "stdout",
     "output_type": "stream",
     "text": [
      "2/2 [==============================] - 0s 11ms/step\n",
      "2/2 [==============================] - 0s 5ms/step\n",
      "2/2 [==============================] - 0s 5ms/step\n",
      "2/2 [==============================] - 0s 4ms/step\n",
      "2/2 [==============================] - 0s 4ms/step\n",
      "2/2 [==============================] - 0s 4ms/step\n",
      "2/2 [==============================] - 0s 4ms/step\n",
      "2/2 [==============================] - 0s 4ms/step\n",
      "2/2 [==============================] - 0s 4ms/step\n",
      "2/2 [==============================] - 0s 5ms/step\n",
      "2/2 [==============================] - 0s 4ms/step\n",
      "2/2 [==============================] - 0s 4ms/step\n",
      "2/2 [==============================] - 0s 4ms/step\n",
      "2/2 [==============================] - 0s 12ms/step\n",
      "2/2 [==============================] - 0s 4ms/step\n",
      "2/2 [==============================] - 0s 11ms/step\n",
      "2/2 [==============================] - 0s 4ms/step\n",
      "2/2 [==============================] - 0s 4ms/step\n",
      "2/2 [==============================] - 0s 4ms/step\n",
      "2/2 [==============================] - 0s 5ms/step\n",
      "2/2 [==============================] - 0s 11ms/step\n",
      "2/2 [==============================] - 0s 5ms/step\n",
      "2/2 [==============================] - 0s 4ms/step\n",
      "2/2 [==============================] - 0s 4ms/step\n",
      "2/2 [==============================] - 0s 5ms/step\n",
      "2/2 [==============================] - 0s 42ms/step\n"
     ]
    },
    {
     "name": "stderr",
     "output_type": "stream",
     "text": [
      "2023-07-19 00:09:49.412382: I tensorflow/core/grappler/optimizers/custom_graph_optimizer_registry.cc:114] Plugin optimizer for device_type GPU is enabled.\n"
     ]
    },
    {
     "name": "stdout",
     "output_type": "stream",
     "text": [
      "2/2 [==============================] - 0s 14ms/step\n",
      "2/2 [==============================] - 0s 5ms/step\n",
      "2/2 [==============================] - 0s 14ms/step\n",
      "2/2 [==============================] - 0s 5ms/step\n",
      "2/2 [==============================] - 0s 12ms/step\n",
      "2/2 [==============================] - 0s 5ms/step\n",
      "2/2 [==============================] - 0s 5ms/step\n",
      "2/2 [==============================] - 0s 5ms/step\n",
      "2/2 [==============================] - 0s 5ms/step\n",
      "2/2 [==============================] - 0s 4ms/step\n",
      "2/2 [==============================] - 0s 5ms/step\n",
      "2/2 [==============================] - 0s 10ms/step\n",
      "2/2 [==============================] - 0s 5ms/step\n",
      "2/2 [==============================] - 0s 5ms/step\n",
      "2/2 [==============================] - 0s 6ms/step\n",
      "2/2 [==============================] - 0s 4ms/step\n",
      "2/2 [==============================] - 0s 5ms/step\n",
      "2/2 [==============================] - 0s 4ms/step\n",
      "2/2 [==============================] - 0s 5ms/step\n",
      "2/2 [==============================] - 0s 5ms/step\n",
      "2/2 [==============================] - 0s 5ms/step\n",
      "2/2 [==============================] - 0s 4ms/step\n",
      "2/2 [==============================] - 0s 5ms/step\n",
      "2/2 [==============================] - 0s 5ms/step\n",
      "2/2 [==============================] - 0s 5ms/step\n"
     ]
    }
   ],
   "source": [
    "for input_size in n:\n",
    "    for pred_horizon in [1, 3, 5, 6, 7]:\n",
    "        test_model_gradin(test_patients ,input_size, pred_horizon)"
   ]
  },
  {
   "attachments": {},
   "cell_type": "markdown",
   "metadata": {},
   "source": [
    "### AVG"
   ]
  },
  {
   "cell_type": "code",
   "execution_count": 298,
   "metadata": {},
   "outputs": [],
   "source": [
    "import os\n",
    "\n",
    "for horizon in pred_horizons:\n",
    "    for input_size in n:\n",
    "        results_dir = f\"results_gradin/{input_size}_{horizon}\"\n",
    "\n",
    "        # Criar dicionário para armazenar os resultados\n",
    "        results_dict = {}\n",
    "\n",
    "        # Percorrer todos os arquivos txt na pasta de resultados\n",
    "        for file_name in os.listdir(results_dir):\n",
    "            if file_name.endswith(\".txt\"):\n",
    "                # Obter o nome do paciente a partir do nome do arquivo\n",
    "                patient_name = file_name.split(\"_\")[0]\n",
    "                file_path = os.path.join(results_dir, file_name)\n",
    "                with open(file_path, \"r\") as f:\n",
    "                    # Ler os resultados do arquivo\n",
    "                    results = [float(line.split(\":\")[1].strip()) for line in f.readlines()]\n",
    "                # Adicionar os resultados ao dicionário\n",
    "                if patient_name in results_dict:\n",
    "                    results_dict[patient_name].append(results)\n",
    "                else:\n",
    "                    results_dict[patient_name] = [results]\n",
    "\n",
    "        # Calcular a média dos resultados para cada paciente\n",
    "        for patient_name, results_list in results_dict.items():\n",
    "            # Calcular a média de cada métrica\n",
    "            mae_list = [results[0] for results in results_list]\n",
    "            mae_avg = sum(mae_list) / len(mae_list)\n",
    "            mse_list = [results[1] for results in results_list]\n",
    "            mse_avg = sum(mse_list) / len(mse_list)\n",
    "            corr_list = [results[2] for results in results_list]\n",
    "            corr_avg = sum(corr_list) / len(corr_list)\n",
    "            # Salvar os resultados médios em um novo arquivo txt\n",
    "            output_file_path = f\"results_gradin/{input_size}_{horizon}/{patient_name}_avg.txt\"\n",
    "            with open(output_file_path, \"w\") as f:\n",
    "                f.write(f\"MAE: {mae_avg:.4f}\\n\")\n",
    "                f.write(f\"MSE: {mse_avg:.4f}\\n\")\n",
    "                f.write(f\"CORR: {corr_avg:.4f}\\n\")\n"
   ]
  },
  {
   "cell_type": "code",
   "execution_count": 299,
   "metadata": {},
   "outputs": [
    {
     "name": "stdout",
     "output_type": "stream",
     "text": [
      "Model information has been saved to 'model_info_gradin.csv'.\n"
     ]
    }
   ],
   "source": [
    "import os\n",
    "import csv\n",
    "\n",
    "def generate_model_info_csv():\n",
    "    result_path = 'results_gradin'\n",
    "    output_csv_path = 'model_info_gradin.csv'\n",
    "\n",
    "    # Get the list of folders in the results directory\n",
    "    folders = os.listdir(result_path)\n",
    "\n",
    "    # Initialize the data lists\n",
    "    model_info = []\n",
    "\n",
    "    # Iterate over the folders\n",
    "    for folder in folders:\n",
    "        folder_path = os.path.join(result_path, folder)\n",
    "        if os.path.isdir(folder_path):\n",
    "            # Extract input size and prediction horizon from the folder name\n",
    "            input_size, pred_horizon = map(int, folder.split('_'))\n",
    "\n",
    "            # Read the paciente_avg.txt file\n",
    "            file_path = os.path.join(folder_path, 'paciente_avg.txt')\n",
    "            with open(file_path, 'r') as f:\n",
    "                lines = f.readlines()\n",
    "\n",
    "            # Parse the metrics from the file\n",
    "            mae = float(lines[0].split(':')[1].strip())\n",
    "            mse = float(lines[1].split(':')[1].strip())\n",
    "            corr = float(lines[2].split(':')[1].strip())\n",
    "\n",
    "            # Append the data to the list\n",
    "            model_info.append((input_size, pred_horizon, mae, mse, corr))\n",
    "\n",
    "    # Sort the model info list by input_size and pred_horizon\n",
    "    sorted_model_info = sorted(model_info, key=lambda x: (x[0], x[1]))\n",
    "\n",
    "    # Write the data to a CSV file\n",
    "    with open(output_csv_path, 'w', newline='') as f:\n",
    "        writer = csv.writer(f)\n",
    "        writer.writerow(['Input Size', 'Prediction Horizon', 'MAE', 'MSE', 'CORR'])\n",
    "        writer.writerows(sorted_model_info)\n",
    "\n",
    "    print(f\"Model information has been saved to '{output_csv_path}'.\")\n",
    "\n",
    "generate_model_info_csv()"
   ]
  },
  {
   "attachments": {},
   "cell_type": "markdown",
   "metadata": {},
   "source": [
    "# Modelo 4 - Complex"
   ]
  },
  {
   "attachments": {},
   "cell_type": "markdown",
   "metadata": {},
   "source": [
    "### Train"
   ]
  },
  {
   "cell_type": "code",
   "execution_count": 128,
   "metadata": {},
   "outputs": [],
   "source": [
    "from tensorflow import keras\n",
    "from tensorflow.keras.models import Model\n",
    "from tensorflow.keras.layers import Input, Dense, LSTM, concatenate, Flatten\n",
    "\n",
    "def train_model_complex(data, input_size, pred_horizon):\n",
    "    \"\"\"\n",
    "    Train a complex neural network model on the training data and save the trained model.\n",
    "    \"\"\"\n",
    "    for patient in range(data.shape[1]):\n",
    "        # Filtragem\n",
    "        data_filter = filtragem(data[:, patient])\n",
    "\n",
    "        # Prepare the training inputs and targets\n",
    "        X_train, y_train = data_prep(data_filter, input_size, pred_horizon, True)\n",
    "        X_train_dev = derivada(X_train)\n",
    "\n",
    "        # Reshape the input data for LSTM\n",
    "        X_train = X_train.reshape((-1, input_size, 1))\n",
    "        X_train_dev = X_train_dev.reshape((-1, input_size, 1))\n",
    "\n",
    "        # Define the input layers\n",
    "        input_nn = Input(shape=(input_size,))\n",
    "        input_rnn = Input(shape=(input_size, 1))\n",
    "\n",
    "        # Neural Network (NN) layer\n",
    "        dense = Dense(units=64, activation='relu')(input_nn)\n",
    "\n",
    "        # Recurrent Neural Network (RNN) layer\n",
    "        rnn = LSTM(units=64, return_sequences=True)(input_rnn)\n",
    "\n",
    "        # Flatten the RNN output\n",
    "        rnn = Flatten()(rnn)\n",
    "\n",
    "        # Concatenate the NN and RNN outputs\n",
    "        merged = concatenate([dense, rnn])\n",
    "\n",
    "        # Output layer\n",
    "        output = Dense(units=1, activation='linear')(merged)\n",
    "\n",
    "        # Create the model\n",
    "        model = Model(inputs=[input_nn, input_rnn], outputs=output)\n",
    "\n",
    "        # Compile the model\n",
    "        model.compile(optimizer='adam', loss='mse')\n",
    "\n",
    "        # Train the model\n",
    "        model.fit([X_train, X_train_dev], y_train, epochs=100, verbose=0)\n",
    "\n",
    "    # Save the trained model\n",
    "    os.makedirs('models_complex', exist_ok=True)\n",
    "    model_path = 'models_complex/' + str(input_size) + '_' + str(pred_horizon) + '.h5'\n",
    "    model.save(model_path)\n",
    "    print(\"Model saved:\", model_path)\n"
   ]
  },
  {
   "cell_type": "code",
   "execution_count": 129,
   "metadata": {},
   "outputs": [
    {
     "name": "stdout",
     "output_type": "stream",
     "text": [
      "Model saved: models_complex/4_1.h5\n",
      "Model saved: models_complex/4_3.h5\n",
      "Model saved: models_complex/4_5.h5\n",
      "Model saved: models_complex/4_6.h5\n",
      "Model saved: models_complex/4_7.h5\n",
      "Model saved: models_complex/6_1.h5\n",
      "Model saved: models_complex/6_3.h5\n",
      "Model saved: models_complex/6_5.h5\n",
      "Model saved: models_complex/6_6.h5\n",
      "Model saved: models_complex/6_7.h5\n",
      "Model saved: models_complex/8_1.h5\n",
      "Model saved: models_complex/8_3.h5\n",
      "Model saved: models_complex/8_5.h5\n",
      "Model saved: models_complex/8_6.h5\n",
      "Model saved: models_complex/8_7.h5\n",
      "Model saved: models_complex/10_1.h5\n",
      "Model saved: models_complex/10_3.h5\n",
      "Model saved: models_complex/10_5.h5\n",
      "Model saved: models_complex/10_6.h5\n",
      "Model saved: models_complex/10_7.h5\n"
     ]
    }
   ],
   "source": [
    "with tf.device('/cpu:0'):\n",
    "    for input_size in n:\n",
    "        for pred_horizon in pred_horizons:\n",
    "            train_model_complex(train_patients ,input_size, pred_horizon)"
   ]
  },
  {
   "attachments": {},
   "cell_type": "markdown",
   "metadata": {},
   "source": [
    "### Test"
   ]
  },
  {
   "cell_type": "code",
   "execution_count": 138,
   "metadata": {},
   "outputs": [],
   "source": [
    "from sklearn.metrics import mean_absolute_error, mean_squared_error\n",
    "from tensorflow import keras\n",
    "\n",
    "def evaluate_model(model, X_test, y_test):\n",
    "    \"\"\"\n",
    "    Evaluate the model on test data and return the evaluation metrics.\n",
    "    \"\"\"\n",
    "    y_pred = model.predict(X_test)\n",
    "    mae = mean_absolute_error(y_test, y_pred)\n",
    "    mse = mean_squared_error(y_test, y_pred)\n",
    "    corr = np.corrcoef(y_test.squeeze(), y_pred.squeeze())[0, 1]\n",
    "    return mae, mse, corr\n",
    "\n",
    "from scipy import signal\n",
    "def ccf_values(series1, series2):\n",
    "    p = series1\n",
    "    q = series2\n",
    "    p = (p - np.mean(p)) / (np.std(p) * len(p))\n",
    "    q = (q - np.mean(q)) / (np.std(q))  \n",
    "    c = np.correlate(p, q, 'full')\n",
    "    return c\n",
    "\n",
    "def ccf_plot(path, i, lags, ccf):\n",
    "    fig, ax =plt.subplots(figsize=(9, 6))\n",
    "    ax.plot(lags, ccf)\n",
    "    ax.axvline(x = 0, color = 'black', lw = 1)\n",
    "    ax.axhline(y = 0, color = 'black', lw = 1)\n",
    "    ax.axhline(y = np.max(ccf), color = 'blue', lw = 1, linestyle='--', label = 'highest +/- correlation')\n",
    "    ax.axhline(y = np.min(ccf), color = 'blue', lw = 1, linestyle='--')\n",
    "    ax.set(ylim = [-1, 1])\n",
    "    ax.set_title('Cross Correlation', weight='bold', fontsize = 15)\n",
    "    ax.set_ylabel('Correlation Coefficients', weight='bold', \n",
    "    fontsize = 12)\n",
    "    ax.set_xlabel('Time Lags', weight='bold', fontsize = 12)\n",
    "    plt.legend()\n",
    "    plt.savefig(os.path.join(path, f'paciente_{i}_correlation.png'))\n",
    "    plt.close()\n",
    "\n",
    "def test_model_complex(data, input_size, pred_horizon):\n",
    "    \"\"\"\n",
    "    Test the trained model on a group of test patients and save the evaluation metrics and plots.\n",
    "    \"\"\"\n",
    "    # Load the trained model\n",
    "    model_path = 'models_complex/' + str(input_size) + '_' + str(pred_horizon) + '.h5'\n",
    "    model = keras.models.load_model(model_path)\n",
    "\n",
    "    # Create directories to save the plots and evaluation results\n",
    "    plots_path = 'plots_complex/' + str(input_size) + '_' + str(pred_horizon)\n",
    "    os.makedirs(plots_path, exist_ok=True)\n",
    "    results_path = 'results_complex/' + str(input_size) + '_' + str(pred_horizon)\n",
    "    os.makedirs(results_path, exist_ok=True)\n",
    "\n",
    "    for i in range(0, np.size(data, 1)):\n",
    "        # Filter the data and prepare the test inputs and targets\n",
    "        data_filter = filtragem(data[:, i])\n",
    "        X_test, y_test = data_prep(data_filter, input_size, pred_horizon, True)\n",
    "        X_test_dev = derivada(X_test)\n",
    "\n",
    "        # Reshape the input data for LSTM\n",
    "        X_test = X_test.reshape((-1, input_size, 1))\n",
    "        X_test_dev = X_test_dev.reshape((-1, input_size, 1))\n",
    "\n",
    "        # Make predictions\n",
    "        y_pred = model.predict([X_test, X_test_dev])\n",
    "\n",
    "        # Plot the data and predictions\n",
    "        plt.plot(data[:, i], label='Original Data')\n",
    "        plt.plot(data_filter, label='Filtered Data')\n",
    "        plt.plot(np.arange(input_size+pred_horizon-1, len(data_filter)), y_test.squeeze(), label='True Values')\n",
    "        plt.plot(np.arange(input_size+pred_horizon-1, len(data_filter)), y_pred.squeeze(), label='Predictions')\n",
    "        plt.legend()\n",
    "        plt.savefig(os.path.join(plots_path, f'paciente_{i}.png'))\n",
    "        plt.close()\n",
    "\n",
    "        # Compute Cross-correlation\n",
    "        # corr_values = signal.correlate(y_pred.squeeze(), y_test.squeeze(), mode='full')\n",
    "        # corr_values = corr_values / np.concatenate((np.arange(1, len(y_pred)+1), np.arange(len(y_pred)-1, 0, -1)))\n",
    "        # #print(corr_values)\n",
    "        # plt.plot(np.arange(-len(y_pred)+1, len(y_pred)), corr_values)\n",
    "        # plt.xlim((-15, 15))\n",
    "        # plt.show()\n",
    "\n",
    "        # # Compute cross-correlation\n",
    "        # x = data_filter[input_size-1:-pred_horizon]\n",
    "        # y = y_pred.squeeze()\n",
    "        # ccf_ielts = ccf_values(x, y)\n",
    "        # lags = signal.correlation_lags(len(x), len(y))\n",
    "        # ccf_plot(plots_path, i, lags, ccf_ielts)\n",
    "        \n",
    "        \n",
    "        # Evaluate the model and save the results\n",
    "        mae, mse, corr = evaluate_model(model, [X_test, X_test_dev], y_test)\n",
    "        with open(os.path.join(results_path, f'paciente_{i}.txt'), 'w') as f:\n",
    "            f.write(f'MAE: {mae:.4f}\\nMSE: {mse:.4f}\\nCORR: {corr:.4f}')\n",
    "\n",
    "    backend.clear_session()\n"
   ]
  },
  {
   "cell_type": "code",
   "execution_count": 139,
   "metadata": {},
   "outputs": [
    {
     "name": "stdout",
     "output_type": "stream",
     "text": [
      "2/2 [==============================] - 1s 45ms/step\n",
      "2/2 [==============================] - 0s 8ms/step\n",
      "2/2 [==============================] - 0s 7ms/step\n",
      "2/2 [==============================] - 0s 8ms/step\n",
      "2/2 [==============================] - 0s 6ms/step\n",
      "2/2 [==============================] - 0s 7ms/step\n",
      "2/2 [==============================] - 0s 8ms/step\n",
      "2/2 [==============================] - 0s 7ms/step\n",
      "2/2 [==============================] - 0s 7ms/step\n",
      "2/2 [==============================] - 0s 8ms/step\n",
      "2/2 [==============================] - 0s 7ms/step\n",
      "2/2 [==============================] - 0s 7ms/step\n",
      "2/2 [==============================] - 0s 10ms/step\n",
      "2/2 [==============================] - 0s 8ms/step\n",
      "2/2 [==============================] - 0s 8ms/step\n",
      "2/2 [==============================] - 0s 7ms/step\n",
      "2/2 [==============================] - 0s 11ms/step\n",
      "2/2 [==============================] - 0s 11ms/step\n",
      "2/2 [==============================] - 0s 8ms/step\n",
      "2/2 [==============================] - 0s 9ms/step\n",
      "2/2 [==============================] - 0s 7ms/step\n",
      "2/2 [==============================] - 0s 7ms/step\n",
      "2/2 [==============================] - 0s 7ms/step\n",
      "2/2 [==============================] - 0s 6ms/step\n",
      "2/2 [==============================] - 0s 7ms/step\n",
      "2/2 [==============================] - 0s 17ms/step\n",
      "2/2 [==============================] - 1s 67ms/step\n",
      "2/2 [==============================] - 0s 6ms/step\n",
      "2/2 [==============================] - 0s 8ms/step\n",
      "2/2 [==============================] - 0s 6ms/step\n",
      "2/2 [==============================] - 0s 7ms/step\n",
      "2/2 [==============================] - 0s 7ms/step\n",
      "2/2 [==============================] - 0s 8ms/step\n",
      "2/2 [==============================] - 0s 8ms/step\n",
      "2/2 [==============================] - 0s 11ms/step\n",
      "2/2 [==============================] - 0s 6ms/step\n",
      "2/2 [==============================] - 0s 6ms/step\n",
      "2/2 [==============================] - 0s 7ms/step\n",
      "2/2 [==============================] - 0s 6ms/step\n",
      "2/2 [==============================] - 0s 7ms/step\n",
      "2/2 [==============================] - 0s 7ms/step\n",
      "2/2 [==============================] - 0s 7ms/step\n",
      "2/2 [==============================] - 0s 7ms/step\n",
      "2/2 [==============================] - 0s 7ms/step\n",
      "2/2 [==============================] - 0s 8ms/step\n",
      "2/2 [==============================] - 0s 6ms/step\n",
      "2/2 [==============================] - 0s 6ms/step\n",
      "2/2 [==============================] - 0s 7ms/step\n",
      "2/2 [==============================] - 0s 7ms/step\n",
      "2/2 [==============================] - 0s 7ms/step\n",
      "2/2 [==============================] - 0s 10ms/step\n",
      "2/2 [==============================] - 0s 7ms/step\n",
      "2/2 [==============================] - 1s 60ms/step\n",
      "2/2 [==============================] - 0s 8ms/step\n",
      "2/2 [==============================] - 0s 9ms/step\n",
      "2/2 [==============================] - 0s 14ms/step\n",
      "2/2 [==============================] - 0s 7ms/step\n",
      "2/2 [==============================] - 0s 12ms/step\n",
      "2/2 [==============================] - 0s 7ms/step\n",
      "2/2 [==============================] - 0s 8ms/step\n",
      "2/2 [==============================] - 0s 7ms/step\n",
      "2/2 [==============================] - 0s 9ms/step\n",
      "2/2 [==============================] - 0s 8ms/step\n",
      "2/2 [==============================] - 0s 8ms/step\n",
      "2/2 [==============================] - 0s 9ms/step\n",
      "2/2 [==============================] - 0s 7ms/step\n",
      "2/2 [==============================] - 0s 9ms/step\n",
      "2/2 [==============================] - 0s 7ms/step\n",
      "2/2 [==============================] - 0s 7ms/step\n",
      "2/2 [==============================] - 0s 16ms/step\n",
      "2/2 [==============================] - 0s 11ms/step\n",
      "2/2 [==============================] - 0s 7ms/step\n",
      "2/2 [==============================] - 0s 7ms/step\n",
      "2/2 [==============================] - 0s 7ms/step\n",
      "2/2 [==============================] - 0s 6ms/step\n",
      "2/2 [==============================] - 0s 7ms/step\n",
      "2/2 [==============================] - 0s 8ms/step\n",
      "2/2 [==============================] - 0s 6ms/step\n",
      "2/2 [==============================] - 1s 61ms/step\n",
      "2/2 [==============================] - 0s 6ms/step\n",
      "2/2 [==============================] - 0s 9ms/step\n",
      "2/2 [==============================] - 0s 8ms/step\n",
      "2/2 [==============================] - 0s 6ms/step\n",
      "2/2 [==============================] - 0s 7ms/step\n",
      "2/2 [==============================] - 0s 7ms/step\n",
      "2/2 [==============================] - 0s 6ms/step\n",
      "2/2 [==============================] - 0s 16ms/step\n",
      "2/2 [==============================] - 0s 6ms/step\n",
      "2/2 [==============================] - 0s 7ms/step\n",
      "2/2 [==============================] - 0s 11ms/step\n",
      "2/2 [==============================] - 0s 7ms/step\n",
      "2/2 [==============================] - 0s 8ms/step\n",
      "2/2 [==============================] - 0s 15ms/step\n",
      "2/2 [==============================] - 0s 17ms/step\n",
      "2/2 [==============================] - 0s 6ms/step\n",
      "2/2 [==============================] - 0s 9ms/step\n",
      "2/2 [==============================] - 0s 8ms/step\n",
      "2/2 [==============================] - 0s 6ms/step\n",
      "2/2 [==============================] - 0s 7ms/step\n",
      "2/2 [==============================] - 0s 8ms/step\n",
      "2/2 [==============================] - 0s 10ms/step\n",
      "2/2 [==============================] - 0s 6ms/step\n",
      "2/2 [==============================] - 0s 6ms/step\n",
      "2/2 [==============================] - 0s 7ms/step\n",
      "2/2 [==============================] - 1s 50ms/step\n",
      "2/2 [==============================] - 0s 9ms/step\n",
      "2/2 [==============================] - 0s 6ms/step\n",
      "2/2 [==============================] - 0s 7ms/step\n",
      "2/2 [==============================] - 0s 8ms/step\n",
      "2/2 [==============================] - 0s 21ms/step\n",
      "2/2 [==============================] - 0s 9ms/step\n",
      "2/2 [==============================] - 0s 7ms/step\n",
      "2/2 [==============================] - 0s 8ms/step\n",
      "2/2 [==============================] - 0s 7ms/step\n",
      "2/2 [==============================] - 0s 9ms/step\n",
      "2/2 [==============================] - 0s 13ms/step\n",
      "2/2 [==============================] - 0s 7ms/step\n",
      "2/2 [==============================] - 0s 8ms/step\n",
      "2/2 [==============================] - 0s 14ms/step\n",
      "2/2 [==============================] - 0s 11ms/step\n",
      "2/2 [==============================] - 0s 7ms/step\n",
      "2/2 [==============================] - 0s 8ms/step\n",
      "2/2 [==============================] - 0s 7ms/step\n",
      "2/2 [==============================] - 0s 7ms/step\n",
      "2/2 [==============================] - 0s 6ms/step\n",
      "2/2 [==============================] - 0s 6ms/step\n",
      "2/2 [==============================] - 0s 7ms/step\n",
      "2/2 [==============================] - 0s 22ms/step\n",
      "2/2 [==============================] - 0s 7ms/step\n",
      "2/2 [==============================] - 0s 8ms/step\n",
      "2/2 [==============================] - 1s 59ms/step\n",
      "2/2 [==============================] - 0s 9ms/step\n",
      "2/2 [==============================] - 0s 6ms/step\n",
      "2/2 [==============================] - 0s 9ms/step\n",
      "2/2 [==============================] - 0s 8ms/step\n",
      "2/2 [==============================] - 0s 6ms/step\n",
      "2/2 [==============================] - 0s 9ms/step\n",
      "2/2 [==============================] - 0s 7ms/step\n",
      "2/2 [==============================] - 0s 8ms/step\n",
      "2/2 [==============================] - 0s 9ms/step\n",
      "2/2 [==============================] - 0s 7ms/step\n",
      "2/2 [==============================] - 0s 6ms/step\n",
      "2/2 [==============================] - 0s 9ms/step\n",
      "2/2 [==============================] - 0s 7ms/step\n",
      "2/2 [==============================] - 0s 6ms/step\n",
      "2/2 [==============================] - 0s 8ms/step\n",
      "2/2 [==============================] - 0s 8ms/step\n",
      "2/2 [==============================] - 0s 8ms/step\n",
      "2/2 [==============================] - 0s 7ms/step\n",
      "2/2 [==============================] - 0s 7ms/step\n",
      "2/2 [==============================] - 0s 8ms/step\n",
      "2/2 [==============================] - 0s 10ms/step\n",
      "2/2 [==============================] - 0s 8ms/step\n",
      "2/2 [==============================] - 0s 7ms/step\n",
      "2/2 [==============================] - 0s 7ms/step\n",
      "2/2 [==============================] - 0s 10ms/step\n",
      "2/2 [==============================] - 1s 65ms/step\n",
      "2/2 [==============================] - 0s 13ms/step\n",
      "2/2 [==============================] - 0s 10ms/step\n",
      "2/2 [==============================] - 0s 7ms/step\n",
      "2/2 [==============================] - 0s 6ms/step\n",
      "2/2 [==============================] - 0s 8ms/step\n",
      "2/2 [==============================] - 0s 10ms/step\n",
      "2/2 [==============================] - 0s 10ms/step\n",
      "2/2 [==============================] - 0s 8ms/step\n",
      "2/2 [==============================] - 0s 10ms/step\n",
      "2/2 [==============================] - 0s 6ms/step\n",
      "2/2 [==============================] - 0s 7ms/step\n",
      "2/2 [==============================] - 0s 7ms/step\n",
      "2/2 [==============================] - 0s 8ms/step\n",
      "2/2 [==============================] - 0s 7ms/step\n",
      "2/2 [==============================] - 0s 6ms/step\n",
      "2/2 [==============================] - 0s 7ms/step\n",
      "2/2 [==============================] - 0s 9ms/step\n",
      "2/2 [==============================] - 0s 7ms/step\n",
      "2/2 [==============================] - 0s 6ms/step\n",
      "2/2 [==============================] - 0s 17ms/step\n",
      "2/2 [==============================] - 0s 5ms/step\n",
      "2/2 [==============================] - 0s 6ms/step\n",
      "2/2 [==============================] - 0s 6ms/step\n",
      "2/2 [==============================] - 0s 10ms/step\n",
      "2/2 [==============================] - 0s 6ms/step\n",
      "2/2 [==============================] - 0s 42ms/step\n",
      "2/2 [==============================] - 0s 7ms/step\n",
      "2/2 [==============================] - 0s 9ms/step\n",
      "2/2 [==============================] - 0s 6ms/step\n",
      "2/2 [==============================] - 0s 7ms/step\n",
      "2/2 [==============================] - 0s 7ms/step\n",
      "2/2 [==============================] - 0s 7ms/step\n",
      "2/2 [==============================] - 0s 7ms/step\n",
      "2/2 [==============================] - 0s 7ms/step\n",
      "2/2 [==============================] - 0s 7ms/step\n",
      "2/2 [==============================] - 0s 7ms/step\n",
      "2/2 [==============================] - 0s 8ms/step\n",
      "2/2 [==============================] - 0s 7ms/step\n",
      "2/2 [==============================] - 0s 6ms/step\n",
      "2/2 [==============================] - 0s 8ms/step\n",
      "2/2 [==============================] - 0s 7ms/step\n",
      "2/2 [==============================] - 0s 7ms/step\n",
      "2/2 [==============================] - 0s 6ms/step\n",
      "2/2 [==============================] - 0s 7ms/step\n",
      "2/2 [==============================] - 0s 6ms/step\n",
      "2/2 [==============================] - 0s 6ms/step\n",
      "2/2 [==============================] - 0s 6ms/step\n",
      "2/2 [==============================] - 0s 21ms/step\n",
      "2/2 [==============================] - 0s 10ms/step\n",
      "2/2 [==============================] - 0s 6ms/step\n",
      "2/2 [==============================] - 0s 7ms/step\n",
      "2/2 [==============================] - 0s 49ms/step\n",
      "2/2 [==============================] - 0s 8ms/step\n",
      "2/2 [==============================] - 0s 10ms/step\n",
      "2/2 [==============================] - 0s 7ms/step\n",
      "2/2 [==============================] - 0s 7ms/step\n",
      "2/2 [==============================] - 0s 7ms/step\n",
      "2/2 [==============================] - 0s 7ms/step\n",
      "2/2 [==============================] - 0s 6ms/step\n",
      "2/2 [==============================] - 0s 5ms/step\n",
      "2/2 [==============================] - 0s 6ms/step\n",
      "2/2 [==============================] - 0s 5ms/step\n",
      "2/2 [==============================] - 0s 5ms/step\n",
      "2/2 [==============================] - 0s 8ms/step\n",
      "2/2 [==============================] - 0s 6ms/step\n",
      "2/2 [==============================] - 0s 6ms/step\n",
      "2/2 [==============================] - 0s 8ms/step\n",
      "2/2 [==============================] - 0s 5ms/step\n",
      "2/2 [==============================] - 0s 6ms/step\n",
      "2/2 [==============================] - 0s 7ms/step\n",
      "2/2 [==============================] - 0s 6ms/step\n",
      "2/2 [==============================] - 0s 5ms/step\n",
      "2/2 [==============================] - 0s 7ms/step\n",
      "2/2 [==============================] - 0s 6ms/step\n",
      "2/2 [==============================] - 0s 6ms/step\n",
      "2/2 [==============================] - 0s 6ms/step\n",
      "2/2 [==============================] - 0s 6ms/step\n",
      "2/2 [==============================] - 0s 56ms/step\n",
      "2/2 [==============================] - 0s 7ms/step\n",
      "2/2 [==============================] - 0s 8ms/step\n",
      "2/2 [==============================] - 0s 8ms/step\n",
      "2/2 [==============================] - 0s 6ms/step\n",
      "2/2 [==============================] - 0s 6ms/step\n",
      "2/2 [==============================] - 0s 6ms/step\n",
      "2/2 [==============================] - 0s 8ms/step\n",
      "2/2 [==============================] - 0s 9ms/step\n",
      "2/2 [==============================] - 0s 7ms/step\n",
      "2/2 [==============================] - 0s 5ms/step\n",
      "2/2 [==============================] - 0s 5ms/step\n",
      "2/2 [==============================] - 0s 10ms/step\n",
      "2/2 [==============================] - 0s 6ms/step\n",
      "2/2 [==============================] - 0s 5ms/step\n",
      "2/2 [==============================] - 0s 6ms/step\n",
      "2/2 [==============================] - 0s 6ms/step\n",
      "2/2 [==============================] - 0s 6ms/step\n",
      "2/2 [==============================] - 0s 7ms/step\n",
      "2/2 [==============================] - 0s 9ms/step\n",
      "2/2 [==============================] - 0s 8ms/step\n",
      "2/2 [==============================] - 0s 13ms/step\n",
      "2/2 [==============================] - 0s 9ms/step\n",
      "2/2 [==============================] - 0s 6ms/step\n",
      "2/2 [==============================] - 0s 8ms/step\n",
      "2/2 [==============================] - 0s 6ms/step\n",
      "2/2 [==============================] - 1s 66ms/step\n",
      "2/2 [==============================] - 0s 7ms/step\n",
      "2/2 [==============================] - 0s 8ms/step\n",
      "2/2 [==============================] - 0s 16ms/step\n",
      "2/2 [==============================] - 0s 10ms/step\n",
      "2/2 [==============================] - 0s 6ms/step\n",
      "2/2 [==============================] - 0s 8ms/step\n",
      "2/2 [==============================] - 0s 6ms/step\n",
      "2/2 [==============================] - 0s 14ms/step\n",
      "2/2 [==============================] - 0s 11ms/step\n",
      "2/2 [==============================] - 0s 7ms/step\n",
      "2/2 [==============================] - 0s 7ms/step\n",
      "2/2 [==============================] - 0s 6ms/step\n",
      "2/2 [==============================] - 0s 13ms/step\n",
      "2/2 [==============================] - 0s 9ms/step\n",
      "2/2 [==============================] - 0s 8ms/step\n",
      "2/2 [==============================] - 0s 12ms/step\n",
      "2/2 [==============================] - 0s 8ms/step\n",
      "2/2 [==============================] - 0s 10ms/step\n",
      "2/2 [==============================] - 0s 7ms/step\n",
      "2/2 [==============================] - 0s 8ms/step\n",
      "2/2 [==============================] - 0s 7ms/step\n",
      "2/2 [==============================] - 0s 18ms/step\n",
      "2/2 [==============================] - 0s 22ms/step\n",
      "2/2 [==============================] - 0s 8ms/step\n",
      "2/2 [==============================] - 0s 9ms/step\n",
      "2/2 [==============================] - 1s 67ms/step\n",
      "2/2 [==============================] - 0s 7ms/step\n",
      "2/2 [==============================] - 0s 11ms/step\n",
      "2/2 [==============================] - 0s 7ms/step\n",
      "2/2 [==============================] - 0s 6ms/step\n",
      "2/2 [==============================] - 0s 7ms/step\n",
      "2/2 [==============================] - 0s 9ms/step\n",
      "2/2 [==============================] - 0s 8ms/step\n",
      "2/2 [==============================] - 0s 9ms/step\n",
      "2/2 [==============================] - 0s 12ms/step\n",
      "2/2 [==============================] - 0s 8ms/step\n",
      "2/2 [==============================] - 0s 8ms/step\n",
      "2/2 [==============================] - 0s 7ms/step\n",
      "2/2 [==============================] - 0s 7ms/step\n",
      "2/2 [==============================] - 0s 10ms/step\n",
      "2/2 [==============================] - 0s 12ms/step\n",
      "2/2 [==============================] - 0s 7ms/step\n",
      "2/2 [==============================] - 0s 6ms/step\n",
      "2/2 [==============================] - 0s 10ms/step\n",
      "2/2 [==============================] - 0s 12ms/step\n",
      "2/2 [==============================] - 0s 10ms/step\n",
      "2/2 [==============================] - 0s 8ms/step\n",
      "2/2 [==============================] - 0s 7ms/step\n",
      "2/2 [==============================] - 0s 8ms/step\n",
      "2/2 [==============================] - 0s 11ms/step\n",
      "2/2 [==============================] - 0s 6ms/step\n",
      "2/2 [==============================] - 0s 49ms/step\n",
      "2/2 [==============================] - 0s 9ms/step\n",
      "2/2 [==============================] - 0s 32ms/step\n",
      "2/2 [==============================] - 0s 9ms/step\n",
      "2/2 [==============================] - 0s 7ms/step\n",
      "2/2 [==============================] - 0s 8ms/step\n",
      "2/2 [==============================] - 0s 10ms/step\n",
      "2/2 [==============================] - 0s 8ms/step\n",
      "2/2 [==============================] - 0s 9ms/step\n",
      "2/2 [==============================] - 0s 9ms/step\n",
      "2/2 [==============================] - 0s 11ms/step\n",
      "2/2 [==============================] - 0s 7ms/step\n",
      "2/2 [==============================] - 0s 6ms/step\n",
      "2/2 [==============================] - 0s 9ms/step\n",
      "2/2 [==============================] - 0s 6ms/step\n",
      "2/2 [==============================] - 0s 7ms/step\n",
      "2/2 [==============================] - 0s 7ms/step\n",
      "2/2 [==============================] - 0s 9ms/step\n",
      "2/2 [==============================] - 0s 9ms/step\n",
      "2/2 [==============================] - 0s 9ms/step\n",
      "2/2 [==============================] - 0s 8ms/step\n",
      "2/2 [==============================] - 0s 10ms/step\n",
      "2/2 [==============================] - 0s 6ms/step\n",
      "2/2 [==============================] - 0s 9ms/step\n",
      "2/2 [==============================] - 0s 7ms/step\n",
      "2/2 [==============================] - 0s 8ms/step\n",
      "2/2 [==============================] - 1s 272ms/step\n",
      "2/2 [==============================] - 0s 10ms/step\n",
      "2/2 [==============================] - 0s 8ms/step\n",
      "2/2 [==============================] - 0s 12ms/step\n",
      "2/2 [==============================] - 0s 15ms/step\n",
      "2/2 [==============================] - 0s 13ms/step\n",
      "2/2 [==============================] - 0s 9ms/step\n",
      "2/2 [==============================] - 0s 10ms/step\n",
      "2/2 [==============================] - 0s 10ms/step\n",
      "2/2 [==============================] - 0s 8ms/step\n",
      "2/2 [==============================] - 0s 7ms/step\n",
      "2/2 [==============================] - 0s 8ms/step\n",
      "2/2 [==============================] - 0s 9ms/step\n",
      "2/2 [==============================] - 0s 7ms/step\n",
      "2/2 [==============================] - 0s 7ms/step\n",
      "2/2 [==============================] - 0s 6ms/step\n",
      "2/2 [==============================] - 0s 7ms/step\n",
      "2/2 [==============================] - 0s 9ms/step\n",
      "2/2 [==============================] - 0s 7ms/step\n",
      "2/2 [==============================] - 0s 7ms/step\n",
      "2/2 [==============================] - 0s 7ms/step\n",
      "2/2 [==============================] - 0s 8ms/step\n",
      "2/2 [==============================] - 0s 8ms/step\n",
      "2/2 [==============================] - 0s 11ms/step\n",
      "2/2 [==============================] - 0s 9ms/step\n",
      "2/2 [==============================] - 0s 15ms/step\n",
      "2/2 [==============================] - 1s 234ms/step\n",
      "2/2 [==============================] - 0s 12ms/step\n",
      "2/2 [==============================] - 0s 9ms/step\n",
      "2/2 [==============================] - 0s 7ms/step\n",
      "2/2 [==============================] - 0s 8ms/step\n",
      "2/2 [==============================] - 0s 7ms/step\n",
      "2/2 [==============================] - 0s 7ms/step\n",
      "2/2 [==============================] - 0s 6ms/step\n",
      "2/2 [==============================] - 0s 6ms/step\n",
      "2/2 [==============================] - 0s 8ms/step\n",
      "2/2 [==============================] - 0s 6ms/step\n",
      "2/2 [==============================] - 0s 16ms/step\n",
      "2/2 [==============================] - 0s 10ms/step\n",
      "2/2 [==============================] - 0s 5ms/step\n",
      "2/2 [==============================] - 0s 10ms/step\n",
      "2/2 [==============================] - 0s 16ms/step\n",
      "2/2 [==============================] - 0s 7ms/step\n",
      "2/2 [==============================] - 0s 6ms/step\n",
      "2/2 [==============================] - 0s 7ms/step\n",
      "2/2 [==============================] - 0s 7ms/step\n",
      "2/2 [==============================] - 0s 6ms/step\n",
      "2/2 [==============================] - 0s 6ms/step\n",
      "2/2 [==============================] - 0s 8ms/step\n",
      "2/2 [==============================] - 0s 7ms/step\n",
      "2/2 [==============================] - 0s 5ms/step\n",
      "2/2 [==============================] - 0s 6ms/step\n",
      "2/2 [==============================] - 0s 42ms/step\n",
      "2/2 [==============================] - 0s 8ms/step\n",
      "2/2 [==============================] - 0s 7ms/step\n",
      "2/2 [==============================] - 0s 6ms/step\n",
      "2/2 [==============================] - 0s 6ms/step\n",
      "2/2 [==============================] - 0s 8ms/step\n",
      "2/2 [==============================] - 0s 6ms/step\n",
      "2/2 [==============================] - 0s 7ms/step\n",
      "2/2 [==============================] - 0s 6ms/step\n",
      "2/2 [==============================] - 0s 6ms/step\n",
      "2/2 [==============================] - 0s 7ms/step\n",
      "2/2 [==============================] - 0s 6ms/step\n",
      "2/2 [==============================] - 0s 7ms/step\n",
      "2/2 [==============================] - 0s 11ms/step\n",
      "2/2 [==============================] - 0s 6ms/step\n",
      "2/2 [==============================] - 0s 6ms/step\n",
      "2/2 [==============================] - 0s 6ms/step\n",
      "2/2 [==============================] - 0s 6ms/step\n",
      "2/2 [==============================] - 0s 8ms/step\n",
      "2/2 [==============================] - 0s 6ms/step\n",
      "2/2 [==============================] - 0s 7ms/step\n",
      "2/2 [==============================] - 0s 6ms/step\n",
      "2/2 [==============================] - 0s 7ms/step\n",
      "2/2 [==============================] - 0s 9ms/step\n",
      "2/2 [==============================] - 0s 7ms/step\n",
      "2/2 [==============================] - 0s 8ms/step\n",
      "2/2 [==============================] - 0s 45ms/step\n",
      "2/2 [==============================] - 0s 6ms/step\n",
      "2/2 [==============================] - 0s 8ms/step\n",
      "2/2 [==============================] - 0s 7ms/step\n",
      "2/2 [==============================] - 0s 9ms/step\n",
      "2/2 [==============================] - 0s 7ms/step\n",
      "2/2 [==============================] - 0s 7ms/step\n",
      "2/2 [==============================] - 0s 6ms/step\n",
      "2/2 [==============================] - 0s 8ms/step\n",
      "2/2 [==============================] - 0s 6ms/step\n",
      "2/2 [==============================] - 0s 6ms/step\n",
      "2/2 [==============================] - 0s 9ms/step\n",
      "2/2 [==============================] - 0s 7ms/step\n",
      "2/2 [==============================] - 0s 6ms/step\n",
      "2/2 [==============================] - 0s 7ms/step\n",
      "2/2 [==============================] - 0s 6ms/step\n",
      "2/2 [==============================] - 0s 8ms/step\n",
      "2/2 [==============================] - 0s 6ms/step\n",
      "2/2 [==============================] - 0s 8ms/step\n",
      "2/2 [==============================] - 0s 7ms/step\n",
      "2/2 [==============================] - 0s 8ms/step\n",
      "2/2 [==============================] - 0s 8ms/step\n",
      "2/2 [==============================] - 0s 7ms/step\n",
      "2/2 [==============================] - 0s 5ms/step\n",
      "2/2 [==============================] - 0s 6ms/step\n",
      "2/2 [==============================] - 0s 5ms/step\n",
      "2/2 [==============================] - 1s 174ms/step\n",
      "2/2 [==============================] - 0s 8ms/step\n",
      "2/2 [==============================] - 0s 7ms/step\n",
      "2/2 [==============================] - 0s 9ms/step\n",
      "2/2 [==============================] - 0s 9ms/step\n",
      "2/2 [==============================] - 0s 10ms/step\n",
      "2/2 [==============================] - 0s 10ms/step\n",
      "2/2 [==============================] - 0s 9ms/step\n",
      "2/2 [==============================] - 0s 11ms/step\n",
      "2/2 [==============================] - 0s 7ms/step\n",
      "2/2 [==============================] - 0s 9ms/step\n",
      "2/2 [==============================] - 0s 7ms/step\n",
      "2/2 [==============================] - 0s 6ms/step\n",
      "2/2 [==============================] - 0s 6ms/step\n",
      "2/2 [==============================] - 0s 6ms/step\n",
      "2/2 [==============================] - 0s 7ms/step\n",
      "2/2 [==============================] - 0s 9ms/step\n",
      "2/2 [==============================] - 0s 10ms/step\n",
      "2/2 [==============================] - 0s 9ms/step\n",
      "2/2 [==============================] - 0s 7ms/step\n",
      "2/2 [==============================] - 0s 9ms/step\n",
      "2/2 [==============================] - 0s 7ms/step\n",
      "2/2 [==============================] - 0s 7ms/step\n",
      "2/2 [==============================] - 0s 12ms/step\n",
      "2/2 [==============================] - 0s 8ms/step\n",
      "2/2 [==============================] - 0s 6ms/step\n",
      "2/2 [==============================] - 1s 215ms/step\n",
      "2/2 [==============================] - 0s 13ms/step\n",
      "2/2 [==============================] - 0s 8ms/step\n",
      "2/2 [==============================] - 0s 8ms/step\n",
      "2/2 [==============================] - 0s 7ms/step\n",
      "2/2 [==============================] - 0s 10ms/step\n",
      "2/2 [==============================] - 0s 7ms/step\n",
      "2/2 [==============================] - 0s 6ms/step\n",
      "2/2 [==============================] - 0s 6ms/step\n",
      "2/2 [==============================] - 0s 7ms/step\n",
      "2/2 [==============================] - 0s 6ms/step\n",
      "2/2 [==============================] - 0s 7ms/step\n",
      "2/2 [==============================] - 0s 7ms/step\n",
      "2/2 [==============================] - 0s 6ms/step\n",
      "2/2 [==============================] - 0s 6ms/step\n",
      "2/2 [==============================] - 0s 6ms/step\n",
      "2/2 [==============================] - 0s 6ms/step\n",
      "2/2 [==============================] - 0s 7ms/step\n",
      "2/2 [==============================] - 0s 6ms/step\n",
      "2/2 [==============================] - 0s 7ms/step\n",
      "2/2 [==============================] - 0s 7ms/step\n",
      "2/2 [==============================] - 0s 7ms/step\n",
      "2/2 [==============================] - 0s 6ms/step\n",
      "2/2 [==============================] - 0s 6ms/step\n",
      "2/2 [==============================] - 0s 6ms/step\n",
      "2/2 [==============================] - 0s 6ms/step\n",
      "2/2 [==============================] - 1s 199ms/step\n",
      "2/2 [==============================] - 0s 10ms/step\n",
      "2/2 [==============================] - 0s 10ms/step\n",
      "2/2 [==============================] - 0s 7ms/step\n",
      "2/2 [==============================] - 0s 8ms/step\n",
      "2/2 [==============================] - 0s 14ms/step\n",
      "2/2 [==============================] - 0s 13ms/step\n",
      "2/2 [==============================] - 0s 7ms/step\n",
      "2/2 [==============================] - 0s 8ms/step\n",
      "2/2 [==============================] - 0s 6ms/step\n",
      "2/2 [==============================] - 0s 7ms/step\n",
      "2/2 [==============================] - 0s 7ms/step\n",
      "2/2 [==============================] - 0s 7ms/step\n",
      "2/2 [==============================] - 0s 10ms/step\n",
      "2/2 [==============================] - 0s 18ms/step\n",
      "2/2 [==============================] - 0s 17ms/step\n",
      "2/2 [==============================] - 0s 6ms/step\n",
      "2/2 [==============================] - 0s 7ms/step\n",
      "2/2 [==============================] - 0s 9ms/step\n",
      "2/2 [==============================] - 0s 7ms/step\n",
      "2/2 [==============================] - 0s 9ms/step\n",
      "2/2 [==============================] - 0s 6ms/step\n",
      "2/2 [==============================] - 0s 7ms/step\n",
      "2/2 [==============================] - 0s 8ms/step\n",
      "2/2 [==============================] - 0s 9ms/step\n",
      "2/2 [==============================] - 0s 8ms/step\n"
     ]
    }
   ],
   "source": [
    "for input_size in n:\n",
    "    for pred_horizon in [1, 3, 5, 6, 7]:\n",
    "        test_model_complex(test_patients ,input_size, pred_horizon)"
   ]
  },
  {
   "attachments": {},
   "cell_type": "markdown",
   "metadata": {},
   "source": [
    "### AVG"
   ]
  },
  {
   "cell_type": "code",
   "execution_count": 142,
   "metadata": {},
   "outputs": [],
   "source": [
    "import os\n",
    "\n",
    "for horizon in pred_horizons:\n",
    "    for input_size in n:\n",
    "        results_dir = f\"results_complex/{input_size}_{horizon}\"\n",
    "\n",
    "        # Criar dicionário para armazenar os resultados\n",
    "        results_dict = {}\n",
    "\n",
    "        # Percorrer todos os arquivos txt na pasta de resultados\n",
    "        for file_name in os.listdir(results_dir):\n",
    "            if file_name.endswith(\".txt\"):\n",
    "                # Obter o nome do paciente a partir do nome do arquivo\n",
    "                patient_name = file_name.split(\"_\")[0]\n",
    "                file_path = os.path.join(results_dir, file_name)\n",
    "                with open(file_path, \"r\") as f:\n",
    "                    # Ler os resultados do arquivo\n",
    "                    results = [float(line.split(\":\")[1].strip()) for line in f.readlines()]\n",
    "                # Adicionar os resultados ao dicionário\n",
    "                if patient_name in results_dict:\n",
    "                    results_dict[patient_name].append(results)\n",
    "                else:\n",
    "                    results_dict[patient_name] = [results]\n",
    "\n",
    "        # Calcular a média dos resultados para cada paciente\n",
    "        for patient_name, results_list in results_dict.items():\n",
    "            # Calcular a média de cada métrica\n",
    "            mae_list = [results[0] for results in results_list]\n",
    "            mae_avg = sum(mae_list) / len(mae_list)\n",
    "            mse_list = [results[1] for results in results_list]\n",
    "            mse_avg = sum(mse_list) / len(mse_list)\n",
    "            corr_list = [results[2] for results in results_list]\n",
    "            corr_avg = sum(corr_list) / len(corr_list)\n",
    "            # Salvar os resultados médios em um novo arquivo txt\n",
    "            output_file_path = f\"results_complex/{input_size}_{horizon}/{patient_name}_avg.txt\"\n",
    "            with open(output_file_path, \"w\") as f:\n",
    "                f.write(f\"MAE: {mae_avg:.4f}\\n\")\n",
    "                f.write(f\"MSE: {mse_avg:.4f}\\n\")\n",
    "                f.write(f\"CORR: {corr_avg:.4f}\\n\")\n"
   ]
  },
  {
   "cell_type": "code",
   "execution_count": 143,
   "metadata": {},
   "outputs": [
    {
     "name": "stdout",
     "output_type": "stream",
     "text": [
      "Model information has been saved to 'model_info_complex.csv'.\n"
     ]
    }
   ],
   "source": [
    "import os\n",
    "import csv\n",
    "\n",
    "def generate_model_info_csv():\n",
    "    result_path = 'results_complex'\n",
    "    output_csv_path = 'model_info_complex.csv'\n",
    "\n",
    "    # Get the list of folders in the results directory\n",
    "    folders = os.listdir(result_path)\n",
    "\n",
    "    # Initialize the data lists\n",
    "    model_info = []\n",
    "\n",
    "    # Iterate over the folders\n",
    "    for folder in folders:\n",
    "        folder_path = os.path.join(result_path, folder)\n",
    "        if os.path.isdir(folder_path):\n",
    "            # Extract input size and prediction horizon from the folder name\n",
    "            input_size, pred_horizon = map(int, folder.split('_'))\n",
    "\n",
    "            # Read the paciente_avg.txt file\n",
    "            file_path = os.path.join(folder_path, 'paciente_avg.txt')\n",
    "            with open(file_path, 'r') as f:\n",
    "                lines = f.readlines()\n",
    "\n",
    "            # Parse the metrics from the file\n",
    "            mae = float(lines[0].split(':')[1].strip())\n",
    "            mse = float(lines[1].split(':')[1].strip())\n",
    "            corr = float(lines[2].split(':')[1].strip())\n",
    "\n",
    "            # Append the data to the list\n",
    "            model_info.append((input_size, pred_horizon, mae, mse, corr))\n",
    "\n",
    "    # Sort the model info list by input_size and pred_horizon\n",
    "    sorted_model_info = sorted(model_info, key=lambda x: (x[0], x[1]))\n",
    "\n",
    "    # Write the data to a CSV file\n",
    "    with open(output_csv_path, 'w', newline='') as f:\n",
    "        writer = csv.writer(f)\n",
    "        writer.writerow(['Input Size', 'Prediction Horizon', 'MAE', 'MSE', 'CORR'])\n",
    "        writer.writerows(sorted_model_info)\n",
    "\n",
    "    print(f\"Model information has been saved to '{output_csv_path}'.\")\n",
    "\n",
    "generate_model_info_csv()"
   ]
  },
  {
   "attachments": {},
   "cell_type": "markdown",
   "metadata": {},
   "source": [
    "# Modelo 5 - Wavelets"
   ]
  },
  {
   "cell_type": "code",
   "execution_count": 35,
   "metadata": {},
   "outputs": [],
   "source": [
    "def train_model_wave(data, input_size, pred_horizon):\n",
    "\n",
    "    # Filtragem\n",
    "    data_filter = filtragem(data)\n",
    "\n",
    "    # PARAMS\n",
    "    activationfcn = 'sigmoid'\n",
    "    activationfcn1 = 'linear'\n",
    "    optimizerfcn = 'adam'\n",
    "    lossfcn = 'mse'\n",
    "    n_features = 1\n",
    "    units = 4\n",
    "    units1 = 1\n",
    "\n",
    "    # input layer\n",
    "    inputs = Input(shape=((input_size*2, n_features)))\n",
    "    inputs = Flatten()(inputs)\n",
    "\n",
    "    # passar o input para a hidden layer - parte nao linear\n",
    "    dense = Dense(units=4, activation='sigmoid')\n",
    "    hidden = Flatten()(dense(inputs))\n",
    "\n",
    "    # obter o 1 output (o da camada de input) e juntar ao 2 output (o primeiro output esta a saltar a hidden layer) - parte linear\n",
    "    jump = Concatenate(axis=1)([inputs, hidden])\n",
    "    outputs = Dense(units=1, activation='linear')(jump)\n",
    "\n",
    "    model = Model(inputs=inputs, outputs=outputs)\n",
    "    model.compile(optimizer=optimizerfcn, loss=lossfcn)\n",
    "\n",
    "    for i in range(0, np.size(data_filter, 1)):\n",
    "\n",
    "        X, y = data_prep(data_filter[:, i], input_size, pred_horizon, True)\n",
    "        cA2, cD2, cD1 = dwt(X)  # Calcular a derivada do X\n",
    "        \n",
    "        if input_size == 4:\n",
    "            wave = np.concatenate((cD2, cD2.copy()), axis=1)\n",
    "            wave = np.concatenate((wave, wave.copy()), axis=1)\n",
    "        if input_size == 8:\n",
    "            wave = np.concatenate((cD2, cD2.copy()), axis=1)\n",
    "            wave = np.concatenate((wave, wave.copy()), axis=1)\n",
    "        \n",
    "        X_concat = np.concatenate((X, wave), axis=1)\n",
    "\n",
    "        if i == 0:\n",
    "            X_train = X_concat\n",
    "            y_train = y\n",
    "        else:\n",
    "            X_train = np.concatenate((X_train, X_concat), axis=0)\n",
    "            y_train = np.concatenate((y_train, y), axis=0)\n",
    "\n",
    "    if X_train.size != 0 and y_train.size != 0:\n",
    "        # reshape de [padroes, n] para [padroes, n, n_features]\n",
    "        #X_train = X_train.reshape((X_train.shape[0], X_train.shape[1], n_features))\n",
    "        \n",
    "        #X_train = X_train.reshape((X_train.shape[0], X_train.shape[1]))\n",
    "        #X_train = np.expand_dims(X_train, axis=-1)\n",
    "\n",
    "        model.fit(X_train, y_train, epochs=300, verbose=0)\n",
    "\n",
    "    # Exibindo o score do modelo treinado\n",
    "    score = model.evaluate(X_train, y_train, verbose=0)\n",
    "    print('Score do modelo:', score)\n",
    "\n",
    "\n",
    "    model_path = 'models_dwt/' + str(input_size) + '_' + str(pred_horizon) \n",
    "    model.save(model_path)\n",
    "    print(\"Model --> \", model_path)\n",
    "\n",
    "    backend.clear_session()"
   ]
  },
  {
   "cell_type": "code",
   "execution_count": 36,
   "metadata": {},
   "outputs": [
    {
     "name": "stdout",
     "output_type": "stream",
     "text": [
      "Score do modelo: 28.804370880126953\n",
      "Model -->  models_dwt/4_1\n",
      "Score do modelo: 32.176483154296875\n",
      "Model -->  models_dwt/4_3\n",
      "Score do modelo: 32.79066467285156\n",
      "Model -->  models_dwt/4_5\n",
      "Score do modelo: 35.92082595825195\n",
      "Model -->  models_dwt/4_6\n",
      "Score do modelo: 34.913047790527344\n",
      "Model -->  models_dwt/4_7\n",
      "Score do modelo: 29.167936325073242\n",
      "Model -->  models_dwt/8_1\n",
      "Score do modelo: 30.694847106933594\n",
      "Model -->  models_dwt/8_3\n",
      "Score do modelo: 32.07758331298828\n",
      "Model -->  models_dwt/8_5\n",
      "Score do modelo: 34.44343948364258\n",
      "Model -->  models_dwt/8_6\n",
      "Score do modelo: 35.46635818481445\n",
      "Model -->  models_dwt/8_7\n"
     ]
    }
   ],
   "source": [
    "with tf.device('/cpu:0'):\n",
    "    for input_size in [4, 8]:\n",
    "        for pred_horizon in pred_horizons:\n",
    "            train_model_wave(train_patients ,input_size, pred_horizon)"
   ]
  },
  {
   "attachments": {},
   "cell_type": "markdown",
   "metadata": {},
   "source": [
    "## Test"
   ]
  },
  {
   "cell_type": "code",
   "execution_count": 21,
   "metadata": {},
   "outputs": [],
   "source": [
    "from sklearn.metrics import mean_absolute_error, mean_squared_error\n",
    "from tensorflow import keras\n",
    "\n",
    "def evaluate_model(model, X_test, y_test):\n",
    "    \"\"\"\n",
    "    Evaluate the model on test data and return the evaluation metrics.\n",
    "    \"\"\"\n",
    "    y_pred = model.predict(X_test)\n",
    "    mae = mean_absolute_error(y_test, y_pred)\n",
    "    mse = mean_squared_error(y_test, y_pred)\n",
    "    corr = np.corrcoef(y_test.squeeze(), y_pred.squeeze())[0, 1]\n",
    "    return mae, mse, corr\n",
    "\n",
    "from scipy import signal\n",
    "def ccf_values(series1, series2):\n",
    "    p = series1\n",
    "    q = series2\n",
    "    p = (p - np.mean(p)) / (np.std(p) * len(p))\n",
    "    q = (q - np.mean(q)) / (np.std(q))  \n",
    "    c = np.correlate(p, q, 'full')\n",
    "    return c\n",
    "\n",
    "def ccf_plot(path, i, lags, ccf):\n",
    "    fig, ax =plt.subplots(figsize=(9, 6))\n",
    "    ax.plot(lags, ccf)\n",
    "    ax.axvline(x = 0, color = 'black', lw = 1)\n",
    "    ax.axhline(y = 0, color = 'black', lw = 1)\n",
    "    ax.axhline(y = np.max(ccf), color = 'blue', lw = 1, linestyle='--', label = 'highest +/- correlation')\n",
    "    ax.axhline(y = np.min(ccf), color = 'blue', lw = 1, linestyle='--')\n",
    "    ax.set(ylim = [-1, 1])\n",
    "    ax.set_title('Cross Correlation', weight='bold', fontsize = 15)\n",
    "    ax.set_ylabel('Correlation Coefficients', weight='bold', \n",
    "    fontsize = 12)\n",
    "    ax.set_xlabel('Time Lags', weight='bold', fontsize = 12)\n",
    "    plt.legend()\n",
    "    plt.savefig(os.path.join(path, f'paciente_{i}_correlation.png'))\n",
    "    plt.close()\n",
    "\n",
    "def test_model_wave(data, input_size, pred_horizon):\n",
    "    \"\"\"\n",
    "    Test the trained model on a group of test patients and save the evaluation metrics and plots.\n",
    "    \"\"\"\n",
    "    # Load the trained model\n",
    "    model_path = 'models_dwt/' + str(input_size) + '_' + str(pred_horizon)\n",
    "    model = keras.models.load_model(model_path)\n",
    "\n",
    "    # Create directories to save the plots and evaluation results\n",
    "    plots_path = 'plots_dwt/' + str(input_size) + '_' + str(pred_horizon)\n",
    "    os.makedirs(plots_path, exist_ok=True)\n",
    "    results_path = 'results_dwt/' + str(input_size) + '_' + str(pred_horizon)\n",
    "    os.makedirs(results_path, exist_ok=True)\n",
    "\n",
    "    for i in range(0, np.size(data, 1)):\n",
    "        # Filter the data and prepare the test inputs and targets\n",
    "        data_filter = filtragem(data[:, i])\n",
    "        X_test, y_test = data_prep(data_filter, input_size, pred_horizon, True)\n",
    "        cA2, cD2, cD1 = dwt(X_test)  # Calcular a derivada do X\n",
    "        wave = np.concatenate((cA2, cA2.copy()), axis=1)\n",
    "        wave = np.concatenate((wave, wave.copy()), axis=1)\n",
    "        X_test_concat = np.concatenate((X_test, wave), axis=1)\n",
    "\n",
    "\n",
    "        X_test_concat = X_test_concat.reshape((X_test_concat.shape[0], X_test_concat.shape[1], 1))\n",
    "\n",
    "        # Make predictions\n",
    "        y_pred = model.predict(X_test_concat)\n",
    "\n",
    "        # Plot the data and predictions\n",
    "        plt.plot(data[:, i], label='Original Data')\n",
    "        plt.plot(data_filter, label='Filtered Data')\n",
    "        plt.plot(np.arange(input_size+pred_horizon-1, len(data_filter)), y_test.squeeze(), label='True Values')\n",
    "        plt.plot(np.arange(input_size+pred_horizon-1, len(data_filter)), y_pred.squeeze(), label='Predictions')\n",
    "        plt.legend()\n",
    "        plt.savefig(os.path.join(plots_path, f'paciente_{i}.png'))\n",
    "        plt.close()\n",
    "\n",
    "        # Compute Cross-correlation\n",
    "        # corr_values = signal.correlate(y_pred.squeeze(), y_test.squeeze(), mode='full')\n",
    "        # corr_values = corr_values / np.concatenate((np.arange(1, len(y_pred)+1), np.arange(len(y_pred)-1, 0, -1)))\n",
    "        # #print(corr_values)\n",
    "        # plt.plot(np.arange(-len(y_pred)+1, len(y_pred)), corr_values)\n",
    "        # plt.xlim((-15, 15))\n",
    "        # plt.show()\n",
    "\n",
    "        # # Compute cross-correlation\n",
    "        # x = data_filter[input_size-1:-pred_horizon]\n",
    "        # y = y_pred.squeeze()\n",
    "        # ccf_ielts = ccf_values(x, y)\n",
    "        # lags = signal.correlation_lags(len(x), len(y))\n",
    "        # ccf_plot(plots_path, i, lags, ccf_ielts)\n",
    "        \n",
    "        \n",
    "        # Evaluate the model and save the results\n",
    "        mae, mse, corr = evaluate_model(model, X_test_concat, y_test)\n",
    "        with open(os.path.join(results_path, f'paciente_{i}.txt'), 'w') as f:\n",
    "            f.write(f'MAE: {mae:.4f}\\nMSE: {mse:.4f}\\nCORR: {corr:.4f}')\n",
    "\n",
    "    backend.clear_session()\n"
   ]
  },
  {
   "cell_type": "code",
   "execution_count": 22,
   "metadata": {},
   "outputs": [
    {
     "name": "stdout",
     "output_type": "stream",
     "text": [
      "2/2 [==============================] - 0s 34ms/step\n",
      "2/2 [==============================] - 0s 4ms/step\n",
      "2/2 [==============================] - 0s 4ms/step\n",
      "2/2 [==============================] - 0s 5ms/step\n",
      "2/2 [==============================] - 0s 4ms/step\n",
      "2/2 [==============================] - 0s 4ms/step\n",
      "2/2 [==============================] - 0s 4ms/step\n",
      "2/2 [==============================] - 0s 4ms/step\n",
      "2/2 [==============================] - 0s 4ms/step\n",
      "2/2 [==============================] - 0s 4ms/step\n",
      "2/2 [==============================] - 0s 4ms/step\n",
      "2/2 [==============================] - 0s 4ms/step\n",
      "2/2 [==============================] - 0s 5ms/step\n",
      "2/2 [==============================] - 0s 4ms/step\n",
      "2/2 [==============================] - 0s 4ms/step\n",
      "2/2 [==============================] - 0s 4ms/step\n",
      "2/2 [==============================] - 0s 4ms/step\n",
      "2/2 [==============================] - 0s 4ms/step\n",
      "2/2 [==============================] - 0s 4ms/step\n",
      "2/2 [==============================] - 0s 4ms/step\n",
      "2/2 [==============================] - 0s 4ms/step\n",
      "2/2 [==============================] - 0s 5ms/step\n",
      "2/2 [==============================] - 0s 4ms/step\n",
      "2/2 [==============================] - 0s 4ms/step\n",
      "2/2 [==============================] - 0s 5ms/step\n",
      "2/2 [==============================] - 0s 4ms/step\n",
      "2/2 [==============================] - 0s 22ms/step\n",
      "2/2 [==============================] - 0s 4ms/step\n",
      "2/2 [==============================] - 0s 4ms/step\n",
      "2/2 [==============================] - 0s 5ms/step\n",
      "2/2 [==============================] - 0s 5ms/step\n",
      "2/2 [==============================] - 0s 4ms/step\n",
      "2/2 [==============================] - 0s 4ms/step\n",
      "2/2 [==============================] - 0s 4ms/step\n",
      "2/2 [==============================] - 0s 4ms/step\n",
      "2/2 [==============================] - 0s 4ms/step\n",
      "2/2 [==============================] - 0s 4ms/step\n",
      "2/2 [==============================] - 0s 4ms/step\n",
      "2/2 [==============================] - 0s 4ms/step\n",
      "2/2 [==============================] - 0s 5ms/step\n",
      "2/2 [==============================] - 0s 4ms/step\n",
      "2/2 [==============================] - 0s 4ms/step\n",
      "2/2 [==============================] - 0s 4ms/step\n",
      "2/2 [==============================] - 0s 5ms/step\n",
      "2/2 [==============================] - 0s 5ms/step\n",
      "2/2 [==============================] - 0s 4ms/step\n",
      "2/2 [==============================] - 0s 4ms/step\n",
      "2/2 [==============================] - 0s 4ms/step\n",
      "2/2 [==============================] - 0s 4ms/step\n",
      "2/2 [==============================] - 0s 6ms/step\n",
      "2/2 [==============================] - 0s 4ms/step\n",
      "2/2 [==============================] - 0s 4ms/step\n",
      "2/2 [==============================] - 0s 22ms/step\n",
      "2/2 [==============================] - 0s 4ms/step\n",
      "2/2 [==============================] - 0s 4ms/step\n",
      "2/2 [==============================] - 0s 4ms/step\n",
      "2/2 [==============================] - 0s 5ms/step\n",
      "2/2 [==============================] - 0s 7ms/step\n",
      "2/2 [==============================] - 0s 4ms/step\n",
      "2/2 [==============================] - 0s 4ms/step\n",
      "2/2 [==============================] - 0s 4ms/step\n",
      "2/2 [==============================] - 0s 4ms/step\n",
      "2/2 [==============================] - 0s 3ms/step\n",
      "2/2 [==============================] - 0s 4ms/step\n",
      "2/2 [==============================] - 0s 4ms/step\n",
      "2/2 [==============================] - 0s 4ms/step\n",
      "2/2 [==============================] - 0s 4ms/step\n",
      "2/2 [==============================] - 0s 4ms/step\n",
      "2/2 [==============================] - 0s 4ms/step\n",
      "2/2 [==============================] - 0s 4ms/step\n",
      "2/2 [==============================] - 0s 4ms/step\n",
      "2/2 [==============================] - 0s 4ms/step\n",
      "2/2 [==============================] - 0s 4ms/step\n",
      "2/2 [==============================] - 0s 4ms/step\n",
      "2/2 [==============================] - 0s 4ms/step\n",
      "2/2 [==============================] - 0s 4ms/step\n",
      "2/2 [==============================] - 0s 4ms/step\n",
      "2/2 [==============================] - 0s 4ms/step\n",
      "2/2 [==============================] - 0s 22ms/step\n",
      "2/2 [==============================] - 0s 4ms/step\n",
      "2/2 [==============================] - 0s 5ms/step\n",
      "2/2 [==============================] - 0s 4ms/step\n",
      "2/2 [==============================] - 0s 4ms/step\n",
      "2/2 [==============================] - 0s 4ms/step\n",
      "2/2 [==============================] - 0s 4ms/step\n",
      "2/2 [==============================] - 0s 4ms/step\n",
      "2/2 [==============================] - 0s 4ms/step\n",
      "2/2 [==============================] - 0s 3ms/step\n",
      "2/2 [==============================] - 0s 4ms/step\n",
      "2/2 [==============================] - 0s 5ms/step\n",
      "2/2 [==============================] - 0s 4ms/step\n",
      "2/2 [==============================] - 0s 4ms/step\n",
      "2/2 [==============================] - 0s 4ms/step\n",
      "2/2 [==============================] - 0s 4ms/step\n",
      "2/2 [==============================] - 0s 4ms/step\n",
      "2/2 [==============================] - 0s 4ms/step\n",
      "2/2 [==============================] - 0s 5ms/step\n",
      "2/2 [==============================] - 0s 4ms/step\n",
      "2/2 [==============================] - 0s 4ms/step\n",
      "2/2 [==============================] - 0s 4ms/step\n",
      "2/2 [==============================] - 0s 4ms/step\n",
      "2/2 [==============================] - 0s 4ms/step\n",
      "2/2 [==============================] - 0s 4ms/step\n",
      "2/2 [==============================] - 0s 4ms/step\n",
      "2/2 [==============================] - 0s 23ms/step\n",
      "2/2 [==============================] - 0s 4ms/step\n",
      "2/2 [==============================] - 0s 4ms/step\n",
      "2/2 [==============================] - 0s 4ms/step\n",
      "2/2 [==============================] - 0s 4ms/step\n",
      "2/2 [==============================] - 0s 4ms/step\n",
      "2/2 [==============================] - 0s 4ms/step\n",
      "2/2 [==============================] - 0s 4ms/step\n",
      "2/2 [==============================] - 0s 4ms/step\n",
      "2/2 [==============================] - 0s 4ms/step\n",
      "2/2 [==============================] - 0s 4ms/step\n",
      "2/2 [==============================] - 0s 4ms/step\n",
      "2/2 [==============================] - 0s 3ms/step\n",
      "2/2 [==============================] - 0s 4ms/step\n",
      "2/2 [==============================] - 0s 4ms/step\n",
      "2/2 [==============================] - 0s 4ms/step\n",
      "2/2 [==============================] - 0s 4ms/step\n",
      "2/2 [==============================] - 0s 5ms/step\n",
      "2/2 [==============================] - 0s 4ms/step\n",
      "2/2 [==============================] - 0s 3ms/step\n",
      "2/2 [==============================] - 0s 4ms/step\n",
      "2/2 [==============================] - 0s 5ms/step\n",
      "2/2 [==============================] - 0s 4ms/step\n",
      "2/2 [==============================] - 0s 4ms/step\n",
      "2/2 [==============================] - 0s 4ms/step\n",
      "2/2 [==============================] - 0s 4ms/step\n",
      "2/2 [==============================] - 0s 21ms/step\n",
      "2/2 [==============================] - 0s 4ms/step\n",
      "2/2 [==============================] - 0s 5ms/step\n",
      "2/2 [==============================] - 0s 4ms/step\n",
      "2/2 [==============================] - 0s 4ms/step\n",
      "2/2 [==============================] - 0s 4ms/step\n",
      "2/2 [==============================] - 0s 9ms/step\n",
      "2/2 [==============================] - 0s 4ms/step\n",
      "2/2 [==============================] - 0s 4ms/step\n",
      "2/2 [==============================] - 0s 4ms/step\n",
      "2/2 [==============================] - 0s 7ms/step\n",
      "2/2 [==============================] - 0s 4ms/step\n",
      "2/2 [==============================] - 0s 4ms/step\n",
      "2/2 [==============================] - 0s 4ms/step\n",
      "2/2 [==============================] - 0s 4ms/step\n",
      "2/2 [==============================] - 0s 6ms/step\n",
      "2/2 [==============================] - 0s 4ms/step\n",
      "2/2 [==============================] - 0s 4ms/step\n",
      "2/2 [==============================] - 0s 4ms/step\n",
      "2/2 [==============================] - 0s 4ms/step\n",
      "2/2 [==============================] - 0s 4ms/step\n",
      "2/2 [==============================] - 0s 4ms/step\n",
      "2/2 [==============================] - 0s 4ms/step\n",
      "2/2 [==============================] - 0s 4ms/step\n",
      "2/2 [==============================] - 0s 4ms/step\n",
      "2/2 [==============================] - 0s 4ms/step\n",
      "2/2 [==============================] - 0s 24ms/step\n",
      "2/2 [==============================] - 0s 4ms/step\n",
      "2/2 [==============================] - 0s 4ms/step\n",
      "2/2 [==============================] - 0s 4ms/step\n",
      "2/2 [==============================] - 0s 3ms/step\n",
      "2/2 [==============================] - 0s 4ms/step\n",
      "2/2 [==============================] - 0s 4ms/step\n",
      "2/2 [==============================] - 0s 4ms/step\n",
      "2/2 [==============================] - 0s 5ms/step\n",
      "2/2 [==============================] - 0s 4ms/step\n",
      "2/2 [==============================] - 0s 5ms/step\n",
      "2/2 [==============================] - 0s 3ms/step\n",
      "2/2 [==============================] - 0s 4ms/step\n",
      "2/2 [==============================] - 0s 4ms/step\n",
      "2/2 [==============================] - 0s 4ms/step\n",
      "2/2 [==============================] - 0s 3ms/step\n",
      "2/2 [==============================] - 0s 4ms/step\n",
      "2/2 [==============================] - 0s 4ms/step\n",
      "2/2 [==============================] - 0s 8ms/step\n",
      "2/2 [==============================] - 0s 3ms/step\n",
      "2/2 [==============================] - 0s 4ms/step\n",
      "2/2 [==============================] - 0s 3ms/step\n",
      "2/2 [==============================] - 0s 3ms/step\n",
      "2/2 [==============================] - 0s 3ms/step\n",
      "2/2 [==============================] - 0s 4ms/step\n",
      "2/2 [==============================] - 0s 4ms/step\n",
      "2/2 [==============================] - 0s 22ms/step\n",
      "2/2 [==============================] - 0s 4ms/step\n",
      "2/2 [==============================] - 0s 4ms/step\n",
      "2/2 [==============================] - 0s 3ms/step\n",
      "2/2 [==============================] - 0s 3ms/step\n",
      "2/2 [==============================] - 0s 4ms/step\n",
      "2/2 [==============================] - 0s 4ms/step\n",
      "2/2 [==============================] - 0s 4ms/step\n",
      "2/2 [==============================] - 0s 5ms/step\n",
      "2/2 [==============================] - 0s 4ms/step\n",
      "2/2 [==============================] - 0s 4ms/step\n",
      "2/2 [==============================] - 0s 4ms/step\n",
      "2/2 [==============================] - 0s 4ms/step\n",
      "2/2 [==============================] - 0s 3ms/step\n",
      "2/2 [==============================] - 0s 3ms/step\n",
      "2/2 [==============================] - 0s 3ms/step\n",
      "2/2 [==============================] - 0s 3ms/step\n",
      "2/2 [==============================] - 0s 4ms/step\n",
      "2/2 [==============================] - 0s 4ms/step\n",
      "2/2 [==============================] - 0s 4ms/step\n",
      "2/2 [==============================] - 0s 3ms/step\n",
      "2/2 [==============================] - 0s 4ms/step\n",
      "2/2 [==============================] - 0s 4ms/step\n",
      "2/2 [==============================] - 0s 4ms/step\n",
      "2/2 [==============================] - 0s 3ms/step\n",
      "2/2 [==============================] - 0s 3ms/step\n",
      "2/2 [==============================] - 0s 21ms/step\n",
      "2/2 [==============================] - 0s 4ms/step\n",
      "2/2 [==============================] - 0s 4ms/step\n",
      "2/2 [==============================] - 0s 4ms/step\n",
      "2/2 [==============================] - 0s 3ms/step\n",
      "2/2 [==============================] - 0s 3ms/step\n",
      "2/2 [==============================] - 0s 4ms/step\n",
      "2/2 [==============================] - 0s 3ms/step\n",
      "2/2 [==============================] - 0s 3ms/step\n",
      "2/2 [==============================] - 0s 4ms/step\n",
      "2/2 [==============================] - 0s 4ms/step\n",
      "2/2 [==============================] - 0s 3ms/step\n",
      "2/2 [==============================] - 0s 4ms/step\n",
      "2/2 [==============================] - 0s 3ms/step\n",
      "2/2 [==============================] - 0s 4ms/step\n",
      "2/2 [==============================] - 0s 4ms/step\n",
      "2/2 [==============================] - 0s 4ms/step\n",
      "2/2 [==============================] - 0s 4ms/step\n",
      "2/2 [==============================] - 0s 4ms/step\n",
      "2/2 [==============================] - 0s 4ms/step\n",
      "2/2 [==============================] - 0s 14ms/step\n",
      "2/2 [==============================] - 0s 3ms/step\n",
      "2/2 [==============================] - 0s 4ms/step\n",
      "2/2 [==============================] - 0s 4ms/step\n",
      "2/2 [==============================] - 0s 5ms/step\n",
      "2/2 [==============================] - 0s 5ms/step\n",
      "2/2 [==============================] - 0s 20ms/step\n",
      "2/2 [==============================] - 0s 62ms/step\n",
      "2/2 [==============================] - 0s 5ms/step\n",
      "2/2 [==============================] - 0s 4ms/step\n",
      "2/2 [==============================] - 0s 4ms/step\n",
      "2/2 [==============================] - 0s 4ms/step\n",
      "2/2 [==============================] - 0s 4ms/step\n",
      "2/2 [==============================] - 0s 7ms/step\n",
      "2/2 [==============================] - 0s 4ms/step\n",
      "2/2 [==============================] - 0s 4ms/step\n",
      "2/2 [==============================] - 0s 4ms/step\n",
      "2/2 [==============================] - 0s 4ms/step\n",
      "2/2 [==============================] - 0s 4ms/step\n",
      "2/2 [==============================] - 0s 3ms/step\n",
      "2/2 [==============================] - 0s 4ms/step\n",
      "2/2 [==============================] - 0s 4ms/step\n",
      "2/2 [==============================] - 0s 4ms/step\n",
      "2/2 [==============================] - 0s 7ms/step\n",
      "2/2 [==============================] - 0s 7ms/step\n",
      "2/2 [==============================] - 0s 4ms/step\n",
      "2/2 [==============================] - 0s 4ms/step\n",
      "2/2 [==============================] - 0s 4ms/step\n",
      "2/2 [==============================] - 0s 4ms/step\n",
      "2/2 [==============================] - 0s 6ms/step\n",
      "2/2 [==============================] - 0s 6ms/step\n",
      "2/2 [==============================] - 0s 4ms/step\n"
     ]
    }
   ],
   "source": [
    "for input_size in [4, 8]:\n",
    "    for pred_horizon in [1, 3, 5, 6, 7]:\n",
    "        test_model_wave(test_patients ,input_size, pred_horizon)"
   ]
  },
  {
   "attachments": {},
   "cell_type": "markdown",
   "metadata": {},
   "source": [
    "### AVG"
   ]
  },
  {
   "cell_type": "code",
   "execution_count": 23,
   "metadata": {},
   "outputs": [],
   "source": [
    "import os\n",
    "\n",
    "for horizon in pred_horizons:\n",
    "    for input_size in [4, 8]:\n",
    "        results_dir = f\"results_dwt/{input_size}_{horizon}\"\n",
    "\n",
    "        # Criar dicionário para armazenar os resultados\n",
    "        results_dict = {}\n",
    "\n",
    "        # Percorrer todos os arquivos txt na pasta de resultados\n",
    "        for file_name in os.listdir(results_dir):\n",
    "            if file_name.endswith(\".txt\"):\n",
    "                # Obter o nome do paciente a partir do nome do arquivo\n",
    "                patient_name = file_name.split(\"_\")[0]\n",
    "                file_path = os.path.join(results_dir, file_name)\n",
    "                with open(file_path, \"r\") as f:\n",
    "                    # Ler os resultados do arquivo\n",
    "                    results = [float(line.split(\":\")[1].strip()) for line in f.readlines()]\n",
    "                # Adicionar os resultados ao dicionário\n",
    "                if patient_name in results_dict:\n",
    "                    results_dict[patient_name].append(results)\n",
    "                else:\n",
    "                    results_dict[patient_name] = [results]\n",
    "\n",
    "        # Calcular a média dos resultados para cada paciente\n",
    "        for patient_name, results_list in results_dict.items():\n",
    "            # Calcular a média de cada métrica\n",
    "            mae_list = [results[0] for results in results_list]\n",
    "            mae_avg = sum(mae_list) / len(mae_list)\n",
    "            mse_list = [results[1] for results in results_list]\n",
    "            mse_avg = sum(mse_list) / len(mse_list)\n",
    "            corr_list = [results[2] for results in results_list]\n",
    "            corr_avg = sum(corr_list) / len(corr_list)\n",
    "            # Salvar os resultados médios em um novo arquivo txt\n",
    "            output_file_path = f\"results_dwt/{input_size}_{horizon}/{patient_name}_avg.txt\"\n",
    "            with open(output_file_path, \"w\") as f:\n",
    "                f.write(f\"MAE: {mae_avg:.4f}\\n\")\n",
    "                f.write(f\"MSE: {mse_avg:.4f}\\n\")\n",
    "                f.write(f\"CORR: {corr_avg:.4f}\\n\")\n"
   ]
  },
  {
   "cell_type": "code",
   "execution_count": 24,
   "metadata": {},
   "outputs": [
    {
     "name": "stdout",
     "output_type": "stream",
     "text": [
      "Model information has been saved to 'model_info_dwt.csv'.\n"
     ]
    }
   ],
   "source": [
    "import os\n",
    "import csv\n",
    "\n",
    "def generate_model_info_csv():\n",
    "    result_path = 'results_dwt'\n",
    "    output_csv_path = 'model_info_dwt.csv'\n",
    "\n",
    "    # Get the list of folders in the results directory\n",
    "    folders = os.listdir(result_path)\n",
    "\n",
    "    # Initialize the data lists\n",
    "    model_info = []\n",
    "\n",
    "    # Iterate over the folders\n",
    "    for folder in folders:\n",
    "        folder_path = os.path.join(result_path, folder)\n",
    "        if os.path.isdir(folder_path):\n",
    "            # Extract input size and prediction horizon from the folder name\n",
    "            input_size, pred_horizon = map(int, folder.split('_'))\n",
    "\n",
    "            # Read the paciente_avg.txt file\n",
    "            file_path = os.path.join(folder_path, 'paciente_avg.txt')\n",
    "            with open(file_path, 'r') as f:\n",
    "                lines = f.readlines()\n",
    "\n",
    "            # Parse the metrics from the file\n",
    "            mae = float(lines[0].split(':')[1].strip())\n",
    "            mse = float(lines[1].split(':')[1].strip())\n",
    "            corr = float(lines[2].split(':')[1].strip())\n",
    "\n",
    "            # Append the data to the list\n",
    "            model_info.append((input_size, pred_horizon, mae, mse, corr))\n",
    "\n",
    "    # Sort the model info list by input_size and pred_horizon\n",
    "    sorted_model_info = sorted(model_info, key=lambda x: (x[0], x[1]))\n",
    "\n",
    "    # Write the data to a CSV file\n",
    "    with open(output_csv_path, 'w', newline='') as f:\n",
    "        writer = csv.writer(f)\n",
    "        writer.writerow(['Input Size', 'Prediction Horizon', 'MAE', 'MSE', 'CORR'])\n",
    "        writer.writerows(sorted_model_info)\n",
    "\n",
    "    print(f\"Model information has been saved to '{output_csv_path}'.\")\n",
    "\n",
    "generate_model_info_csv()"
   ]
  },
  {
   "attachments": {},
   "cell_type": "markdown",
   "metadata": {},
   "source": [
    "# Paciente de risco"
   ]
  },
  {
   "cell_type": "code",
   "execution_count": 335,
   "metadata": {},
   "outputs": [],
   "source": [
    "def predict_risk_patients(data):\n",
    "    # Load the trained models\n",
    "    models = {}\n",
    "    input_sizes = [10]\n",
    "    pred_horizons = [5, 6, 7]\n",
    "\n",
    "    for input_size in input_sizes:\n",
    "        for pred_horizon in pred_horizons:\n",
    "            model_path = f'models_gradin/{input_size}_{pred_horizon}'\n",
    "            model = keras.models.load_model(model_path)\n",
    "            models[(input_size, pred_horizon)] = model\n",
    "\n",
    "    risk_patients = []\n",
    "\n",
    "    for i in range(np.size(data, 1)):\n",
    "        data_filter = filtragem(data[:, i])\n",
    "        predictions = []\n",
    "        real_values = []\n",
    "\n",
    "        for input_size in input_sizes:\n",
    "            for pred_horizon in pred_horizons:\n",
    "                X_test, y_test = data_prep(data_filter, input_size, pred_horizon, True)\n",
    "                X_test_dev, _ = data_prep(calcular_gradiente_manual(data_filter), input_size, pred_horizon, True)\n",
    "                X_test_concat = np.concatenate((X_test, X_test_dev), axis=1)\n",
    "                X_test_concat = X_test_concat.reshape((X_test_concat.shape[0], X_test_concat.shape[1], 1))\n",
    "                y_pred = models[(input_size, pred_horizon)].predict(X_test_concat)\n",
    "                predictions.append(y_pred)\n",
    "                real_values.append(y_test)\n",
    "\n",
    "        # Check for at least two values above 140 without being consecutive\n",
    "        risk_flag = False\n",
    "        count = 0\n",
    "\n",
    "        for j in range(len(predictions)):\n",
    "            if np.any(predictions[j] > 140):\n",
    "                count += 1\n",
    "                if count >= 2:\n",
    "                    risk_flag = True\n",
    "                    break\n",
    "            else:\n",
    "                count = 0\n",
    "\n",
    "\n",
    "        if risk_flag:\n",
    "            risk_patients.append(f'Patient {i}: Risk')\n",
    "        else:\n",
    "            risk_patients.append(f'Patient {i}: No Risk')\n",
    "\n",
    "        # Save the comparison plot\n",
    "        plot_dir = f'plots_3/{input_sizes[0]}_{pred_horizons[-1]}'\n",
    "        os.makedirs(plot_dir, exist_ok=True)\n",
    "        plt.figure()\n",
    "        start_idx = len(np.concatenate(real_values)) - 43\n",
    "        plt.plot(np.concatenate(real_values)[start_idx:], label='Real Values')\n",
    "        plt.plot(np.concatenate(predictions)[start_idx:], label='Predictions')\n",
    "        plt.axhline(y=140, color='r', linestyle='--', label='Threshold')\n",
    "        plt.legend()\n",
    "        if risk_flag:\n",
    "            plt.title(f'Patient {i}: Risk')\n",
    "        else:\n",
    "            plt.title(f'Patient {i}: No Risk')\n",
    "        plt.savefig(f'{plot_dir}/patient_{i}_comparison.png')\n",
    "        plt.close()\n",
    "\n",
    "    return risk_patients\n"
   ]
  },
  {
   "cell_type": "code",
   "execution_count": 336,
   "metadata": {},
   "outputs": [
    {
     "name": "stdout",
     "output_type": "stream",
     "text": [
      "2/2 [==============================] - 0s 19ms/step\n",
      "2/2 [==============================] - 0s 19ms/step\n",
      "2/2 [==============================] - 0s 18ms/step\n",
      "2/2 [==============================] - 0s 4ms/step\n",
      "2/2 [==============================] - 0s 5ms/step\n",
      "2/2 [==============================] - 0s 4ms/step\n",
      "2/2 [==============================] - 0s 4ms/step\n",
      "2/2 [==============================] - 0s 4ms/step\n",
      "2/2 [==============================] - 0s 4ms/step\n",
      "2/2 [==============================] - 0s 4ms/step\n",
      "2/2 [==============================] - 0s 4ms/step\n",
      "2/2 [==============================] - 0s 4ms/step\n",
      "2/2 [==============================] - 0s 4ms/step\n",
      "2/2 [==============================] - 0s 4ms/step\n",
      "2/2 [==============================] - 0s 4ms/step\n",
      "2/2 [==============================] - 0s 4ms/step\n",
      "2/2 [==============================] - 0s 4ms/step\n",
      "2/2 [==============================] - 0s 4ms/step\n",
      "2/2 [==============================] - 0s 4ms/step\n",
      "2/2 [==============================] - 0s 4ms/step\n",
      "2/2 [==============================] - 0s 4ms/step\n",
      "2/2 [==============================] - 0s 3ms/step\n",
      "2/2 [==============================] - 0s 4ms/step\n",
      "2/2 [==============================] - 0s 5ms/step\n",
      "2/2 [==============================] - 0s 4ms/step\n",
      "2/2 [==============================] - 0s 6ms/step\n",
      "2/2 [==============================] - 0s 4ms/step\n",
      "2/2 [==============================] - 0s 3ms/step\n",
      "2/2 [==============================] - 0s 3ms/step\n",
      "2/2 [==============================] - 0s 4ms/step\n",
      "2/2 [==============================] - 0s 4ms/step\n",
      "2/2 [==============================] - 0s 4ms/step\n",
      "2/2 [==============================] - 0s 4ms/step\n",
      "2/2 [==============================] - 0s 4ms/step\n",
      "2/2 [==============================] - 0s 4ms/step\n",
      "2/2 [==============================] - 0s 4ms/step\n",
      "2/2 [==============================] - 0s 4ms/step\n",
      "2/2 [==============================] - 0s 4ms/step\n",
      "2/2 [==============================] - 0s 4ms/step\n"
     ]
    },
    {
     "data": {
      "text/plain": [
       "['Patient 0: No Risk',\n",
       " 'Patient 1: No Risk',\n",
       " 'Patient 2: No Risk',\n",
       " 'Patient 3: No Risk',\n",
       " 'Patient 4: No Risk',\n",
       " 'Patient 5: Risk',\n",
       " 'Patient 6: No Risk',\n",
       " 'Patient 7: No Risk',\n",
       " 'Patient 8: No Risk',\n",
       " 'Patient 9: No Risk',\n",
       " 'Patient 10: No Risk',\n",
       " 'Patient 11: No Risk',\n",
       " 'Patient 12: No Risk']"
      ]
     },
     "execution_count": 336,
     "metadata": {},
     "output_type": "execute_result"
    }
   ],
   "source": [
    "risk_patients = predict_risk_patients(test_patients)\n",
    "risk_patients"
   ]
  },
  {
   "cell_type": "code",
   "execution_count": 343,
   "metadata": {},
   "outputs": [],
   "source": [
    "def sensibility_sensitivity(data):\n",
    "    # Load the trained models\n",
    "    models = {}\n",
    "    input_sizes = [10]\n",
    "    pred_horizons = [5, 6, 7]\n",
    "\n",
    "    for input_size in input_sizes:\n",
    "        for pred_horizon in pred_horizons:\n",
    "            model_path = f'models_gradin/{input_size}_{pred_horizon}'\n",
    "            model = keras.models.load_model(model_path)\n",
    "            models[(input_size, pred_horizon)] = model\n",
    "\n",
    "    true_positives = 0\n",
    "    true_negatives = 0\n",
    "    false_positives = 0\n",
    "    false_negatives = 0\n",
    "    \n",
    "    for i in range(np.size(data, 1)):\n",
    "        data_filter = filtragem(data[:, i])\n",
    "        predictions = []\n",
    "        real_values = []\n",
    "\n",
    "        for input_size in input_sizes:\n",
    "            for pred_horizon in pred_horizons:\n",
    "                X_test, y_test = data_prep(data_filter, input_size, pred_horizon, True)\n",
    "                X_test_dev, _ = data_prep(calcular_gradiente_manual(data_filter), input_size, pred_horizon, True)\n",
    "                X_test_concat = np.concatenate((X_test, X_test_dev), axis=1)\n",
    "                X_test_concat = X_test_concat.reshape((X_test_concat.shape[0], X_test_concat.shape[1], 1))\n",
    "                y_pred = models[(input_size, pred_horizon)].predict(X_test_concat)\n",
    "                predictions.append(y_pred)\n",
    "                real_values.append(y_test)\n",
    "                \n",
    "\n",
    "\n",
    "        for i in range(len(predictions)):\n",
    "            if np.any(predictions[i] > 140):\n",
    "                if np.any(real_values[i] > 140):\n",
    "                    true_positives += 1\n",
    "                else:\n",
    "                    false_positives += 1\n",
    "            else:\n",
    "                if np.any(real_values[i] > 140):\n",
    "                    false_negatives += 1\n",
    "                else:\n",
    "                    true_negatives += 1\n",
    "\n",
    "    sensitivity = true_positives / (true_positives + false_negatives)\n",
    "    specificity = true_negatives / (true_negatives + false_positives)\n",
    "\n",
    "    return sensitivity, specificity\n"
   ]
  },
  {
   "cell_type": "code",
   "execution_count": 344,
   "metadata": {},
   "outputs": [
    {
     "name": "stdout",
     "output_type": "stream",
     "text": [
      "2/2 [==============================] - 0s 17ms/step\n",
      "2/2 [==============================] - 0s 18ms/step\n",
      "2/2 [==============================] - 0s 20ms/step\n",
      "2/2 [==============================] - 0s 5ms/step\n",
      "2/2 [==============================] - 0s 5ms/step\n",
      "2/2 [==============================] - 0s 4ms/step\n",
      "2/2 [==============================] - 0s 4ms/step\n",
      "2/2 [==============================] - 0s 4ms/step\n",
      "2/2 [==============================] - 0s 5ms/step\n",
      "2/2 [==============================] - 0s 4ms/step\n",
      "2/2 [==============================] - 0s 4ms/step\n",
      "2/2 [==============================] - 0s 4ms/step\n",
      "2/2 [==============================] - 0s 4ms/step\n",
      "2/2 [==============================] - 0s 4ms/step\n",
      "2/2 [==============================] - 0s 4ms/step\n",
      "2/2 [==============================] - 0s 4ms/step\n",
      "2/2 [==============================] - 0s 4ms/step\n",
      "2/2 [==============================] - 0s 4ms/step\n",
      "2/2 [==============================] - 0s 4ms/step\n",
      "2/2 [==============================] - 0s 5ms/step\n",
      "2/2 [==============================] - 0s 4ms/step\n",
      "2/2 [==============================] - 0s 4ms/step\n",
      "2/2 [==============================] - 0s 4ms/step\n",
      "2/2 [==============================] - 0s 4ms/step\n",
      "2/2 [==============================] - 0s 4ms/step\n",
      "2/2 [==============================] - 0s 4ms/step\n",
      "2/2 [==============================] - 0s 4ms/step\n",
      "2/2 [==============================] - 0s 5ms/step\n",
      "2/2 [==============================] - 0s 4ms/step\n",
      "2/2 [==============================] - 0s 4ms/step\n",
      "2/2 [==============================] - 0s 4ms/step\n",
      "2/2 [==============================] - 0s 4ms/step\n",
      "2/2 [==============================] - 0s 3ms/step\n",
      "2/2 [==============================] - 0s 3ms/step\n",
      "2/2 [==============================] - 0s 4ms/step\n",
      "2/2 [==============================] - 0s 4ms/step\n",
      "2/2 [==============================] - 0s 4ms/step\n",
      "2/2 [==============================] - 0s 4ms/step\n",
      "2/2 [==============================] - 0s 4ms/step\n"
     ]
    },
    {
     "data": {
      "text/plain": [
       "(0.4166666666666667, 1.0)"
      ]
     },
     "execution_count": 344,
     "metadata": {},
     "output_type": "execute_result"
    }
   ],
   "source": [
    "sensitivity, specificity = sensibility_sensitivity(test_patients)\n",
    "sensitivity, specificity"
   ]
  },
  {
   "attachments": {},
   "cell_type": "markdown",
   "metadata": {},
   "source": [
    "# Plot"
   ]
  },
  {
   "cell_type": "code",
   "execution_count": 28,
   "metadata": {},
   "outputs": [],
   "source": [
    "import os\n",
    "import matplotlib.pyplot as plt\n",
    "\n",
    "def plot_patient_results(patient_id):\n",
    "\n",
    "    # Criar figura para plot dos resultados\n",
    "    fig, axs = plt.subplots(len(n), len(pred_horizons), figsize=(20, 20))\n",
    "    fig.suptitle(f\"Resultados do Paciente {patient_id}\", fontsize=20)\n",
    "\n",
    "    # Iterar sobre os input_sizes e pred_horizons e plotar resultados\n",
    "    for i, input_size in enumerate(n):\n",
    "        for j, pred_horizon in enumerate(pred_horizons):\n",
    "            # Nome do arquivo de plot correspondente\n",
    "            plot_filename = f\"plots_complex/{input_size}_{pred_horizon}/paciente_{patient_id}.png\"\n",
    "            if os.path.exists(plot_filename):\n",
    "                # Plotar o arquivo existente\n",
    "                axs[i, j].imshow(plt.imread(plot_filename))\n",
    "                axs[i, j].set_title(f\"Input Size: {input_size}  Pred Horizon: {pred_horizon}\")\n",
    "    \n",
    "    # Configurar os eixos e mostrar a figura\n",
    "    for ax in axs.flat:\n",
    "        ax.set(xticks=[], yticks=[])\n",
    "    plt.show()\n"
   ]
  },
  {
   "cell_type": "code",
   "execution_count": 27,
   "metadata": {},
   "outputs": [
    {
     "data": {
      "image/png": "[encoded data removed]",
      "text/plain": [
       "<Figure size 2000x2000 with 20 Axes>"
      ]
     },
     "metadata": {},
     "output_type": "display_data"
    }
   ],
   "source": [
    "plot_patient_results(5)"
   ]
  },
  {
   "attachments": {},
   "cell_type": "markdown",
   "metadata": {},
   "source": [
    "# Modelo 6 - Transformers"
   ]
  },
  {
   "cell_type": "code",
   "execution_count": 291,
   "metadata": {},
   "outputs": [],
   "source": [
    "import tensorflow as tf\n",
    "from tensorflow import keras\n",
    "from tensorflow.keras import layers\n",
    "\n",
    "def create_transformer_model(input_size, num_layers=12, d_model=128, num_heads=8, dff=256, dropout=0.1):\n",
    "    inputs = keras.Input(shape=(input_size*2,))\n",
    "    embedding_layer = layers.Embedding(input_dim=input_size, output_dim=d_model)(inputs)\n",
    "    \n",
    "    # Encoder\n",
    "    encoder_output = embedding_layer\n",
    "    for _ in range(num_layers):\n",
    "        encoder_output = create_encoder_layer(encoder_output, d_model, num_heads, dff, dropout)\n",
    "    \n",
    "    # Decoder (optional, depending on the task)\n",
    "    # decoder_output = ...\n",
    "    \n",
    "    outputs = layers.Dense(units=1)(encoder_output)\n",
    "    model = keras.Model(inputs=inputs, outputs=outputs)\n",
    "    \n",
    "    return model\n",
    "\n",
    "def create_encoder_layer(inputs, d_model, num_heads, dff, dropout):\n",
    "    # Multi-head attention\n",
    "    attention = layers.MultiHeadAttention(num_heads=num_heads, key_dim=d_model)(inputs, inputs)\n",
    "    attention = layers.Dropout(dropout)(attention)\n",
    "    attention = layers.LayerNormalization(epsilon=1e-6)(inputs + attention)\n",
    "    \n",
    "    # Feed-forward network\n",
    "    ffn_output = layers.Dense(units=dff, activation='relu')(attention)\n",
    "    ffn_output = layers.Dense(units=d_model)(ffn_output)\n",
    "    ffn_output = layers.Dropout(dropout)(ffn_output)\n",
    "    encoder_output = layers.LayerNormalization(epsilon=1e-6)(attention + ffn_output)\n",
    "    \n",
    "    return encoder_output"
   ]
  },
  {
   "cell_type": "code",
   "execution_count": 292,
   "metadata": {},
   "outputs": [],
   "source": [
    "def train_model_transform(data, input_size, pred_horizon):\n",
    "    # Filtragem\n",
    "    data_filter = filtragem(data)\n",
    "\n",
    "    model = create_transformer_model(input_size, d_model=128, num_heads=8, dff=256, dropout=0.1)\n",
    "    model.compile(optimizer=tf.keras.optimizers.Adam(learning_rate=0.001), loss='mse')\n",
    "\n",
    "    for i in range(0, np.size(data_filter, 1)):\n",
    "\n",
    "        X, y = data_prep(data_filter[:, i], input_size, pred_horizon, True)\n",
    "        X_dev = derivada(X)  # Calcular a derivada do X\n",
    "        X_concat = np.concatenate((X, X_dev), axis=1)\n",
    "\n",
    "        if i == 0:\n",
    "            X_train = X_concat\n",
    "            y_train = y\n",
    "        else:\n",
    "            X_train = np.concatenate((X_train, X_concat), axis=0)\n",
    "            y_train = np.concatenate((y_train, y), axis=0)\n",
    "\n",
    "    if X_train.size != 0 and y_train.size != 0:\n",
    "        # reshape de [padroes, n] para [padroes, n, n_features]\n",
    "        #X_train = X_train.reshape((X_train.shape[0], X_train.shape[1], n_features))\n",
    "        \n",
    "        #X_train = X_train.reshape((X_train.shape[0], X_train.shape[1]))\n",
    "        #X_train = np.expand_dims(X_train, axis=-1)\n",
    "\n",
    "\n",
    "        model.fit(X_train, y_train, epochs=300, verbose=0)\n",
    "\n",
    "    \n",
    "    # Exibindo o score do modelo treinado\n",
    "    score = model.evaluate(X, y, verbose=0)\n",
    "    print('Score do modelo:', score)\n",
    "\n",
    "\n",
    "    model_path = 'models_transformers/' + str(input_size) + '_' + str(pred_horizon) \n",
    "    model.save(model_path)\n",
    "    print(\"Model --> \", model_path)\n",
    "\n",
    "    backend.clear_session()"
   ]
  },
  {
   "cell_type": "code",
   "execution_count": 293,
   "metadata": {},
   "outputs": [
    {
     "ename": "KeyboardInterrupt",
     "evalue": "",
     "output_type": "error",
     "traceback": [
      "\u001b[0;31m---------------------------------------------------------------------------\u001b[0m",
      "\u001b[0;31mKeyboardInterrupt\u001b[0m                         Traceback (most recent call last)",
      "Cell \u001b[0;32mIn[293], line 4\u001b[0m\n\u001b[1;32m      2\u001b[0m \u001b[39mfor\u001b[39;00m input_size \u001b[39min\u001b[39;00m n:\n\u001b[1;32m      3\u001b[0m     \u001b[39mfor\u001b[39;00m pred_horizon \u001b[39min\u001b[39;00m pred_horizons:\n\u001b[0;32m----> 4\u001b[0m         train_model_transform(train_patients ,input_size, pred_horizon)\n",
      "Cell \u001b[0;32mIn[292], line 29\u001b[0m, in \u001b[0;36mtrain_model_transform\u001b[0;34m(data, input_size, pred_horizon)\u001b[0m\n\u001b[1;32m     19\u001b[0m         y_train \u001b[39m=\u001b[39m np\u001b[39m.\u001b[39mconcatenate((y_train, y), axis\u001b[39m=\u001b[39m\u001b[39m0\u001b[39m)\n\u001b[1;32m     21\u001b[0m \u001b[39mif\u001b[39;00m X_train\u001b[39m.\u001b[39msize \u001b[39m!=\u001b[39m \u001b[39m0\u001b[39m \u001b[39mand\u001b[39;00m y_train\u001b[39m.\u001b[39msize \u001b[39m!=\u001b[39m \u001b[39m0\u001b[39m:\n\u001b[1;32m     22\u001b[0m     \u001b[39m# reshape de [padroes, n] para [padroes, n, n_features]\u001b[39;00m\n\u001b[1;32m     23\u001b[0m     \u001b[39m#X_train = X_train.reshape((X_train.shape[0], X_train.shape[1], n_features))\u001b[39;00m\n\u001b[1;32m     24\u001b[0m     \n\u001b[1;32m     25\u001b[0m     \u001b[39m#X_train = X_train.reshape((X_train.shape[0], X_train.shape[1]))\u001b[39;00m\n\u001b[1;32m     26\u001b[0m     \u001b[39m#X_train = np.expand_dims(X_train, axis=-1)\u001b[39;00m\n\u001b[0;32m---> 29\u001b[0m     model\u001b[39m.\u001b[39;49mfit(X_train, y_train, epochs\u001b[39m=\u001b[39;49m\u001b[39m300\u001b[39;49m, verbose\u001b[39m=\u001b[39;49m\u001b[39m0\u001b[39;49m)\n\u001b[1;32m     32\u001b[0m \u001b[39m# Exibindo o score do modelo treinado\u001b[39;00m\n\u001b[1;32m     33\u001b[0m score \u001b[39m=\u001b[39m model\u001b[39m.\u001b[39mevaluate(X, y, verbose\u001b[39m=\u001b[39m\u001b[39m0\u001b[39m)\n",
      "File \u001b[0;32m~/opt/anaconda3/envs/PARADISE/lib/python3.10/site-packages/keras/utils/traceback_utils.py:65\u001b[0m, in \u001b[0;36mfilter_traceback.<locals>.error_handler\u001b[0;34m(*args, **kwargs)\u001b[0m\n\u001b[1;32m     63\u001b[0m filtered_tb \u001b[39m=\u001b[39m \u001b[39mNone\u001b[39;00m\n\u001b[1;32m     64\u001b[0m \u001b[39mtry\u001b[39;00m:\n\u001b[0;32m---> 65\u001b[0m     \u001b[39mreturn\u001b[39;00m fn(\u001b[39m*\u001b[39;49margs, \u001b[39m*\u001b[39;49m\u001b[39m*\u001b[39;49mkwargs)\n\u001b[1;32m     66\u001b[0m \u001b[39mexcept\u001b[39;00m \u001b[39mException\u001b[39;00m \u001b[39mas\u001b[39;00m e:\n\u001b[1;32m     67\u001b[0m     filtered_tb \u001b[39m=\u001b[39m _process_traceback_frames(e\u001b[39m.\u001b[39m__traceback__)\n",
      "File \u001b[0;32m~/opt/anaconda3/envs/PARADISE/lib/python3.10/site-packages/keras/engine/training.py:1685\u001b[0m, in \u001b[0;36mModel.fit\u001b[0;34m(self, x, y, batch_size, epochs, verbose, callbacks, validation_split, validation_data, shuffle, class_weight, sample_weight, initial_epoch, steps_per_epoch, validation_steps, validation_batch_size, validation_freq, max_queue_size, workers, use_multiprocessing)\u001b[0m\n\u001b[1;32m   1677\u001b[0m \u001b[39mwith\u001b[39;00m tf\u001b[39m.\u001b[39mprofiler\u001b[39m.\u001b[39mexperimental\u001b[39m.\u001b[39mTrace(\n\u001b[1;32m   1678\u001b[0m     \u001b[39m\"\u001b[39m\u001b[39mtrain\u001b[39m\u001b[39m\"\u001b[39m,\n\u001b[1;32m   1679\u001b[0m     epoch_num\u001b[39m=\u001b[39mepoch,\n\u001b[0;32m   (...)\u001b[0m\n\u001b[1;32m   1682\u001b[0m     _r\u001b[39m=\u001b[39m\u001b[39m1\u001b[39m,\n\u001b[1;32m   1683\u001b[0m ):\n\u001b[1;32m   1684\u001b[0m     callbacks\u001b[39m.\u001b[39mon_train_batch_begin(step)\n\u001b[0;32m-> 1685\u001b[0m     tmp_logs \u001b[39m=\u001b[39m \u001b[39mself\u001b[39;49m\u001b[39m.\u001b[39;49mtrain_function(iterator)\n\u001b[1;32m   1686\u001b[0m     \u001b[39mif\u001b[39;00m data_handler\u001b[39m.\u001b[39mshould_sync:\n\u001b[1;32m   1687\u001b[0m         context\u001b[39m.\u001b[39masync_wait()\n",
      "File \u001b[0;32m~/opt/anaconda3/envs/PARADISE/lib/python3.10/site-packages/tensorflow/python/util/traceback_utils.py:150\u001b[0m, in \u001b[0;36mfilter_traceback.<locals>.error_handler\u001b[0;34m(*args, **kwargs)\u001b[0m\n\u001b[1;32m    148\u001b[0m filtered_tb \u001b[39m=\u001b[39m \u001b[39mNone\u001b[39;00m\n\u001b[1;32m    149\u001b[0m \u001b[39mtry\u001b[39;00m:\n\u001b[0;32m--> 150\u001b[0m   \u001b[39mreturn\u001b[39;00m fn(\u001b[39m*\u001b[39;49margs, \u001b[39m*\u001b[39;49m\u001b[39m*\u001b[39;49mkwargs)\n\u001b[1;32m    151\u001b[0m \u001b[39mexcept\u001b[39;00m \u001b[39mException\u001b[39;00m \u001b[39mas\u001b[39;00m e:\n\u001b[1;32m    152\u001b[0m   filtered_tb \u001b[39m=\u001b[39m _process_traceback_frames(e\u001b[39m.\u001b[39m__traceback__)\n",
      "File \u001b[0;32m~/opt/anaconda3/envs/PARADISE/lib/python3.10/site-packages/tensorflow/python/eager/polymorphic_function/polymorphic_function.py:894\u001b[0m, in \u001b[0;36mFunction.__call__\u001b[0;34m(self, *args, **kwds)\u001b[0m\n\u001b[1;32m    891\u001b[0m compiler \u001b[39m=\u001b[39m \u001b[39m\"\u001b[39m\u001b[39mxla\u001b[39m\u001b[39m\"\u001b[39m \u001b[39mif\u001b[39;00m \u001b[39mself\u001b[39m\u001b[39m.\u001b[39m_jit_compile \u001b[39melse\u001b[39;00m \u001b[39m\"\u001b[39m\u001b[39mnonXla\u001b[39m\u001b[39m\"\u001b[39m\n\u001b[1;32m    893\u001b[0m \u001b[39mwith\u001b[39;00m OptionalXlaContext(\u001b[39mself\u001b[39m\u001b[39m.\u001b[39m_jit_compile):\n\u001b[0;32m--> 894\u001b[0m   result \u001b[39m=\u001b[39m \u001b[39mself\u001b[39;49m\u001b[39m.\u001b[39;49m_call(\u001b[39m*\u001b[39;49margs, \u001b[39m*\u001b[39;49m\u001b[39m*\u001b[39;49mkwds)\n\u001b[1;32m    896\u001b[0m new_tracing_count \u001b[39m=\u001b[39m \u001b[39mself\u001b[39m\u001b[39m.\u001b[39mexperimental_get_tracing_count()\n\u001b[1;32m    897\u001b[0m without_tracing \u001b[39m=\u001b[39m (tracing_count \u001b[39m==\u001b[39m new_tracing_count)\n",
      "File \u001b[0;32m~/opt/anaconda3/envs/PARADISE/lib/python3.10/site-packages/tensorflow/python/eager/polymorphic_function/polymorphic_function.py:926\u001b[0m, in \u001b[0;36mFunction._call\u001b[0;34m(self, *args, **kwds)\u001b[0m\n\u001b[1;32m    923\u001b[0m   \u001b[39mself\u001b[39m\u001b[39m.\u001b[39m_lock\u001b[39m.\u001b[39mrelease()\n\u001b[1;32m    924\u001b[0m   \u001b[39m# In this case we have created variables on the first call, so we run the\u001b[39;00m\n\u001b[1;32m    925\u001b[0m   \u001b[39m# defunned version which is guaranteed to never create variables.\u001b[39;00m\n\u001b[0;32m--> 926\u001b[0m   \u001b[39mreturn\u001b[39;00m \u001b[39mself\u001b[39;49m\u001b[39m.\u001b[39;49m_no_variable_creation_fn(\u001b[39m*\u001b[39;49margs, \u001b[39m*\u001b[39;49m\u001b[39m*\u001b[39;49mkwds)  \u001b[39m# pylint: disable=not-callable\u001b[39;00m\n\u001b[1;32m    927\u001b[0m \u001b[39melif\u001b[39;00m \u001b[39mself\u001b[39m\u001b[39m.\u001b[39m_variable_creation_fn \u001b[39mis\u001b[39;00m \u001b[39mnot\u001b[39;00m \u001b[39mNone\u001b[39;00m:\n\u001b[1;32m    928\u001b[0m   \u001b[39m# Release the lock early so that multiple threads can perform the call\u001b[39;00m\n\u001b[1;32m    929\u001b[0m   \u001b[39m# in parallel.\u001b[39;00m\n\u001b[1;32m    930\u001b[0m   \u001b[39mself\u001b[39m\u001b[39m.\u001b[39m_lock\u001b[39m.\u001b[39mrelease()\n",
      "File \u001b[0;32m~/opt/anaconda3/envs/PARADISE/lib/python3.10/site-packages/tensorflow/python/eager/polymorphic_function/tracing_compiler.py:143\u001b[0m, in \u001b[0;36mTracingCompiler.__call__\u001b[0;34m(self, *args, **kwargs)\u001b[0m\n\u001b[1;32m    140\u001b[0m \u001b[39mwith\u001b[39;00m \u001b[39mself\u001b[39m\u001b[39m.\u001b[39m_lock:\n\u001b[1;32m    141\u001b[0m   (concrete_function,\n\u001b[1;32m    142\u001b[0m    filtered_flat_args) \u001b[39m=\u001b[39m \u001b[39mself\u001b[39m\u001b[39m.\u001b[39m_maybe_define_function(args, kwargs)\n\u001b[0;32m--> 143\u001b[0m \u001b[39mreturn\u001b[39;00m concrete_function\u001b[39m.\u001b[39;49m_call_flat(\n\u001b[1;32m    144\u001b[0m     filtered_flat_args, captured_inputs\u001b[39m=\u001b[39;49mconcrete_function\u001b[39m.\u001b[39;49mcaptured_inputs)\n",
      "File \u001b[0;32m~/opt/anaconda3/envs/PARADISE/lib/python3.10/site-packages/tensorflow/python/eager/polymorphic_function/monomorphic_function.py:1757\u001b[0m, in \u001b[0;36mConcreteFunction._call_flat\u001b[0;34m(self, args, captured_inputs, cancellation_manager)\u001b[0m\n\u001b[1;32m   1753\u001b[0m possible_gradient_type \u001b[39m=\u001b[39m gradients_util\u001b[39m.\u001b[39mPossibleTapeGradientTypes(args)\n\u001b[1;32m   1754\u001b[0m \u001b[39mif\u001b[39;00m (possible_gradient_type \u001b[39m==\u001b[39m gradients_util\u001b[39m.\u001b[39mPOSSIBLE_GRADIENT_TYPES_NONE\n\u001b[1;32m   1755\u001b[0m     \u001b[39mand\u001b[39;00m executing_eagerly):\n\u001b[1;32m   1756\u001b[0m   \u001b[39m# No tape is watching; skip to running the function.\u001b[39;00m\n\u001b[0;32m-> 1757\u001b[0m   \u001b[39mreturn\u001b[39;00m \u001b[39mself\u001b[39m\u001b[39m.\u001b[39m_build_call_outputs(\u001b[39mself\u001b[39;49m\u001b[39m.\u001b[39;49m_inference_function\u001b[39m.\u001b[39;49mcall(\n\u001b[1;32m   1758\u001b[0m       ctx, args, cancellation_manager\u001b[39m=\u001b[39;49mcancellation_manager))\n\u001b[1;32m   1759\u001b[0m forward_backward \u001b[39m=\u001b[39m \u001b[39mself\u001b[39m\u001b[39m.\u001b[39m_select_forward_and_backward_functions(\n\u001b[1;32m   1760\u001b[0m     args,\n\u001b[1;32m   1761\u001b[0m     possible_gradient_type,\n\u001b[1;32m   1762\u001b[0m     executing_eagerly)\n\u001b[1;32m   1763\u001b[0m forward_function, args_with_tangents \u001b[39m=\u001b[39m forward_backward\u001b[39m.\u001b[39mforward()\n",
      "File \u001b[0;32m~/opt/anaconda3/envs/PARADISE/lib/python3.10/site-packages/tensorflow/python/eager/polymorphic_function/monomorphic_function.py:381\u001b[0m, in \u001b[0;36m_EagerDefinedFunction.call\u001b[0;34m(self, ctx, args, cancellation_manager)\u001b[0m\n\u001b[1;32m    379\u001b[0m \u001b[39mwith\u001b[39;00m _InterpolateFunctionError(\u001b[39mself\u001b[39m):\n\u001b[1;32m    380\u001b[0m   \u001b[39mif\u001b[39;00m cancellation_manager \u001b[39mis\u001b[39;00m \u001b[39mNone\u001b[39;00m:\n\u001b[0;32m--> 381\u001b[0m     outputs \u001b[39m=\u001b[39m execute\u001b[39m.\u001b[39;49mexecute(\n\u001b[1;32m    382\u001b[0m         \u001b[39mstr\u001b[39;49m(\u001b[39mself\u001b[39;49m\u001b[39m.\u001b[39;49msignature\u001b[39m.\u001b[39;49mname),\n\u001b[1;32m    383\u001b[0m         num_outputs\u001b[39m=\u001b[39;49m\u001b[39mself\u001b[39;49m\u001b[39m.\u001b[39;49m_num_outputs,\n\u001b[1;32m    384\u001b[0m         inputs\u001b[39m=\u001b[39;49margs,\n\u001b[1;32m    385\u001b[0m         attrs\u001b[39m=\u001b[39;49mattrs,\n\u001b[1;32m    386\u001b[0m         ctx\u001b[39m=\u001b[39;49mctx)\n\u001b[1;32m    387\u001b[0m   \u001b[39melse\u001b[39;00m:\n\u001b[1;32m    388\u001b[0m     outputs \u001b[39m=\u001b[39m execute\u001b[39m.\u001b[39mexecute_with_cancellation(\n\u001b[1;32m    389\u001b[0m         \u001b[39mstr\u001b[39m(\u001b[39mself\u001b[39m\u001b[39m.\u001b[39msignature\u001b[39m.\u001b[39mname),\n\u001b[1;32m    390\u001b[0m         num_outputs\u001b[39m=\u001b[39m\u001b[39mself\u001b[39m\u001b[39m.\u001b[39m_num_outputs,\n\u001b[0;32m   (...)\u001b[0m\n\u001b[1;32m    393\u001b[0m         ctx\u001b[39m=\u001b[39mctx,\n\u001b[1;32m    394\u001b[0m         cancellation_manager\u001b[39m=\u001b[39mcancellation_manager)\n",
      "File \u001b[0;32m~/opt/anaconda3/envs/PARADISE/lib/python3.10/site-packages/tensorflow/python/eager/execute.py:52\u001b[0m, in \u001b[0;36mquick_execute\u001b[0;34m(op_name, num_outputs, inputs, attrs, ctx, name)\u001b[0m\n\u001b[1;32m     50\u001b[0m \u001b[39mtry\u001b[39;00m:\n\u001b[1;32m     51\u001b[0m   ctx\u001b[39m.\u001b[39mensure_initialized()\n\u001b[0;32m---> 52\u001b[0m   tensors \u001b[39m=\u001b[39m pywrap_tfe\u001b[39m.\u001b[39;49mTFE_Py_Execute(ctx\u001b[39m.\u001b[39;49m_handle, device_name, op_name,\n\u001b[1;32m     53\u001b[0m                                       inputs, attrs, num_outputs)\n\u001b[1;32m     54\u001b[0m \u001b[39mexcept\u001b[39;00m core\u001b[39m.\u001b[39m_NotOkStatusException \u001b[39mas\u001b[39;00m e:\n\u001b[1;32m     55\u001b[0m   \u001b[39mif\u001b[39;00m name \u001b[39mis\u001b[39;00m \u001b[39mnot\u001b[39;00m \u001b[39mNone\u001b[39;00m:\n",
      "\u001b[0;31mKeyboardInterrupt\u001b[0m: "
     ]
    }
   ],
   "source": [
    "with tf.device('/cpu:0'):\n",
    "    for input_size in n:\n",
    "        for pred_horizon in pred_horizons:\n",
    "            train_model_transform(train_patients ,input_size, pred_horizon)"
   ]
  },
  {
   "cell_type": "code",
   "execution_count": null,
   "metadata": {},
   "outputs": [],
   "source": [
    "from sklearn.metrics import mean_absolute_error, mean_squared_error\n",
    "from tensorflow import keras\n",
    "\n",
    "def evaluate_model(model, X_test, y_test):\n",
    "    \"\"\"\n",
    "    Evaluate the model on test data and return the evaluation metrics.\n",
    "    \"\"\"\n",
    "    y_pred = model.predict(X_test)\n",
    "    y_pred = np.mean(y_pred, axis=1)\n",
    "    mae = mean_absolute_error(y_test, y_pred)\n",
    "    mse = mean_squared_error(y_test, y_pred)\n",
    "    corr = np.corrcoef(y_test.squeeze(), y_pred.squeeze())[0, 1]\n",
    "    return mae, mse, corr\n",
    "\n",
    "from scipy import signal\n",
    "def ccf_values(series1, series2):\n",
    "    p = series1\n",
    "    q = series2\n",
    "    p = (p - np.mean(p)) / (np.std(p) * len(p))\n",
    "    q = (q - np.mean(q)) / (np.std(q))  \n",
    "    c = np.correlate(p, q, 'full')\n",
    "    return c\n",
    "\n",
    "def ccf_plot(path, i, lags, ccf):\n",
    "    fig, ax =plt.subplots(figsize=(9, 6))\n",
    "    ax.plot(lags, ccf)\n",
    "    ax.axvline(x = 0, color = 'black', lw = 1)\n",
    "    ax.axhline(y = 0, color = 'black', lw = 1)\n",
    "    ax.axhline(y = np.max(ccf), color = 'blue', lw = 1, linestyle='--', label = 'highest +/- correlation')\n",
    "    ax.axhline(y = np.min(ccf), color = 'blue', lw = 1, linestyle='--')\n",
    "    ax.set(ylim = [-1, 1])\n",
    "    ax.set_title('Cross Correlation', weight='bold', fontsize = 15)\n",
    "    ax.set_ylabel('Correlation Coefficients', weight='bold', \n",
    "    fontsize = 12)\n",
    "    ax.set_xlabel('Time Lags', weight='bold', fontsize = 12)\n",
    "    plt.legend()\n",
    "    plt.savefig(os.path.join(path, f'paciente_{i}_correlation.png'))\n",
    "    plt.close()\n",
    "\n",
    "def test_model_transformer(data, input_size, pred_horizon):\n",
    "    \"\"\"\n",
    "    Test the trained model on a group of test patients and save the evaluation metrics and plots.\n",
    "    \"\"\"\n",
    "    # Load the trained model\n",
    "    model_path = 'models_transformers/' + str(input_size) + '_' + str(pred_horizon)\n",
    "    model = keras.models.load_model(model_path)\n",
    "\n",
    "    # Create directories to save the plots and evaluation results\n",
    "    plots_path = 'plots_transformers/' + str(input_size) + '_' + str(pred_horizon)\n",
    "    os.makedirs(plots_path, exist_ok=True)\n",
    "    results_path = 'results_transformers/' + str(input_size) + '_' + str(pred_horizon)\n",
    "    os.makedirs(results_path, exist_ok=True)\n",
    "\n",
    "    for i in range(0, np.size(data, 1)):\n",
    "        # Filter the data and prepare the test inputs and targets\n",
    "        data_filter = filtragem(data[:, i])\n",
    "        X_test, y_test = data_prep(data_filter, input_size, pred_horizon, True)\n",
    "\n",
    "        # Make predictions\n",
    "        y_pred = model.predict(X_test)\n",
    "        y_pred = np.mean(y_pred, axis=1)\n",
    "\n",
    "        # Plot the data and predictions\n",
    "        plt.plot(data[:, i], label='Original Data')\n",
    "        plt.plot(data_filter, label='Filtered Data')\n",
    "        plt.plot(np.arange(input_size+pred_horizon-1, len(data_filter)), y_test.squeeze(), label='True Values')\n",
    "        plt.plot(np.arange(input_size+pred_horizon-1, len(data_filter)), y_pred.squeeze(), label='Predictions')\n",
    "        plt.legend()\n",
    "        plt.savefig(os.path.join(plots_path, f'paciente_{i}.png'))\n",
    "        plt.close()\n",
    "\n",
    "        # Compute Cross-correlation\n",
    "        # corr_values = signal.correlate(y_pred.squeeze(), y_test.squeeze(), mode='full')\n",
    "        # corr_values = corr_values / np.concatenate((np.arange(1, len(y_pred)+1), np.arange(len(y_pred)-1, 0, -1)))\n",
    "        # #print(corr_values)\n",
    "        # plt.plot(np.arange(-len(y_pred)+1, len(y_pred)), corr_values)\n",
    "        # plt.xlim((-15, 15))\n",
    "        # plt.show()\n",
    "\n",
    "        # # Compute cross-correlation\n",
    "        # x = data_filter[input_size-1:-pred_horizon]\n",
    "        # y = y_pred.squeeze()\n",
    "        # ccf_ielts = ccf_values(x, y)\n",
    "        # lags = signal.correlation_lags(len(x), len(y))\n",
    "        # ccf_plot(plots_path, i, lags, ccf_ielts)\n",
    "        \n",
    "        \n",
    "        # Evaluate the model and save the results\n",
    "        mae, mse, corr = evaluate_model(model, X_test, y_test)\n",
    "        with open(os.path.join(results_path, f'paciente_{i}.txt'), 'w') as f:\n",
    "            f.write(f'MAE: {mae:.4f}\\nMSE: {mse:.4f}\\nCORR: {corr:.4f}')\n",
    "\n",
    "    backend.clear_session()\n"
   ]
  },
  {
   "cell_type": "code",
   "execution_count": null,
   "metadata": {},
   "outputs": [
    {
     "name": "stderr",
     "output_type": "stream",
     "text": [
      "2023-07-18 22:59:44.356006: I tensorflow/core/grappler/optimizers/custom_graph_optimizer_registry.cc:114] Plugin optimizer for device_type GPU is enabled.\n"
     ]
    },
    {
     "name": "stdout",
     "output_type": "stream",
     "text": [
      "2/2 [==============================] - 2s 805ms/step\n",
      "2/2 [==============================] - 0s 142ms/step\n"
     ]
    },
    {
     "name": "stderr",
     "output_type": "stream",
     "text": [
      "/Users/rsaraiva/opt/anaconda3/envs/PARADISE/lib/python3.10/site-packages/numpy/lib/function_base.py:2853: RuntimeWarning: invalid value encountered in divide\n",
      "  c /= stddev[:, None]\n",
      "/Users/rsaraiva/opt/anaconda3/envs/PARADISE/lib/python3.10/site-packages/numpy/lib/function_base.py:2854: RuntimeWarning: invalid value encountered in divide\n",
      "  c /= stddev[None, :]\n"
     ]
    },
    {
     "name": "stdout",
     "output_type": "stream",
     "text": [
      "2/2 [==============================] - 0s 160ms/step\n",
      "2/2 [==============================] - 0s 130ms/step\n",
      "1/2 [==============>...............] - ETA: 0s"
     ]
    },
    {
     "name": "stderr",
     "output_type": "stream",
     "text": [
      "/Users/rsaraiva/opt/anaconda3/envs/PARADISE/lib/python3.10/site-packages/numpy/lib/function_base.py:2853: RuntimeWarning: invalid value encountered in divide\n",
      "  c /= stddev[:, None]\n",
      "/Users/rsaraiva/opt/anaconda3/envs/PARADISE/lib/python3.10/site-packages/numpy/lib/function_base.py:2854: RuntimeWarning: invalid value encountered in divide\n",
      "  c /= stddev[None, :]\n"
     ]
    },
    {
     "name": "stdout",
     "output_type": "stream",
     "text": [
      "2/2 [==============================] - 0s 108ms/step\n",
      "2/2 [==============================] - 0s 116ms/step\n",
      "1/2 [==============>...............] - ETA: 0s"
     ]
    },
    {
     "name": "stderr",
     "output_type": "stream",
     "text": [
      "/Users/rsaraiva/opt/anaconda3/envs/PARADISE/lib/python3.10/site-packages/numpy/lib/function_base.py:2853: RuntimeWarning: invalid value encountered in divide\n",
      "  c /= stddev[:, None]\n",
      "/Users/rsaraiva/opt/anaconda3/envs/PARADISE/lib/python3.10/site-packages/numpy/lib/function_base.py:2854: RuntimeWarning: invalid value encountered in divide\n",
      "  c /= stddev[None, :]\n"
     ]
    },
    {
     "name": "stdout",
     "output_type": "stream",
     "text": [
      "2/2 [==============================] - 0s 90ms/step\n",
      "2/2 [==============================] - 0s 64ms/step\n",
      "2/2 [==============================] - 0s 59ms/step\n"
     ]
    },
    {
     "name": "stderr",
     "output_type": "stream",
     "text": [
      "/Users/rsaraiva/opt/anaconda3/envs/PARADISE/lib/python3.10/site-packages/numpy/lib/function_base.py:2853: RuntimeWarning: invalid value encountered in divide\n",
      "  c /= stddev[:, None]\n",
      "/Users/rsaraiva/opt/anaconda3/envs/PARADISE/lib/python3.10/site-packages/numpy/lib/function_base.py:2854: RuntimeWarning: invalid value encountered in divide\n",
      "  c /= stddev[None, :]\n"
     ]
    },
    {
     "name": "stdout",
     "output_type": "stream",
     "text": [
      "2/2 [==============================] - 0s 87ms/step\n",
      "1/2 [==============>...............] - ETA: 0s"
     ]
    },
    {
     "name": "stderr",
     "output_type": "stream",
     "text": [
      "/Users/rsaraiva/opt/anaconda3/envs/PARADISE/lib/python3.10/site-packages/numpy/lib/function_base.py:2853: RuntimeWarning: invalid value encountered in divide\n",
      "  c /= stddev[:, None]\n",
      "/Users/rsaraiva/opt/anaconda3/envs/PARADISE/lib/python3.10/site-packages/numpy/lib/function_base.py:2854: RuntimeWarning: invalid value encountered in divide\n",
      "  c /= stddev[None, :]\n"
     ]
    },
    {
     "name": "stdout",
     "output_type": "stream",
     "text": [
      "2/2 [==============================] - 0s 88ms/step\n",
      "2/2 [==============================] - 0s 67ms/step\n",
      "2/2 [==============================] - 0s 63ms/step\n",
      "2/2 [==============================] - 0s 86ms/step\n",
      "2/2 [==============================] - 0s 59ms/step\n",
      "2/2 [==============================] - 0s 53ms/step\n",
      "2/2 [==============================] - 0s 62ms/step\n"
     ]
    },
    {
     "name": "stderr",
     "output_type": "stream",
     "text": [
      "/Users/rsaraiva/opt/anaconda3/envs/PARADISE/lib/python3.10/site-packages/numpy/lib/function_base.py:2853: RuntimeWarning: invalid value encountered in divide\n",
      "  c /= stddev[:, None]\n",
      "/Users/rsaraiva/opt/anaconda3/envs/PARADISE/lib/python3.10/site-packages/numpy/lib/function_base.py:2854: RuntimeWarning: invalid value encountered in divide\n",
      "  c /= stddev[None, :]\n"
     ]
    },
    {
     "name": "stdout",
     "output_type": "stream",
     "text": [
      "2/2 [==============================] - 0s 60ms/step\n",
      "2/2 [==============================] - 0s 53ms/step\n"
     ]
    },
    {
     "name": "stderr",
     "output_type": "stream",
     "text": [
      "/Users/rsaraiva/opt/anaconda3/envs/PARADISE/lib/python3.10/site-packages/numpy/lib/function_base.py:2853: RuntimeWarning: invalid value encountered in divide\n",
      "  c /= stddev[:, None]\n",
      "/Users/rsaraiva/opt/anaconda3/envs/PARADISE/lib/python3.10/site-packages/numpy/lib/function_base.py:2854: RuntimeWarning: invalid value encountered in divide\n",
      "  c /= stddev[None, :]\n"
     ]
    },
    {
     "name": "stdout",
     "output_type": "stream",
     "text": [
      "2/2 [==============================] - 0s 59ms/step\n",
      "2/2 [==============================] - 0s 62ms/step\n"
     ]
    },
    {
     "name": "stderr",
     "output_type": "stream",
     "text": [
      "/Users/rsaraiva/opt/anaconda3/envs/PARADISE/lib/python3.10/site-packages/numpy/lib/function_base.py:2853: RuntimeWarning: invalid value encountered in divide\n",
      "  c /= stddev[:, None]\n",
      "/Users/rsaraiva/opt/anaconda3/envs/PARADISE/lib/python3.10/site-packages/numpy/lib/function_base.py:2854: RuntimeWarning: invalid value encountered in divide\n",
      "  c /= stddev[None, :]\n"
     ]
    },
    {
     "name": "stdout",
     "output_type": "stream",
     "text": [
      "2/2 [==============================] - 0s 66ms/step\n",
      "2/2 [==============================] - 0s 56ms/step\n",
      "2/2 [==============================] - 0s 61ms/step\n",
      "2/2 [==============================] - 0s 70ms/step\n"
     ]
    },
    {
     "name": "stderr",
     "output_type": "stream",
     "text": [
      "/Users/rsaraiva/opt/anaconda3/envs/PARADISE/lib/python3.10/site-packages/numpy/lib/function_base.py:2853: RuntimeWarning: invalid value encountered in divide\n",
      "  c /= stddev[:, None]\n",
      "/Users/rsaraiva/opt/anaconda3/envs/PARADISE/lib/python3.10/site-packages/numpy/lib/function_base.py:2854: RuntimeWarning: invalid value encountered in divide\n",
      "  c /= stddev[None, :]\n"
     ]
    },
    {
     "name": "stdout",
     "output_type": "stream",
     "text": [
      "2/2 [==============================] - 0s 49ms/step\n"
     ]
    },
    {
     "name": "stderr",
     "output_type": "stream",
     "text": [
      "/Users/rsaraiva/opt/anaconda3/envs/PARADISE/lib/python3.10/site-packages/numpy/lib/function_base.py:2853: RuntimeWarning: invalid value encountered in divide\n",
      "  c /= stddev[:, None]\n",
      "/Users/rsaraiva/opt/anaconda3/envs/PARADISE/lib/python3.10/site-packages/numpy/lib/function_base.py:2854: RuntimeWarning: invalid value encountered in divide\n",
      "  c /= stddev[None, :]\n",
      "2023-07-18 22:59:55.430771: I tensorflow/core/grappler/optimizers/custom_graph_optimizer_registry.cc:114] Plugin optimizer for device_type GPU is enabled.\n"
     ]
    },
    {
     "name": "stdout",
     "output_type": "stream",
     "text": [
      "2/2 [==============================] - 2s 848ms/step\n",
      "2/2 [==============================] - 0s 157ms/step\n",
      "1/2 [==============>...............] - ETA: 0s"
     ]
    },
    {
     "name": "stderr",
     "output_type": "stream",
     "text": [
      "/Users/rsaraiva/opt/anaconda3/envs/PARADISE/lib/python3.10/site-packages/numpy/lib/function_base.py:2853: RuntimeWarning: invalid value encountered in divide\n",
      "  c /= stddev[:, None]\n",
      "/Users/rsaraiva/opt/anaconda3/envs/PARADISE/lib/python3.10/site-packages/numpy/lib/function_base.py:2854: RuntimeWarning: invalid value encountered in divide\n",
      "  c /= stddev[None, :]\n"
     ]
    },
    {
     "name": "stdout",
     "output_type": "stream",
     "text": [
      "2/2 [==============================] - 0s 116ms/step\n",
      "2/2 [==============================] - 0s 104ms/step\n",
      "1/2 [==============>...............] - ETA: 0s"
     ]
    },
    {
     "name": "stderr",
     "output_type": "stream",
     "text": [
      "/Users/rsaraiva/opt/anaconda3/envs/PARADISE/lib/python3.10/site-packages/numpy/lib/function_base.py:2853: RuntimeWarning: invalid value encountered in divide\n",
      "  c /= stddev[:, None]\n",
      "/Users/rsaraiva/opt/anaconda3/envs/PARADISE/lib/python3.10/site-packages/numpy/lib/function_base.py:2854: RuntimeWarning: invalid value encountered in divide\n",
      "  c /= stddev[None, :]\n"
     ]
    },
    {
     "name": "stdout",
     "output_type": "stream",
     "text": [
      "2/2 [==============================] - 0s 116ms/step\n",
      "2/2 [==============================] - 0s 66ms/step\n",
      "1/2 [==============>...............] - ETA: 0s"
     ]
    },
    {
     "name": "stderr",
     "output_type": "stream",
     "text": [
      "/Users/rsaraiva/opt/anaconda3/envs/PARADISE/lib/python3.10/site-packages/numpy/lib/function_base.py:2853: RuntimeWarning: invalid value encountered in divide\n",
      "  c /= stddev[:, None]\n",
      "/Users/rsaraiva/opt/anaconda3/envs/PARADISE/lib/python3.10/site-packages/numpy/lib/function_base.py:2854: RuntimeWarning: invalid value encountered in divide\n",
      "  c /= stddev[None, :]\n"
     ]
    },
    {
     "name": "stdout",
     "output_type": "stream",
     "text": [
      "2/2 [==============================] - 0s 105ms/step\n",
      "2/2 [==============================] - 0s 124ms/step\n",
      "1/2 [==============>...............] - ETA: 0s"
     ]
    },
    {
     "name": "stderr",
     "output_type": "stream",
     "text": [
      "/Users/rsaraiva/opt/anaconda3/envs/PARADISE/lib/python3.10/site-packages/numpy/lib/function_base.py:2853: RuntimeWarning: invalid value encountered in divide\n",
      "  c /= stddev[:, None]\n",
      "/Users/rsaraiva/opt/anaconda3/envs/PARADISE/lib/python3.10/site-packages/numpy/lib/function_base.py:2854: RuntimeWarning: invalid value encountered in divide\n",
      "  c /= stddev[None, :]\n"
     ]
    },
    {
     "name": "stdout",
     "output_type": "stream",
     "text": [
      "2/2 [==============================] - 0s 82ms/step\n",
      "2/2 [==============================] - 0s 87ms/step\n",
      "2/2 [==============================] - ETA: 0s"
     ]
    },
    {
     "name": "stderr",
     "output_type": "stream",
     "text": [
      "/Users/rsaraiva/opt/anaconda3/envs/PARADISE/lib/python3.10/site-packages/numpy/lib/function_base.py:2853: RuntimeWarning: invalid value encountered in divide\n",
      "  c /= stddev[:, None]\n",
      "/Users/rsaraiva/opt/anaconda3/envs/PARADISE/lib/python3.10/site-packages/numpy/lib/function_base.py:2854: RuntimeWarning: invalid value encountered in divide\n",
      "  c /= stddev[None, :]\n"
     ]
    },
    {
     "name": "stdout",
     "output_type": "stream",
     "text": [
      "2/2 [==============================] - 0s 81ms/step\n",
      "2/2 [==============================] - 0s 75ms/step\n",
      "2/2 [==============================] - 0s 57ms/step\n",
      "2/2 [==============================] - 0s 55ms/step\n",
      "2/2 [==============================] - 0s 69ms/step\n",
      "2/2 [==============================] - 0s 80ms/step\n",
      "1/2 [==============>...............] - ETA: 0s"
     ]
    },
    {
     "name": "stderr",
     "output_type": "stream",
     "text": [
      "/Users/rsaraiva/opt/anaconda3/envs/PARADISE/lib/python3.10/site-packages/numpy/lib/function_base.py:2853: RuntimeWarning: invalid value encountered in divide\n",
      "  c /= stddev[:, None]\n",
      "/Users/rsaraiva/opt/anaconda3/envs/PARADISE/lib/python3.10/site-packages/numpy/lib/function_base.py:2854: RuntimeWarning: invalid value encountered in divide\n",
      "  c /= stddev[None, :]\n"
     ]
    },
    {
     "name": "stdout",
     "output_type": "stream",
     "text": [
      "2/2 [==============================] - 0s 87ms/step\n",
      "2/2 [==============================] - 0s 80ms/step\n",
      "2/2 [==============================] - 0s 58ms/step\n"
     ]
    },
    {
     "name": "stderr",
     "output_type": "stream",
     "text": [
      "/Users/rsaraiva/opt/anaconda3/envs/PARADISE/lib/python3.10/site-packages/numpy/lib/function_base.py:2853: RuntimeWarning: invalid value encountered in divide\n",
      "  c /= stddev[:, None]\n",
      "/Users/rsaraiva/opt/anaconda3/envs/PARADISE/lib/python3.10/site-packages/numpy/lib/function_base.py:2854: RuntimeWarning: invalid value encountered in divide\n",
      "  c /= stddev[None, :]\n"
     ]
    },
    {
     "name": "stdout",
     "output_type": "stream",
     "text": [
      "2/2 [==============================] - 0s 74ms/step\n",
      "2/2 [==============================] - 0s 68ms/step\n"
     ]
    },
    {
     "name": "stderr",
     "output_type": "stream",
     "text": [
      "/Users/rsaraiva/opt/anaconda3/envs/PARADISE/lib/python3.10/site-packages/numpy/lib/function_base.py:2853: RuntimeWarning: invalid value encountered in divide\n",
      "  c /= stddev[:, None]\n",
      "/Users/rsaraiva/opt/anaconda3/envs/PARADISE/lib/python3.10/site-packages/numpy/lib/function_base.py:2854: RuntimeWarning: invalid value encountered in divide\n",
      "  c /= stddev[None, :]\n"
     ]
    },
    {
     "name": "stdout",
     "output_type": "stream",
     "text": [
      "2/2 [==============================] - 0s 68ms/step\n",
      "2/2 [==============================] - 0s 73ms/step\n",
      "2/2 [==============================] - 0s 70ms/step\n",
      "2/2 [==============================] - 0s 53ms/step\n"
     ]
    },
    {
     "name": "stderr",
     "output_type": "stream",
     "text": [
      "/Users/rsaraiva/opt/anaconda3/envs/PARADISE/lib/python3.10/site-packages/numpy/lib/function_base.py:2853: RuntimeWarning: invalid value encountered in divide\n",
      "  c /= stddev[:, None]\n",
      "/Users/rsaraiva/opt/anaconda3/envs/PARADISE/lib/python3.10/site-packages/numpy/lib/function_base.py:2854: RuntimeWarning: invalid value encountered in divide\n",
      "  c /= stddev[None, :]\n"
     ]
    },
    {
     "name": "stdout",
     "output_type": "stream",
     "text": [
      "2/2 [==============================] - 0s 61ms/step\n"
     ]
    },
    {
     "name": "stderr",
     "output_type": "stream",
     "text": [
      "/Users/rsaraiva/opt/anaconda3/envs/PARADISE/lib/python3.10/site-packages/numpy/lib/function_base.py:2853: RuntimeWarning: invalid value encountered in divide\n",
      "  c /= stddev[:, None]\n",
      "/Users/rsaraiva/opt/anaconda3/envs/PARADISE/lib/python3.10/site-packages/numpy/lib/function_base.py:2854: RuntimeWarning: invalid value encountered in divide\n",
      "  c /= stddev[None, :]\n",
      "2023-07-18 23:00:06.121165: I tensorflow/core/grappler/optimizers/custom_graph_optimizer_registry.cc:114] Plugin optimizer for device_type GPU is enabled.\n"
     ]
    },
    {
     "name": "stdout",
     "output_type": "stream",
     "text": [
      "2/2 [==============================] - 2s 790ms/step\n",
      "2/2 [==============================] - 0s 154ms/step\n"
     ]
    },
    {
     "name": "stderr",
     "output_type": "stream",
     "text": [
      "/Users/rsaraiva/opt/anaconda3/envs/PARADISE/lib/python3.10/site-packages/numpy/lib/function_base.py:2853: RuntimeWarning: invalid value encountered in divide\n",
      "  c /= stddev[:, None]\n",
      "/Users/rsaraiva/opt/anaconda3/envs/PARADISE/lib/python3.10/site-packages/numpy/lib/function_base.py:2854: RuntimeWarning: invalid value encountered in divide\n",
      "  c /= stddev[None, :]\n"
     ]
    },
    {
     "name": "stdout",
     "output_type": "stream",
     "text": [
      "2/2 [==============================] - 0s 190ms/step\n",
      "2/2 [==============================] - 0s 102ms/step\n",
      "1/2 [==============>...............] - ETA: 0s"
     ]
    },
    {
     "name": "stderr",
     "output_type": "stream",
     "text": [
      "/Users/rsaraiva/opt/anaconda3/envs/PARADISE/lib/python3.10/site-packages/numpy/lib/function_base.py:2853: RuntimeWarning: invalid value encountered in divide\n",
      "  c /= stddev[:, None]\n",
      "/Users/rsaraiva/opt/anaconda3/envs/PARADISE/lib/python3.10/site-packages/numpy/lib/function_base.py:2854: RuntimeWarning: invalid value encountered in divide\n",
      "  c /= stddev[None, :]\n"
     ]
    },
    {
     "name": "stdout",
     "output_type": "stream",
     "text": [
      "2/2 [==============================] - 0s 110ms/step\n",
      "2/2 [==============================] - 0s 78ms/step\n",
      "1/2 [==============>...............] - ETA: 0s"
     ]
    },
    {
     "name": "stderr",
     "output_type": "stream",
     "text": [
      "/Users/rsaraiva/opt/anaconda3/envs/PARADISE/lib/python3.10/site-packages/numpy/lib/function_base.py:2853: RuntimeWarning: invalid value encountered in divide\n",
      "  c /= stddev[:, None]\n",
      "/Users/rsaraiva/opt/anaconda3/envs/PARADISE/lib/python3.10/site-packages/numpy/lib/function_base.py:2854: RuntimeWarning: invalid value encountered in divide\n",
      "  c /= stddev[None, :]\n"
     ]
    },
    {
     "name": "stdout",
     "output_type": "stream",
     "text": [
      "2/2 [==============================] - 0s 79ms/step\n",
      "2/2 [==============================] - 0s 74ms/step\n",
      "1/2 [==============>...............] - ETA: 0s"
     ]
    },
    {
     "name": "stderr",
     "output_type": "stream",
     "text": [
      "/Users/rsaraiva/opt/anaconda3/envs/PARADISE/lib/python3.10/site-packages/numpy/lib/function_base.py:2853: RuntimeWarning: invalid value encountered in divide\n",
      "  c /= stddev[:, None]\n",
      "/Users/rsaraiva/opt/anaconda3/envs/PARADISE/lib/python3.10/site-packages/numpy/lib/function_base.py:2854: RuntimeWarning: invalid value encountered in divide\n",
      "  c /= stddev[None, :]\n"
     ]
    },
    {
     "name": "stdout",
     "output_type": "stream",
     "text": [
      "2/2 [==============================] - 0s 121ms/step\n",
      "2/2 [==============================] - 0s 86ms/step\n",
      "2/2 [==============================] - 0s 60ms/step\n"
     ]
    },
    {
     "name": "stderr",
     "output_type": "stream",
     "text": [
      "/Users/rsaraiva/opt/anaconda3/envs/PARADISE/lib/python3.10/site-packages/numpy/lib/function_base.py:2853: RuntimeWarning: invalid value encountered in divide\n",
      "  c /= stddev[:, None]\n",
      "/Users/rsaraiva/opt/anaconda3/envs/PARADISE/lib/python3.10/site-packages/numpy/lib/function_base.py:2854: RuntimeWarning: invalid value encountered in divide\n",
      "  c /= stddev[None, :]\n"
     ]
    },
    {
     "name": "stdout",
     "output_type": "stream",
     "text": [
      "2/2 [==============================] - 0s 56ms/step\n",
      "2/2 [==============================] - 0s 129ms/step\n",
      "2/2 [==============================] - 0s 86ms/step\n",
      "2/2 [==============================] - 0s 59ms/step\n",
      "2/2 [==============================] - 0s 60ms/step\n",
      "2/2 [==============================] - 0s 56ms/step\n"
     ]
    },
    {
     "name": "stderr",
     "output_type": "stream",
     "text": [
      "/Users/rsaraiva/opt/anaconda3/envs/PARADISE/lib/python3.10/site-packages/numpy/lib/function_base.py:2853: RuntimeWarning: invalid value encountered in divide\n",
      "  c /= stddev[:, None]\n",
      "/Users/rsaraiva/opt/anaconda3/envs/PARADISE/lib/python3.10/site-packages/numpy/lib/function_base.py:2854: RuntimeWarning: invalid value encountered in divide\n",
      "  c /= stddev[None, :]\n"
     ]
    },
    {
     "name": "stdout",
     "output_type": "stream",
     "text": [
      "2/2 [==============================] - 0s 69ms/step\n",
      "2/2 [==============================] - 0s 53ms/step\n"
     ]
    },
    {
     "name": "stderr",
     "output_type": "stream",
     "text": [
      "/Users/rsaraiva/opt/anaconda3/envs/PARADISE/lib/python3.10/site-packages/numpy/lib/function_base.py:2853: RuntimeWarning: invalid value encountered in divide\n",
      "  c /= stddev[:, None]\n",
      "/Users/rsaraiva/opt/anaconda3/envs/PARADISE/lib/python3.10/site-packages/numpy/lib/function_base.py:2854: RuntimeWarning: invalid value encountered in divide\n",
      "  c /= stddev[None, :]\n"
     ]
    },
    {
     "name": "stdout",
     "output_type": "stream",
     "text": [
      "2/2 [==============================] - 0s 52ms/step\n",
      "2/2 [==============================] - 0s 59ms/step\n"
     ]
    },
    {
     "name": "stderr",
     "output_type": "stream",
     "text": [
      "/Users/rsaraiva/opt/anaconda3/envs/PARADISE/lib/python3.10/site-packages/numpy/lib/function_base.py:2853: RuntimeWarning: invalid value encountered in divide\n",
      "  c /= stddev[:, None]\n",
      "/Users/rsaraiva/opt/anaconda3/envs/PARADISE/lib/python3.10/site-packages/numpy/lib/function_base.py:2854: RuntimeWarning: invalid value encountered in divide\n",
      "  c /= stddev[None, :]\n"
     ]
    },
    {
     "name": "stdout",
     "output_type": "stream",
     "text": [
      "2/2 [==============================] - 0s 49ms/step\n",
      "2/2 [==============================] - 0s 71ms/step\n",
      "2/2 [==============================] - 0s 51ms/step\n",
      "2/2 [==============================] - 0s 51ms/step\n"
     ]
    },
    {
     "name": "stderr",
     "output_type": "stream",
     "text": [
      "/Users/rsaraiva/opt/anaconda3/envs/PARADISE/lib/python3.10/site-packages/numpy/lib/function_base.py:2853: RuntimeWarning: invalid value encountered in divide\n",
      "  c /= stddev[:, None]\n",
      "/Users/rsaraiva/opt/anaconda3/envs/PARADISE/lib/python3.10/site-packages/numpy/lib/function_base.py:2854: RuntimeWarning: invalid value encountered in divide\n",
      "  c /= stddev[None, :]\n"
     ]
    },
    {
     "name": "stdout",
     "output_type": "stream",
     "text": [
      "2/2 [==============================] - 0s 52ms/step\n"
     ]
    },
    {
     "name": "stderr",
     "output_type": "stream",
     "text": [
      "/Users/rsaraiva/opt/anaconda3/envs/PARADISE/lib/python3.10/site-packages/numpy/lib/function_base.py:2853: RuntimeWarning: invalid value encountered in divide\n",
      "  c /= stddev[:, None]\n",
      "/Users/rsaraiva/opt/anaconda3/envs/PARADISE/lib/python3.10/site-packages/numpy/lib/function_base.py:2854: RuntimeWarning: invalid value encountered in divide\n",
      "  c /= stddev[None, :]\n",
      "2023-07-18 23:00:17.093635: I tensorflow/core/grappler/optimizers/custom_graph_optimizer_registry.cc:114] Plugin optimizer for device_type GPU is enabled.\n"
     ]
    },
    {
     "name": "stdout",
     "output_type": "stream",
     "text": [
      "2/2 [==============================] - 2s 849ms/step\n",
      "2/2 [==============================] - 0s 206ms/step\n",
      "2/2 [==============================] - 0s 86ms/step\n",
      "2/2 [==============================] - 0s 114ms/step\n",
      "2/2 [==============================] - 0s 147ms/step\n",
      "2/2 [==============================] - 0s 76ms/step\n",
      "2/2 [==============================] - 0s 75ms/step\n",
      "2/2 [==============================] - 0s 87ms/step\n",
      "2/2 [==============================] - 0s 172ms/step\n",
      "2/2 [==============================] - 0s 81ms/step\n",
      "2/2 [==============================] - 0s 72ms/step\n",
      "2/2 [==============================] - 0s 66ms/step\n",
      "2/2 [==============================] - 0s 102ms/step\n",
      "2/2 [==============================] - 0s 61ms/step\n",
      "2/2 [==============================] - 0s 98ms/step\n",
      "2/2 [==============================] - 0s 54ms/step\n",
      "2/2 [==============================] - 0s 86ms/step\n",
      "2/2 [==============================] - 0s 64ms/step\n",
      "2/2 [==============================] - 0s 71ms/step\n",
      "2/2 [==============================] - 0s 51ms/step\n",
      "2/2 [==============================] - 0s 70ms/step\n",
      "2/2 [==============================] - 0s 96ms/step\n",
      "2/2 [==============================] - 0s 60ms/step\n",
      "2/2 [==============================] - 0s 61ms/step\n",
      "2/2 [==============================] - 0s 54ms/step\n",
      "2/2 [==============================] - 0s 55ms/step\n"
     ]
    },
    {
     "name": "stderr",
     "output_type": "stream",
     "text": [
      "2023-07-18 23:00:27.813521: I tensorflow/core/grappler/optimizers/custom_graph_optimizer_registry.cc:114] Plugin optimizer for device_type GPU is enabled.\n"
     ]
    },
    {
     "name": "stdout",
     "output_type": "stream",
     "text": [
      "2/2 [==============================] - 3s 1s/step\n",
      "2/2 [==============================] - 0s 178ms/step\n",
      "1/2 [==============>...............] - ETA: 0s"
     ]
    },
    {
     "name": "stderr",
     "output_type": "stream",
     "text": [
      "/Users/rsaraiva/opt/anaconda3/envs/PARADISE/lib/python3.10/site-packages/numpy/lib/function_base.py:2853: RuntimeWarning: invalid value encountered in divide\n",
      "  c /= stddev[:, None]\n",
      "/Users/rsaraiva/opt/anaconda3/envs/PARADISE/lib/python3.10/site-packages/numpy/lib/function_base.py:2854: RuntimeWarning: invalid value encountered in divide\n",
      "  c /= stddev[None, :]\n"
     ]
    },
    {
     "name": "stdout",
     "output_type": "stream",
     "text": [
      "2/2 [==============================] - 0s 181ms/step\n",
      "2/2 [==============================] - 0s 158ms/step\n"
     ]
    },
    {
     "name": "stderr",
     "output_type": "stream",
     "text": [
      "/Users/rsaraiva/opt/anaconda3/envs/PARADISE/lib/python3.10/site-packages/numpy/lib/function_base.py:2853: RuntimeWarning: invalid value encountered in divide\n",
      "  c /= stddev[:, None]\n",
      "/Users/rsaraiva/opt/anaconda3/envs/PARADISE/lib/python3.10/site-packages/numpy/lib/function_base.py:2854: RuntimeWarning: invalid value encountered in divide\n",
      "  c /= stddev[None, :]\n"
     ]
    },
    {
     "name": "stdout",
     "output_type": "stream",
     "text": [
      "2/2 [==============================] - 0s 154ms/step\n",
      "2/2 [==============================] - 0s 170ms/step\n"
     ]
    },
    {
     "name": "stderr",
     "output_type": "stream",
     "text": [
      "/Users/rsaraiva/opt/anaconda3/envs/PARADISE/lib/python3.10/site-packages/numpy/lib/function_base.py:2853: RuntimeWarning: invalid value encountered in divide\n",
      "  c /= stddev[:, None]\n",
      "/Users/rsaraiva/opt/anaconda3/envs/PARADISE/lib/python3.10/site-packages/numpy/lib/function_base.py:2854: RuntimeWarning: invalid value encountered in divide\n",
      "  c /= stddev[None, :]\n"
     ]
    },
    {
     "name": "stdout",
     "output_type": "stream",
     "text": [
      "2/2 [==============================] - 0s 136ms/step\n",
      "2/2 [==============================] - 0s 117ms/step\n",
      "1/2 [==============>...............] - ETA: 0s"
     ]
    },
    {
     "name": "stderr",
     "output_type": "stream",
     "text": [
      "/Users/rsaraiva/opt/anaconda3/envs/PARADISE/lib/python3.10/site-packages/numpy/lib/function_base.py:2853: RuntimeWarning: invalid value encountered in divide\n",
      "  c /= stddev[:, None]\n",
      "/Users/rsaraiva/opt/anaconda3/envs/PARADISE/lib/python3.10/site-packages/numpy/lib/function_base.py:2854: RuntimeWarning: invalid value encountered in divide\n",
      "  c /= stddev[None, :]\n"
     ]
    },
    {
     "name": "stdout",
     "output_type": "stream",
     "text": [
      "2/2 [==============================] - 0s 100ms/step\n",
      "2/2 [==============================] - 0s 64ms/step\n",
      "1/2 [==============>...............] - ETA: 0s"
     ]
    },
    {
     "name": "stderr",
     "output_type": "stream",
     "text": [
      "/Users/rsaraiva/opt/anaconda3/envs/PARADISE/lib/python3.10/site-packages/numpy/lib/function_base.py:2853: RuntimeWarning: invalid value encountered in divide\n",
      "  c /= stddev[:, None]\n",
      "/Users/rsaraiva/opt/anaconda3/envs/PARADISE/lib/python3.10/site-packages/numpy/lib/function_base.py:2854: RuntimeWarning: invalid value encountered in divide\n",
      "  c /= stddev[None, :]\n"
     ]
    },
    {
     "name": "stdout",
     "output_type": "stream",
     "text": [
      "2/2 [==============================] - 0s 97ms/step\n",
      "2/2 [==============================] - 0s 83ms/step\n",
      "2/2 [==============================] - 0s 72ms/step\n",
      "2/2 [==============================] - 0s 57ms/step\n",
      "2/2 [==============================] - 0s 71ms/step\n",
      "2/2 [==============================] - 0s 56ms/step\n",
      "2/2 [==============================] - 0s 75ms/step\n"
     ]
    },
    {
     "name": "stderr",
     "output_type": "stream",
     "text": [
      "/Users/rsaraiva/opt/anaconda3/envs/PARADISE/lib/python3.10/site-packages/numpy/lib/function_base.py:2853: RuntimeWarning: invalid value encountered in divide\n",
      "  c /= stddev[:, None]\n",
      "/Users/rsaraiva/opt/anaconda3/envs/PARADISE/lib/python3.10/site-packages/numpy/lib/function_base.py:2854: RuntimeWarning: invalid value encountered in divide\n",
      "  c /= stddev[None, :]\n"
     ]
    },
    {
     "name": "stdout",
     "output_type": "stream",
     "text": [
      "2/2 [==============================] - 0s 65ms/step\n",
      "2/2 [==============================] - 0s 55ms/step\n"
     ]
    },
    {
     "name": "stderr",
     "output_type": "stream",
     "text": [
      "/Users/rsaraiva/opt/anaconda3/envs/PARADISE/lib/python3.10/site-packages/numpy/lib/function_base.py:2853: RuntimeWarning: invalid value encountered in divide\n",
      "  c /= stddev[:, None]\n",
      "/Users/rsaraiva/opt/anaconda3/envs/PARADISE/lib/python3.10/site-packages/numpy/lib/function_base.py:2854: RuntimeWarning: invalid value encountered in divide\n",
      "  c /= stddev[None, :]\n"
     ]
    },
    {
     "name": "stdout",
     "output_type": "stream",
     "text": [
      "2/2 [==============================] - 0s 52ms/step\n",
      "2/2 [==============================] - 0s 51ms/step\n"
     ]
    },
    {
     "name": "stderr",
     "output_type": "stream",
     "text": [
      "/Users/rsaraiva/opt/anaconda3/envs/PARADISE/lib/python3.10/site-packages/numpy/lib/function_base.py:2853: RuntimeWarning: invalid value encountered in divide\n",
      "  c /= stddev[:, None]\n",
      "/Users/rsaraiva/opt/anaconda3/envs/PARADISE/lib/python3.10/site-packages/numpy/lib/function_base.py:2854: RuntimeWarning: invalid value encountered in divide\n",
      "  c /= stddev[None, :]\n"
     ]
    },
    {
     "name": "stdout",
     "output_type": "stream",
     "text": [
      "2/2 [==============================] - 0s 61ms/step\n",
      "2/2 [==============================] - 0s 54ms/step\n",
      "2/2 [==============================] - 0s 70ms/step\n",
      "2/2 [==============================] - 0s 57ms/step\n"
     ]
    },
    {
     "name": "stderr",
     "output_type": "stream",
     "text": [
      "/Users/rsaraiva/opt/anaconda3/envs/PARADISE/lib/python3.10/site-packages/numpy/lib/function_base.py:2853: RuntimeWarning: invalid value encountered in divide\n",
      "  c /= stddev[:, None]\n",
      "/Users/rsaraiva/opt/anaconda3/envs/PARADISE/lib/python3.10/site-packages/numpy/lib/function_base.py:2854: RuntimeWarning: invalid value encountered in divide\n",
      "  c /= stddev[None, :]\n"
     ]
    },
    {
     "name": "stdout",
     "output_type": "stream",
     "text": [
      "2/2 [==============================] - 0s 51ms/step\n"
     ]
    },
    {
     "name": "stderr",
     "output_type": "stream",
     "text": [
      "/Users/rsaraiva/opt/anaconda3/envs/PARADISE/lib/python3.10/site-packages/numpy/lib/function_base.py:2853: RuntimeWarning: invalid value encountered in divide\n",
      "  c /= stddev[:, None]\n",
      "/Users/rsaraiva/opt/anaconda3/envs/PARADISE/lib/python3.10/site-packages/numpy/lib/function_base.py:2854: RuntimeWarning: invalid value encountered in divide\n",
      "  c /= stddev[None, :]\n",
      "2023-07-18 23:00:39.828117: I tensorflow/core/grappler/optimizers/custom_graph_optimizer_registry.cc:114] Plugin optimizer for device_type GPU is enabled.\n"
     ]
    },
    {
     "name": "stdout",
     "output_type": "stream",
     "text": [
      "2/2 [==============================] - 2s 925ms/step\n",
      "2/2 [==============================] - 0s 205ms/step\n"
     ]
    },
    {
     "name": "stderr",
     "output_type": "stream",
     "text": [
      "/Users/rsaraiva/opt/anaconda3/envs/PARADISE/lib/python3.10/site-packages/numpy/lib/function_base.py:2853: RuntimeWarning: invalid value encountered in divide\n",
      "  c /= stddev[:, None]\n",
      "/Users/rsaraiva/opt/anaconda3/envs/PARADISE/lib/python3.10/site-packages/numpy/lib/function_base.py:2854: RuntimeWarning: invalid value encountered in divide\n",
      "  c /= stddev[None, :]\n"
     ]
    },
    {
     "name": "stdout",
     "output_type": "stream",
     "text": [
      "2/2 [==============================] - 0s 139ms/step\n",
      "2/2 [==============================] - 0s 172ms/step\n",
      "1/2 [==============>...............] - ETA: 0s"
     ]
    },
    {
     "name": "stderr",
     "output_type": "stream",
     "text": [
      "/Users/rsaraiva/opt/anaconda3/envs/PARADISE/lib/python3.10/site-packages/numpy/lib/function_base.py:2853: RuntimeWarning: invalid value encountered in divide\n",
      "  c /= stddev[:, None]\n",
      "/Users/rsaraiva/opt/anaconda3/envs/PARADISE/lib/python3.10/site-packages/numpy/lib/function_base.py:2854: RuntimeWarning: invalid value encountered in divide\n",
      "  c /= stddev[None, :]\n"
     ]
    },
    {
     "name": "stdout",
     "output_type": "stream",
     "text": [
      "2/2 [==============================] - 0s 257ms/step\n",
      "2/2 [==============================] - 0s 194ms/step\n"
     ]
    },
    {
     "name": "stderr",
     "output_type": "stream",
     "text": [
      "/Users/rsaraiva/opt/anaconda3/envs/PARADISE/lib/python3.10/site-packages/numpy/lib/function_base.py:2853: RuntimeWarning: invalid value encountered in divide\n",
      "  c /= stddev[:, None]\n",
      "/Users/rsaraiva/opt/anaconda3/envs/PARADISE/lib/python3.10/site-packages/numpy/lib/function_base.py:2854: RuntimeWarning: invalid value encountered in divide\n",
      "  c /= stddev[None, :]\n"
     ]
    },
    {
     "name": "stdout",
     "output_type": "stream",
     "text": [
      "2/2 [==============================] - 0s 160ms/step\n",
      "2/2 [==============================] - 0s 86ms/step\n"
     ]
    },
    {
     "name": "stderr",
     "output_type": "stream",
     "text": [
      "/Users/rsaraiva/opt/anaconda3/envs/PARADISE/lib/python3.10/site-packages/numpy/lib/function_base.py:2853: RuntimeWarning: invalid value encountered in divide\n",
      "  c /= stddev[:, None]\n",
      "/Users/rsaraiva/opt/anaconda3/envs/PARADISE/lib/python3.10/site-packages/numpy/lib/function_base.py:2854: RuntimeWarning: invalid value encountered in divide\n",
      "  c /= stddev[None, :]\n"
     ]
    },
    {
     "name": "stdout",
     "output_type": "stream",
     "text": [
      "2/2 [==============================] - 0s 124ms/step\n",
      "2/2 [==============================] - 0s 105ms/step\n",
      "1/2 [==============>...............] - ETA: 0s"
     ]
    },
    {
     "name": "stderr",
     "output_type": "stream",
     "text": [
      "/Users/rsaraiva/opt/anaconda3/envs/PARADISE/lib/python3.10/site-packages/numpy/lib/function_base.py:2853: RuntimeWarning: invalid value encountered in divide\n",
      "  c /= stddev[:, None]\n",
      "/Users/rsaraiva/opt/anaconda3/envs/PARADISE/lib/python3.10/site-packages/numpy/lib/function_base.py:2854: RuntimeWarning: invalid value encountered in divide\n",
      "  c /= stddev[None, :]\n"
     ]
    },
    {
     "name": "stdout",
     "output_type": "stream",
     "text": [
      "2/2 [==============================] - 0s 86ms/step\n",
      "2/2 [==============================] - 0s 138ms/step\n",
      "2/2 [==============================] - 0s 165ms/step\n",
      "2/2 [==============================] - 0s 80ms/step\n",
      "2/2 [==============================] - 0s 93ms/step\n",
      "2/2 [==============================] - 0s 78ms/step\n",
      "1/2 [==============>...............] - ETA: 0s"
     ]
    },
    {
     "name": "stderr",
     "output_type": "stream",
     "text": [
      "/Users/rsaraiva/opt/anaconda3/envs/PARADISE/lib/python3.10/site-packages/numpy/lib/function_base.py:2853: RuntimeWarning: invalid value encountered in divide\n",
      "  c /= stddev[:, None]\n",
      "/Users/rsaraiva/opt/anaconda3/envs/PARADISE/lib/python3.10/site-packages/numpy/lib/function_base.py:2854: RuntimeWarning: invalid value encountered in divide\n",
      "  c /= stddev[None, :]\n"
     ]
    },
    {
     "name": "stdout",
     "output_type": "stream",
     "text": [
      "2/2 [==============================] - 0s 100ms/step\n",
      "2/2 [==============================] - 0s 77ms/step\n",
      "2/2 [==============================] - 0s 83ms/step\n"
     ]
    },
    {
     "name": "stderr",
     "output_type": "stream",
     "text": [
      "/Users/rsaraiva/opt/anaconda3/envs/PARADISE/lib/python3.10/site-packages/numpy/lib/function_base.py:2853: RuntimeWarning: invalid value encountered in divide\n",
      "  c /= stddev[:, None]\n",
      "/Users/rsaraiva/opt/anaconda3/envs/PARADISE/lib/python3.10/site-packages/numpy/lib/function_base.py:2854: RuntimeWarning: invalid value encountered in divide\n",
      "  c /= stddev[None, :]\n"
     ]
    },
    {
     "name": "stdout",
     "output_type": "stream",
     "text": [
      "2/2 [==============================] - 0s 82ms/step\n",
      "1/2 [==============>...............] - ETA: 0s"
     ]
    },
    {
     "name": "stderr",
     "output_type": "stream",
     "text": [
      "/Users/rsaraiva/opt/anaconda3/envs/PARADISE/lib/python3.10/site-packages/numpy/lib/function_base.py:2853: RuntimeWarning: invalid value encountered in divide\n",
      "  c /= stddev[:, None]\n",
      "/Users/rsaraiva/opt/anaconda3/envs/PARADISE/lib/python3.10/site-packages/numpy/lib/function_base.py:2854: RuntimeWarning: invalid value encountered in divide\n",
      "  c /= stddev[None, :]\n"
     ]
    },
    {
     "name": "stdout",
     "output_type": "stream",
     "text": [
      "2/2 [==============================] - 0s 100ms/step\n",
      "2/2 [==============================] - 0s 76ms/step\n",
      "2/2 [==============================] - 0s 70ms/step\n",
      "2/2 [==============================] - 0s 72ms/step\n",
      "2/2 [==============================] - 0s 58ms/step\n"
     ]
    },
    {
     "name": "stderr",
     "output_type": "stream",
     "text": [
      "/Users/rsaraiva/opt/anaconda3/envs/PARADISE/lib/python3.10/site-packages/numpy/lib/function_base.py:2853: RuntimeWarning: invalid value encountered in divide\n",
      "  c /= stddev[:, None]\n",
      "/Users/rsaraiva/opt/anaconda3/envs/PARADISE/lib/python3.10/site-packages/numpy/lib/function_base.py:2854: RuntimeWarning: invalid value encountered in divide\n",
      "  c /= stddev[None, :]\n"
     ]
    },
    {
     "name": "stdout",
     "output_type": "stream",
     "text": [
      "2/2 [==============================] - 0s 54ms/step\n"
     ]
    },
    {
     "name": "stderr",
     "output_type": "stream",
     "text": [
      "/Users/rsaraiva/opt/anaconda3/envs/PARADISE/lib/python3.10/site-packages/numpy/lib/function_base.py:2853: RuntimeWarning: invalid value encountered in divide\n",
      "  c /= stddev[:, None]\n",
      "/Users/rsaraiva/opt/anaconda3/envs/PARADISE/lib/python3.10/site-packages/numpy/lib/function_base.py:2854: RuntimeWarning: invalid value encountered in divide\n",
      "  c /= stddev[None, :]\n",
      "2023-07-18 23:00:53.117567: I tensorflow/core/grappler/optimizers/custom_graph_optimizer_registry.cc:114] Plugin optimizer for device_type GPU is enabled.\n"
     ]
    },
    {
     "name": "stdout",
     "output_type": "stream",
     "text": [
      "2/2 [==============================] - 3s 1s/step\n",
      "2/2 [==============================] - 0s 231ms/step\n"
     ]
    },
    {
     "name": "stderr",
     "output_type": "stream",
     "text": [
      "/Users/rsaraiva/opt/anaconda3/envs/PARADISE/lib/python3.10/site-packages/numpy/lib/function_base.py:2853: RuntimeWarning: invalid value encountered in divide\n",
      "  c /= stddev[:, None]\n",
      "/Users/rsaraiva/opt/anaconda3/envs/PARADISE/lib/python3.10/site-packages/numpy/lib/function_base.py:2854: RuntimeWarning: invalid value encountered in divide\n",
      "  c /= stddev[None, :]\n"
     ]
    },
    {
     "name": "stdout",
     "output_type": "stream",
     "text": [
      "2/2 [==============================] - 0s 242ms/step\n",
      "2/2 [==============================] - 0s 210ms/step\n"
     ]
    },
    {
     "name": "stderr",
     "output_type": "stream",
     "text": [
      "/Users/rsaraiva/opt/anaconda3/envs/PARADISE/lib/python3.10/site-packages/numpy/lib/function_base.py:2853: RuntimeWarning: invalid value encountered in divide\n",
      "  c /= stddev[:, None]\n",
      "/Users/rsaraiva/opt/anaconda3/envs/PARADISE/lib/python3.10/site-packages/numpy/lib/function_base.py:2854: RuntimeWarning: invalid value encountered in divide\n",
      "  c /= stddev[None, :]\n"
     ]
    },
    {
     "name": "stdout",
     "output_type": "stream",
     "text": [
      "2/2 [==============================] - 0s 126ms/step\n",
      "2/2 [==============================] - 0s 198ms/step\n",
      "1/2 [==============>...............] - ETA: 0s"
     ]
    },
    {
     "name": "stderr",
     "output_type": "stream",
     "text": [
      "/Users/rsaraiva/opt/anaconda3/envs/PARADISE/lib/python3.10/site-packages/numpy/lib/function_base.py:2853: RuntimeWarning: invalid value encountered in divide\n",
      "  c /= stddev[:, None]\n",
      "/Users/rsaraiva/opt/anaconda3/envs/PARADISE/lib/python3.10/site-packages/numpy/lib/function_base.py:2854: RuntimeWarning: invalid value encountered in divide\n",
      "  c /= stddev[None, :]\n"
     ]
    },
    {
     "name": "stdout",
     "output_type": "stream",
     "text": [
      "2/2 [==============================] - 0s 160ms/step\n",
      "2/2 [==============================] - 0s 131ms/step\n",
      "1/2 [==============>...............] - ETA: 0s"
     ]
    },
    {
     "name": "stderr",
     "output_type": "stream",
     "text": [
      "/Users/rsaraiva/opt/anaconda3/envs/PARADISE/lib/python3.10/site-packages/numpy/lib/function_base.py:2853: RuntimeWarning: invalid value encountered in divide\n",
      "  c /= stddev[:, None]\n",
      "/Users/rsaraiva/opt/anaconda3/envs/PARADISE/lib/python3.10/site-packages/numpy/lib/function_base.py:2854: RuntimeWarning: invalid value encountered in divide\n",
      "  c /= stddev[None, :]\n"
     ]
    },
    {
     "name": "stdout",
     "output_type": "stream",
     "text": [
      "2/2 [==============================] - 0s 110ms/step\n",
      "2/2 [==============================] - 0s 91ms/step\n",
      "1/2 [==============>...............] - ETA: 0s"
     ]
    },
    {
     "name": "stderr",
     "output_type": "stream",
     "text": [
      "/Users/rsaraiva/opt/anaconda3/envs/PARADISE/lib/python3.10/site-packages/numpy/lib/function_base.py:2853: RuntimeWarning: invalid value encountered in divide\n",
      "  c /= stddev[:, None]\n",
      "/Users/rsaraiva/opt/anaconda3/envs/PARADISE/lib/python3.10/site-packages/numpy/lib/function_base.py:2854: RuntimeWarning: invalid value encountered in divide\n",
      "  c /= stddev[None, :]\n"
     ]
    },
    {
     "name": "stdout",
     "output_type": "stream",
     "text": [
      "2/2 [==============================] - 0s 90ms/step\n",
      "2/2 [==============================] - 0s 67ms/step\n",
      "2/2 [==============================] - 0s 66ms/step\n",
      "2/2 [==============================] - 0s 98ms/step\n",
      "2/2 [==============================] - 0s 112ms/step\n",
      "2/2 [==============================] - 0s 110ms/step\n",
      "2/2 [==============================] - 0s 63ms/step\n"
     ]
    },
    {
     "name": "stderr",
     "output_type": "stream",
     "text": [
      "/Users/rsaraiva/opt/anaconda3/envs/PARADISE/lib/python3.10/site-packages/numpy/lib/function_base.py:2853: RuntimeWarning: invalid value encountered in divide\n",
      "  c /= stddev[:, None]\n",
      "/Users/rsaraiva/opt/anaconda3/envs/PARADISE/lib/python3.10/site-packages/numpy/lib/function_base.py:2854: RuntimeWarning: invalid value encountered in divide\n",
      "  c /= stddev[None, :]\n"
     ]
    },
    {
     "name": "stdout",
     "output_type": "stream",
     "text": [
      "2/2 [==============================] - 0s 100ms/step\n",
      "1/2 [==============>...............] - ETA: 0s"
     ]
    },
    {
     "name": "stderr",
     "output_type": "stream",
     "text": [
      "/Users/rsaraiva/opt/anaconda3/envs/PARADISE/lib/python3.10/site-packages/numpy/lib/function_base.py:2853: RuntimeWarning: invalid value encountered in divide\n",
      "  c /= stddev[:, None]\n",
      "/Users/rsaraiva/opt/anaconda3/envs/PARADISE/lib/python3.10/site-packages/numpy/lib/function_base.py:2854: RuntimeWarning: invalid value encountered in divide\n",
      "  c /= stddev[None, :]\n"
     ]
    },
    {
     "name": "stdout",
     "output_type": "stream",
     "text": [
      "2/2 [==============================] - 0s 101ms/step\n",
      "2/2 [==============================] - 0s 77ms/step\n",
      "2/2 [==============================] - 0s 60ms/step\n"
     ]
    },
    {
     "name": "stderr",
     "output_type": "stream",
     "text": [
      "/Users/rsaraiva/opt/anaconda3/envs/PARADISE/lib/python3.10/site-packages/numpy/lib/function_base.py:2853: RuntimeWarning: invalid value encountered in divide\n",
      "  c /= stddev[:, None]\n",
      "/Users/rsaraiva/opt/anaconda3/envs/PARADISE/lib/python3.10/site-packages/numpy/lib/function_base.py:2854: RuntimeWarning: invalid value encountered in divide\n",
      "  c /= stddev[None, :]\n"
     ]
    },
    {
     "name": "stdout",
     "output_type": "stream",
     "text": [
      "2/2 [==============================] - 0s 63ms/step\n",
      "2/2 [==============================] - 0s 60ms/step\n",
      "2/2 [==============================] - 0s 77ms/step\n",
      "2/2 [==============================] - 0s 66ms/step\n"
     ]
    },
    {
     "name": "stderr",
     "output_type": "stream",
     "text": [
      "/Users/rsaraiva/opt/anaconda3/envs/PARADISE/lib/python3.10/site-packages/numpy/lib/function_base.py:2853: RuntimeWarning: invalid value encountered in divide\n",
      "  c /= stddev[:, None]\n",
      "/Users/rsaraiva/opt/anaconda3/envs/PARADISE/lib/python3.10/site-packages/numpy/lib/function_base.py:2854: RuntimeWarning: invalid value encountered in divide\n",
      "  c /= stddev[None, :]\n"
     ]
    },
    {
     "name": "stdout",
     "output_type": "stream",
     "text": [
      "2/2 [==============================] - 0s 79ms/step\n"
     ]
    },
    {
     "name": "stderr",
     "output_type": "stream",
     "text": [
      "/Users/rsaraiva/opt/anaconda3/envs/PARADISE/lib/python3.10/site-packages/numpy/lib/function_base.py:2853: RuntimeWarning: invalid value encountered in divide\n",
      "  c /= stddev[:, None]\n",
      "/Users/rsaraiva/opt/anaconda3/envs/PARADISE/lib/python3.10/site-packages/numpy/lib/function_base.py:2854: RuntimeWarning: invalid value encountered in divide\n",
      "  c /= stddev[None, :]\n",
      "2023-07-18 23:01:06.140365: I tensorflow/core/grappler/optimizers/custom_graph_optimizer_registry.cc:114] Plugin optimizer for device_type GPU is enabled.\n"
     ]
    },
    {
     "name": "stdout",
     "output_type": "stream",
     "text": [
      "2/2 [==============================] - 3s 1s/step\n",
      "2/2 [==============================] - 0s 220ms/step\n"
     ]
    },
    {
     "name": "stderr",
     "output_type": "stream",
     "text": [
      "/Users/rsaraiva/opt/anaconda3/envs/PARADISE/lib/python3.10/site-packages/numpy/lib/function_base.py:2853: RuntimeWarning: invalid value encountered in divide\n",
      "  c /= stddev[:, None]\n",
      "/Users/rsaraiva/opt/anaconda3/envs/PARADISE/lib/python3.10/site-packages/numpy/lib/function_base.py:2854: RuntimeWarning: invalid value encountered in divide\n",
      "  c /= stddev[None, :]\n"
     ]
    },
    {
     "name": "stdout",
     "output_type": "stream",
     "text": [
      "2/2 [==============================] - 0s 188ms/step\n",
      "2/2 [==============================] - 0s 138ms/step\n"
     ]
    },
    {
     "name": "stderr",
     "output_type": "stream",
     "text": [
      "/Users/rsaraiva/opt/anaconda3/envs/PARADISE/lib/python3.10/site-packages/numpy/lib/function_base.py:2853: RuntimeWarning: invalid value encountered in divide\n",
      "  c /= stddev[:, None]\n",
      "/Users/rsaraiva/opt/anaconda3/envs/PARADISE/lib/python3.10/site-packages/numpy/lib/function_base.py:2854: RuntimeWarning: invalid value encountered in divide\n",
      "  c /= stddev[None, :]\n"
     ]
    },
    {
     "name": "stdout",
     "output_type": "stream",
     "text": [
      "2/2 [==============================] - 0s 202ms/step\n",
      "2/2 [==============================] - 0s 156ms/step\n"
     ]
    },
    {
     "name": "stderr",
     "output_type": "stream",
     "text": [
      "/Users/rsaraiva/opt/anaconda3/envs/PARADISE/lib/python3.10/site-packages/numpy/lib/function_base.py:2853: RuntimeWarning: invalid value encountered in divide\n",
      "  c /= stddev[:, None]\n",
      "/Users/rsaraiva/opt/anaconda3/envs/PARADISE/lib/python3.10/site-packages/numpy/lib/function_base.py:2854: RuntimeWarning: invalid value encountered in divide\n",
      "  c /= stddev[None, :]\n"
     ]
    },
    {
     "name": "stdout",
     "output_type": "stream",
     "text": [
      "2/2 [==============================] - 0s 227ms/step\n",
      "2/2 [==============================] - 0s 186ms/step\n",
      "1/2 [==============>...............] - ETA: 0s"
     ]
    },
    {
     "name": "stderr",
     "output_type": "stream",
     "text": [
      "/Users/rsaraiva/opt/anaconda3/envs/PARADISE/lib/python3.10/site-packages/numpy/lib/function_base.py:2853: RuntimeWarning: invalid value encountered in divide\n",
      "  c /= stddev[:, None]\n",
      "/Users/rsaraiva/opt/anaconda3/envs/PARADISE/lib/python3.10/site-packages/numpy/lib/function_base.py:2854: RuntimeWarning: invalid value encountered in divide\n",
      "  c /= stddev[None, :]\n"
     ]
    },
    {
     "name": "stdout",
     "output_type": "stream",
     "text": [
      "2/2 [==============================] - 0s 137ms/step\n",
      "2/2 [==============================] - 0s 79ms/step\n",
      "1/2 [==============>...............] - ETA: 0s"
     ]
    },
    {
     "name": "stderr",
     "output_type": "stream",
     "text": [
      "/Users/rsaraiva/opt/anaconda3/envs/PARADISE/lib/python3.10/site-packages/numpy/lib/function_base.py:2853: RuntimeWarning: invalid value encountered in divide\n",
      "  c /= stddev[:, None]\n",
      "/Users/rsaraiva/opt/anaconda3/envs/PARADISE/lib/python3.10/site-packages/numpy/lib/function_base.py:2854: RuntimeWarning: invalid value encountered in divide\n",
      "  c /= stddev[None, :]\n"
     ]
    },
    {
     "name": "stdout",
     "output_type": "stream",
     "text": [
      "2/2 [==============================] - 0s 93ms/step\n",
      "2/2 [==============================] - 0s 59ms/step\n",
      "2/2 [==============================] - 0s 97ms/step\n",
      "2/2 [==============================] - 0s 75ms/step\n",
      "2/2 [==============================] - 0s 116ms/step\n",
      "2/2 [==============================] - 0s 70ms/step\n",
      "1/2 [==============>...............] - ETA: 0s"
     ]
    },
    {
     "name": "stderr",
     "output_type": "stream",
     "text": [
      "/Users/rsaraiva/opt/anaconda3/envs/PARADISE/lib/python3.10/site-packages/numpy/lib/function_base.py:2853: RuntimeWarning: invalid value encountered in divide\n",
      "  c /= stddev[:, None]\n",
      "/Users/rsaraiva/opt/anaconda3/envs/PARADISE/lib/python3.10/site-packages/numpy/lib/function_base.py:2854: RuntimeWarning: invalid value encountered in divide\n",
      "  c /= stddev[None, :]\n"
     ]
    },
    {
     "name": "stdout",
     "output_type": "stream",
     "text": [
      "2/2 [==============================] - 0s 102ms/step\n",
      "2/2 [==============================] - 0s 71ms/step\n",
      "2/2 [==============================] - 0s 73ms/step\n"
     ]
    },
    {
     "name": "stderr",
     "output_type": "stream",
     "text": [
      "/Users/rsaraiva/opt/anaconda3/envs/PARADISE/lib/python3.10/site-packages/numpy/lib/function_base.py:2853: RuntimeWarning: invalid value encountered in divide\n",
      "  c /= stddev[:, None]\n",
      "/Users/rsaraiva/opt/anaconda3/envs/PARADISE/lib/python3.10/site-packages/numpy/lib/function_base.py:2854: RuntimeWarning: invalid value encountered in divide\n",
      "  c /= stddev[None, :]\n"
     ]
    },
    {
     "name": "stdout",
     "output_type": "stream",
     "text": [
      "2/2 [==============================] - 0s 93ms/step\n",
      "2/2 [==============================] - 0s 73ms/step\n"
     ]
    },
    {
     "name": "stderr",
     "output_type": "stream",
     "text": [
      "/Users/rsaraiva/opt/anaconda3/envs/PARADISE/lib/python3.10/site-packages/numpy/lib/function_base.py:2853: RuntimeWarning: invalid value encountered in divide\n",
      "  c /= stddev[:, None]\n",
      "/Users/rsaraiva/opt/anaconda3/envs/PARADISE/lib/python3.10/site-packages/numpy/lib/function_base.py:2854: RuntimeWarning: invalid value encountered in divide\n",
      "  c /= stddev[None, :]\n"
     ]
    },
    {
     "name": "stdout",
     "output_type": "stream",
     "text": [
      "2/2 [==============================] - 0s 75ms/step\n",
      "2/2 [==============================] - 0s 72ms/step\n",
      "2/2 [==============================] - 0s 57ms/step\n",
      "2/2 [==============================] - 0s 55ms/step\n"
     ]
    },
    {
     "name": "stderr",
     "output_type": "stream",
     "text": [
      "/Users/rsaraiva/opt/anaconda3/envs/PARADISE/lib/python3.10/site-packages/numpy/lib/function_base.py:2853: RuntimeWarning: invalid value encountered in divide\n",
      "  c /= stddev[:, None]\n",
      "/Users/rsaraiva/opt/anaconda3/envs/PARADISE/lib/python3.10/site-packages/numpy/lib/function_base.py:2854: RuntimeWarning: invalid value encountered in divide\n",
      "  c /= stddev[None, :]\n"
     ]
    },
    {
     "name": "stdout",
     "output_type": "stream",
     "text": [
      "2/2 [==============================] - 0s 63ms/step\n"
     ]
    },
    {
     "name": "stderr",
     "output_type": "stream",
     "text": [
      "/Users/rsaraiva/opt/anaconda3/envs/PARADISE/lib/python3.10/site-packages/numpy/lib/function_base.py:2853: RuntimeWarning: invalid value encountered in divide\n",
      "  c /= stddev[:, None]\n",
      "/Users/rsaraiva/opt/anaconda3/envs/PARADISE/lib/python3.10/site-packages/numpy/lib/function_base.py:2854: RuntimeWarning: invalid value encountered in divide\n",
      "  c /= stddev[None, :]\n",
      "2023-07-18 23:01:19.946193: I tensorflow/core/grappler/optimizers/custom_graph_optimizer_registry.cc:114] Plugin optimizer for device_type GPU is enabled.\n"
     ]
    },
    {
     "name": "stdout",
     "output_type": "stream",
     "text": [
      "2/2 [==============================] - 3s 1s/step\n",
      "2/2 [==============================] - 1s 256ms/step\n"
     ]
    },
    {
     "name": "stderr",
     "output_type": "stream",
     "text": [
      "/Users/rsaraiva/opt/anaconda3/envs/PARADISE/lib/python3.10/site-packages/numpy/lib/function_base.py:2853: RuntimeWarning: invalid value encountered in divide\n",
      "  c /= stddev[:, None]\n",
      "/Users/rsaraiva/opt/anaconda3/envs/PARADISE/lib/python3.10/site-packages/numpy/lib/function_base.py:2854: RuntimeWarning: invalid value encountered in divide\n",
      "  c /= stddev[None, :]\n"
     ]
    },
    {
     "name": "stdout",
     "output_type": "stream",
     "text": [
      "2/2 [==============================] - 0s 212ms/step\n",
      "2/2 [==============================] - 0s 131ms/step\n"
     ]
    },
    {
     "name": "stderr",
     "output_type": "stream",
     "text": [
      "/Users/rsaraiva/opt/anaconda3/envs/PARADISE/lib/python3.10/site-packages/numpy/lib/function_base.py:2853: RuntimeWarning: invalid value encountered in divide\n",
      "  c /= stddev[:, None]\n",
      "/Users/rsaraiva/opt/anaconda3/envs/PARADISE/lib/python3.10/site-packages/numpy/lib/function_base.py:2854: RuntimeWarning: invalid value encountered in divide\n",
      "  c /= stddev[None, :]\n"
     ]
    },
    {
     "name": "stdout",
     "output_type": "stream",
     "text": [
      "2/2 [==============================] - 0s 119ms/step\n",
      "2/2 [==============================] - 0s 120ms/step\n",
      "1/2 [==============>...............] - ETA: 0s"
     ]
    },
    {
     "name": "stderr",
     "output_type": "stream",
     "text": [
      "/Users/rsaraiva/opt/anaconda3/envs/PARADISE/lib/python3.10/site-packages/numpy/lib/function_base.py:2853: RuntimeWarning: invalid value encountered in divide\n",
      "  c /= stddev[:, None]\n",
      "/Users/rsaraiva/opt/anaconda3/envs/PARADISE/lib/python3.10/site-packages/numpy/lib/function_base.py:2854: RuntimeWarning: invalid value encountered in divide\n",
      "  c /= stddev[None, :]\n"
     ]
    },
    {
     "name": "stdout",
     "output_type": "stream",
     "text": [
      "2/2 [==============================] - 0s 136ms/step\n",
      "2/2 [==============================] - 0s 123ms/step\n",
      "1/2 [==============>...............] - ETA: 0s"
     ]
    },
    {
     "name": "stderr",
     "output_type": "stream",
     "text": [
      "/Users/rsaraiva/opt/anaconda3/envs/PARADISE/lib/python3.10/site-packages/numpy/lib/function_base.py:2853: RuntimeWarning: invalid value encountered in divide\n",
      "  c /= stddev[:, None]\n",
      "/Users/rsaraiva/opt/anaconda3/envs/PARADISE/lib/python3.10/site-packages/numpy/lib/function_base.py:2854: RuntimeWarning: invalid value encountered in divide\n",
      "  c /= stddev[None, :]\n"
     ]
    },
    {
     "name": "stdout",
     "output_type": "stream",
     "text": [
      "2/2 [==============================] - 0s 94ms/step\n",
      "2/2 [==============================] - 0s 151ms/step\n",
      "1/2 [==============>...............] - ETA: 0s"
     ]
    },
    {
     "name": "stderr",
     "output_type": "stream",
     "text": [
      "/Users/rsaraiva/opt/anaconda3/envs/PARADISE/lib/python3.10/site-packages/numpy/lib/function_base.py:2853: RuntimeWarning: invalid value encountered in divide\n",
      "  c /= stddev[:, None]\n",
      "/Users/rsaraiva/opt/anaconda3/envs/PARADISE/lib/python3.10/site-packages/numpy/lib/function_base.py:2854: RuntimeWarning: invalid value encountered in divide\n",
      "  c /= stddev[None, :]\n"
     ]
    },
    {
     "name": "stdout",
     "output_type": "stream",
     "text": [
      "2/2 [==============================] - 0s 133ms/step\n",
      "2/2 [==============================] - 0s 89ms/step\n",
      "2/2 [==============================] - 0s 90ms/step\n",
      "2/2 [==============================] - 0s 98ms/step\n",
      "2/2 [==============================] - 0s 101ms/step\n",
      "2/2 [==============================] - 0s 61ms/step\n",
      "1/2 [==============>...............] - ETA: 0s"
     ]
    },
    {
     "name": "stderr",
     "output_type": "stream",
     "text": [
      "/Users/rsaraiva/opt/anaconda3/envs/PARADISE/lib/python3.10/site-packages/numpy/lib/function_base.py:2853: RuntimeWarning: invalid value encountered in divide\n",
      "  c /= stddev[:, None]\n",
      "/Users/rsaraiva/opt/anaconda3/envs/PARADISE/lib/python3.10/site-packages/numpy/lib/function_base.py:2854: RuntimeWarning: invalid value encountered in divide\n",
      "  c /= stddev[None, :]\n"
     ]
    },
    {
     "name": "stdout",
     "output_type": "stream",
     "text": [
      "2/2 [==============================] - 0s 93ms/step\n",
      "2/2 [==============================] - 0s 102ms/step\n",
      "2/2 [==============================] - 0s 70ms/step\n"
     ]
    },
    {
     "name": "stderr",
     "output_type": "stream",
     "text": [
      "/Users/rsaraiva/opt/anaconda3/envs/PARADISE/lib/python3.10/site-packages/numpy/lib/function_base.py:2853: RuntimeWarning: invalid value encountered in divide\n",
      "  c /= stddev[:, None]\n",
      "/Users/rsaraiva/opt/anaconda3/envs/PARADISE/lib/python3.10/site-packages/numpy/lib/function_base.py:2854: RuntimeWarning: invalid value encountered in divide\n",
      "  c /= stddev[None, :]\n"
     ]
    },
    {
     "name": "stdout",
     "output_type": "stream",
     "text": [
      "2/2 [==============================] - 0s 54ms/step\n",
      "2/2 [==============================] - 0s 71ms/step\n"
     ]
    },
    {
     "name": "stderr",
     "output_type": "stream",
     "text": [
      "/Users/rsaraiva/opt/anaconda3/envs/PARADISE/lib/python3.10/site-packages/numpy/lib/function_base.py:2853: RuntimeWarning: invalid value encountered in divide\n",
      "  c /= stddev[:, None]\n",
      "/Users/rsaraiva/opt/anaconda3/envs/PARADISE/lib/python3.10/site-packages/numpy/lib/function_base.py:2854: RuntimeWarning: invalid value encountered in divide\n",
      "  c /= stddev[None, :]\n"
     ]
    },
    {
     "name": "stdout",
     "output_type": "stream",
     "text": [
      "2/2 [==============================] - 0s 66ms/step\n",
      "2/2 [==============================] - 0s 72ms/step\n",
      "2/2 [==============================] - 0s 52ms/step\n",
      "2/2 [==============================] - 0s 68ms/step\n"
     ]
    },
    {
     "name": "stderr",
     "output_type": "stream",
     "text": [
      "/Users/rsaraiva/opt/anaconda3/envs/PARADISE/lib/python3.10/site-packages/numpy/lib/function_base.py:2853: RuntimeWarning: invalid value encountered in divide\n",
      "  c /= stddev[:, None]\n",
      "/Users/rsaraiva/opt/anaconda3/envs/PARADISE/lib/python3.10/site-packages/numpy/lib/function_base.py:2854: RuntimeWarning: invalid value encountered in divide\n",
      "  c /= stddev[None, :]\n"
     ]
    },
    {
     "name": "stdout",
     "output_type": "stream",
     "text": [
      "2/2 [==============================] - 0s 54ms/step\n"
     ]
    },
    {
     "name": "stderr",
     "output_type": "stream",
     "text": [
      "/Users/rsaraiva/opt/anaconda3/envs/PARADISE/lib/python3.10/site-packages/numpy/lib/function_base.py:2853: RuntimeWarning: invalid value encountered in divide\n",
      "  c /= stddev[:, None]\n",
      "/Users/rsaraiva/opt/anaconda3/envs/PARADISE/lib/python3.10/site-packages/numpy/lib/function_base.py:2854: RuntimeWarning: invalid value encountered in divide\n",
      "  c /= stddev[None, :]\n",
      "2023-07-18 23:01:32.673793: I tensorflow/core/grappler/optimizers/custom_graph_optimizer_registry.cc:114] Plugin optimizer for device_type GPU is enabled.\n"
     ]
    },
    {
     "name": "stdout",
     "output_type": "stream",
     "text": [
      "2/2 [==============================] - 3s 1s/step\n",
      "2/2 [==============================] - 0s 234ms/step\n"
     ]
    },
    {
     "name": "stderr",
     "output_type": "stream",
     "text": [
      "/Users/rsaraiva/opt/anaconda3/envs/PARADISE/lib/python3.10/site-packages/numpy/lib/function_base.py:2853: RuntimeWarning: invalid value encountered in divide\n",
      "  c /= stddev[:, None]\n",
      "/Users/rsaraiva/opt/anaconda3/envs/PARADISE/lib/python3.10/site-packages/numpy/lib/function_base.py:2854: RuntimeWarning: invalid value encountered in divide\n",
      "  c /= stddev[None, :]\n"
     ]
    },
    {
     "name": "stdout",
     "output_type": "stream",
     "text": [
      "2/2 [==============================] - 0s 174ms/step\n",
      "2/2 [==============================] - 0s 235ms/step\n"
     ]
    },
    {
     "name": "stderr",
     "output_type": "stream",
     "text": [
      "/Users/rsaraiva/opt/anaconda3/envs/PARADISE/lib/python3.10/site-packages/numpy/lib/function_base.py:2853: RuntimeWarning: invalid value encountered in divide\n",
      "  c /= stddev[:, None]\n",
      "/Users/rsaraiva/opt/anaconda3/envs/PARADISE/lib/python3.10/site-packages/numpy/lib/function_base.py:2854: RuntimeWarning: invalid value encountered in divide\n",
      "  c /= stddev[None, :]\n"
     ]
    },
    {
     "name": "stdout",
     "output_type": "stream",
     "text": [
      "2/2 [==============================] - 0s 188ms/step\n",
      "2/2 [==============================] - 0s 113ms/step\n",
      "1/2 [==============>...............] - ETA: 0s"
     ]
    },
    {
     "name": "stderr",
     "output_type": "stream",
     "text": [
      "/Users/rsaraiva/opt/anaconda3/envs/PARADISE/lib/python3.10/site-packages/numpy/lib/function_base.py:2853: RuntimeWarning: invalid value encountered in divide\n",
      "  c /= stddev[:, None]\n",
      "/Users/rsaraiva/opt/anaconda3/envs/PARADISE/lib/python3.10/site-packages/numpy/lib/function_base.py:2854: RuntimeWarning: invalid value encountered in divide\n",
      "  c /= stddev[None, :]\n"
     ]
    },
    {
     "name": "stdout",
     "output_type": "stream",
     "text": [
      "2/2 [==============================] - 0s 127ms/step\n",
      "2/2 [==============================] - 0s 144ms/step\n",
      "1/2 [==============>...............] - ETA: 0s"
     ]
    },
    {
     "name": "stderr",
     "output_type": "stream",
     "text": [
      "/Users/rsaraiva/opt/anaconda3/envs/PARADISE/lib/python3.10/site-packages/numpy/lib/function_base.py:2853: RuntimeWarning: invalid value encountered in divide\n",
      "  c /= stddev[:, None]\n",
      "/Users/rsaraiva/opt/anaconda3/envs/PARADISE/lib/python3.10/site-packages/numpy/lib/function_base.py:2854: RuntimeWarning: invalid value encountered in divide\n",
      "  c /= stddev[None, :]\n"
     ]
    },
    {
     "name": "stdout",
     "output_type": "stream",
     "text": [
      "2/2 [==============================] - 0s 165ms/step\n",
      "2/2 [==============================] - 0s 106ms/step\n",
      "1/2 [==============>...............] - ETA: 0s"
     ]
    },
    {
     "name": "stderr",
     "output_type": "stream",
     "text": [
      "/Users/rsaraiva/opt/anaconda3/envs/PARADISE/lib/python3.10/site-packages/numpy/lib/function_base.py:2853: RuntimeWarning: invalid value encountered in divide\n",
      "  c /= stddev[:, None]\n",
      "/Users/rsaraiva/opt/anaconda3/envs/PARADISE/lib/python3.10/site-packages/numpy/lib/function_base.py:2854: RuntimeWarning: invalid value encountered in divide\n",
      "  c /= stddev[None, :]\n"
     ]
    },
    {
     "name": "stdout",
     "output_type": "stream",
     "text": [
      "2/2 [==============================] - 0s 69ms/step\n",
      "2/2 [==============================] - 0s 94ms/step\n",
      "2/2 [==============================] - 0s 73ms/step\n",
      "2/2 [==============================] - 0s 127ms/step\n",
      "2/2 [==============================] - 0s 73ms/step\n",
      "2/2 [==============================] - 0s 80ms/step\n",
      "1/2 [==============>...............] - ETA: 0s"
     ]
    },
    {
     "name": "stderr",
     "output_type": "stream",
     "text": [
      "/Users/rsaraiva/opt/anaconda3/envs/PARADISE/lib/python3.10/site-packages/numpy/lib/function_base.py:2853: RuntimeWarning: invalid value encountered in divide\n",
      "  c /= stddev[:, None]\n",
      "/Users/rsaraiva/opt/anaconda3/envs/PARADISE/lib/python3.10/site-packages/numpy/lib/function_base.py:2854: RuntimeWarning: invalid value encountered in divide\n",
      "  c /= stddev[None, :]\n"
     ]
    },
    {
     "name": "stdout",
     "output_type": "stream",
     "text": [
      "2/2 [==============================] - 0s 56ms/step\n",
      "2/2 [==============================] - 0s 71ms/step\n",
      "2/2 [==============================] - 0s 53ms/step\n"
     ]
    },
    {
     "name": "stderr",
     "output_type": "stream",
     "text": [
      "/Users/rsaraiva/opt/anaconda3/envs/PARADISE/lib/python3.10/site-packages/numpy/lib/function_base.py:2853: RuntimeWarning: invalid value encountered in divide\n",
      "  c /= stddev[:, None]\n",
      "/Users/rsaraiva/opt/anaconda3/envs/PARADISE/lib/python3.10/site-packages/numpy/lib/function_base.py:2854: RuntimeWarning: invalid value encountered in divide\n",
      "  c /= stddev[None, :]\n"
     ]
    },
    {
     "name": "stdout",
     "output_type": "stream",
     "text": [
      "2/2 [==============================] - 0s 54ms/step\n",
      "2/2 [==============================] - 0s 63ms/step\n"
     ]
    },
    {
     "name": "stderr",
     "output_type": "stream",
     "text": [
      "/Users/rsaraiva/opt/anaconda3/envs/PARADISE/lib/python3.10/site-packages/numpy/lib/function_base.py:2853: RuntimeWarning: invalid value encountered in divide\n",
      "  c /= stddev[:, None]\n",
      "/Users/rsaraiva/opt/anaconda3/envs/PARADISE/lib/python3.10/site-packages/numpy/lib/function_base.py:2854: RuntimeWarning: invalid value encountered in divide\n",
      "  c /= stddev[None, :]\n"
     ]
    },
    {
     "name": "stdout",
     "output_type": "stream",
     "text": [
      "2/2 [==============================] - 0s 54ms/step\n",
      "2/2 [==============================] - 0s 70ms/step\n",
      "2/2 [==============================] - 0s 59ms/step\n",
      "2/2 [==============================] - 0s 56ms/step\n"
     ]
    },
    {
     "name": "stderr",
     "output_type": "stream",
     "text": [
      "/Users/rsaraiva/opt/anaconda3/envs/PARADISE/lib/python3.10/site-packages/numpy/lib/function_base.py:2853: RuntimeWarning: invalid value encountered in divide\n",
      "  c /= stddev[:, None]\n",
      "/Users/rsaraiva/opt/anaconda3/envs/PARADISE/lib/python3.10/site-packages/numpy/lib/function_base.py:2854: RuntimeWarning: invalid value encountered in divide\n",
      "  c /= stddev[None, :]\n"
     ]
    },
    {
     "name": "stdout",
     "output_type": "stream",
     "text": [
      "2/2 [==============================] - 0s 55ms/step\n"
     ]
    },
    {
     "name": "stderr",
     "output_type": "stream",
     "text": [
      "/Users/rsaraiva/opt/anaconda3/envs/PARADISE/lib/python3.10/site-packages/numpy/lib/function_base.py:2853: RuntimeWarning: invalid value encountered in divide\n",
      "  c /= stddev[:, None]\n",
      "/Users/rsaraiva/opt/anaconda3/envs/PARADISE/lib/python3.10/site-packages/numpy/lib/function_base.py:2854: RuntimeWarning: invalid value encountered in divide\n",
      "  c /= stddev[None, :]\n",
      "2023-07-18 23:01:45.223387: I tensorflow/core/grappler/optimizers/custom_graph_optimizer_registry.cc:114] Plugin optimizer for device_type GPU is enabled.\n"
     ]
    },
    {
     "name": "stdout",
     "output_type": "stream",
     "text": [
      "2/2 [==============================] - 3s 1s/step\n",
      "2/2 [==============================] - 0s 181ms/step\n"
     ]
    },
    {
     "name": "stderr",
     "output_type": "stream",
     "text": [
      "/Users/rsaraiva/opt/anaconda3/envs/PARADISE/lib/python3.10/site-packages/numpy/lib/function_base.py:2853: RuntimeWarning: invalid value encountered in divide\n",
      "  c /= stddev[:, None]\n",
      "/Users/rsaraiva/opt/anaconda3/envs/PARADISE/lib/python3.10/site-packages/numpy/lib/function_base.py:2854: RuntimeWarning: invalid value encountered in divide\n",
      "  c /= stddev[None, :]\n"
     ]
    },
    {
     "name": "stdout",
     "output_type": "stream",
     "text": [
      "2/2 [==============================] - 0s 167ms/step\n",
      "2/2 [==============================] - 1s 247ms/step\n"
     ]
    },
    {
     "name": "stderr",
     "output_type": "stream",
     "text": [
      "/Users/rsaraiva/opt/anaconda3/envs/PARADISE/lib/python3.10/site-packages/numpy/lib/function_base.py:2853: RuntimeWarning: invalid value encountered in divide\n",
      "  c /= stddev[:, None]\n",
      "/Users/rsaraiva/opt/anaconda3/envs/PARADISE/lib/python3.10/site-packages/numpy/lib/function_base.py:2854: RuntimeWarning: invalid value encountered in divide\n",
      "  c /= stddev[None, :]\n"
     ]
    },
    {
     "name": "stdout",
     "output_type": "stream",
     "text": [
      "2/2 [==============================] - 0s 208ms/step\n",
      "2/2 [==============================] - 0s 155ms/step\n",
      "1/2 [==============>...............] - ETA: 0s"
     ]
    },
    {
     "name": "stderr",
     "output_type": "stream",
     "text": [
      "/Users/rsaraiva/opt/anaconda3/envs/PARADISE/lib/python3.10/site-packages/numpy/lib/function_base.py:2853: RuntimeWarning: invalid value encountered in divide\n",
      "  c /= stddev[:, None]\n",
      "/Users/rsaraiva/opt/anaconda3/envs/PARADISE/lib/python3.10/site-packages/numpy/lib/function_base.py:2854: RuntimeWarning: invalid value encountered in divide\n",
      "  c /= stddev[None, :]\n"
     ]
    },
    {
     "name": "stdout",
     "output_type": "stream",
     "text": [
      "2/2 [==============================] - 0s 134ms/step\n",
      "2/2 [==============================] - 0s 120ms/step\n"
     ]
    },
    {
     "name": "stderr",
     "output_type": "stream",
     "text": [
      "/Users/rsaraiva/opt/anaconda3/envs/PARADISE/lib/python3.10/site-packages/numpy/lib/function_base.py:2853: RuntimeWarning: invalid value encountered in divide\n",
      "  c /= stddev[:, None]\n",
      "/Users/rsaraiva/opt/anaconda3/envs/PARADISE/lib/python3.10/site-packages/numpy/lib/function_base.py:2854: RuntimeWarning: invalid value encountered in divide\n",
      "  c /= stddev[None, :]\n"
     ]
    },
    {
     "name": "stdout",
     "output_type": "stream",
     "text": [
      "2/2 [==============================] - 0s 202ms/step\n",
      "2/2 [==============================] - 0s 82ms/step\n",
      "1/2 [==============>...............] - ETA: 0s"
     ]
    },
    {
     "name": "stderr",
     "output_type": "stream",
     "text": [
      "/Users/rsaraiva/opt/anaconda3/envs/PARADISE/lib/python3.10/site-packages/numpy/lib/function_base.py:2853: RuntimeWarning: invalid value encountered in divide\n",
      "  c /= stddev[:, None]\n",
      "/Users/rsaraiva/opt/anaconda3/envs/PARADISE/lib/python3.10/site-packages/numpy/lib/function_base.py:2854: RuntimeWarning: invalid value encountered in divide\n",
      "  c /= stddev[None, :]\n"
     ]
    },
    {
     "name": "stdout",
     "output_type": "stream",
     "text": [
      "2/2 [==============================] - 0s 118ms/step\n",
      "2/2 [==============================] - 0s 183ms/step\n",
      "2/2 [==============================] - 0s 117ms/step\n",
      "2/2 [==============================] - 0s 108ms/step\n",
      "2/2 [==============================] - 0s 68ms/step\n",
      "2/2 [==============================] - 0s 101ms/step\n",
      "1/2 [==============>...............] - ETA: 0s"
     ]
    },
    {
     "name": "stderr",
     "output_type": "stream",
     "text": [
      "/Users/rsaraiva/opt/anaconda3/envs/PARADISE/lib/python3.10/site-packages/numpy/lib/function_base.py:2853: RuntimeWarning: invalid value encountered in divide\n",
      "  c /= stddev[:, None]\n",
      "/Users/rsaraiva/opt/anaconda3/envs/PARADISE/lib/python3.10/site-packages/numpy/lib/function_base.py:2854: RuntimeWarning: invalid value encountered in divide\n",
      "  c /= stddev[None, :]\n"
     ]
    },
    {
     "name": "stdout",
     "output_type": "stream",
     "text": [
      "2/2 [==============================] - 0s 86ms/step\n",
      "2/2 [==============================] - 0s 86ms/step\n",
      "2/2 [==============================] - 0s 76ms/step\n"
     ]
    },
    {
     "name": "stderr",
     "output_type": "stream",
     "text": [
      "/Users/rsaraiva/opt/anaconda3/envs/PARADISE/lib/python3.10/site-packages/numpy/lib/function_base.py:2853: RuntimeWarning: invalid value encountered in divide\n",
      "  c /= stddev[:, None]\n",
      "/Users/rsaraiva/opt/anaconda3/envs/PARADISE/lib/python3.10/site-packages/numpy/lib/function_base.py:2854: RuntimeWarning: invalid value encountered in divide\n",
      "  c /= stddev[None, :]\n"
     ]
    },
    {
     "name": "stdout",
     "output_type": "stream",
     "text": [
      "2/2 [==============================] - 0s 59ms/step\n",
      "2/2 [==============================] - 0s 91ms/step\n"
     ]
    },
    {
     "name": "stderr",
     "output_type": "stream",
     "text": [
      "/Users/rsaraiva/opt/anaconda3/envs/PARADISE/lib/python3.10/site-packages/numpy/lib/function_base.py:2853: RuntimeWarning: invalid value encountered in divide\n",
      "  c /= stddev[:, None]\n",
      "/Users/rsaraiva/opt/anaconda3/envs/PARADISE/lib/python3.10/site-packages/numpy/lib/function_base.py:2854: RuntimeWarning: invalid value encountered in divide\n",
      "  c /= stddev[None, :]\n"
     ]
    },
    {
     "name": "stdout",
     "output_type": "stream",
     "text": [
      "2/2 [==============================] - 0s 91ms/step\n",
      "2/2 [==============================] - 0s 60ms/step\n",
      "2/2 [==============================] - 0s 68ms/step\n",
      "2/2 [==============================] - 0s 68ms/step\n"
     ]
    },
    {
     "name": "stderr",
     "output_type": "stream",
     "text": [
      "/Users/rsaraiva/opt/anaconda3/envs/PARADISE/lib/python3.10/site-packages/numpy/lib/function_base.py:2853: RuntimeWarning: invalid value encountered in divide\n",
      "  c /= stddev[:, None]\n",
      "/Users/rsaraiva/opt/anaconda3/envs/PARADISE/lib/python3.10/site-packages/numpy/lib/function_base.py:2854: RuntimeWarning: invalid value encountered in divide\n",
      "  c /= stddev[None, :]\n"
     ]
    },
    {
     "name": "stdout",
     "output_type": "stream",
     "text": [
      "2/2 [==============================] - 0s 53ms/step\n"
     ]
    },
    {
     "name": "stderr",
     "output_type": "stream",
     "text": [
      "/Users/rsaraiva/opt/anaconda3/envs/PARADISE/lib/python3.10/site-packages/numpy/lib/function_base.py:2853: RuntimeWarning: invalid value encountered in divide\n",
      "  c /= stddev[:, None]\n",
      "/Users/rsaraiva/opt/anaconda3/envs/PARADISE/lib/python3.10/site-packages/numpy/lib/function_base.py:2854: RuntimeWarning: invalid value encountered in divide\n",
      "  c /= stddev[None, :]\n",
      "2023-07-18 23:01:59.403568: I tensorflow/core/grappler/optimizers/custom_graph_optimizer_registry.cc:114] Plugin optimizer for device_type GPU is enabled.\n"
     ]
    },
    {
     "name": "stdout",
     "output_type": "stream",
     "text": [
      "2/2 [==============================] - 3s 1s/step\n",
      "2/2 [==============================] - 1s 275ms/step\n"
     ]
    },
    {
     "name": "stderr",
     "output_type": "stream",
     "text": [
      "/Users/rsaraiva/opt/anaconda3/envs/PARADISE/lib/python3.10/site-packages/numpy/lib/function_base.py:2853: RuntimeWarning: invalid value encountered in divide\n",
      "  c /= stddev[:, None]\n",
      "/Users/rsaraiva/opt/anaconda3/envs/PARADISE/lib/python3.10/site-packages/numpy/lib/function_base.py:2854: RuntimeWarning: invalid value encountered in divide\n",
      "  c /= stddev[None, :]\n"
     ]
    },
    {
     "name": "stdout",
     "output_type": "stream",
     "text": [
      "2/2 [==============================] - 0s 238ms/step\n",
      "2/2 [==============================] - 0s 233ms/step\n"
     ]
    },
    {
     "name": "stderr",
     "output_type": "stream",
     "text": [
      "/Users/rsaraiva/opt/anaconda3/envs/PARADISE/lib/python3.10/site-packages/numpy/lib/function_base.py:2853: RuntimeWarning: invalid value encountered in divide\n",
      "  c /= stddev[:, None]\n",
      "/Users/rsaraiva/opt/anaconda3/envs/PARADISE/lib/python3.10/site-packages/numpy/lib/function_base.py:2854: RuntimeWarning: invalid value encountered in divide\n",
      "  c /= stddev[None, :]\n"
     ]
    },
    {
     "name": "stdout",
     "output_type": "stream",
     "text": [
      "2/2 [==============================] - 0s 222ms/step\n",
      "2/2 [==============================] - 0s 112ms/step\n"
     ]
    },
    {
     "name": "stderr",
     "output_type": "stream",
     "text": [
      "/Users/rsaraiva/opt/anaconda3/envs/PARADISE/lib/python3.10/site-packages/numpy/lib/function_base.py:2853: RuntimeWarning: invalid value encountered in divide\n",
      "  c /= stddev[:, None]\n",
      "/Users/rsaraiva/opt/anaconda3/envs/PARADISE/lib/python3.10/site-packages/numpy/lib/function_base.py:2854: RuntimeWarning: invalid value encountered in divide\n",
      "  c /= stddev[None, :]\n"
     ]
    },
    {
     "name": "stdout",
     "output_type": "stream",
     "text": [
      "2/2 [==============================] - 0s 193ms/step\n",
      "2/2 [==============================] - 0s 107ms/step\n",
      "1/2 [==============>...............] - ETA: 0s"
     ]
    },
    {
     "name": "stderr",
     "output_type": "stream",
     "text": [
      "/Users/rsaraiva/opt/anaconda3/envs/PARADISE/lib/python3.10/site-packages/numpy/lib/function_base.py:2853: RuntimeWarning: invalid value encountered in divide\n",
      "  c /= stddev[:, None]\n",
      "/Users/rsaraiva/opt/anaconda3/envs/PARADISE/lib/python3.10/site-packages/numpy/lib/function_base.py:2854: RuntimeWarning: invalid value encountered in divide\n",
      "  c /= stddev[None, :]\n"
     ]
    },
    {
     "name": "stdout",
     "output_type": "stream",
     "text": [
      "2/2 [==============================] - 0s 86ms/step\n",
      "2/2 [==============================] - 0s 127ms/step\n",
      "1/2 [==============>...............] - ETA: 0s"
     ]
    },
    {
     "name": "stderr",
     "output_type": "stream",
     "text": [
      "/Users/rsaraiva/opt/anaconda3/envs/PARADISE/lib/python3.10/site-packages/numpy/lib/function_base.py:2853: RuntimeWarning: invalid value encountered in divide\n",
      "  c /= stddev[:, None]\n",
      "/Users/rsaraiva/opt/anaconda3/envs/PARADISE/lib/python3.10/site-packages/numpy/lib/function_base.py:2854: RuntimeWarning: invalid value encountered in divide\n",
      "  c /= stddev[None, :]\n"
     ]
    },
    {
     "name": "stdout",
     "output_type": "stream",
     "text": [
      "2/2 [==============================] - 0s 126ms/step\n",
      "2/2 [==============================] - 0s 128ms/step\n",
      "2/2 [==============================] - 0s 100ms/step\n",
      "2/2 [==============================] - 0s 144ms/step\n",
      "2/2 [==============================] - 0s 87ms/step\n",
      "2/2 [==============================] - 0s 153ms/step\n",
      "1/2 [==============>...............] - ETA: 0s"
     ]
    },
    {
     "name": "stderr",
     "output_type": "stream",
     "text": [
      "/Users/rsaraiva/opt/anaconda3/envs/PARADISE/lib/python3.10/site-packages/numpy/lib/function_base.py:2853: RuntimeWarning: invalid value encountered in divide\n",
      "  c /= stddev[:, None]\n",
      "/Users/rsaraiva/opt/anaconda3/envs/PARADISE/lib/python3.10/site-packages/numpy/lib/function_base.py:2854: RuntimeWarning: invalid value encountered in divide\n",
      "  c /= stddev[None, :]\n"
     ]
    },
    {
     "name": "stdout",
     "output_type": "stream",
     "text": [
      "2/2 [==============================] - 0s 101ms/step\n",
      "2/2 [==============================] - 0s 173ms/step\n",
      "1/2 [==============>...............] - ETA: 0s"
     ]
    },
    {
     "name": "stderr",
     "output_type": "stream",
     "text": [
      "/Users/rsaraiva/opt/anaconda3/envs/PARADISE/lib/python3.10/site-packages/numpy/lib/function_base.py:2853: RuntimeWarning: invalid value encountered in divide\n",
      "  c /= stddev[:, None]\n",
      "/Users/rsaraiva/opt/anaconda3/envs/PARADISE/lib/python3.10/site-packages/numpy/lib/function_base.py:2854: RuntimeWarning: invalid value encountered in divide\n",
      "  c /= stddev[None, :]\n"
     ]
    },
    {
     "name": "stdout",
     "output_type": "stream",
     "text": [
      "2/2 [==============================] - 0s 89ms/step\n",
      "2/2 [==============================] - 0s 70ms/step\n",
      "2/2 [==============================] - 0s 78ms/step\n"
     ]
    },
    {
     "name": "stderr",
     "output_type": "stream",
     "text": [
      "/Users/rsaraiva/opt/anaconda3/envs/PARADISE/lib/python3.10/site-packages/numpy/lib/function_base.py:2853: RuntimeWarning: invalid value encountered in divide\n",
      "  c /= stddev[:, None]\n",
      "/Users/rsaraiva/opt/anaconda3/envs/PARADISE/lib/python3.10/site-packages/numpy/lib/function_base.py:2854: RuntimeWarning: invalid value encountered in divide\n",
      "  c /= stddev[None, :]\n"
     ]
    },
    {
     "name": "stdout",
     "output_type": "stream",
     "text": [
      "2/2 [==============================] - 0s 85ms/step\n",
      "2/2 [==============================] - 0s 60ms/step\n",
      "2/2 [==============================] - 0s 61ms/step\n",
      "2/2 [==============================] - 0s 77ms/step\n"
     ]
    },
    {
     "name": "stderr",
     "output_type": "stream",
     "text": [
      "/Users/rsaraiva/opt/anaconda3/envs/PARADISE/lib/python3.10/site-packages/numpy/lib/function_base.py:2853: RuntimeWarning: invalid value encountered in divide\n",
      "  c /= stddev[:, None]\n",
      "/Users/rsaraiva/opt/anaconda3/envs/PARADISE/lib/python3.10/site-packages/numpy/lib/function_base.py:2854: RuntimeWarning: invalid value encountered in divide\n",
      "  c /= stddev[None, :]\n"
     ]
    },
    {
     "name": "stdout",
     "output_type": "stream",
     "text": [
      "2/2 [==============================] - 0s 62ms/step\n"
     ]
    },
    {
     "name": "stderr",
     "output_type": "stream",
     "text": [
      "/Users/rsaraiva/opt/anaconda3/envs/PARADISE/lib/python3.10/site-packages/numpy/lib/function_base.py:2853: RuntimeWarning: invalid value encountered in divide\n",
      "  c /= stddev[:, None]\n",
      "/Users/rsaraiva/opt/anaconda3/envs/PARADISE/lib/python3.10/site-packages/numpy/lib/function_base.py:2854: RuntimeWarning: invalid value encountered in divide\n",
      "  c /= stddev[None, :]\n",
      "2023-07-18 23:02:13.845373: I tensorflow/core/grappler/optimizers/custom_graph_optimizer_registry.cc:114] Plugin optimizer for device_type GPU is enabled.\n"
     ]
    },
    {
     "name": "stdout",
     "output_type": "stream",
     "text": [
      "2/2 [==============================] - 4s 1s/step\n",
      "2/2 [==============================] - 1s 364ms/step\n",
      "2/2 [==============================] - 1s 256ms/step\n",
      "2/2 [==============================] - 1s 259ms/step\n",
      "2/2 [==============================] - 1s 234ms/step\n",
      "2/2 [==============================] - 0s 137ms/step\n",
      "2/2 [==============================] - 0s 315ms/step\n",
      "2/2 [==============================] - 0s 173ms/step\n",
      "2/2 [==============================] - 0s 91ms/step\n",
      "2/2 [==============================] - 0s 90ms/step\n",
      "2/2 [==============================] - 0s 164ms/step\n",
      "2/2 [==============================] - 0s 87ms/step\n",
      "2/2 [==============================] - 0s 128ms/step\n",
      "2/2 [==============================] - 0s 106ms/step\n",
      "2/2 [==============================] - 0s 82ms/step\n",
      "2/2 [==============================] - 0s 119ms/step\n",
      "2/2 [==============================] - 0s 97ms/step\n",
      "2/2 [==============================] - 0s 152ms/step\n",
      "2/2 [==============================] - 0s 61ms/step\n",
      "2/2 [==============================] - 0s 79ms/step\n",
      "2/2 [==============================] - 0s 64ms/step\n",
      "2/2 [==============================] - 0s 67ms/step\n",
      "2/2 [==============================] - 0s 85ms/step\n",
      "2/2 [==============================] - 0s 66ms/step\n",
      "2/2 [==============================] - 0s 73ms/step\n",
      "2/2 [==============================] - 0s 71ms/step\n"
     ]
    },
    {
     "name": "stderr",
     "output_type": "stream",
     "text": [
      "2023-07-18 23:02:30.268948: I tensorflow/core/grappler/optimizers/custom_graph_optimizer_registry.cc:114] Plugin optimizer for device_type GPU is enabled.\n"
     ]
    },
    {
     "name": "stdout",
     "output_type": "stream",
     "text": [
      "2/2 [==============================] - 3s 1s/step\n",
      "2/2 [==============================] - 1s 263ms/step\n",
      "2/2 [==============================] - 1s 277ms/step\n",
      "2/2 [==============================] - 0s 199ms/step\n",
      "2/2 [==============================] - 0s 194ms/step\n",
      "2/2 [==============================] - 0s 119ms/step\n",
      "2/2 [==============================] - 0s 175ms/step\n",
      "2/2 [==============================] - 0s 117ms/step\n",
      "2/2 [==============================] - 0s 111ms/step\n",
      "2/2 [==============================] - 0s 144ms/step\n",
      "2/2 [==============================] - 0s 87ms/step\n",
      "2/2 [==============================] - 0s 112ms/step\n",
      "2/2 [==============================] - 0s 135ms/step\n",
      "2/2 [==============================] - 0s 69ms/step\n",
      "2/2 [==============================] - 0s 75ms/step\n",
      "2/2 [==============================] - 0s 55ms/step\n",
      "2/2 [==============================] - 0s 93ms/step\n",
      "2/2 [==============================] - 0s 54ms/step\n",
      "2/2 [==============================] - 0s 60ms/step\n",
      "2/2 [==============================] - 0s 59ms/step\n",
      "2/2 [==============================] - 0s 54ms/step\n",
      "2/2 [==============================] - 0s 54ms/step\n",
      "2/2 [==============================] - 0s 106ms/step\n",
      "2/2 [==============================] - 0s 54ms/step\n",
      "2/2 [==============================] - 0s 57ms/step\n",
      "2/2 [==============================] - 0s 72ms/step\n"
     ]
    },
    {
     "name": "stderr",
     "output_type": "stream",
     "text": [
      "2023-07-18 23:02:43.742654: I tensorflow/core/grappler/optimizers/custom_graph_optimizer_registry.cc:114] Plugin optimizer for device_type GPU is enabled.\n"
     ]
    },
    {
     "name": "stdout",
     "output_type": "stream",
     "text": [
      "2/2 [==============================] - 3s 1s/step\n",
      "2/2 [==============================] - 1s 255ms/step\n",
      "2/2 [==============================] - 0s 184ms/step\n",
      "2/2 [==============================] - 0s 263ms/step\n",
      "2/2 [==============================] - 0s 168ms/step\n",
      "2/2 [==============================] - 0s 154ms/step\n",
      "2/2 [==============================] - 0s 130ms/step\n",
      "2/2 [==============================] - 0s 92ms/step\n",
      "2/2 [==============================] - 0s 233ms/step\n",
      "2/2 [==============================] - 0s 71ms/step\n",
      "2/2 [==============================] - 0s 92ms/step\n",
      "2/2 [==============================] - 0s 118ms/step\n",
      "2/2 [==============================] - 0s 102ms/step\n",
      "2/2 [==============================] - 0s 106ms/step\n",
      "2/2 [==============================] - 0s 69ms/step\n",
      "2/2 [==============================] - 0s 87ms/step\n",
      "2/2 [==============================] - 0s 114ms/step\n",
      "2/2 [==============================] - 0s 71ms/step\n",
      "2/2 [==============================] - 0s 76ms/step\n",
      "2/2 [==============================] - 0s 61ms/step\n",
      "2/2 [==============================] - 0s 101ms/step\n",
      "2/2 [==============================] - 0s 59ms/step\n",
      "2/2 [==============================] - 0s 55ms/step\n",
      "2/2 [==============================] - 0s 77ms/step\n",
      "2/2 [==============================] - 0s 52ms/step\n",
      "2/2 [==============================] - 0s 61ms/step\n"
     ]
    },
    {
     "name": "stderr",
     "output_type": "stream",
     "text": [
      "2023-07-18 23:02:58.053711: I tensorflow/core/grappler/optimizers/custom_graph_optimizer_registry.cc:114] Plugin optimizer for device_type GPU is enabled.\n"
     ]
    },
    {
     "name": "stdout",
     "output_type": "stream",
     "text": [
      "2/2 [==============================] - 3s 1s/step\n",
      "2/2 [==============================] - 1s 212ms/step\n",
      "2/2 [==============================] - 1s 269ms/step\n",
      "2/2 [==============================] - 0s 184ms/step\n",
      "2/2 [==============================] - 0s 228ms/step\n",
      "2/2 [==============================] - 0s 193ms/step\n",
      "2/2 [==============================] - 0s 152ms/step\n",
      "2/2 [==============================] - 0s 192ms/step\n",
      "2/2 [==============================] - 0s 89ms/step\n",
      "2/2 [==============================] - 0s 145ms/step\n",
      "2/2 [==============================] - 0s 97ms/step\n",
      "2/2 [==============================] - 0s 122ms/step\n",
      "2/2 [==============================] - 0s 61ms/step\n",
      "2/2 [==============================] - 0s 96ms/step\n",
      "2/2 [==============================] - 0s 69ms/step\n",
      "2/2 [==============================] - 0s 62ms/step\n",
      "2/2 [==============================] - 0s 95ms/step\n",
      "2/2 [==============================] - 0s 107ms/step\n",
      "2/2 [==============================] - 0s 72ms/step\n",
      "2/2 [==============================] - 0s 62ms/step\n",
      "2/2 [==============================] - 0s 59ms/step\n",
      "2/2 [==============================] - 0s 60ms/step\n",
      "2/2 [==============================] - 0s 112ms/step\n",
      "2/2 [==============================] - 0s 62ms/step\n",
      "2/2 [==============================] - 0s 61ms/step\n",
      "2/2 [==============================] - 0s 75ms/step\n"
     ]
    },
    {
     "name": "stderr",
     "output_type": "stream",
     "text": [
      "2023-07-18 23:03:11.861473: I tensorflow/core/grappler/optimizers/custom_graph_optimizer_registry.cc:114] Plugin optimizer for device_type GPU is enabled.\n"
     ]
    },
    {
     "name": "stdout",
     "output_type": "stream",
     "text": [
      "2/2 [==============================] - 3s 1s/step\n",
      "2/2 [==============================] - 1s 234ms/step\n",
      "2/2 [==============================] - 1s 240ms/step\n",
      "2/2 [==============================] - 0s 210ms/step\n",
      "2/2 [==============================] - 0s 227ms/step\n",
      "2/2 [==============================] - 0s 108ms/step\n",
      "2/2 [==============================] - 0s 186ms/step\n",
      "2/2 [==============================] - 0s 130ms/step\n",
      "2/2 [==============================] - 0s 73ms/step\n",
      "2/2 [==============================] - 0s 90ms/step\n",
      "2/2 [==============================] - 0s 106ms/step\n",
      "2/2 [==============================] - 0s 82ms/step\n",
      "2/2 [==============================] - 0s 71ms/step\n",
      "2/2 [==============================] - 0s 109ms/step\n",
      "2/2 [==============================] - 0s 114ms/step\n",
      "2/2 [==============================] - 0s 111ms/step\n",
      "2/2 [==============================] - 0s 84ms/step\n",
      "2/2 [==============================] - 0s 77ms/step\n",
      "2/2 [==============================] - 0s 65ms/step\n",
      "2/2 [==============================] - 0s 86ms/step\n",
      "2/2 [==============================] - 0s 77ms/step\n",
      "2/2 [==============================] - 0s 61ms/step\n",
      "2/2 [==============================] - 0s 63ms/step\n",
      "2/2 [==============================] - 0s 85ms/step\n",
      "2/2 [==============================] - 0s 62ms/step\n",
      "2/2 [==============================] - 0s 81ms/step\n"
     ]
    },
    {
     "name": "stderr",
     "output_type": "stream",
     "text": [
      "2023-07-18 23:03:25.149192: I tensorflow/core/grappler/optimizers/custom_graph_optimizer_registry.cc:114] Plugin optimizer for device_type GPU is enabled.\n"
     ]
    },
    {
     "name": "stdout",
     "output_type": "stream",
     "text": [
      "2/2 [==============================] - 4s 1s/step\n",
      "2/2 [==============================] - 1s 409ms/step\n",
      "2/2 [==============================] - 0s 236ms/step\n",
      "2/2 [==============================] - 0s 152ms/step\n",
      "2/2 [==============================] - 0s 233ms/step\n",
      "2/2 [==============================] - 0s 226ms/step\n",
      "2/2 [==============================] - 0s 169ms/step\n",
      "2/2 [==============================] - 0s 210ms/step\n",
      "2/2 [==============================] - 0s 119ms/step\n",
      "2/2 [==============================] - 0s 170ms/step\n",
      "2/2 [==============================] - 0s 178ms/step\n",
      "2/2 [==============================] - 0s 103ms/step\n",
      "2/2 [==============================] - 0s 104ms/step\n",
      "2/2 [==============================] - 0s 110ms/step\n",
      "2/2 [==============================] - 0s 66ms/step\n",
      "2/2 [==============================] - 0s 108ms/step\n",
      "2/2 [==============================] - 0s 76ms/step\n",
      "2/2 [==============================] - 0s 129ms/step\n",
      "2/2 [==============================] - 0s 82ms/step\n",
      "2/2 [==============================] - 0s 88ms/step\n",
      "2/2 [==============================] - 0s 118ms/step\n",
      "2/2 [==============================] - 0s 112ms/step\n",
      "2/2 [==============================] - 0s 86ms/step\n",
      "2/2 [==============================] - 0s 83ms/step\n",
      "2/2 [==============================] - 0s 95ms/step\n",
      "2/2 [==============================] - 0s 94ms/step\n"
     ]
    },
    {
     "name": "stderr",
     "output_type": "stream",
     "text": [
      "2023-07-18 23:03:42.434485: I tensorflow/core/grappler/optimizers/custom_graph_optimizer_registry.cc:114] Plugin optimizer for device_type GPU is enabled.\n"
     ]
    },
    {
     "name": "stdout",
     "output_type": "stream",
     "text": [
      "2/2 [==============================] - 4s 1s/step\n",
      "2/2 [==============================] - 1s 360ms/step\n"
     ]
    },
    {
     "name": "stderr",
     "output_type": "stream",
     "text": [
      "/Users/rsaraiva/opt/anaconda3/envs/PARADISE/lib/python3.10/site-packages/numpy/lib/function_base.py:2853: RuntimeWarning: invalid value encountered in divide\n",
      "  c /= stddev[:, None]\n",
      "/Users/rsaraiva/opt/anaconda3/envs/PARADISE/lib/python3.10/site-packages/numpy/lib/function_base.py:2854: RuntimeWarning: invalid value encountered in divide\n",
      "  c /= stddev[None, :]\n"
     ]
    },
    {
     "name": "stdout",
     "output_type": "stream",
     "text": [
      "2/2 [==============================] - 1s 315ms/step\n",
      "2/2 [==============================] - 1s 358ms/step\n"
     ]
    },
    {
     "name": "stderr",
     "output_type": "stream",
     "text": [
      "/Users/rsaraiva/opt/anaconda3/envs/PARADISE/lib/python3.10/site-packages/numpy/lib/function_base.py:2853: RuntimeWarning: invalid value encountered in divide\n",
      "  c /= stddev[:, None]\n",
      "/Users/rsaraiva/opt/anaconda3/envs/PARADISE/lib/python3.10/site-packages/numpy/lib/function_base.py:2854: RuntimeWarning: invalid value encountered in divide\n",
      "  c /= stddev[None, :]\n"
     ]
    },
    {
     "name": "stdout",
     "output_type": "stream",
     "text": [
      "2/2 [==============================] - 1s 324ms/step\n",
      "2/2 [==============================] - 0s 178ms/step\n"
     ]
    },
    {
     "name": "stderr",
     "output_type": "stream",
     "text": [
      "/Users/rsaraiva/opt/anaconda3/envs/PARADISE/lib/python3.10/site-packages/numpy/lib/function_base.py:2853: RuntimeWarning: invalid value encountered in divide\n",
      "  c /= stddev[:, None]\n",
      "/Users/rsaraiva/opt/anaconda3/envs/PARADISE/lib/python3.10/site-packages/numpy/lib/function_base.py:2854: RuntimeWarning: invalid value encountered in divide\n",
      "  c /= stddev[None, :]\n"
     ]
    },
    {
     "name": "stdout",
     "output_type": "stream",
     "text": [
      "2/2 [==============================] - 0s 122ms/step\n",
      "2/2 [==============================] - 0s 139ms/step\n",
      "1/2 [==============>...............] - ETA: 0s"
     ]
    },
    {
     "name": "stderr",
     "output_type": "stream",
     "text": [
      "/Users/rsaraiva/opt/anaconda3/envs/PARADISE/lib/python3.10/site-packages/numpy/lib/function_base.py:2853: RuntimeWarning: invalid value encountered in divide\n",
      "  c /= stddev[:, None]\n",
      "/Users/rsaraiva/opt/anaconda3/envs/PARADISE/lib/python3.10/site-packages/numpy/lib/function_base.py:2854: RuntimeWarning: invalid value encountered in divide\n",
      "  c /= stddev[None, :]\n"
     ]
    },
    {
     "name": "stdout",
     "output_type": "stream",
     "text": [
      "2/2 [==============================] - 0s 153ms/step\n",
      "2/2 [==============================] - 0s 142ms/step\n",
      "1/2 [==============>...............] - ETA: 0s"
     ]
    },
    {
     "name": "stderr",
     "output_type": "stream",
     "text": [
      "/Users/rsaraiva/opt/anaconda3/envs/PARADISE/lib/python3.10/site-packages/numpy/lib/function_base.py:2853: RuntimeWarning: invalid value encountered in divide\n",
      "  c /= stddev[:, None]\n",
      "/Users/rsaraiva/opt/anaconda3/envs/PARADISE/lib/python3.10/site-packages/numpy/lib/function_base.py:2854: RuntimeWarning: invalid value encountered in divide\n",
      "  c /= stddev[None, :]\n"
     ]
    },
    {
     "name": "stdout",
     "output_type": "stream",
     "text": [
      "2/2 [==============================] - 0s 150ms/step\n",
      "2/2 [==============================] - 0s 85ms/step\n",
      "2/2 [==============================] - 0s 112ms/step\n",
      "2/2 [==============================] - 0s 72ms/step\n",
      "2/2 [==============================] - 0s 88ms/step\n",
      "2/2 [==============================] - 0s 66ms/step\n",
      "1/2 [==============>...............] - ETA: 0s"
     ]
    },
    {
     "name": "stderr",
     "output_type": "stream",
     "text": [
      "/Users/rsaraiva/opt/anaconda3/envs/PARADISE/lib/python3.10/site-packages/numpy/lib/function_base.py:2853: RuntimeWarning: invalid value encountered in divide\n",
      "  c /= stddev[:, None]\n",
      "/Users/rsaraiva/opt/anaconda3/envs/PARADISE/lib/python3.10/site-packages/numpy/lib/function_base.py:2854: RuntimeWarning: invalid value encountered in divide\n",
      "  c /= stddev[None, :]\n"
     ]
    },
    {
     "name": "stdout",
     "output_type": "stream",
     "text": [
      "2/2 [==============================] - 0s 87ms/step\n",
      "2/2 [==============================] - 0s 59ms/step\n",
      "1/2 [==============>...............] - ETA: 0s"
     ]
    },
    {
     "name": "stderr",
     "output_type": "stream",
     "text": [
      "/Users/rsaraiva/opt/anaconda3/envs/PARADISE/lib/python3.10/site-packages/numpy/lib/function_base.py:2853: RuntimeWarning: invalid value encountered in divide\n",
      "  c /= stddev[:, None]\n",
      "/Users/rsaraiva/opt/anaconda3/envs/PARADISE/lib/python3.10/site-packages/numpy/lib/function_base.py:2854: RuntimeWarning: invalid value encountered in divide\n",
      "  c /= stddev[None, :]\n"
     ]
    },
    {
     "name": "stdout",
     "output_type": "stream",
     "text": [
      "2/2 [==============================] - 0s 89ms/step\n",
      "2/2 [==============================] - 0s 69ms/step\n",
      "1/2 [==============>...............] - ETA: 0s"
     ]
    },
    {
     "name": "stderr",
     "output_type": "stream",
     "text": [
      "/Users/rsaraiva/opt/anaconda3/envs/PARADISE/lib/python3.10/site-packages/numpy/lib/function_base.py:2853: RuntimeWarning: invalid value encountered in divide\n",
      "  c /= stddev[:, None]\n",
      "/Users/rsaraiva/opt/anaconda3/envs/PARADISE/lib/python3.10/site-packages/numpy/lib/function_base.py:2854: RuntimeWarning: invalid value encountered in divide\n",
      "  c /= stddev[None, :]\n"
     ]
    },
    {
     "name": "stdout",
     "output_type": "stream",
     "text": [
      "2/2 [==============================] - 0s 62ms/step\n",
      "2/2 [==============================] - 0s 69ms/step\n",
      "2/2 [==============================] - 0s 113ms/step\n",
      "2/2 [==============================] - 0s 60ms/step\n",
      "1/2 [==============>...............] - ETA: 0s"
     ]
    },
    {
     "name": "stderr",
     "output_type": "stream",
     "text": [
      "/Users/rsaraiva/opt/anaconda3/envs/PARADISE/lib/python3.10/site-packages/numpy/lib/function_base.py:2853: RuntimeWarning: invalid value encountered in divide\n",
      "  c /= stddev[:, None]\n",
      "/Users/rsaraiva/opt/anaconda3/envs/PARADISE/lib/python3.10/site-packages/numpy/lib/function_base.py:2854: RuntimeWarning: invalid value encountered in divide\n",
      "  c /= stddev[None, :]\n"
     ]
    },
    {
     "name": "stdout",
     "output_type": "stream",
     "text": [
      "2/2 [==============================] - 0s 85ms/step\n",
      "2/2 [==============================] - 0s 95ms/step\n"
     ]
    },
    {
     "name": "stderr",
     "output_type": "stream",
     "text": [
      "/Users/rsaraiva/opt/anaconda3/envs/PARADISE/lib/python3.10/site-packages/numpy/lib/function_base.py:2853: RuntimeWarning: invalid value encountered in divide\n",
      "  c /= stddev[:, None]\n",
      "/Users/rsaraiva/opt/anaconda3/envs/PARADISE/lib/python3.10/site-packages/numpy/lib/function_base.py:2854: RuntimeWarning: invalid value encountered in divide\n",
      "  c /= stddev[None, :]\n",
      "2023-07-18 23:03:58.217539: I tensorflow/core/grappler/optimizers/custom_graph_optimizer_registry.cc:114] Plugin optimizer for device_type GPU is enabled.\n"
     ]
    },
    {
     "name": "stdout",
     "output_type": "stream",
     "text": [
      "2/2 [==============================] - 3s 1s/step\n",
      "2/2 [==============================] - 1s 245ms/step\n",
      "2/2 [==============================] - 1s 329ms/step\n",
      "2/2 [==============================] - 1s 320ms/step\n",
      "2/2 [==============================] - 0s 133ms/step\n",
      "2/2 [==============================] - 0s 174ms/step\n",
      "2/2 [==============================] - 0s 167ms/step\n",
      "2/2 [==============================] - 0s 93ms/step\n",
      "2/2 [==============================] - 0s 191ms/step\n",
      "2/2 [==============================] - 0s 172ms/step\n",
      "2/2 [==============================] - 0s 131ms/step\n",
      "2/2 [==============================] - 0s 91ms/step\n",
      "2/2 [==============================] - 0s 88ms/step\n",
      "2/2 [==============================] - 0s 86ms/step\n",
      "2/2 [==============================] - 0s 76ms/step\n",
      "2/2 [==============================] - 0s 90ms/step\n",
      "2/2 [==============================] - 0s 90ms/step\n",
      "2/2 [==============================] - 0s 77ms/step\n",
      "2/2 [==============================] - 0s 83ms/step\n",
      "2/2 [==============================] - 0s 58ms/step\n",
      "2/2 [==============================] - 0s 56ms/step\n",
      "2/2 [==============================] - 0s 63ms/step\n",
      "2/2 [==============================] - 0s 101ms/step\n",
      "2/2 [==============================] - 0s 84ms/step\n",
      "2/2 [==============================] - 0s 56ms/step\n",
      "2/2 [==============================] - 0s 59ms/step\n"
     ]
    }
   ],
   "source": [
    "for input_size in n:\n",
    "    for pred_horizon in [1, 3, 5, 6, 7]:\n",
    "        test_model_transformer(test_patients ,input_size, pred_horizon)"
   ]
  }
 ],
 "metadata": {
  "kernelspec": {
   "display_name": "POWER",
   "language": "python",
   "name": "python3"
  },
  "language_info": {
   "codemirror_mode": {
    "name": "ipython",
    "version": 3
   },
   "file_extension": ".py",
   "mimetype": "text/x-python",
   "name": "python",
   "nbconvert_exporter": "python",
   "pygments_lexer": "ipython3",
   "version": "3.10.4"
  },
  "orig_nbformat": 4
 },
 "nbformat": 4,
 "nbformat_minor": 2
}
